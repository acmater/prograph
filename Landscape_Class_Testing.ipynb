{
 "cells": [
  {
   "cell_type": "code",
   "execution_count": 1,
   "metadata": {},
   "outputs": [],
   "source": [
    "%matplotlib inline\n",
    "''' Python Tools '''\n",
    "import numpy as np\n",
    "np.set_printoptions(suppress=True) # Changes print functionality\n",
    "import pandas as pd\n",
    "import os\n",
    "import random\n",
    "import matplotlib.pyplot as plt\n",
    "import matplotlib.animation as animation\n",
    "from IPython.display import HTML\n",
    "\n",
    "'''PyTorch Functionality'''\n",
    "import torch\n",
    "import torch.nn as nn\n",
    "import torch.nn.parallel\n",
    "import torch.backends.cudnn as cudnn\n",
    "import torch.optim as optim\n",
    "import torch.utils.data\n",
    "import torchvision.datasets as dset\n",
    "import torchvision.transforms as transforms\n",
    "import torchvision.utils as vutils\n",
    "\n",
    "'''Landscape Class'''\n",
    "from Protein_Landscape.landscape_class import Protein_Landscape\n",
    "\n",
    "'''Dataset Management'''\n",
    "Datasets = 'Data/'\n"
   ]
  },
  {
   "cell_type": "code",
   "execution_count": 2,
   "metadata": {
    "scrolled": true
   },
   "outputs": [
    {
     "name": "stdout",
     "output_type": "stream",
     "text": [
      "Building Protein Graph for entire dataset\n"
     ]
    },
    {
     "name": "stderr",
     "output_type": "stream",
     "text": [
      "100%|██████████| 1000/1000 [00:00<00:00, 9212.99it/s]\n",
      "100%|██████████| 1000/1000 [00:00<00:00, 61169.99it/s]"
     ]
    },
    {
     "name": "stdout",
     "output_type": "stream",
     "text": [
      "Calculating the number of extrema\n",
      "\n",
      "        Protein Landscape class\n",
      "            Number of Sequences : 1000\n",
      "            Max Distance        : 3\n",
      "            Number of Distances : 3\n",
      "            Seed Sequence       : \u001b[32mA\u001b[0m\u001b[32mA\u001b[0m\u001b[32mA\u001b[0m\n",
      "                Modified positions are shown in green\n",
      "            Number of minima : 1\n",
      "            Number of maxima : 1\n",
      "            Normalized Extrema Ruggedness : 0.002\n",
      "            R/S Ruggedness : 17.31943397828702\n",
      "        \n"
     ]
    },
    {
     "name": "stderr",
     "output_type": "stream",
     "text": [
      "\n"
     ]
    }
   ],
   "source": [
    "test = Protein_Landscape(csv_path=Datasets+\"Small_NK.csv\",gen_graph=True)\n"
   ]
  },
  {
   "cell_type": "code",
   "execution_count": 9,
   "metadata": {},
   "outputs": [
    {
     "data": {
      "text/plain": [
       "30"
      ]
     },
     "execution_count": 9,
     "metadata": {},
     "output_type": "execute_result"
    }
   ],
   "source": [
    "test.indexing(positions=[1,2],distances=2,complement=True)[1][12]"
   ]
  },
  {
   "cell_type": "code",
   "execution_count": 20,
   "metadata": {},
   "outputs": [
    {
     "data": {
      "text/plain": [
       "array([['GCF', 0.6070268440279362],\n",
       "       ['LHC', 0.096356422038647],\n",
       "       ['IHG', 0.3803351391285286],\n",
       "       ['GIL', 0.6290477221534726],\n",
       "       ['LDF', 0.4073234189024813],\n",
       "       ['AKK', 0.5334935110196918],\n",
       "       ['GGH', 0.4875165458233541],\n",
       "       ['KEC', 0.3370259803804643],\n",
       "       ['FCK', 0.6526719624009111],\n",
       "       ['IID', 0.6294457608947411],\n",
       "       ['GCA', 0.8933065170777161],\n",
       "       ['HKG', 0.6238669146498903],\n",
       "       ['DDD', 0.9527531655684264],\n",
       "       ['ACD', 0.6989436073974228],\n",
       "       ['IKG', 0.5637609212298068],\n",
       "       ['HEI', 0.6605587002408321],\n",
       "       ['KEC', 0.3370259803804643],\n",
       "       ['GIH', 0.5789644668003531],\n",
       "       ['FLF', 0.33227109974567],\n",
       "       ['AFK', 0.5004443625404473],\n",
       "       ['EHK', 0.3568035093900543],\n",
       "       ['CHG', 0.3746837582466871],\n",
       "       ['HIG', 0.5076785902217517],\n",
       "       ['GEE', 0.5247986348097833],\n",
       "       ['HID', 0.6895517543148246],\n",
       "       ['CKH', 0.6494128949544571],\n",
       "       ['IDD', 0.8648243249453605],\n",
       "       ['KGC', 0.1788245040612029],\n",
       "       ['GFL', 0.7121868981023667],\n",
       "       ['CFE', 0.4954443591423803],\n",
       "       ['GHG', 0.4204236545207218],\n",
       "       ['CED', 0.6905479353551622],\n",
       "       ['ICC', 0.5585873534956679],\n",
       "       ['DEG', 0.6022549927669966],\n",
       "       ['AIE', 0.2789447481621948],\n",
       "       ['KEC', 0.3370259803804643],\n",
       "       ['KAG', 0.5230434051115899],\n",
       "       ['KLL', 0.5951510767649586],\n",
       "       ['GDA', 0.9201754187125212],\n",
       "       ['FLF', 0.33227109974567],\n",
       "       ['DDD', 0.9527531655684264],\n",
       "       ['HHD', 0.622314296641685],\n",
       "       ['GFG', 0.5708002881427554],\n",
       "       ['KGF', 0.1871754792012782],\n",
       "       ['FDL', 0.7121830682923096],\n",
       "       ['AAC', 0.3663419495182938],\n",
       "       ['LAL', 0.557751469744786],\n",
       "       ['DDA', 0.968015743943394],\n",
       "       ['LGK', 0.2783852701596203],\n",
       "       ['CHC', 0.2771888525248724],\n",
       "       ['KDE', 0.5735298620842956],\n",
       "       ['KFH', 0.5422098613154025],\n",
       "       ['KKH', 0.575259009794647],\n",
       "       ['EHE', 0.2184430709606959],\n",
       "       ['CAI', 0.6833238449482177],\n",
       "       ['ECI', 0.6099327784528082],\n",
       "       ['KHA', 0.4976656155549174],\n",
       "       ['HII', 0.5938051448985695],\n",
       "       ['KED', 0.6163940501953521],\n",
       "       ['DAD', 0.8726506758693803],\n",
       "       ['KGD', 0.4581925738760906],\n",
       "       ['CLG', 0.5279183519651574],\n",
       "       ['AAI', 0.5499634099169265],\n",
       "       ['EGD', 0.40572180447625],\n",
       "       ['CFE', 0.4954443591423803],\n",
       "       ['HAE', 0.6333386318469845],\n",
       "       ['KHI', 0.3866564277636948],\n",
       "       ['FCH', 0.6352309113043849],\n",
       "       ['IGL', 0.4975112857842806],\n",
       "       ['HKI', 0.709993469326708],\n",
       "       ['FFI', 0.5046836249077908],\n",
       "       ['GCH', 0.7874741292161674],\n",
       "       ['AEH', 0.4666176908372896],\n",
       "       ['ADD', 0.7258125090322277],\n",
       "       ['CKI', 0.6442360950247832],\n",
       "       ['DGH', 0.5353568710542268],\n",
       "       ['HLC', 0.4961808205452676],\n",
       "       ['IEG', 0.5143261521439307],\n",
       "       ['DGD', 0.625926680540808],\n",
       "       ['CCC', 0.5529359726138264],\n",
       "       ['CLD', 0.7097915160582303],\n",
       "       ['KEH', 0.5258242407087709],\n",
       "       ['IGK', 0.4648690815276872],\n",
       "       ['EGD', 0.40572180447625],\n",
       "       ['ALA', 0.5916936594019063],\n",
       "       ['KLA', 0.6509002092733877],\n",
       "       ['DCF', 0.654867169258809],\n",
       "       ['AAD', 0.6457100193331815],\n",
       "       ['EAF', 0.3814287051300097],\n",
       "       ['AHG', 0.2413233232153957],\n",
       "       ['GKG', 0.6038494366219999],\n",
       "       ['CIG', 0.4419212159198267],\n",
       "       ['HAD', 0.8448278286663978],\n",
       "       ['IFK', 0.6394561784535803],\n",
       "       ['LKL', 0.5186637198213514],\n",
       "       ['EFG', 0.3984357373090701],\n",
       "       ['FIF', 0.2462739637003393],\n",
       "       ['FCC', 0.4464326509760785],\n",
       "       ['HCG', 0.7161882526375661],\n",
       "       ['AEI', 0.4614408909076157]], dtype=object)"
      ]
     },
     "execution_count": 20,
     "metadata": {},
     "output_type": "execute_result"
    }
   ],
   "source": [
    "def shotgun_data(landscape,num_samples=100):\n",
    "    \"\"\"\n",
    "    Shotgun data randomly samples the entirety of the dataset\n",
    "\n",
    "    Parameters\n",
    "    ----------\n",
    "    num_samples : int, default=1000\n",
    "\n",
    "        Determines how many datapoints will be sampled\n",
    "    \"\"\"\n",
    "    idxs = np.random.choice(len(landscape), size=(num_samples,))\n",
    "    return idxs\n",
    "\n"
   ]
  },
  {
   "cell_type": "code",
   "execution_count": 6,
   "metadata": {},
   "outputs": [
    {
     "name": "stdout",
     "output_type": "stream",
     "text": [
      "['__annotations__', '__call__', '__class__', '__closure__', '__code__', '__defaults__', '__delattr__', '__dict__', '__dir__', '__doc__', '__eq__', '__format__', '__ge__', '__get__', '__getattribute__', '__globals__', '__gt__', '__hash__', '__init__', '__init_subclass__', '__kwdefaults__', '__le__', '__lt__', '__module__', '__name__', '__ne__', '__new__', '__qualname__', '__reduce__', '__reduce_ex__', '__repr__', '__setattr__', '__sizeof__', '__str__', '__subclasshook__']\n"
     ]
    },
    {
     "ename": "NameError",
     "evalue": "name 'proland' is not defined",
     "output_type": "error",
     "traceback": [
      "\u001b[0;31m---------------------------------------------------------------------------\u001b[0m",
      "\u001b[0;31mNameError\u001b[0m                                 Traceback (most recent call last)",
      "\u001b[0;32m<ipython-input-6-e95a8e24fdb1>\u001b[0m in \u001b[0;36m<module>\u001b[0;34m\u001b[0m\n\u001b[1;32m     11\u001b[0m \u001b[0;34m\u001b[0m\u001b[0m\n\u001b[1;32m     12\u001b[0m \u001b[0;34m@\u001b[0m\u001b[0mgraph\u001b[0m\u001b[0;34m\u001b[0m\u001b[0;34m\u001b[0m\u001b[0m\n\u001b[0;32m---> 13\u001b[0;31m \u001b[0;32mdef\u001b[0m \u001b[0miters\u001b[0m\u001b[0;34m(\u001b[0m\u001b[0mProtein_Landscape\u001b[0m\u001b[0;34m)\u001b[0m\u001b[0;34m:\u001b[0m\u001b[0;34m\u001b[0m\u001b[0;34m\u001b[0m\u001b[0m\n\u001b[0m\u001b[1;32m     14\u001b[0m     \u001b[0;32mfor\u001b[0m \u001b[0mnode\u001b[0m \u001b[0;32min\u001b[0m \u001b[0mProtein_Landscape\u001b[0m\u001b[0;34m:\u001b[0m\u001b[0;34m\u001b[0m\u001b[0;34m\u001b[0m\u001b[0m\n\u001b[1;32m     15\u001b[0m         \u001b[0mprint\u001b[0m\u001b[0;34m(\u001b[0m\u001b[0mnode\u001b[0m\u001b[0;34m)\u001b[0m\u001b[0;34m\u001b[0m\u001b[0;34m\u001b[0m\u001b[0m\n",
      "\u001b[0;32m<ipython-input-6-e95a8e24fdb1>\u001b[0m in \u001b[0;36mgraph\u001b[0;34m(f)\u001b[0m\n\u001b[1;32m      5\u001b[0m \u001b[0;32mdef\u001b[0m \u001b[0mgraph\u001b[0m\u001b[0;34m(\u001b[0m\u001b[0mf\u001b[0m\u001b[0;34m)\u001b[0m\u001b[0;34m:\u001b[0m\u001b[0;34m\u001b[0m\u001b[0;34m\u001b[0m\u001b[0m\n\u001b[1;32m      6\u001b[0m     \u001b[0mprint\u001b[0m\u001b[0;34m(\u001b[0m\u001b[0mdir\u001b[0m\u001b[0;34m(\u001b[0m\u001b[0mf\u001b[0m\u001b[0;34m)\u001b[0m\u001b[0;34m)\u001b[0m\u001b[0;34m\u001b[0m\u001b[0;34m\u001b[0m\u001b[0m\n\u001b[0;32m----> 7\u001b[0;31m     \u001b[0mproland\u001b[0m\u001b[0;34m.\u001b[0m\u001b[0mcontext\u001b[0m \u001b[0;34m=\u001b[0m \u001b[0;34m\"graph\"\u001b[0m\u001b[0;34m\u001b[0m\u001b[0;34m\u001b[0m\u001b[0m\n\u001b[0m\u001b[1;32m      8\u001b[0m     \u001b[0;32mreturn\u001b[0m \u001b[0mproland\u001b[0m\u001b[0;34m\u001b[0m\u001b[0;34m\u001b[0m\u001b[0m\n\u001b[1;32m      9\u001b[0m \u001b[0;34m\u001b[0m\u001b[0m\n",
      "\u001b[0;31mNameError\u001b[0m: name 'proland' is not defined"
     ]
    }
   ],
   "source": [
    "def sequences(Protein_Landscape):\n",
    "    Protein_Landscape.context = \"sequences\"\n",
    "    return Protein_Landscape \n",
    "\n",
    "def graph(f):\n",
    "    print(dir(f))\n",
    "    proland.context = \"graph\"\n",
    "    return proland\n",
    "\n",
    "test.context = \"sequences\"\n",
    "\n",
    "@graph\n",
    "def iters(Protein_Landscape):\n",
    "    for node in Protein_Landscape:\n",
    "        print(node)\n",
    "\n",
    "\n",
    "#iter_graph(test)"
   ]
  },
  {
   "cell_type": "code",
   "execution_count": 5,
   "metadata": {},
   "outputs": [
    {
     "name": "stdout",
     "output_type": "stream",
     "text": [
      "Building Protein Graph for entire dataset\n"
     ]
    },
    {
     "name": "stderr",
     "output_type": "stream",
     "text": [
      "100%|██████████| 100000/100000 [00:08<00:00, 11716.63it/s]\n",
      "  6%|▌         | 6195/100000 [00:00<00:01, 61940.76it/s]"
     ]
    },
    {
     "name": "stdout",
     "output_type": "stream",
     "text": [
      "Calculating the number of extrema\n"
     ]
    },
    {
     "name": "stderr",
     "output_type": "stream",
     "text": [
      "100%|██████████| 100000/100000 [00:01<00:00, 66299.60it/s]\n"
     ]
    },
    {
     "name": "stdout",
     "output_type": "stream",
     "text": [
      "\n",
      "        Protein Landscape class\n",
      "            Number of Sequences : 100000\n",
      "            Max Distance        : 5\n",
      "            Number of Distances : 5\n",
      "            Seed Sequence       : \u001b[32mA\u001b[0m\u001b[32mA\u001b[0m\u001b[32mA\u001b[0m\u001b[32mA\u001b[0m\u001b[32mA\u001b[0m\n",
      "                Modified positions are shown in green\n",
      "            Number of minima : 1\n",
      "            Number of maxima : 1\n",
      "            Normalized Extrema Ruggedness : 2e-05\n",
      "            R/S Ruggedness : 30.205840273418644\n",
      "        \n",
      "         1826849 function calls (1826802 primitive calls) in 11.255 seconds\n",
      "\n",
      "   Ordered by: cumulative time\n",
      "\n",
      "   ncalls  tottime  percall  cumtime  percall filename:lineno(function)\n",
      "        1    0.000    0.000   11.332   11.332 {built-in method builtins.exec}\n",
      "        1    0.000    0.000   11.332   11.332 <string>:1(<module>)\n",
      "        1    0.003    0.003   11.332   11.332 landscape_class.py:145(__init__)\n",
      "        1    0.000    0.000    9.332    9.332 landscape_class.py:788(build_graph)\n",
      "       85    0.000    0.000    8.930    0.105 threading.py:540(wait)\n",
      "       85    0.000    0.000    8.929    0.105 threading.py:270(wait)\n",
      "      632    8.929    0.014    8.929    0.014 {method 'acquire' of '_thread.lock' objects}\n",
      "        1    0.000    0.000    8.906    8.906 pool.py:359(map)\n",
      "        1    0.000    0.000    8.906    8.906 pool.py:764(get)\n",
      "        1    0.000    0.000    8.906    8.906 pool.py:761(wait)\n",
      "        1    0.067    0.067    1.514    1.514 landscape_class.py:890(calculate_num_extrema)\n",
      "   100000    0.747    0.000    1.406    0.000 landscape_class.py:866(is_extrema)\n",
      "   200000    0.072    0.000    0.661    0.000 <__array_function__ internals>:2(all)\n",
      "   200032    0.057    0.000    0.577    0.000 {built-in method numpy.core._multiarray_umath.implement_array_function}\n",
      "   200000    0.080    0.000    0.517    0.000 fromnumeric.py:2337(all)\n",
      "   200008    0.140    0.000    0.438    0.000 fromnumeric.py:70(_wrapreduction)\n",
      "        1    0.293    0.293    0.293    0.293 landscape_class.py:840(<dictcomp>)\n",
      "   200029    0.253    0.000    0.253    0.000 {method 'reduce' of 'numpy.ufunc' objects}\n",
      "        1    0.002    0.002    0.179    0.179 landscape_class.py:976(tokenize_data)\n",
      "        1    0.000    0.000    0.122    0.122 context.py:115(Pool)\n",
      "        1    0.000    0.000    0.122    0.122 pool.py:183(__init__)\n",
      "        1    0.000    0.000    0.121    0.121 pool.py:302(_repopulate_pool)\n",
      "        1    0.001    0.001    0.121    0.121 pool.py:311(_repopulate_pool_static)\n",
      "       32    0.001    0.000    0.118    0.004 process.py:110(start)\n",
      "       32    0.001    0.000    0.115    0.004 context.py:274(_Popen)\n",
      "       32    0.000    0.000    0.114    0.004 popen_fork.py:15(__init__)\n",
      "        1    0.110    0.110    0.110    0.110 landscape_class.py:203(<dictcomp>)\n",
      "        1    0.020    0.020    0.097    0.097 landscape_class.py:985(<listcomp>)\n",
      "       85    0.093    0.001    0.093    0.001 {built-in method numpy.array}\n",
      "       32    0.001    0.000    0.093    0.003 popen_fork.py:66(_launch)\n",
      "       32    0.090    0.003    0.091    0.003 {built-in method posix.fork}\n",
      "        1    0.000    0.000    0.083    0.083 landscape_class.py:923(rs_ruggedness)\n",
      "        1    0.000    0.000    0.076    0.076 landscape_class.py:987(sklearn_data)\n",
      "        1    0.067    0.067    0.067    0.067 {method 'shuffle' of 'numpy.random.mtrand.RandomState' objects}\n",
      "        1    0.000    0.000    0.040    0.040 landscape_class.py:542(csvDataLoader)\n",
      "   100001    0.026    0.000    0.036    0.000 std.py:1147(__iter__)\n",
      "        1    0.000    0.000    0.035    0.035 parsers.py:528(read_csv)\n",
      "        1    0.000    0.000    0.035    0.035 parsers.py:442(_read)\n",
      "       33    0.000    0.000    0.035    0.001 util.py:205(__call__)\n",
      "        1    0.000    0.000    0.035    0.035 pool.py:677(_terminate_pool)\n",
      "        1    0.000    0.000    0.034    0.034 parsers.py:1050(read)\n",
      "   200008    0.033    0.000    0.033    0.000 fromnumeric.py:71(<dictcomp>)\n",
      "        1    0.000    0.000    0.030    0.030 parsers.py:2054(read)\n",
      "        1    0.029    0.029    0.030    0.030 {method 'read' of 'pandas._libs.parsers.TextReader' objects}\n",
      "       81    0.001    0.000    0.028    0.000 iostream.py:337(flush)\n",
      "       32    0.000    0.000    0.021    0.001 util.py:433(_flush_std_streams)\n",
      "      564    0.000    0.000    0.020    0.000 popen_fork.py:24(poll)\n",
      "      564    0.019    0.000    0.019    0.000 {built-in method posix.waitpid}\n",
      "   200000    0.019    0.000    0.019    0.000 fromnumeric.py:2333(_all_dispatcher)\n",
      "        4    0.000    0.000    0.019    0.005 process.py:142(join)\n",
      "        4    0.000    0.000    0.019    0.005 popen_fork.py:40(wait)\n",
      "        1    0.000    0.000    0.016    0.016 pool.py:668(_help_stuff_finish)\n",
      "       23    0.016    0.001    0.016    0.001 {method 'acquire' of '_multiprocessing.SemLock' objects}\n",
      "   200014    0.013    0.000    0.013    0.000 {method 'items' of 'dict' objects}\n",
      "        1    0.012    0.012    0.012    0.012 landscape_class.py:190(<dictcomp>)\n",
      "        6    0.011    0.002    0.011    0.002 {method 'astype' of 'numpy.ndarray' objects}\n",
      "       17    0.000    0.000    0.010    0.001 std.py:1436(display)\n",
      "       16    0.000    0.000    0.010    0.001 std.py:1305(refresh)\n",
      "       17    0.000    0.000    0.009    0.001 std.py:345(print_status)\n",
      "        1    0.000    0.000    0.008    0.008 landscape_class.py:442(gen_d_data)\n",
      "       36    0.000    0.000    0.008    0.000 utils.py:141(inner)\n",
      "       17    0.000    0.000    0.008    0.000 std.py:339(fp_write)\n",
      "       14    0.000    0.000    0.008    0.001 std.py:1183(update)\n",
      "        1    0.007    0.007    0.008    0.008 landscape_class.py:502(hamming_array)\n",
      "        1    0.006    0.006    0.007    0.007 landscape_class.py:588(calc_mutated_positions)\n",
      "        1    0.006    0.006    0.006    0.006 landscape_class.py:585(boolean_mutant_array)\n",
      "        1    0.000    0.000    0.005    0.005 _base.py:481(fit)\n",
      "        4    0.000    0.000    0.004    0.001 <__array_function__ internals>:2(concatenate)\n",
      "      208    0.001    0.000    0.004    0.000 iostream.py:197(schedule)\n",
      "        2    0.000    0.000    0.003    0.002 frame.py:502(__init__)\n",
      "        1    0.000    0.000    0.003    0.003 construction.py:241(init_dict)\n",
      "        1    0.000    0.000    0.003    0.003 frame.py:1375(to_numpy)\n",
      "        1    0.000    0.000    0.003    0.003 managers.py:825(as_array)\n",
      "        1    0.001    0.001    0.003    0.003 managers.py:884(_interleave)\n",
      "      208    0.002    0.000    0.002    0.000 socket.py:432(send)\n",
      "        1    0.002    0.002    0.002    0.002 basic.py:1045(lstsq)\n",
      "        1    0.000    0.000    0.002    0.002 construction.py:62(arrays_to_mgr)\n",
      "        1    0.000    0.000    0.002    0.002 _base.py:102(_preprocess_data)\n",
      "       32    0.000    0.000    0.002    0.000 pool.py:179(Process)\n",
      "        8    0.000    0.000    0.002    0.000 <__array_function__ internals>:2(sum)\n",
      "        8    0.000    0.000    0.002    0.000 fromnumeric.py:2105(sum)\n",
      "        2    0.000    0.000    0.002    0.001 std.py:839(__init__)\n",
      "        2    0.000    0.000    0.002    0.001 blocks.py:245(get_values)\n",
      "        1    0.000    0.000    0.002    0.002 parsers.py:775(__init__)\n",
      "       32    0.001    0.000    0.002    0.000 process.py:61(_cleanup)\n",
      "     11/7    0.000    0.000    0.002    0.000 validation.py:59(inner_f)\n",
      "       32    0.001    0.000    0.002    0.000 process.py:80(__init__)\n",
      "        1    0.000    0.000    0.002    0.002 parsers.py:1034(_make_engine)\n",
      "        1    0.001    0.001    0.002    0.002 parsers.py:1848(__init__)\n",
      "        4    0.000    0.000    0.001    0.000 <__array_function__ internals>:2(average)\n",
      "        4    0.000    0.000    0.001    0.000 function_base.py:280(average)\n",
      "        4    0.000    0.000    0.001    0.000 {method 'mean' of 'numpy.ndarray' objects}\n",
      "        4    0.000    0.000    0.001    0.000 _methods.py:143(_mean)\n",
      "        1    0.000    0.000    0.001    0.001 frame.py:2987(__getitem__)\n",
      "        5    0.000    0.000    0.001    0.000 construction.py:423(sanitize_array)\n",
      "        1    0.000    0.000    0.001    0.001 construction.py:333(_homogenize)\n",
      "       25    0.000    0.000    0.001    0.000 iostream.py:386(write)\n",
      "        3    0.000    0.000    0.001    0.000 threading.py:834(start)\n",
      "       17    0.000    0.000    0.001    0.000 std.py:1137(__repr__)\n",
      "        9    0.001    0.000    0.001    0.000 {pandas._libs.lib.infer_dtype}\n",
      "       85    0.000    0.000    0.001    0.000 threading.py:505(__init__)\n",
      "        1    0.000    0.000    0.001    0.001 generic.py:3590(_take_with_is_copy)\n",
      "        1    0.000    0.000    0.001    0.001 managers.py:1690(create_block_manager_from_arrays)\n",
      "        1    0.000    0.000    0.001    0.001 generic.py:3491(take)\n",
      "     9584    0.001    0.000    0.001    0.000 {built-in method time.time}\n",
      "       33    0.001    0.000    0.001    0.000 util.py:186(__init__)\n",
      "        1    0.000    0.000    0.001    0.001 managers.py:1454(take)\n",
      "       17    0.000    0.000    0.001    0.000 std.py:352(format_meter)\n",
      "        1    0.000    0.000    0.001    0.001 managers.py:1733(_form_blocks)\n",
      "        6    0.000    0.000    0.001    0.000 validation.py:397(check_array)\n",
      "        1    0.000    0.000    0.001    0.001 managers.py:1260(reindex_indexer)\n",
      "        1    0.000    0.000    0.001    0.001 managers.py:1327(_slice_take_blocks_ax0)\n",
      "      3/2    0.000    0.000    0.001    0.000 series.py:209(__init__)\n",
      "       14    0.000    0.000    0.001    0.000 base.py:5836(ensure_index)\n",
      "        4    0.000    0.000    0.001    0.000 algorithms.py:1661(take_nd)\n",
      "      291    0.000    0.000    0.001    0.000 threading.py:1071(is_alive)\n",
      "        1    0.000    0.000    0.001    0.001 copy.py:66(copy)\n",
      "        1    0.001    0.001    0.001    0.001 {method '__copy__' of 'numpy.ndarray' objects}\n",
      "        1    0.000    0.000    0.001    0.001 _base.py:222(predict)\n",
      "        1    0.000    0.000    0.001    0.001 _base.py:215(_decision_function)\n",
      "     11/5    0.000    0.000    0.001    0.000 base.py:250(__new__)\n",
      "        2    0.000    0.000    0.001    0.000 blocks.py:1368(take_nd)\n",
      "        3    0.000    0.000    0.001    0.000 managers.py:1860(_stack_arrays)\n",
      "       18    0.001    0.000    0.001    0.000 {built-in method numpy.empty}\n",
      "       67    0.000    0.000    0.000    0.000 {built-in method posix.pipe}\n",
      "       85    0.000    0.000    0.000    0.000 threading.py:222(__init__)\n",
      "        1    0.000    0.000    0.000    0.000 extmath.py:119(safe_sparse_dot)\n",
      "        4    0.000    0.000    0.000    0.000 std.py:1249(close)\n",
      "       14    0.000    0.000    0.000    0.000 codecs.py:319(decode)\n",
      "        1    0.000    0.000    0.000    0.000 series.py:343(_init_dict)\n",
      "1290/1289    0.000    0.000    0.000    0.000 {built-in method builtins.isinstance}\n",
      "       17    0.000    0.000    0.000    0.000 utils.py:324(disp_len)\n",
      "        1    0.000    0.000    0.000    0.000 managers.py:1829(_simple_blockify)\n",
      "       14    0.000    0.000    0.000    0.000 {built-in method _codecs.utf_8_decode}\n",
      "        1    0.000    0.000    0.000    0.000 indexing.py:1222(_get_listlike_indexer)\n",
      "       17    0.000    0.000    0.000    0.000 utils.py:320(_text_width)\n",
      "        1    0.000    0.000    0.000    0.000 {pandas._libs.algos.take_2d_axis1_object_object}\n",
      "        6    0.000    0.000    0.000    0.000 validation.py:76(_assert_all_finite)\n",
      "       19    0.000    0.000    0.000    0.000 {built-in method builtins.sum}\n",
      "        1    0.000    0.000    0.000    0.000 _regression.py:193(mean_squared_error)\n",
      "        1    0.000    0.000    0.000    0.000 construction.py:632(create_series_with_explicit_dtype)\n",
      "        3    0.000    0.000    0.000    0.000 context.py:110(SimpleQueue)\n",
      "        1    0.000    0.000    0.000    0.000 base.py:383(_validate_data)\n",
      "        1    0.000    0.000    0.000    0.000 parsers.py:1353(_open_handles)\n",
      "        1    0.000    0.000    0.000    0.000 common.py:491(get_handle)\n",
      "        3    0.000    0.000    0.000    0.000 queues.py:334(__init__)\n",
      "       44    0.000    0.000    0.000    0.000 _asarray.py:14(asarray)\n",
      "        1    0.000    0.000    0.000    0.000 validation.py:688(check_X_y)\n",
      "        2    0.000    0.000    0.000    0.000 managers.py:1844(_multi_blockify)\n",
      "      139    0.000    0.000    0.000    0.000 {method 'format' of 'str' objects}\n",
      "        4    0.000    0.000    0.000    0.000 extmath.py:686(_safe_accumulator_op)\n",
      "        6    0.000    0.000    0.000    0.000 context.py:65(Lock)\n",
      "      956    0.000    0.000    0.000    0.000 utils.py:321(<genexpr>)\n",
      "        6    0.000    0.000    0.000    0.000 synchronize.py:161(__init__)\n",
      "        6    0.000    0.000    0.000    0.000 synchronize.py:50(__init__)\n",
      "        1    0.000    0.000    0.000    0.000 pool.py:342(_setup_queues)\n",
      "      294    0.000    0.000    0.000    0.000 threading.py:1017(_wait_for_tstate_lock)\n",
      "        3    0.000    0.000    0.000    0.000 {built-in method builtins.print}\n",
      "       32    0.000    0.000    0.000    0.000 __init__.py:223(_releaseLock)\n",
      "        6    0.000    0.000    0.000    0.000 <__array_function__ internals>:2(where)\n",
      "       40    0.000    0.000    0.000    0.000 {method 'join' of 'str' objects}\n",
      "      103    0.000    0.000    0.000    0.000 base.py:254(is_dtype)\n",
      "        1    0.000    0.000    0.000    0.000 _regression.py:50(_check_reg_targets)\n",
      "        5    0.000    0.000    0.000    0.000 blocks.py:2711(make_block)\n",
      "        2    0.000    0.000    0.000    0.000 base.py:3142(get_indexer)\n",
      "      134    0.000    0.000    0.000    0.000 {built-in method posix.close}\n",
      "        1    0.000    0.000    0.000    0.000 base.py:4946(get_indexer_for)\n",
      "       32    0.000    0.000    0.000    0.000 process.py:153(is_alive)\n",
      "        4    0.000    0.000    0.000    0.000 queues.py:360(put)\n",
      "        8    0.000    0.000    0.000    0.000 blocks.py:2662(get_block_type)\n",
      "      208    0.000    0.000    0.000    0.000 iostream.py:93(_event_pipe)\n",
      "        1    0.000    0.000    0.000    0.000 base.py:3478(reindex)\n",
      "        2    0.000    0.000    0.000    0.000 _util.py:217(_asarray_validated)\n",
      "        1    0.000    0.000    0.000    0.000 series.py:4748(isna)\n",
      "        1    0.000    0.000    0.000    0.000 generic.py:7411(isna)\n",
      "       48    0.000    0.000    0.000    0.000 <frozen importlib._bootstrap>:389(parent)\n",
      "        1    0.000    0.000    0.000    0.000 {built-in method io.open}\n",
      "      170    0.000    0.000    0.000    0.000 {built-in method _thread.allocate_lock}\n",
      "       37    0.000    0.000    0.000    0.000 _weakrefset.py:81(add)\n",
      "       46    0.000    0.000    0.000    0.000 common.py:537(is_categorical_dtype)\n",
      "       81    0.000    0.000    0.000    0.000 common.py:1470(is_extension_array_dtype)\n",
      "        2    0.000    0.000    0.000    0.000 function_base.py:422(asarray_chkfinite)\n",
      "        3    0.000    0.000    0.000    0.000 missing.py:50(isna)\n",
      "        3    0.000    0.000    0.000    0.000 missing.py:133(_isna)\n",
      "        5    0.000    0.000    0.000    0.000 construction.py:554(_try_cast)\n",
      "        1    0.000    0.000    0.000    0.000 {pandas._libs.algos.take_2d_axis1_float64_float64}\n",
      "        3    0.000    0.000    0.000    0.000 threading.py:761(__init__)\n",
      "      430    0.000    0.000    0.000    0.000 generic.py:30(_check)\n",
      "        1    0.000    0.000    0.000    0.000 common.py:210(_get_filepath_or_buffer)\n",
      "       79    0.000    0.000    0.000    0.000 {built-in method builtins.next}\n",
      "        1    0.000    0.000    0.000    0.000 missing.py:202(_isna_ndarraylike)\n",
      "      293    0.000    0.000    0.000    0.000 {method 'append' of 'collections.deque' objects}\n",
      "        3    0.000    0.000    0.000    0.000 validation.py:241(check_consistent_length)\n",
      "       25    0.000    0.000    0.000    0.000 iostream.py:323(_schedule_flush)\n",
      "        6    0.000    0.000    0.000    0.000 __init__.py:8(_make_name)\n",
      "       17    0.000    0.000    0.000    0.000 std.py:1421(format_dict)\n",
      "        4    0.000    0.000    0.000    0.000 base.py:4393(equals)\n",
      "       32    0.000    0.000    0.000    0.000 std.py:288(format_interval)\n",
      "        1    0.000    0.000    0.000    0.000 pool.py:263(__del__)\n",
      "       91    0.000    0.000    0.000    0.000 common.py:1610(_is_dtype_type)\n",
      "       34    0.000    0.000    0.000    0.000 utils.py:214(_is_ascii)\n",
      "       44    0.000    0.000    0.000    0.000 {method 'copy' of 'dict' objects}\n",
      "        1    0.000    0.000    0.000    0.000 series.py:4307(reindex)\n",
      "       33    0.000    0.000    0.000    0.000 common.py:499(is_interval_dtype)\n",
      "       32    0.000    0.000    0.000    0.000 util.py:461(close_fds)\n",
      "       32    0.000    0.000    0.000    0.000 process.py:224(exitcode)\n",
      "  331/297    0.000    0.000    0.000    0.000 {built-in method builtins.len}\n",
      "        6    0.000    0.000    0.000    0.000 tempfile.py:144(__next__)\n",
      "        1    0.000    0.000    0.000    0.000 generic.py:4561(reindex)\n",
      "        1    0.000    0.000    0.000    0.000 generic.py:10853(any)\n",
      "    18/17    0.000    0.000    0.000    0.000 {built-in method builtins.all}\n",
      "       33    0.000    0.000    0.000    0.000 common.py:463(is_period_dtype)\n",
      "       54    0.000    0.000    0.000    0.000 {method 'release' of '_thread.RLock' objects}\n",
      "        1    0.000    0.000    0.000    0.000 generic.py:10588(any)\n",
      "       32    0.000    0.000    0.000    0.000 process.py:128(terminate)\n",
      "        1    0.000    0.000    0.000    0.000 generic.py:10560(_logical_func)\n",
      "       23    0.000    0.000    0.000    0.000 _dtype.py:321(_name_get)\n",
      "        2    0.000    0.000    0.000    0.000 managers.py:1577(from_array)\n",
      "       72    0.000    0.000    0.000    0.000 {method 'add' of 'set' objects}\n",
      "      939    0.000    0.000    0.000    0.000 {built-in method unicodedata.east_asian_width}\n",
      "       16    0.000    0.000    0.000    0.000 common.py:1341(is_bool_dtype)\n",
      "        2    0.000    0.000    0.000    0.000 utils.py:273(_screen_shape_linux)\n",
      "       11    0.000    0.000    0.000    0.000 {method 'any' of 'numpy.ndarray' objects}\n",
      "        1    0.000    0.000    0.000    0.000 series.py:4119(_reduce)\n",
      "       12    0.000    0.000    0.000    0.000 validation.py:180(_num_samples)\n",
      "       86    0.000    0.000    0.000    0.000 std.py:233(__call__)\n",
      "        3    0.000    0.000    0.000    0.000 <__array_function__ internals>:2(unique)\n",
      "      203    0.000    0.000    0.000    0.000 {built-in method posix.getpid}\n",
      "        7    0.000    0.000    0.000    0.000 blocks.py:127(__init__)\n",
      "        3    0.000    0.000    0.000    0.000 {built-in method _thread.start_new_thread}\n",
      "       26    0.000    0.000    0.000    0.000 dtypes.py:1132(is_dtype)\n",
      "        2    0.000    0.000    0.000    0.000 {pandas._libs.lib.clean_index_list}\n",
      "       11    0.000    0.000    0.000    0.000 _methods.py:53(_any)\n",
      "        6    0.000    0.000    0.000    0.000 tempfile.py:147(<listcomp>)\n",
      "        4    0.000    0.000    0.000    0.000 reduction.py:48(dumps)\n",
      "      673    0.000    0.000    0.000    0.000 {built-in method builtins.getattr}\n",
      "       26    0.000    0.000    0.000    0.000 dtypes.py:923(is_dtype)\n",
      "       82    0.000    0.000    0.000    0.000 base.py:411(find)\n",
      "        3    0.000    0.000    0.000    0.000 arraysetops.py:149(unique)\n",
      "       32    0.000    0.000    0.000    0.000 popen_fork.py:60(terminate)\n",
      "        1    0.000    0.000    0.000    0.000 pool.py:468(_map_async)\n",
      "        2    0.000    0.000    0.000    0.000 generic.py:4794(<genexpr>)\n",
      "        5    0.000    0.000    0.000    0.000 base.py:6023(_maybe_cast_data_without_dtype)\n",
      "        2    0.000    0.000    0.000    0.000 std.py:559(__new__)\n",
      "       48    0.000    0.000    0.000    0.000 random.py:285(choice)\n",
      "        4    0.000    0.000    0.000    0.000 cast.py:1379(maybe_cast_to_datetime)\n",
      "       85    0.000    0.000    0.000    0.000 threading.py:258(_acquire_restore)\n",
      "       17    0.000    0.000    0.000    0.000 std.py:187(__format__)\n",
      "        4    0.000    0.000    0.000    0.000 missing.py:367(array_equivalent)\n",
      "        3    0.000    0.000    0.000    0.000 std.py:1134(__del__)\n",
      "        1    0.000    0.000    0.000    0.000 managers.py:1887(_interleaved_dtype)\n",
      "        1    0.000    0.000    0.000    0.000 base.py:4472(identical)\n",
      "        4    0.000    0.000    0.000    0.000 connection.py:181(send_bytes)\n",
      "      350    0.000    0.000    0.000    0.000 {built-in method builtins.issubclass}\n",
      "        1    0.000    0.000    0.000    0.000 landscape_class.py:471(<dictcomp>)\n",
      "       36    0.000    0.000    0.000    0.000 abc.py:96(__instancecheck__)\n",
      "        7    0.000    0.000    0.000    0.000 common.py:573(is_string_dtype)\n",
      "        4    0.000    0.000    0.000    0.000 algorithms.py:1534(_get_take_nd_function)\n",
      "        1    0.000    0.000    0.000    0.000 cast.py:1517(find_common_type)\n",
      "       48    0.000    0.000    0.000    0.000 {method 'append' of 'list' objects}\n",
      "       28    0.000    0.000    0.000    0.000 common.py:201(is_object_dtype)\n",
      "        1    0.000    0.000    0.000    0.000 landscape_class.py:238(__str__)\n",
      "       16    0.000    0.000    0.000    0.000 common.py:703(is_integer_dtype)\n",
      "        1    0.000    0.000    0.000    0.000 landscape_class.py:616(gen_mutation_arrays)\n",
      "       85    0.000    0.000    0.000    0.000 threading.py:246(__enter__)\n",
      "       32    0.000    0.000    0.000    0.000 popen_fork.py:50(_send_signal)\n",
      "       22    0.000    0.000    0.000    0.000 std.py:107(release)\n",
      "       12    0.000    0.000    0.000    0.000 common.py:198(asarray_tuplesafe)\n",
      "       22    0.000    0.000    0.000    0.000 std.py:103(acquire)\n",
      "        5    0.000    0.000    0.000    0.000 {built-in method builtins.any}\n",
      "        8    0.000    0.000    0.000    0.000 common.py:1551(_is_dtype)\n",
      "       64    0.000    0.000    0.000    0.000 process.py:94(<genexpr>)\n",
      "      193    0.000    0.000    0.000    0.000 {built-in method builtins.hasattr}\n",
      "       85    0.000    0.000    0.000    0.000 threading.py:261(_is_owned)\n",
      "       16    0.000    0.000    0.000    0.000 numerictypes.py:360(issubdtype)\n",
      "       64    0.000    0.000    0.000    0.000 process.py:189(name)\n",
      "       85    0.000    0.000    0.000    0.000 threading.py:249(__exit__)\n",
      "        1    0.000    0.000    0.000    0.000 range.py:85(__new__)\n",
      "        1    0.000    0.000    0.000    0.000 parsers.py:1084(__exit__)\n",
      "        1    0.000    0.000    0.000    0.000 parsers.py:871(_clean_options)\n",
      "        2    0.000    0.000    0.000    0.000 std.py:575(_get_free_pos)\n",
      "        3    0.000    0.000    0.000    0.000 common.py:602(condition)\n",
      "        1    0.000    0.000    0.000    0.000 nanops.py:440(nanany)\n",
      "        2    0.000    0.000    0.000    0.000 cast.py:542(maybe_promote)\n",
      "        1    0.000    0.000    0.000    0.000 common.py:108(is_url)\n",
      "        4    0.000    0.000    0.000    0.000 reduction.py:38(__init__)\n",
      "       25    0.000    0.000    0.000    0.000 iostream.py:310(_is_master_process)\n",
      "        1    0.000    0.000    0.000    0.000 pool.py:791(__init__)\n",
      "        2    0.000    0.000    0.000    0.000 std.py:1266(fp_write)\n",
      "        3    0.000    0.000    0.000    0.000 arraysetops.py:309(_unique1d)\n",
      "        1    0.000    0.000    0.000    0.000 parsers.py:816(close)\n",
      "       32    0.000    0.000    0.000    0.000 process.py:193(name)\n",
      "       85    0.000    0.000    0.000    0.000 threading.py:255(_release_save)\n",
      "        3    0.000    0.000    0.000    0.000 common.py:605(is_excluded_dtype)\n",
      "      303    0.000    0.000    0.000    0.000 threading.py:513(is_set)\n",
      "        1    0.000    0.000    0.000    0.000 parsers.py:1982(close)\n",
      "       36    0.000    0.000    0.000    0.000 {built-in method _abc._abc_instancecheck}\n",
      "        3    0.000    0.000    0.000    0.000 {method 'all' of 'numpy.ndarray' objects}\n",
      "        4    0.000    0.000    0.000    0.000 connection.py:390(_send_bytes)\n",
      "       16    0.000    0.000    0.000    0.000 base.py:5953(maybe_extract_name)\n",
      "       48    0.000    0.000    0.000    0.000 random.py:250(_randbelow_with_getrandbits)\n",
      "        4    0.000    0.000    0.000    0.000 cast.py:1257(maybe_castable)\n",
      "        7    0.000    0.000    0.000    0.000 blocks.py:269(mgr_locs)\n",
      "        1    0.000    0.000    0.000    0.000 parsers.py:1267(__init__)\n",
      "       12    0.000    0.000    0.000    0.000 common.py:610(<genexpr>)\n",
      "        1    0.000    0.000    0.000    0.000 parse.py:366(urlparse)\n",
      "        3    0.000    0.000    0.000    0.000 _methods.py:56(_all)\n",
      "        7    0.000    0.000    0.000    0.000 generic.py:5464(__setattr__)\n",
      "       32    0.000    0.000    0.000    0.000 {built-in method posix.kill}\n",
      "       17    0.000    0.000    0.000    0.000 {method 'sub' of 're.Pattern' objects}\n",
      "       12    0.000    0.000    0.000    0.000 common.py:388(is_datetime64tz_dtype)\n",
      "       19    0.000    0.000    0.000    0.000 common.py:1307(is_float_dtype)\n",
      "       23    0.000    0.000    0.000    0.000 _dtype.py:307(_name_includes_bit_suffix)\n",
      "        6    0.000    0.000    0.000    0.000 warnings.py:165(simplefilter)\n",
      "        2    0.000    0.000    0.000    0.000 utils.py:287(<listcomp>)\n",
      "       33    0.000    0.000    0.000    0.000 {method 'update' of 'dict' objects}\n",
      "        2    0.000    0.000    0.000    0.000 managers.py:126(__init__)\n",
      "       15    0.000    0.000    0.000    0.000 {pandas._libs.lib.is_list_like}\n",
      "       17    0.000    0.000    0.000    0.000 std.py:154(__init__)\n",
      "        1    0.000    0.000    0.000    0.000 context.py:41(cpu_count)\n",
      "        2    0.000    0.000    0.000    0.000 utils.py:154(__init__)\n",
      "        1    0.000    0.000    0.000    0.000 managers.py:157(blknos)\n",
      "       32    0.000    0.000    0.000    0.000 common.py:1575(get_dtype)\n",
      "        1    0.000    0.000    0.000    0.000 lapack.py:928(_compute_lwork)\n",
      "        1    0.000    0.000    0.000    0.000 parsers.py:1366(_validate_parse_dates_presence)\n",
      "        6    0.000    0.000    0.000    0.000 util.py:171(register_after_fork)\n",
      "        1    0.000    0.000    0.000    0.000 managers.py:232(_rebuild_blknos_and_blklocs)\n",
      "       15    0.000    0.000    0.000    0.000 {built-in method now}\n",
      "        2    0.000    0.000    0.000    0.000 cast.py:1273(maybe_infer_to_datetimelike)\n",
      "        3    0.000    0.000    0.000    0.000 validation.py:252(<listcomp>)\n",
      "        1    0.000    0.000    0.000    0.000 std.py:582(_decr_instances)\n",
      "       33    0.000    0.000    0.000    0.000 {method 'replace' of 'str' objects}\n",
      "       23    0.000    0.000    0.000    0.000 _asarray.py:86(asanyarray)\n",
      "        1    0.000    0.000    0.000    0.000 {built-in method posix.cpu_count}\n",
      "        1    0.000    0.000    0.000    0.000 landscape_class.py:602(coloured_seed_string)\n",
      "        5    0.000    0.000    0.000    0.000 _weakrefset.py:58(__iter__)\n",
      "        7    0.000    0.000    0.000    0.000 managers.py:206(shape)\n",
      "        3    0.000    0.000    0.000    0.000 connection.py:516(Pipe)\n",
      "        5    0.000    0.000    0.000    0.000 generic.py:187(__init__)\n",
      "        1    0.000    0.000    0.000    0.000 numerictypes.py:569(find_common_type)\n",
      "        5    0.000    0.000    0.000    0.000 base.py:5969(_maybe_cast_with_dtype)\n",
      "       32    0.000    0.000    0.000    0.000 numerictypes.py:286(issubclass_)\n",
      "        1    0.000    0.000    0.000    0.000 parsers.py:819(_get_options_with_defaults)\n",
      "       36    0.000    0.000    0.000    0.000 common.py:195(<lambda>)\n",
      "        3    0.000    0.000    0.000    0.000 base.py:5001(_index_as_unique)\n",
      "        4    0.000    0.000    0.000    0.000 connection.py:365(_send)\n",
      "       32    0.000    0.000    0.000    0.000 __init__.py:214(_acquireLock)\n",
      "        1    0.000    0.000    0.000    0.000 nanops.py:241(_get_values)\n",
      "        6    0.000    0.000    0.000    0.000 warnings.py:181(_add_filter)\n",
      "       48    0.000    0.000    0.000    0.000 {method 'rpartition' of 'str' objects}\n",
      "        1    0.000    0.000    0.000    0.000 parsers.py:1504(_maybe_dedup_names)\n",
      "        3    0.000    0.000    0.000    0.000 _asarray.py:221(require)\n",
      "        3    0.000    0.000    0.000    0.000 cast.py:1617(construct_1d_object_array_from_listlike)\n",
      "        1    0.000    0.000    0.000    0.000 indexing.py:1269(_validate_read_indexer)\n",
      "        1    0.000    0.000    0.000    0.000 parse.py:417(urlsplit)\n",
      "        2    0.000    0.000    0.000    0.000 common.py:154(stringify_path)\n",
      "       25    0.000    0.000    0.000    0.000 common.py:429(is_timedelta64_dtype)\n",
      "        6    0.000    0.000    0.000    0.000 std.py:111(__enter__)\n",
      "        1    0.000    0.000    0.000    0.000 base.py:1764(is_unique)\n",
      "      358    0.000    0.000    0.000    0.000 {built-in method builtins.ord}\n",
      "        2    0.000    0.000    0.000    0.000 std.py:578(<genexpr>)\n",
      "      136    0.000    0.000    0.000    0.000 process.py:99(_check_closed)\n",
      "        1    0.000    0.000    0.000    0.000 {built-in method builtins.locals}\n",
      "       11    0.000    0.000    0.000    0.000 {built-in method numpy.arange}\n",
      "        1    0.000    0.000    0.000    0.000 range.py:133(_simple_new)\n",
      "        3    0.000    0.000    0.000    0.000 generic.py:5531(_consolidate_inplace)\n",
      "        1    0.000    0.000    0.000    0.000 base.py:742(take)\n",
      "        4    0.000    0.000    0.000    0.000 {built-in method posix.write}\n",
      "        2    0.000    0.000    0.000    0.000 os.py:670(__getitem__)\n",
      "        2    0.000    0.000    0.000    0.000 generic.py:5408(__finalize__)\n",
      "        1    0.000    0.000    0.000    0.000 missing.py:244(_isna_string_dtype)\n",
      "       10    0.000    0.000    0.000    0.000 construction.py:354(extract_array)\n",
      "      105    0.000    0.000    0.000    0.000 {method 'get' of 'dict' objects}\n",
      "        8    0.000    0.000    0.000    0.000 common.py:231(is_sparse)\n",
      "       13    0.000    0.000    0.000    0.000 <frozen importlib._bootstrap>:1017(_handle_fromlist)\n",
      "        1    0.000    0.000    0.000    0.000 common.py:438(infer_compression)\n",
      "        1    0.000    0.000    0.000    0.000 common.py:403(get_compression_method)\n",
      "       35    0.000    0.000    0.000    0.000 _weakrefset.py:38(_remove)\n",
      "        2    0.000    0.000    0.000    0.000 numerictypes.py:545(_can_coerce_all)\n",
      "        6    0.000    0.000    0.000    0.000 weakref.py:159(__setitem__)\n",
      "        3    0.000    0.000    0.000    0.000 parsers.py:1092(_is_potential_multi_index)\n",
      "       10    0.000    0.000    0.000    0.000 common.py:757(is_signed_integer_dtype)\n",
      "        6    0.000    0.000    0.000    0.000 base.py:425(_simple_new)\n",
      "        1    0.000    0.000    0.000    0.000 parsers.py:1414(close)\n",
      "        2    0.000    0.000    0.000    0.000 common.py:846(_is_binary_mode)\n",
      "        2    0.000    0.000    0.000    0.000 {method 'get_indexer' of 'pandas._libs.index.IndexEngine' objects}\n",
      "       85    0.000    0.000    0.000    0.000 {method '__enter__' of '_thread.lock' objects}\n",
      "        6    0.000    0.000    0.000    0.000 std.py:114(__exit__)\n",
      "        1    0.000    0.000    0.000    0.000 {method 'close' of 'pandas._libs.parsers.TextReader' objects}\n",
      "        1    0.000    0.000    0.000    0.000 validation.py:955(check_is_fitted)\n",
      "        9    0.000    0.000    0.000    0.000 threading.py:1306(current_thread)\n",
      "       55    0.000    0.000    0.000    0.000 common.py:187(<lambda>)\n",
      "        3    0.000    0.000    0.000    0.000 generic.py:5519(_protect_consolidate)\n",
      "        3    0.000    0.000    0.000    0.000 base.py:2127(inferred_type)\n",
      "       21    0.000    0.000    0.000    0.000 managers.py:208(<genexpr>)\n",
      "        3    0.000    0.000    0.000    0.000 inference.py:263(is_dict_like)\n",
      "        6    0.000    0.000    0.000    0.000 warnings.py:458(__enter__)\n",
      "       50    0.000    0.000    0.000    0.000 util.py:48(debug)\n",
      "       19    0.000    0.000    0.000    0.000 common.py:1769(pandas_dtype)\n",
      "       54    0.000    0.000    0.000    0.000 {method 'acquire' of '_thread.RLock' objects}\n",
      "       81    0.000    0.000    0.000    0.000 {built-in method _imp.lock_held}\n",
      "        3    0.000    0.000    0.000    0.000 common.py:126(_expand_user)\n",
      "        1    0.000    0.000    0.000    0.000 {built-in method _warnings.warn}\n",
      "        1    0.000    0.000    0.000    0.000 managers.py:318(_verify_integrity)\n",
      "        2    0.000    0.000    0.000    0.000 _ufunc_config.py:32(seterr)\n",
      "        1    0.000    0.000    0.000    0.000 common.py:81(close)\n",
      "       10    0.000    0.000    0.000    0.000 common.py:813(is_unsigned_integer_dtype)\n",
      "        3    0.000    0.000    0.000    0.000 series.py:410(_set_axis)\n",
      "        4    0.000    0.000    0.000    0.000 series.py:509(name)\n",
      "        1    0.000    0.000    0.000    0.000 _ufunc_config.py:433(__enter__)\n",
      "        1    0.000    0.000    0.000    0.000 indexers.py:225(maybe_convert_indices)\n",
      "       13    0.000    0.000    0.000    0.000 abc.py:100(__subclasscheck__)\n",
      "        4    0.000    0.000    0.000    0.000 construction.py:612(is_empty_data)\n",
      "        2    0.000    0.000    0.000    0.000 base.py:1803(is_boolean)\n",
      "        1    0.000    0.000    0.000    0.000 _base.py:240(_set_intercept)\n",
      "        1    0.000    0.000    0.000    0.000 typing.py:768(__instancecheck__)\n",
      "        1    0.000    0.000    0.000    0.000 common.py:75(is_bool_indexer)\n",
      "        1    0.000    0.000    0.000    0.000 {method 'sum' of 'numpy.ndarray' objects}\n",
      "        3    0.000    0.000    0.000    0.000 generic.py:5535(f)\n",
      "       20    0.000    0.000    0.000    0.000 {built-in method builtins.max}\n",
      "       22    0.000    0.000    0.000    0.000 inference.py:322(is_hashable)\n",
      "        1    0.000    0.000    0.000    0.000 {method 'close' of '_io.TextIOWrapper' objects}\n",
      "        6    0.000    0.000    0.000    0.000 connection.py:130(__del__)\n",
      "        1    0.000    0.000    0.000    0.000 base.py:3394(_convert_listlike_indexer)\n",
      "        6    0.000    0.000    0.000    0.000 weakref.py:103(remove)\n",
      "        1    0.000    0.000    0.000    0.000 _methods.py:45(_sum)\n",
      "       82    0.000    0.000    0.000    0.000 {built-in method builtins.divmod}\n",
      "        2    0.000    0.000    0.000    0.000 cast.py:698(_ensure_dtype_type)\n",
      "        2    0.000    0.000    0.000    0.000 base.py:5011(_maybe_promote)\n",
      "       22    0.000    0.000    0.000    0.000 common.py:912(is_datetime64_any_dtype)\n",
      "        1    0.000    0.000    0.000    0.000 pool.py:744(__init__)\n",
      "        3    0.000    0.000    0.000    0.000 threading.py:1177(_make_invoke_excepthook)\n",
      "        7    0.000    0.000    0.000    0.000 base.py:563(_reset_identity)\n",
      "       85    0.000    0.000    0.000    0.000 {method '__exit__' of '_thread.lock' objects}\n",
      "       67    0.000    0.000    0.000    0.000 {method 'discard' of 'set' objects}\n",
      "        1    0.000    0.000    0.000    0.000 typing.py:771(__subclasscheck__)\n",
      "        4    0.000    0.000    0.000    0.000 _methods.py:59(_count_reduce_items)\n",
      "       88    0.000    0.000    0.000    0.000 {method 'release' of '_thread.lock' objects}\n",
      "        3    0.000    0.000    0.000    0.000 posixpath.py:228(expanduser)\n",
      "       55    0.000    0.000    0.000    0.000 common.py:185(classes)\n",
      "       32    0.000    0.000    0.000    0.000 process.py:205(daemon)\n",
      "       17    0.000    0.000    0.000    0.000 utils.py:57(__init__)\n",
      "        2    0.000    0.000    0.000    0.000 blocks.py:288(make_block_same_class)\n",
      "        2    0.000    0.000    0.000    0.000 {method 'max' of 'numpy.ndarray' objects}\n",
      "       11    0.000    0.000    0.000    0.000 validation.py:71(<dictcomp>)\n",
      "        1    0.000    0.000    0.000    0.000 base.py:3416(_convert_arr_indexer)\n",
      "        5    0.000    0.000    0.000    0.000 managers.py:681(is_consolidated)\n",
      "        2    0.000    0.000    0.000    0.000 utils.py:105(__init__)\n",
      "        7    0.000    0.000    0.000    0.000 landscape_class.py:269(__len__)\n",
      "        3    0.000    0.000    0.000    0.000 cast.py:1563(<genexpr>)\n",
      "        6    0.000    0.000    0.000    0.000 std.py:228(__init__)\n",
      "        4    0.000    0.000    0.000    0.000 generic.py:469(_get_axis)\n",
      "        1    0.000    0.000    0.000    0.000 base.py:2134(_is_all_dates)\n",
      "        2    0.000    0.000    0.000    0.000 missing.py:465(_array_equivalent_object)\n",
      "       13    0.000    0.000    0.000    0.000 {built-in method _abc._abc_subclasscheck}\n",
      "        5    0.000    0.000    0.000    0.000 series.py:459(name)\n",
      "        1    0.000    0.000    0.000    0.000 parsers.py:1991(_set_noconvert_columns)\n",
      "        2    0.000    0.000    0.000    0.000 {pandas._libs.algos.take_1d_int64_int64}\n",
      "        1    0.000    0.000    0.000    0.000 algorithms.py:1570(take)\n",
      "        1    0.000    0.000    0.000    0.000 landscape_class.py:953(<listcomp>)\n",
      "        6    0.000    0.000    0.000    0.000 common.py:615(is_dtype_equal)\n",
      "        4    0.000    0.000    0.000    0.000 common.py:1743(validate_all_hashable)\n",
      "        3    0.000    0.000    0.000    0.000 threading.py:979(join)\n",
      "        2    0.000    0.000    0.000    0.000 {built-in method fcntl.ioctl}\n",
      "        2    0.000    0.000    0.000    0.000 _methods.py:37(_amax)\n",
      "        1    0.000    0.000    0.000    0.000 {built-in method pandas._libs.missing.isnaobj}\n",
      "        4    0.000    0.000    0.000    0.000 {method 'reshape' of 'numpy.ndarray' objects}\n",
      "        1    0.000    0.000    0.000    0.000 _weakrefset.py:106(remove)\n",
      "        2    0.000    0.000    0.000    0.000 utils.py:207(_supports_unicode)\n",
      "        5    0.000    0.000    0.000    0.000 series.py:556(_values)\n",
      "        3    0.000    0.000    0.000    0.000 base.py:4279(__getitem__)\n",
      "        6    0.000    0.000    0.000    0.000 warnings.py:437(__init__)\n",
      "        3    0.000    0.000    0.000    0.000 _weakrefset.py:26(__exit__)\n",
      "        6    0.000    0.000    0.000    0.000 connection.py:360(_close)\n",
      "        1    0.000    0.000    0.000    0.000 base.py:574(_engine)\n",
      "        1    0.000    0.000    0.000    0.000 parsers.py:1540(_make_index)\n",
      "        2    0.000    0.000    0.000    0.000 os.py:748(encode)\n",
      "        1    0.000    0.000    0.000    0.000 numeric.py:144(ones)\n",
      "        1    0.000    0.000    0.000    0.000 landscape_class.py:620(<listcomp>)\n",
      "        3    0.000    0.000    0.000    0.000 managers.py:991(_consolidate_inplace)\n",
      "        1    0.000    0.000    0.000    0.000 <__array_function__ internals>:2(dot)\n",
      "       36    0.000    0.000    0.000    0.000 common.py:190(classes_and_not_datetimelike)\n",
      "        1    0.000    0.000    0.000    0.000 landscape_class.py:619(<listcomp>)\n",
      "        2    0.000    0.000    0.000    0.000 managers.py:689(_consolidate_check)\n",
      "        2    0.000    0.000    0.000    0.000 landscape_class.py:282(query)\n",
      "        3    0.000    0.000    0.000    0.000 threading.py:944(_stop)\n",
      "        3    0.000    0.000    0.000    0.000 lapack.py:958(<genexpr>)\n",
      "       91    0.000    0.000    0.000    0.000 {method 'getrandbits' of '_random.Random' objects}\n",
      "        4    0.000    0.000    0.000    0.000 {method 'remove' of 'set' objects}\n",
      "        2    0.000    0.000    0.000    0.000 parsers.py:389(validate_integer)\n",
      "        4    0.000    0.000    0.000    0.000 synchronize.py:94(__enter__)\n",
      "        1    0.000    0.000    0.000    0.000 parsers.py:1244(_validate_parse_dates_arg)\n",
      "       17    0.000    0.000    0.000    0.000 {built-in method __new__ of type object at 0x55caf2484ac0}\n",
      "        4    0.000    0.000    0.000    0.000 {method 'dump' of '_pickle.Pickler' objects}\n",
      "        1    0.000    0.000    0.000    0.000 base.py:796(__iter__)\n",
      "       17    0.000    0.000    0.000    0.000 utils.py:61(__format__)\n",
      "        1    0.000    0.000    0.000    0.000 <__array_function__ internals>:2(ravel)\n",
      "        5    0.000    0.000    0.000    0.000 {method 'flatten' of 'numpy.ndarray' objects}\n",
      "       17    0.000    0.000    0.000    0.000 base.py:600(__len__)\n",
      "       23    0.000    0.000    0.000    0.000 _dtype.py:24(_kind_name)\n",
      "        6    0.000    0.000    0.000    0.000 utils.py:101(wrapper_setattr)\n",
      "        1    0.000    0.000    0.000    0.000 parsers.py:1830(_do_date_conversions)\n",
      "        1    0.000    0.000    0.000    0.000 parsers.py:860(_check_file_or_buffer)\n",
      "        6    0.000    0.000    0.000    0.000 _config.py:14(get_config)\n",
      "        3    0.000    0.000    0.000    0.000 managers.py:975(consolidate)\n",
      "        6    0.000    0.000    0.000    0.000 warnings.py:477(__exit__)\n",
      "        3    0.000    0.000    0.000    0.000 threading.py:734(_newname)\n",
      "        1    0.000    0.000    0.000    0.000 validation.py:1015(<listcomp>)\n",
      "        5    0.000    0.000    0.000    0.000 flags.py:47(__init__)\n",
      "        6    0.000    0.000    0.000    0.000 {method 'remove' of 'list' objects}\n",
      "        6    0.000    0.000    0.000    0.000 tempfile.py:133(rng)\n",
      "        1    0.000    0.000    0.000    0.000 common.py:254(maybe_iterable_to_list)\n",
      "        5    0.000    0.000    0.000    0.000 managers.py:1626(internal_values)\n",
      "       11    0.000    0.000    0.000    0.000 base.py:1188(isspmatrix)\n",
      "        2    0.000    0.000    0.000    0.000 generic.py:339(_validate_dtype)\n",
      "       32    0.000    0.000    0.000    0.000 {built-in method posix.WIFSIGNALED}\n",
      "        3    0.000    0.000    0.000    0.000 {method 'sort' of 'numpy.ndarray' objects}\n",
      "        9    0.000    0.000    0.000    0.000 inference.py:289(<genexpr>)\n",
      "        1    0.000    0.000    0.000    0.000 <string>:1(__new__)\n",
      "        6    0.000    0.000    0.000    0.000 connection.py:117(__init__)\n",
      "        2    0.000    0.000    0.000    0.000 {built-in method utcfromtimestamp}\n",
      "        1    0.000    0.000    0.000    0.000 blas.py:370(getter)\n",
      "        6    0.000    0.000    0.000    0.000 validation.py:390(_ensure_no_complex_data)\n",
      "       17    0.000    0.000    0.000    0.000 std.py:168(colour)\n",
      "        1    0.000    0.000    0.000    0.000 managers.py:150(from_blocks)\n",
      "        6    0.000    0.000    0.000    0.000 threading.py:1095(daemon)\n",
      "       24    0.000    0.000    0.000    0.000 {built-in method builtins.abs}\n",
      "        3    0.000    0.000    0.000    0.000 managers.py:1863(_asarray_compat)\n",
      "        1    0.000    0.000    0.000    0.000 pool.py:270(__repr__)\n",
      "        2    0.000    0.000    0.000    0.000 inference.py:185(is_array_like)\n",
      "        1    0.000    0.000    0.000    0.000 nanops.py:197(_maybe_get_mask)\n",
      "       10    0.000    0.000    0.000    0.000 range.py:747(__len__)\n",
      "        6    0.000    0.000    0.000    0.000 weakref.py:323(__new__)\n",
      "        2    0.000    0.000    0.000    0.000 parsers.py:1534(_maybe_make_multi_index_columns)\n",
      "        1    0.000    0.000    0.000    0.000 codecs.py:309(__init__)\n",
      "        3    0.000    0.000    0.000    0.000 _weakrefset.py:20(__enter__)\n",
      "       22    0.000    0.000    0.000    0.000 {method 'release' of '_multiprocessing.SemLock' objects}\n",
      "        1    0.000    0.000    0.000    0.000 pool.py:276(_get_sentinels)\n",
      "        1    0.000    0.000    0.000    0.000 generic.py:423(_construct_axes_from_arguments)\n",
      "        1    0.000    0.000    0.000    0.000 _ufunc_config.py:438(__exit__)\n",
      "        1    0.000    0.000    0.000    0.000 fromnumeric.py:1705(ravel)\n",
      "        2    0.000    0.000    0.000    0.000 utils.py:163(__eq__)\n",
      "        1    0.000    0.000    0.000    0.000 landscape_class.py:908(calc_extrema_ruggedness)\n",
      "        2    0.000    0.000    0.000    0.000 std.py:329(status_printer)\n",
      "        2    0.000    0.000    0.000    0.000 <__array_function__ internals>:2(can_cast)\n",
      "        5    0.000    0.000    0.000    0.000 {method 'encode' of 'str' objects}\n",
      "        2    0.000    0.000    0.000    0.000 {built-in method builtins.sorted}\n",
      "        3    0.000    0.000    0.000    0.000 _asarray.py:298(<setcomp>)\n",
      "        2    0.000    0.000    0.000    0.000 managers.py:132(<listcomp>)\n",
      "        1    0.000    0.000    0.000    0.000 base.py:1239(name)\n",
      "        1    0.000    0.000    0.000    0.000 managers.py:1958(_preprocess_slice_or_indexer)\n",
      "        2    0.000    0.000    0.000    0.000 _ufunc_config.py:132(geterr)\n",
      "       11    0.000    0.000    0.000    0.000 inspect.py:2845(parameters)\n",
      "        1    0.000    0.000    0.000    0.000 {pandas._libs.lib.infer_datetimelike_array}\n",
      "        4    0.000    0.000    0.000    0.000 utils.py:88(__getattr__)\n",
      "        6    0.000    0.000    0.000    0.000 weakref.py:328(__init__)\n",
      "        3    0.000    0.000    0.000    0.000 generic.py:5446(__getattr__)\n",
      "       33    0.000    0.000    0.000    0.000 util.py:44(sub_debug)\n",
      "        2    0.000    0.000    0.000    0.000 managers.py:1545(__init__)\n",
      "        2    0.000    0.000    0.000    0.000 lapack.py:961(_check_work_float)\n",
      "        2    0.000    0.000    0.000    0.000 std.py:656(get_lock)\n",
      "        2    0.000    0.000    0.000    0.000 inference.py:96(is_file_like)\n",
      "        1    0.000    0.000    0.000    0.000 <__array_function__ internals>:2(copyto)\n",
      "        3    0.000    0.000    0.000    0.000 missing.py:721(clean_reindex_fill_method)\n",
      "        1    0.000    0.000    0.000    0.000 base.py:510(_shallow_copy)\n",
      "       23    0.000    0.000    0.000    0.000 {method 'pop' of 'dict' objects}\n",
      "        8    0.000    0.000    0.000    0.000 common.py:1762(<genexpr>)\n",
      "        5    0.000    0.000    0.000    0.000 common.py:355(is_datetime64_dtype)\n",
      "        1    0.000    0.000    0.000    0.000 <__array_function__ internals>:2(empty_like)\n",
      "        2    0.000    0.000    0.000    0.000 utils.py:193(_is_utf)\n",
      "       14    0.000    0.000    0.000    0.000 codecs.py:331(getstate)\n",
      "        1    0.000    0.000    0.000    0.000 landscape_class.py:579(tokenize)\n",
      "        1    0.000    0.000    0.000    0.000 landscape_class.py:187(<dictcomp>)\n",
      "        3    0.000    0.000    0.000    0.000 _weakrefset.py:16(__init__)\n",
      "       13    0.000    0.000    0.000    0.000 {pandas._libs.lib.is_scalar}\n",
      "        4    0.000    0.000    0.000    0.000 synchronize.py:97(__exit__)\n",
      "        7    0.000    0.000    0.000    0.000 blocks.py:161(_check_ndim)\n",
      "        4    0.000    0.000    0.000    0.000 process.py:234(ident)\n",
      "        6    0.000    0.000    0.000    0.000 generic.py:455(_get_axis_number)\n",
      "        2    0.000    0.000    0.000    0.000 parse.py:110(_coerce_args)\n",
      "        3    0.000    0.000    0.000    0.000 managers.py:1869(_shape_compat)\n",
      "        4    0.000    0.000    0.000    0.000 utils.py:136(disable_on_exception)\n",
      "        3    0.000    0.000    0.000    0.000 threading.py:1110(daemon)\n",
      "       22    0.000    0.000    0.000    0.000 {built-in method builtins.hash}\n",
      "       17    0.000    0.000    0.000    0.000 std.py:164(colour)\n",
      "       14    0.000    0.000    0.000    0.000 {method 'endswith' of 'str' objects}\n",
      "        6    0.000    0.000    0.000    0.000 synchronize.py:90(_make_methods)\n",
      "       19    0.000    0.000    0.000    0.000 numerictypes.py:554(<listcomp>)\n",
      "        2    0.000    0.000    0.000    0.000 managers.py:690(<listcomp>)\n",
      "        1    0.000    0.000    0.000    0.000 parsers.py:3339(_process_date_conversion)\n",
      "       48    0.000    0.000    0.000    0.000 {method 'bit_length' of 'int' objects}\n",
      "        1    0.000    0.000    0.000    0.000 <__array_function__ internals>:2(may_share_memory)\n",
      "        2    0.000    0.000    0.000    0.000 base.py:4485(<genexpr>)\n",
      "        6    0.000    0.000    0.000    0.000 parsers.py:1116(<genexpr>)\n",
      "        6    0.000    0.000    0.000    0.000 {method 'ravel' of 'numpy.ndarray' objects}\n",
      "        1    0.000    0.000    0.000    0.000 {built-in method pandas._libs.lib.is_datetime_array}\n",
      "        4    0.000    0.000    0.000    0.000 base.py:532(is_)\n",
      "        3    0.000    0.000    0.000    0.000 std.py:1144(__hash__)\n",
      "        1    0.000    0.000    0.000    0.000 parsers.py:3781(_refine_defaults_read)\n",
      "        1    0.000    0.000    0.000    0.000 indexing.py:2204(convert_to_index_sliceable)\n",
      "       32    0.000    0.000    0.000    0.000 {built-in method posix.WIFEXITED}\n",
      "        1    0.000    0.000    0.000    0.000 parsers.py:3427(_clean_na_values)\n",
      "        1    0.000    0.000    0.000    0.000 _base.py:473(__init__)\n",
      "       32    0.000    0.000    0.000    0.000 {built-in method posix.WEXITSTATUS}\n",
      "        1    0.000    0.000    0.000    0.000 utils.py:74(__eq__)\n",
      "        4    0.000    0.000    0.000    0.000 {method '__enter__' of '_multiprocessing.SemLock' objects}\n",
      "       15    0.000    0.000    0.000    0.000 blocks.py:265(mgr_locs)\n",
      "        1    0.000    0.000    0.000    0.000 common.py:1276(is_string_like_dtype)\n",
      "        3    0.000    0.000    0.000    0.000 std.py:1116(__len__)\n",
      "       18    0.000    0.000    0.000    0.000 {built-in method _warnings._filters_mutated}\n",
      "        2    0.000    0.000    0.000    0.000 flags.py:83(allows_duplicate_labels)\n",
      "        4    0.000    0.000    0.000    0.000 {built-in method _struct.pack}\n",
      "        1    0.000    0.000    0.000    0.000 managers.py:1699(<listcomp>)\n",
      "        2    0.000    0.000    0.000    0.000 common.py:1187(needs_i8_conversion)\n",
      "        1    0.000    0.000    0.000    0.000 codecs.py:260(__init__)\n",
      "        4    0.000    0.000    0.000    0.000 {method 'getbuffer' of '_io.BytesIO' objects}\n",
      "        1    0.000    0.000    0.000    0.000 getlimits.py:366(__new__)\n",
      "        1    0.000    0.000    0.000    0.000 <string>:2(__init__)\n",
      "        2    0.000    0.000    0.000    0.000 common.py:157(ensure_python_int)\n",
      "        9    0.000    0.000    0.000    0.000 {built-in method builtins.id}\n",
      "        2    0.000    0.000    0.000    0.000 {built-in method numpy.seterrobj}\n",
      "        1    0.000    0.000    0.000    0.000 generic.py:475(_get_block_manager_axis)\n",
      "        1    0.000    0.000    0.000    0.000 {method 'put' of '_queue.SimpleQueue' objects}\n",
      "       16    0.000    0.000    0.000    0.000 base.py:4070(_values)\n",
      "        6    0.000    0.000    0.000    0.000 {method 'insert' of 'list' objects}\n",
      "        1    0.000    0.000    0.000    0.000 {method 'take' of 'numpy.ndarray' objects}\n",
      "        4    0.000    0.000    0.000    0.000 managers.py:320(<genexpr>)\n",
      "        3    0.000    0.000    0.000    0.000 blocks.py:2505(_maybe_coerce_values)\n",
      "        2    0.000    0.000    0.000    0.000 cast.py:1541(<genexpr>)\n",
      "        3    0.000    0.000    0.000    0.000 common.py:129(cast_scalar_indexer)\n",
      "        1    0.000    0.000    0.000    0.000 landscape_class.py:583(<listcomp>)\n",
      "        2    0.000    0.000    0.000    0.000 _monitor.py:92(report)\n",
      "        1    0.000    0.000    0.000    0.000 common.py:793(_maybe_memory_map)\n",
      "        3    0.000    0.000    0.000    0.000 _weakrefset.py:52(_commit_removals)\n",
      "        6    0.000    0.000    0.000    0.000 managers.py:210(ndim)\n",
      "        4    0.000    0.000    0.000    0.000 connection.py:134(_check_closed)\n",
      "        6    0.000    0.000    0.000    0.000 {built-in method _weakref._remove_dead_weakref}\n",
      "        8    0.000    0.000    0.000    0.000 {method 'startswith' of 'str' objects}\n",
      "        1    0.000    0.000    0.000    0.000 common.py:170(all_none)\n",
      "        9    0.000    0.000    0.000    0.000 blocks.py:347(dtype)\n",
      "        2    0.000    0.000    0.000    0.000 cast.py:1642(construct_1d_ndarray_preserving_na)\n",
      "        2    0.000    0.000    0.000    0.000 {pandas._libs.lib.array_equivalent_object}\n",
      "        2    0.000    0.000    0.000    0.000 {method 'difference' of 'set' objects}\n",
      "        3    0.000    0.000    0.000    0.000 arraysetops.py:136(_unpack_tuple)\n",
      "        2    0.000    0.000    0.000    0.000 {built-in method builtins.min}\n",
      "        1    0.000    0.000    0.000    0.000 pool.py:753(ready)\n",
      "        8    0.000    0.000    0.000    0.000 fromnumeric.py:2100(_sum_dispatcher)\n",
      "        2    0.000    0.000    0.000    0.000 core.py:6374(isMaskedArray)\n",
      "        1    0.000    0.000    0.000    0.000 generic.py:3833(_set_is_copy)\n",
      "        4    0.000    0.000    0.000    0.000 {built-in method numpy.geterrobj}\n",
      "        1    0.000    0.000    0.000    0.000 parsers.py:3294(_make_date_converter)\n",
      "        9    0.000    0.000    0.000    0.000 context.py:187(get_context)\n",
      "        4    0.000    0.000    0.000    0.000 {pandas._libs.algos.ensure_int64}\n",
      "        9    0.000    0.000    0.000    0.000 {built-in method _thread.get_ident}\n",
      "        1    0.000    0.000    0.000    0.000 common.py:145(validate_header_arg)\n",
      "        1    0.000    0.000    0.000    0.000 inspect.py:72(isclass)\n",
      "        1    0.000    0.000    0.000    0.000 {built-in method numpy.zeros}\n",
      "        2    0.000    0.000    0.000    0.000 std.py:1140(_comparable)\n",
      "        4    0.000    0.000    0.000    0.000 {built-in method numpy.core._multiarray_umath.normalize_axis_index}\n",
      "        1    0.000    0.000    0.000    0.000 pool.py:157(__init__)\n",
      "        3    0.000    0.000    0.000    0.000 base.py:4096(_get_engine_target)\n",
      "        1    0.000    0.000    0.000    0.000 base.py:354(_check_n_features)\n",
      "        1    0.000    0.000    0.000    0.000 nanops.py:328(_na_ok_dtype)\n",
      "        2    0.000    0.000    0.000    0.000 cast.py:1556(<genexpr>)\n",
      "        1    0.000    0.000    0.000    0.000 parsers.py:1418(_has_complex_date_col)\n",
      "        6    0.000    0.000    0.000    0.000 base.py:623(dtype)\n",
      "        2    0.000    0.000    0.000    0.000 {method 'fill' of 'numpy.ndarray' objects}\n",
      "        5    0.000    0.000    0.000    0.000 {method 'lower' of 'str' objects}\n",
      "        1    0.000    0.000    0.000    0.000 common.py:198(is_fsspec_url)\n",
      "        1    0.000    0.000    0.000    0.000 indexing.py:240(loc)\n",
      "        6    0.000    0.000    0.000    0.000 context.py:197(get_start_method)\n",
      "        3    0.000    0.000    0.000    0.000 missing.py:64(clean_fill_method)\n",
      "        1    0.000    0.000    0.000    0.000 _ufunc_config.py:429(__init__)\n",
      "        3    0.000    0.000    0.000    0.000 managers.py:1695(<genexpr>)\n",
      "        5    0.000    0.000    0.000    0.000 managers.py:1588(_block)\n",
      "        7    0.000    0.000    0.000    0.000 typing.py:1822(new_type)\n",
      "        4    0.000    0.000    0.000    0.000 multiarray.py:143(concatenate)\n",
      "        4    0.000    0.000    0.000    0.000 landscape_class.py:235(seed)\n",
      "        6    0.000    0.000    0.000    0.000 {pandas._libs.algos.ensure_object}\n",
      "        4    0.000    0.000    0.000    0.000 {method '__exit__' of '_multiprocessing.SemLock' objects}\n",
      "        4    0.000    0.000    0.000    0.000 connection.py:142(_check_writable)\n",
      "        2    0.000    0.000    0.000    0.000 cast.py:1558(<genexpr>)\n",
      "        6    0.000    0.000    0.000    0.000 multiarray.py:311(where)\n",
      "        5    0.000    0.000    0.000    0.000 base.py:1232(name)\n",
      "        2    0.000    0.000    0.000    0.000 utils.py:223(_screen_shape_wrapper)\n",
      "        1    0.000    0.000    0.000    0.000 {pandas._libs.internals.get_blkno_placements}\n",
      "        8    0.000    0.000    0.000    0.000 {pandas._libs.lib.is_iterator}\n",
      "        1    0.000    0.000    0.000    0.000 parsers.py:2131(<dictcomp>)\n",
      "        3    0.000    0.000    0.000    0.000 cast.py:1547(<genexpr>)\n",
      "        5    0.000    0.000    0.000    0.000 blocks.py:233(internal_values)\n",
      "        1    0.000    0.000    0.000    0.000 context.py:233(get_context)\n",
      "        1    0.000    0.000    0.000    0.000 parsers.py:3966(_validate_skipfooter)\n",
      "        1    0.000    0.000    0.000    0.000 managers.py:1903(<listcomp>)\n",
      "        1    0.000    0.000    0.000    0.000 {built-in method builtins.vars}\n",
      "        1    0.000    0.000    0.000    0.000 generic.py:452(<dictcomp>)\n",
      "        2    0.000    0.000    0.000    0.000 managers.py:227(is_single_block)\n",
      "        1    0.000    0.000    0.000    0.000 {built-in method fromkeys}\n",
      "        1    0.000    0.000    0.000    0.000 common.py:1304(<lambda>)\n",
      "        1    0.000    0.000    0.000    0.000 landscape_class.py:463(<dictcomp>)\n",
      "        3    0.000    0.000    0.000    0.000 blocks.py:343(shape)\n",
      "        1    0.000    0.000    0.000    0.000 {built-in method sys.getfilesystemencoding}\n",
      "        4    0.000    0.000    0.000    0.000 function_base.py:276(_average_dispatcher)\n",
      "        3    0.000    0.000    0.000    0.000 parsers.py:1088(_is_index_col)\n",
      "        3    0.000    0.000    0.000    0.000 {method 'upper' of 'str' objects}\n",
      "        1    0.000    0.000    0.000    0.000 parsers.py:3870(_extract_dialect)\n",
      "        5    0.000    0.000    0.000    0.000 {pandas._libs.lib.is_float}\n",
      "        3    0.000    0.000    0.000    0.000 {method 'keys' of 'dict' objects}\n",
      "        1    0.000    0.000    0.000    0.000 parsers.py:1402(<setcomp>)\n",
      "        3    0.000    0.000    0.000    0.000 {method 'extend' of 'list' objects}\n",
      "        1    0.000    0.000    0.000    0.000 numerictypes.py:621(<listcomp>)\n",
      "        4    0.000    0.000    0.000    0.000 generic.py:247(flags)\n",
      "        3    0.000    0.000    0.000    0.000 {pandas._libs.algos.ensure_platform_int}\n",
      "        2    0.000    0.000    0.000    0.000 generic.py:226(attrs)\n",
      "        1    0.000    0.000    0.000    0.000 base.py:5920(ensure_has_len)\n",
      "        1    0.000    0.000    0.000    0.000 common.py:317(apply_if_callable)\n",
      "        2    0.000    0.000    0.000    0.000 function.py:45(__call__)\n",
      "        2    0.000    0.000    0.000    0.000 base.py:381(<genexpr>)\n",
      "        2    0.000    0.000    0.000    0.000 {built-in method pandas._libs.missing.checknull}\n",
      "        3    0.000    0.000    0.000    0.000 {built-in method posix.fspath}\n",
      "        3    0.000    0.000    0.000    0.000 {pandas._libs.lib.is_bool}\n",
      "        3    0.000    0.000    0.000    0.000 arraysetops.py:144(_unique_dispatcher)\n",
      "        1    0.000    0.000    0.000    0.000 parsers.py:2129(<listcomp>)\n",
      "        2    0.000    0.000    0.000    0.000 managers.py:1847(<lambda>)\n",
      "        1    0.000    0.000    0.000    0.000 {method 'transpose' of 'numpy.ndarray' objects}\n",
      "        4    0.000    0.000    0.000    0.000 blocks.py:147(_maybe_coerce_values)\n",
      "        2    0.000    0.000    0.000    0.000 blocks.py:261(fill_value)\n",
      "        1    0.000    0.000    0.000    0.000 {method 'find' of 'str' objects}\n",
      "        1    0.000    0.000    0.000    0.000 parsers.py:1194(_validate_usecols_arg)\n",
      "        2    0.000    0.000    0.000    0.000 parse.py:99(_noop)\n",
      "        2    0.000    0.000    0.000    0.000 {method 'values' of 'dict' objects}\n",
      "        1    0.000    0.000    0.000    0.000 {pandas._libs.lib.item_from_zerodim}\n",
      "        2    0.000    0.000    0.000    0.000 common.py:174(<genexpr>)\n",
      "        3    0.000    0.000    0.000    0.000 {method 'locked' of '_thread.lock' objects}\n",
      "        3    0.000    0.000    0.000    0.000 {pandas._libs.lib.is_integer}\n",
      "        1    0.000    0.000    0.000    0.000 pool.py:348(_check_running)\n",
      "        2    0.000    0.000    0.000    0.000 {built-in method builtins.callable}\n",
      "        1    0.000    0.000    0.000    0.000 frame.py:482(_constructor)\n",
      "        1    0.000    0.000    0.000    0.000 parsers.py:418(_validate_names)\n",
      "        2    0.000    0.000    0.000    0.000 misc.py:182(_datacopied)\n",
      "        2    0.000    0.000    0.000    0.000 multiarray.py:468(can_cast)\n",
      "        1    0.000    0.000    0.000    0.000 {method 'disable' of '_lsprof.Profiler' objects}\n",
      "        1    0.000    0.000    0.000    0.000 parse.py:399(_checknetloc)\n",
      "        1    0.000    0.000    0.000    0.000 nanops.py:172(_get_fill_value)\n",
      "        2    0.000    0.000    0.000    0.000 flags.py:51(allows_duplicate_labels)\n",
      "        1    0.000    0.000    0.000    0.000 multiarray.py:75(empty_like)\n",
      "        1    0.000    0.000    0.000    0.000 {method 'reverse' of 'list' objects}\n",
      "        1    0.000    0.000    0.000    0.000 numeric.py:78(_validate_dtype)\n",
      "        1    0.000    0.000    0.000    0.000 base.py:397(ndim)\n",
      "        1    0.000    0.000    0.000    0.000 multiarray.py:1043(copyto)\n",
      "        1    0.000    0.000    0.000    0.000 base.py:756(_maybe_disallow_fill)\n",
      "        1    0.000    0.000    0.000    0.000 base.py:1446(nlevels)\n",
      "        1    0.000    0.000    0.000    0.000 parsers.py:1081(__enter__)\n",
      "        1    0.000    0.000    0.000    0.000 managers.py:173(blklocs)\n",
      "        1    0.000    0.000    0.000    0.000 base.py:3432(_convert_list_indexer)\n",
      "        1    0.000    0.000    0.000    0.000 {built-in method builtins.iter}\n",
      "        1    0.000    0.000    0.000    0.000 multiarray.py:706(dot)\n",
      "        1    0.000    0.000    0.000    0.000 managers.py:253(items)\n",
      "        1    0.000    0.000    0.000    0.000 fromnumeric.py:1701(_ravel_dispatcher)\n",
      "        1    0.000    0.000    0.000    0.000 typing.py:1149(cast)\n",
      "        1    0.000    0.000    0.000    0.000 managers.py:1634(is_consolidated)\n",
      "        1    0.000    0.000    0.000    0.000 multiarray.py:1340(may_share_memory)\n",
      "        1    0.000    0.000    0.000    0.000 series.py:393(_constructor)\n",
      "        1    0.000    0.000    0.000    0.000 base.py:581(<lambda>)\n",
      "        1    0.000    0.000    0.000    0.000 numerictypes.py:622(<listcomp>)\n",
      "        1    0.000    0.000    0.000    0.000 std.py:1281(<lambda>)\n",
      "\n",
      "\n"
     ]
    }
   ],
   "source": [
    "cProfile.run(\"big = Protein_Landscape(csv_path=Datasets+'NK/K0/V0.csv',gen_graph=True)\",sort=\"cumtime\")\n"
   ]
  },
  {
   "cell_type": "code",
   "execution_count": 4,
   "metadata": {},
   "outputs": [
    {
     "name": "stdout",
     "output_type": "stream",
     "text": [
      "         7000045 function calls in 1.115 seconds\n",
      "\n",
      "   Ordered by: cumulative time\n",
      "\n",
      "   ncalls  tottime  percall  cumtime  percall filename:lineno(function)\n",
      "        2    0.000    0.000    1.115    0.557 /home/adam/anaconda3/envs/Protein_Evolution/lib/python3.8/site-packages/IPython/core/interactiveshell.py:3376(run_code)\n",
      "        2    0.000    0.000    1.115    0.557 {built-in method builtins.exec}\n",
      "        1    0.196    0.196    1.115    1.115 <ipython-input-4-d1b3243de7fa>:6(<module>)\n",
      "  1000000    0.568    0.000    0.919    0.000 /home/adam/PhD/Protein_Evolution/Protein_Landscape/Protein_Landscape/landscape_class.py:282(query)\n",
      "  5000000    0.293    0.000    0.293    0.000 {built-in method builtins.isinstance}\n",
      "  1000000    0.057    0.000    0.057    0.000 {method 'get' of 'dict' objects}\n",
      "        2    0.000    0.000    0.000    0.000 /home/adam/anaconda3/envs/Protein_Evolution/lib/python3.8/codeop.py:140(__call__)\n",
      "        2    0.000    0.000    0.000    0.000 {built-in method builtins.compile}\n",
      "        2    0.000    0.000    0.000    0.000 /home/adam/anaconda3/envs/Protein_Evolution/lib/python3.8/contextlib.py:238(helper)\n",
      "        2    0.000    0.000    0.000    0.000 /home/adam/anaconda3/envs/Protein_Evolution/lib/python3.8/contextlib.py:82(__init__)\n",
      "        2    0.000    0.000    0.000    0.000 /home/adam/anaconda3/envs/Protein_Evolution/lib/python3.8/contextlib.py:108(__enter__)\n",
      "        4    0.000    0.000    0.000    0.000 {built-in method builtins.next}\n",
      "        2    0.000    0.000    0.000    0.000 /home/adam/anaconda3/envs/Protein_Evolution/lib/python3.8/contextlib.py:117(__exit__)\n",
      "        4    0.000    0.000    0.000    0.000 /home/adam/anaconda3/envs/Protein_Evolution/lib/python3.8/site-packages/IPython/core/compilerop.py:138(extra_flags)\n",
      "        2    0.000    0.000    0.000    0.000 /home/adam/anaconda3/envs/Protein_Evolution/lib/python3.8/site-packages/IPython/core/hooks.py:103(__call__)\n",
      "        1    0.000    0.000    0.000    0.000 <ipython-input-4-d1b3243de7fa>:8(<module>)\n",
      "        2    0.000    0.000    0.000    0.000 /home/adam/anaconda3/envs/Protein_Evolution/lib/python3.8/site-packages/traitlets/traitlets.py:564(__get__)\n",
      "        2    0.000    0.000    0.000    0.000 /home/adam/anaconda3/envs/Protein_Evolution/lib/python3.8/site-packages/IPython/core/interactiveshell.py:1276(user_global_ns)\n",
      "        4    0.000    0.000    0.000    0.000 {built-in method builtins.getattr}\n",
      "        2    0.000    0.000    0.000    0.000 /home/adam/anaconda3/envs/Protein_Evolution/lib/python3.8/site-packages/IPython/core/interactiveshell.py:3314(compare)\n",
      "        2    0.000    0.000    0.000    0.000 /home/adam/anaconda3/envs/Protein_Evolution/lib/python3.8/site-packages/IPython/utils/ipstruct.py:125(__getattr__)\n",
      "        2    0.000    0.000    0.000    0.000 /home/adam/anaconda3/envs/Protein_Evolution/lib/python3.8/site-packages/traitlets/traitlets.py:533(get)\n",
      "        2    0.000    0.000    0.000    0.000 /home/adam/anaconda3/envs/Protein_Evolution/lib/python3.8/site-packages/IPython/core/hooks.py:168(pre_run_code_hook)\n",
      "        1    0.000    0.000    0.000    0.000 {method 'disable' of '_lsprof.Profiler' objects}\n",
      "\n",
      "\n",
      "\n"
     ]
    }
   ],
   "source": [
    "import cProfile, pstats, io\n",
    "from pstats import SortKey\n",
    "\n",
    "pr = cProfile.Profile()\n",
    "pr.enable()\n",
    "for i in range(1000000):\n",
    "    test.query(\"AAA\")\n",
    "pr.disable()\n",
    "s = io.StringIO()\n",
    "sortby = SortKey.CUMULATIVE\n",
    "ps = pstats.Stats(pr, stream=s).sort_stats(sortby)\n",
    "ps.print_stats()\n",
    "print(s.getvalue())\n"
   ]
  },
  {
   "cell_type": "code",
   "execution_count": 4,
   "metadata": {},
   "outputs": [],
   "source": [
    "#cProfile.run(\"big.build_graph()\",sort=cumtime)"
   ]
  },
  {
   "cell_type": "code",
   "execution_count": 3,
   "metadata": {},
   "outputs": [
    {
     "name": "stdout",
     "output_type": "stream",
     "text": [
      "Building Protein Graph for entire dataset\n"
     ]
    },
    {
     "name": "stderr",
     "output_type": "stream",
     "text": [
      "100%|██████████| 100000/100000 [00:08<00:00, 11932.99it/s]\n",
      "  8%|▊         | 8132/100000 [00:00<00:01, 81313.29it/s]"
     ]
    },
    {
     "name": "stdout",
     "output_type": "stream",
     "text": [
      "Calculating the number of extrema\n"
     ]
    },
    {
     "name": "stderr",
     "output_type": "stream",
     "text": [
      "100%|██████████| 100000/100000 [00:01<00:00, 81201.75it/s]"
     ]
    },
    {
     "name": "stdout",
     "output_type": "stream",
     "text": [
      "\n",
      "        Protein Landscape class\n",
      "            Number of Sequences : 100000\n",
      "            Max Distance        : 5\n",
      "            Number of Distances : 5\n",
      "            Seed Sequence       : \u001b[32mA\u001b[0m\u001b[32mA\u001b[0m\u001b[32mA\u001b[0m\u001b[32mA\u001b[0m\u001b[32mA\u001b[0m\n",
      "                Modified positions are shown in green\n",
      "            Number of minima : 1\n",
      "            Number of maxima : 1\n",
      "            Normalized Extrema Ruggedness : 2e-05\n",
      "            R/S Ruggedness : 30.205840273418694\n",
      "        \n"
     ]
    },
    {
     "name": "stderr",
     "output_type": "stream",
     "text": [
      "\n"
     ]
    }
   ],
   "source": [
    "big = Protein_Landscape(csv_path=Datasets+\"NK/K0/V0.csv\",gen_graph=True)"
   ]
  },
  {
   "cell_type": "code",
   "execution_count": null,
   "metadata": {},
   "outputs": [],
   "source": []
  },
  {
   "cell_type": "code",
   "execution_count": 10,
   "metadata": {},
   "outputs": [
    {
     "name": "stdout",
     "output_type": "stream",
     "text": [
      "Building Protein Graph for entire dataset\n"
     ]
    },
    {
     "name": "stderr",
     "output_type": "stream",
     "text": [
      "100%|██████████| 100000/100000 [00:08<00:00, 12419.41it/s]\n",
      " 17%|█▋        | 17194/100000 [00:00<00:00, 86003.05it/s]"
     ]
    },
    {
     "name": "stdout",
     "output_type": "stream",
     "text": [
      "Calculating the number of extrema\n"
     ]
    },
    {
     "name": "stderr",
     "output_type": "stream",
     "text": [
      "100%|██████████| 100000/100000 [00:01<00:00, 84858.94it/s]\n"
     ]
    },
    {
     "name": "stdout",
     "output_type": "stream",
     "text": [
      "\n",
      "        Protein Landscape class\n",
      "            Number of Sequences : 100000\n",
      "            Max Distance        : 5\n",
      "            Number of Distances : 5\n",
      "            Seed Sequence       : \u001b[32mA\u001b[0m\u001b[32mA\u001b[0m\u001b[32mA\u001b[0m\u001b[32mA\u001b[0m\u001b[32mA\u001b[0m\n",
      "                Modified positions are shown in green\n",
      "            Number of minima : 1\n",
      "            Number of maxima : 1\n",
      "            Normalized Extrema Ruggedness : 2e-05\n",
      "            R/S Ruggedness : 30.205840273418644\n",
      "        \n",
      "Building Protein Graph for entire dataset\n"
     ]
    },
    {
     "name": "stderr",
     "output_type": "stream",
     "text": [
      "100%|██████████| 100000/100000 [00:07<00:00, 12725.44it/s]\n",
      "  8%|▊         | 8167/100000 [00:00<00:01, 81661.32it/s]"
     ]
    },
    {
     "name": "stdout",
     "output_type": "stream",
     "text": [
      "Calculating the number of extrema\n"
     ]
    },
    {
     "name": "stderr",
     "output_type": "stream",
     "text": [
      "100%|██████████| 100000/100000 [00:01<00:00, 85234.18it/s]\n"
     ]
    },
    {
     "name": "stdout",
     "output_type": "stream",
     "text": [
      "\n",
      "        Protein Landscape class\n",
      "            Number of Sequences : 100000\n",
      "            Max Distance        : 5\n",
      "            Number of Distances : 5\n",
      "            Seed Sequence       : \u001b[32mA\u001b[0m\u001b[32mA\u001b[0m\u001b[32mA\u001b[0m\u001b[32mA\u001b[0m\u001b[32mA\u001b[0m\n",
      "                Modified positions are shown in green\n",
      "            Number of minima : 43\n",
      "            Number of maxima : 42\n",
      "            Normalized Extrema Ruggedness : 0.00085\n",
      "            R/S Ruggedness : 78.85618586843405\n",
      "        \n",
      "Building Protein Graph for entire dataset\n"
     ]
    },
    {
     "name": "stderr",
     "output_type": "stream",
     "text": [
      "100%|██████████| 100000/100000 [00:07<00:00, 12978.29it/s]\n",
      "  8%|▊         | 8309/100000 [00:00<00:01, 83087.11it/s]"
     ]
    },
    {
     "name": "stdout",
     "output_type": "stream",
     "text": [
      "Calculating the number of extrema\n"
     ]
    },
    {
     "name": "stderr",
     "output_type": "stream",
     "text": [
      "100%|██████████| 100000/100000 [00:01<00:00, 83945.31it/s]\n"
     ]
    },
    {
     "name": "stdout",
     "output_type": "stream",
     "text": [
      "\n",
      "        Protein Landscape class\n",
      "            Number of Sequences : 100000\n",
      "            Max Distance        : 5\n",
      "            Number of Distances : 5\n",
      "            Seed Sequence       : \u001b[32mA\u001b[0m\u001b[32mA\u001b[0m\u001b[32mA\u001b[0m\u001b[32mA\u001b[0m\u001b[32mA\u001b[0m\n",
      "                Modified positions are shown in green\n",
      "            Number of minima : 148\n",
      "            Number of maxima : 155\n",
      "            Normalized Extrema Ruggedness : 0.00303\n",
      "            R/S Ruggedness : 173.1382360441364\n",
      "        \n",
      "Building Protein Graph for entire dataset\n"
     ]
    },
    {
     "name": "stderr",
     "output_type": "stream",
     "text": [
      "100%|██████████| 100000/100000 [00:08<00:00, 12241.75it/s]\n",
      " 17%|█▋        | 17148/100000 [00:00<00:00, 85986.95it/s]"
     ]
    },
    {
     "name": "stdout",
     "output_type": "stream",
     "text": [
      "Calculating the number of extrema\n"
     ]
    },
    {
     "name": "stderr",
     "output_type": "stream",
     "text": [
      "100%|██████████| 100000/100000 [00:01<00:00, 86180.32it/s]\n"
     ]
    },
    {
     "name": "stdout",
     "output_type": "stream",
     "text": [
      "\n",
      "        Protein Landscape class\n",
      "            Number of Sequences : 100000\n",
      "            Max Distance        : 5\n",
      "            Number of Distances : 5\n",
      "            Seed Sequence       : \u001b[32mA\u001b[0m\u001b[32mA\u001b[0m\u001b[32mA\u001b[0m\u001b[32mA\u001b[0m\u001b[32mA\u001b[0m\n",
      "                Modified positions are shown in green\n",
      "            Number of minima : 849\n",
      "            Number of maxima : 842\n",
      "            Normalized Extrema Ruggedness : 0.01691\n",
      "            R/S Ruggedness : 346.1527107250392\n",
      "        \n",
      "Building Protein Graph for entire dataset\n"
     ]
    },
    {
     "name": "stderr",
     "output_type": "stream",
     "text": [
      "100%|██████████| 100000/100000 [00:07<00:00, 12874.68it/s]\n",
      "  8%|▊         | 8197/100000 [00:00<00:01, 81963.04it/s]"
     ]
    },
    {
     "name": "stdout",
     "output_type": "stream",
     "text": [
      "Calculating the number of extrema\n"
     ]
    },
    {
     "name": "stderr",
     "output_type": "stream",
     "text": [
      "100%|██████████| 100000/100000 [00:01<00:00, 82981.68it/s]\n"
     ]
    },
    {
     "name": "stdout",
     "output_type": "stream",
     "text": [
      "\n",
      "        Protein Landscape class\n",
      "            Number of Sequences : 100000\n",
      "            Max Distance        : 5\n",
      "            Number of Distances : 5\n",
      "            Seed Sequence       : \u001b[32mA\u001b[0m\u001b[32mA\u001b[0m\u001b[32mA\u001b[0m\u001b[32mA\u001b[0m\u001b[32mA\u001b[0m\n",
      "                Modified positions are shown in green\n",
      "            Number of minima : 2171\n",
      "            Number of maxima : 2167\n",
      "            Normalized Extrema Ruggedness : 0.04338\n",
      "            R/S Ruggedness : 2602.540952232628\n",
      "        \n"
     ]
    }
   ],
   "source": [
    "k0 = Protein_Landscape(csv_path=Datasets+\"NK/K0/V0.csv\",gen_graph=True)\n",
    "k1 = Protein_Landscape(csv_path=Datasets+\"NK/K1/V0.csv\",gen_graph=True)\n",
    "k2 = Protein_Landscape(csv_path=Datasets+\"NK/K2/V0.csv\",gen_graph=True)\n",
    "k3 = Protein_Landscape(csv_path=Datasets+\"NK/K3/V0.csv\",gen_graph=True)\n",
    "k4 = Protein_Landscape(csv_path=Datasets+\"NK/K4/V0.csv\",gen_graph=True)"
   ]
  },
  {
   "cell_type": "code",
   "execution_count": 12,
   "metadata": {},
   "outputs": [],
   "source": [
    "graphs = [k0,k1,k2,k3,k4]\n",
    "rugs = [[],[],[],[],[]]\n",
    "\n",
    "for i,graph in enumerate(graphs):\n",
    "    for key in graph.graph.keys():\n",
    "        rugs[i].append(np.var(graph.fitnesses[graph.graph[key][\"neighbours\"]]))\n",
    "        \n"
   ]
  },
  {
   "cell_type": "code",
   "execution_count": 11,
   "metadata": {},
   "outputs": [],
   "source": [
    "random = []\n",
    "noise = np.random.uniform(0,1,size=(100000,))\n",
    "for key in graph.graph.keys():\n",
    "    random.append(np.var(noise[graph.graph[key][\"neighbours\"]]))"
   ]
  },
  {
   "cell_type": "code",
   "execution_count": 39,
   "metadata": {},
   "outputs": [
    {
     "data": {
      "image/png": "[encoded data removed]",
      "text/plain": [
       "<Figure size 1152x432 with 1 Axes>"
      ]
     },
     "metadata": {
      "needs_background": "light"
     },
     "output_type": "display_data"
    }
   ],
   "source": [
    "import matplotlib.pyplot as plt\n",
    "\n",
    "fig = plt.figure(figsize=(16,6))\n",
    "\n",
    "for rug in rugs:\n",
    "    plt.hist(rug,bins=200,alpha=0.2)\n",
    "#plt.hist(random,bins=200)\n",
    "plt.hist(gb12_rug,bins=1000,alpha=0.2)\n",
    "plt.show()"
   ]
  },
  {
   "cell_type": "code",
   "execution_count": 5,
   "metadata": {},
   "outputs": [
    {
     "name": "stdout",
     "output_type": "stream",
     "text": [
      "Building Protein Graph for entire dataset\n"
     ]
    },
    {
     "name": "stderr",
     "output_type": "stream",
     "text": [
      "100%|██████████| 536962/536962 [04:17<00:00, 2084.81it/s]\n",
      "  3%|▎         | 13997/536962 [00:00<00:07, 72607.50it/s]"
     ]
    },
    {
     "name": "stdout",
     "output_type": "stream",
     "text": [
      "Calculating the number of extrema\n"
     ]
    },
    {
     "name": "stderr",
     "output_type": "stream",
     "text": [
      "100%|██████████| 536962/536962 [00:06<00:00, 86612.56it/s]\n"
     ]
    },
    {
     "name": "stdout",
     "output_type": "stream",
     "text": [
      "\n",
      "        Protein Landscape class\n",
      "            Number of Sequences : 536962\n",
      "            Max Distance        : 3\n",
      "            Number of Distances : 3\n",
      "            Seed Sequence       : M\u001b[32mA\u001b[0m\u001b[32mY\u001b[0m\u001b[32mK\u001b[0m\u001b[32mL\u001b[0m\u001b[32mI\u001b[0m\u001b[32mL\u001b[0m\u001b[32mN\u001b[0m\u001b[32mG\u001b[0m\u001b[32mK\u001b[0m\u001b[32mT\u001b[0m\u001b[32mL\u001b[0m\u001b[32mK\u001b[0m\u001b[32mG\u001b[0m\u001b[32mE\u001b[0m\u001b[32mT\u001b[0m\u001b[32mT\u001b[0m\u001b[32mT\u001b[0m\u001b[32mE\u001b[0m\u001b[32mA\u001b[0m\u001b[32mV\u001b[0m\u001b[32mD\u001b[0m\u001b[32mA\u001b[0m\u001b[32mA\u001b[0m\u001b[32mT\u001b[0m\u001b[32mA\u001b[0m\u001b[32mE\u001b[0m\u001b[32mK\u001b[0m\u001b[32mV\u001b[0m\u001b[32mF\u001b[0m\u001b[32mK\u001b[0m\u001b[32mQ\u001b[0m\u001b[32mY\u001b[0m\u001b[32mA\u001b[0m\u001b[32mN\u001b[0m\u001b[32mD\u001b[0m\u001b[32mN\u001b[0m\u001b[32mG\u001b[0m\u001b[32mV\u001b[0m\u001b[32mD\u001b[0m\u001b[32mG\u001b[0m\u001b[32mE\u001b[0m\u001b[32mW\u001b[0m\u001b[32mT\u001b[0m\u001b[32mY\u001b[0m\u001b[32mD\u001b[0m\u001b[32mD\u001b[0m\u001b[32mA\u001b[0m\u001b[32mT\u001b[0m\u001b[32mK\u001b[0m\u001b[32mT\u001b[0m\u001b[32mF\u001b[0m\u001b[32mT\u001b[0m\u001b[32mV\u001b[0m\u001b[32mT\u001b[0m\u001b[32mE\u001b[0m\n",
      "                Modified positions are shown in green\n",
      "            Number of minima : 1177\n",
      "            Number of maxima : 1490\n",
      "            Normalized Extrema Ruggedness : 0.004966831917342381\n",
      "            R/S Ruggedness : 1.9277890715796737e-09\n",
      "        \n"
     ]
    }
   ],
   "source": [
    "#gb4 = Protein_Landscape(csv_path=\"~/PhD/Protein_Evolution/Datasets/GProtein/G_protein_4_mut_cleaned.csv\",gen_graph=True)\n",
    "gb12 = Protein_Landscape(csv_path=\"~/PhD/Protein_Evolution/Datasets/GProtein/Full_GProtein.csv\",gen_graph=True)"
   ]
  },
  {
   "cell_type": "code",
   "execution_count": 31,
   "metadata": {},
   "outputs": [
    {
     "name": "stdout",
     "output_type": "stream",
     "text": [
      "Building Protein Graph for entire dataset\n"
     ]
    },
    {
     "name": "stderr",
     "output_type": "stream",
     "text": [
      "100%|██████████| 5230/5230 [00:42<00:00, 122.25it/s]\n",
      "100%|██████████| 5230/5230 [00:00<00:00, 52772.63it/s]"
     ]
    },
    {
     "name": "stdout",
     "output_type": "stream",
     "text": [
      "Calculating the number of extrema\n",
      "\n",
      "        Protein Landscape class\n",
      "            Number of Sequences : 5230\n",
      "            Max Distance        : 2\n",
      "            Number of Distances : 2\n",
      "            Seed Sequence       : \u001b[32mA\u001b[0m\u001b[32mF\u001b[0m\u001b[32mK\u001b[0m\u001b[32mL\u001b[0m\u001b[32mL\u001b[0m\u001b[32mS\u001b[0m\u001b[32mK\u001b[0m\u001b[32mL\u001b[0m\u001b[32mL\u001b[0m\u001b[32mV\u001b[0m\u001b[32mY\u001b[0m\u001b[32mL\u001b[0m\u001b[32mT\u001b[0m\u001b[32mA\u001b[0m\u001b[32mS\u001b[0m\u001b[32mI\u001b[0m\u001b[32mM\u001b[0m\u001b[32mA\u001b[0m\u001b[32mI\u001b[0m\u001b[32mA\u001b[0m\u001b[32mS\u001b[0m\u001b[32mP\u001b[0m\u001b[32mL\u001b[0m\u001b[32mA\u001b[0m\u001b[32mF\u001b[0m\u001b[32mS\u001b[0m\u001b[32mV\u001b[0m\u001b[32mD\u001b[0m\u001b[32mS\u001b[0m\u001b[32mS\u001b[0m\u001b[32mG\u001b[0m\u001b[32mE\u001b[0m\u001b[32mY\u001b[0m\u001b[32mP\u001b[0m\u001b[32mT\u001b[0m\u001b[32mV\u001b[0m\u001b[32mS\u001b[0m\u001b[32mE\u001b[0m\u001b[32mI\u001b[0m\u001b[32mP\u001b[0m\u001b[32mV\u001b[0m\u001b[32mG\u001b[0m\u001b[32mE\u001b[0m\u001b[32mV\u001b[0m\u001b[32mR\u001b[0m\u001b[32mL\u001b[0m\u001b[32mY\u001b[0m\u001b[32mQ\u001b[0m\u001b[32mI\u001b[0m\u001b[32mA\u001b[0m\u001b[32mD\u001b[0m\u001b[32mG\u001b[0m\u001b[32mV\u001b[0m\u001b[32mW\u001b[0m\u001b[32mS\u001b[0m\u001b[32mH\u001b[0m\u001b[32mI\u001b[0m\u001b[32mA\u001b[0m\u001b[32mT\u001b[0m\u001b[32mQ\u001b[0m\u001b[32mS\u001b[0m\u001b[32mF\u001b[0m\u001b[32mD\u001b[0m\u001b[32mG\u001b[0m\u001b[32mA\u001b[0m\u001b[32mV\u001b[0m\u001b[32mY\u001b[0m\u001b[32mP\u001b[0m\u001b[32mS\u001b[0m\u001b[32mN\u001b[0m\u001b[32mG\u001b[0m\u001b[32mL\u001b[0m\u001b[32mI\u001b[0m\u001b[32mV\u001b[0m\u001b[32mR\u001b[0m\u001b[32mD\u001b[0m\u001b[32mG\u001b[0m\u001b[32mD\u001b[0m\u001b[32mE\u001b[0m\u001b[32mL\u001b[0m\u001b[32mL\u001b[0m\u001b[32mL\u001b[0m\u001b[32mI\u001b[0m\u001b[32mD\u001b[0m\u001b[32mT\u001b[0m\u001b[32mA\u001b[0m\u001b[32mW\u001b[0m\u001b[32mG\u001b[0m\u001b[32mA\u001b[0m\u001b[32mK\u001b[0m\u001b[32mN\u001b[0m\u001b[32mT\u001b[0m\u001b[32mA\u001b[0m\u001b[32mA\u001b[0m\u001b[32mL\u001b[0m\u001b[32mL\u001b[0m\u001b[32mA\u001b[0m\u001b[32mE\u001b[0m\u001b[32mI\u001b[0m\u001b[32mE\u001b[0m\u001b[32mK\u001b[0m\u001b[32mQ\u001b[0m\u001b[32mI\u001b[0m\u001b[32mG\u001b[0m\u001b[32mL\u001b[0m\u001b[32mP\u001b[0m\u001b[32mV\u001b[0m\u001b[32mT\u001b[0m\u001b[32mR\u001b[0m\u001b[32mA\u001b[0m\u001b[32mV\u001b[0m\u001b[32mS\u001b[0m\u001b[32mT\u001b[0m\u001b[32mH\u001b[0m\u001b[32mF\u001b[0m\u001b[32mH\u001b[0m\u001b[32mD\u001b[0m\u001b[32mD\u001b[0m\u001b[32mR\u001b[0m\u001b[32mV\u001b[0m\u001b[32mG\u001b[0m\u001b[32mG\u001b[0m\u001b[32mV\u001b[0m\u001b[32mD\u001b[0m\u001b[32mV\u001b[0m\u001b[32mL\u001b[0m\u001b[32mR\u001b[0m\u001b[32mA\u001b[0m\u001b[32mA\u001b[0m\u001b[32mG\u001b[0m\u001b[32mV\u001b[0m\u001b[32mA\u001b[0m\u001b[32mT\u001b[0m\u001b[32mY\u001b[0m\u001b[32mA\u001b[0m\u001b[32mS\u001b[0m\u001b[32mP\u001b[0m\u001b[32mS\u001b[0m\u001b[32mT\u001b[0m\u001b[32mR\u001b[0m\u001b[32mR\u001b[0m\u001b[32mL\u001b[0m\u001b[32mA\u001b[0m\u001b[32mE\u001b[0m\u001b[32mV\u001b[0m\u001b[32mE\u001b[0m\u001b[32mG\u001b[0m\u001b[32mN\u001b[0m\u001b[32mE\u001b[0m\u001b[32mI\u001b[0m\u001b[32mP\u001b[0m\u001b[32mT\u001b[0m\u001b[32mH\u001b[0m\u001b[32mS\u001b[0m\u001b[32mL\u001b[0m\u001b[32mE\u001b[0m\u001b[32mG\u001b[0m\u001b[32mL\u001b[0m\u001b[32mS\u001b[0m\u001b[32mS\u001b[0m\u001b[32mS\u001b[0m\u001b[32mG\u001b[0m\u001b[32mD\u001b[0m\u001b[32mA\u001b[0m\u001b[32mV\u001b[0m\u001b[32mR\u001b[0m\u001b[32mF\u001b[0m\u001b[32mG\u001b[0m\u001b[32mP\u001b[0m\u001b[32mV\u001b[0m\u001b[32mE\u001b[0m\u001b[32mL\u001b[0m\u001b[32mF\u001b[0m\u001b[32mY\u001b[0m\u001b[32mP\u001b[0m\u001b[32mG\u001b[0m\u001b[32mA\u001b[0m\u001b[32mA\u001b[0m\u001b[32mH\u001b[0m\u001b[32mS\u001b[0m\u001b[32mT\u001b[0m\u001b[32mD\u001b[0m\u001b[32mN\u001b[0m\u001b[32mL\u001b[0m\u001b[32mI\u001b[0m\u001b[32mV\u001b[0m\u001b[32mY\u001b[0m\u001b[32mV\u001b[0m\u001b[32mP\u001b[0m\u001b[32mS\u001b[0m\u001b[32mA\u001b[0m\u001b[32mS\u001b[0m\u001b[32mV\u001b[0m\u001b[32mL\u001b[0m\u001b[32mY\u001b[0m\u001b[32mG\u001b[0m\u001b[32mG\u001b[0m\u001b[32mC\u001b[0m\u001b[32mA\u001b[0m\u001b[32mI\u001b[0m\u001b[32mY\u001b[0m\u001b[32mE\u001b[0m\u001b[32mL\u001b[0m\u001b[32mS\u001b[0m\u001b[32mR\u001b[0m\u001b[32mT\u001b[0m\u001b[32mS\u001b[0m\u001b[32mA\u001b[0m\u001b[32mG\u001b[0m\u001b[32mN\u001b[0m\u001b[32mV\u001b[0m\u001b[32mA\u001b[0m\u001b[32mD\u001b[0m\u001b[32mA\u001b[0m\u001b[32mD\u001b[0m\u001b[32mL\u001b[0m\u001b[32mA\u001b[0m\u001b[32mE\u001b[0m\u001b[32mW\u001b[0m\u001b[32mP\u001b[0m\u001b[32mT\u001b[0m\u001b[32mS\u001b[0m\u001b[32mI\u001b[0m\u001b[32mE\u001b[0m\u001b[32mR\u001b[0m\u001b[32mI\u001b[0m\u001b[32mQ\u001b[0m\u001b[32mQ\u001b[0m\u001b[32mH\u001b[0m\u001b[32mY\u001b[0m\u001b[32mP\u001b[0m\u001b[32mE\u001b[0m\u001b[32mA\u001b[0m\u001b[32mQ\u001b[0m\u001b[32mF\u001b[0m\u001b[32mV\u001b[0m\u001b[32mI\u001b[0m\u001b[32mP\u001b[0m\u001b[32mG\u001b[0m\u001b[32mH\u001b[0m\u001b[32mG\u001b[0m\u001b[32mL\u001b[0m\u001b[32mP\u001b[0m\u001b[32mG\u001b[0m\u001b[32mG\u001b[0m\u001b[32mL\u001b[0m\u001b[32mD\u001b[0m\u001b[32mL\u001b[0m\u001b[32mL\u001b[0m\u001b[32mK\u001b[0m\u001b[32mH\u001b[0m\u001b[32mT\u001b[0m\u001b[32mT\u001b[0m\u001b[32mN\u001b[0m\u001b[32mV\u001b[0m\u001b[32mV\u001b[0m\u001b[32mK\u001b[0m\u001b[32mA\u001b[0m\u001b[32mH\u001b[0m\u001b[32mT\u001b[0m\u001b[32mN\u001b[0m\u001b[32mR\u001b[0m\u001b[32mS\u001b[0m\u001b[32mV\u001b[0m\u001b[32mV\u001b[0m\u001b[32mE\u001b[0m\n",
      "                Modified positions are shown in green\n",
      "            Number of minima : 161\n",
      "            Number of maxima : 169\n",
      "            Normalized Extrema Ruggedness : 0.06309751434034416\n",
      "            R/S Ruggedness : 16.478461526004715\n",
      "        \n"
     ]
    },
    {
     "name": "stderr",
     "output_type": "stream",
     "text": [
      "\n"
     ]
    }
   ],
   "source": [
    "blac = Protein_Landscape(csv_path=\"~/PhD/Protein_Evolution/Datasets/BLactamase/Blac_EC50_Cleaned.csv\",gen_graph=True)"
   ]
  },
  {
   "cell_type": "code",
   "execution_count": 1,
   "metadata": {},
   "outputs": [
    {
     "ename": "NameError",
     "evalue": "name 'Protein_Landscape' is not defined",
     "output_type": "error",
     "traceback": [
      "\u001b[0;31m---------------------------------------------------------------------------\u001b[0m",
      "\u001b[0;31mNameError\u001b[0m                                 Traceback (most recent call last)",
      "\u001b[0;32m<ipython-input-1-7fbfb1c4e762>\u001b[0m in \u001b[0;36m<module>\u001b[0;34m\u001b[0m\n\u001b[0;32m----> 1\u001b[0;31m \u001b[0mgb12\u001b[0m \u001b[0;34m=\u001b[0m \u001b[0mProtein_Landscape\u001b[0m\u001b[0;34m(\u001b[0m\u001b[0msaved_file\u001b[0m\u001b[0;34m=\u001b[0m\u001b[0;34m\"~/PhD/Protein_Evolution/Datasets/GProtein/Full_GProtein.txt\"\u001b[0m\u001b[0;34m)\u001b[0m\u001b[0;34m\u001b[0m\u001b[0;34m\u001b[0m\u001b[0m\n\u001b[0m",
      "\u001b[0;31mNameError\u001b[0m: name 'Protein_Landscape' is not defined"
     ]
    }
   ],
   "source": [
    "gb12 = Protein_Landscape(saved_file=\"~/PhD/Protein_Evolution/Datasets/GProtein/Full_GProtein.txt\")"
   ]
  },
  {
   "cell_type": "code",
   "execution_count": 9,
   "metadata": {},
   "outputs": [],
   "source": [
    "gb12_rug = []\n",
    "fitty = scaler.transform(gb12.fitnesses.reshape(-1,1))\n",
    "for key in gb12.graph.keys():\n",
    "    gb12_rug.append(np.var(fitty[gb12.graph[key][\"neighbours\"]]))"
   ]
  },
  {
   "cell_type": "code",
   "execution_count": 34,
   "metadata": {},
   "outputs": [],
   "source": [
    "blackrug = []\n",
    "blac_scaler = MinMaxScaler(feature_range=(0,1))\n",
    "blac_scaler.fit(blac.fitnesses.reshape(-1,1))\n",
    "blac_fitty = blac_scaler.transform(blac.fitnesses.reshape(-1,1))\n",
    "for key in blac.graph.keys():\n",
    "    blackrug.append(np.var(blac_fitty[blac.graph[key][\"neighbours\"]]))"
   ]
  },
  {
   "cell_type": "code",
   "execution_count": null,
   "metadata": {},
   "outputs": [],
   "source": [
    "        big.graph[key][\"local variance\"] = np.var(big.fitnesses[big.graph[key][\"neighbours\"]])\n"
   ]
  },
  {
   "cell_type": "code",
   "execution_count": 7,
   "metadata": {},
   "outputs": [],
   "source": [
    "from sklearn.preprocessing import MinMaxScaler\n",
    "scaler=MinMaxScaler(feature_range=(0,1))"
   ]
  },
  {
   "cell_type": "code",
   "execution_count": 8,
   "metadata": {},
   "outputs": [
    {
     "data": {
      "text/plain": [
       "MinMaxScaler()"
      ]
     },
     "execution_count": 8,
     "metadata": {},
     "output_type": "execute_result"
    }
   ],
   "source": [
    "scaler.fit(gb12.fitnesses.reshape(-1,1))"
   ]
  },
  {
   "cell_type": "code",
   "execution_count": 46,
   "metadata": {},
   "outputs": [
    {
     "name": "stdout",
     "output_type": "stream",
     "text": [
      "0.005935995250016707 2.314160609091417e-06\n",
      "0.01077337248833914 1.2552554433483275e-05\n",
      "0.02448694814667563 4.57346874524477e-05\n",
      "0.027917508097440782 3.5157574285470445e-05\n",
      "0.08131125294302471 0.00012453642659500069\n",
      "\n",
      "0.00693992008446153 5.305601401717801e-05\n",
      "0.04627526956938187 0.001014674436995688\n"
     ]
    }
   ],
   "source": [
    "for rug in rugs:\n",
    "    print(np.mean(rug),np.var(rug))\n",
    "print()\n",
    "print(np.mean(gb12_rug),np.var(gb12_rug))\n",
    "print(np.mean(blackrug),np.var(blackrug))"
   ]
  },
  {
   "cell_type": "code",
   "execution_count": 51,
   "metadata": {},
   "outputs": [
    {
     "data": {
      "image/png": "[encoded data removed]",
      "text/plain": [
       "<Figure size 432x288 with 1 Axes>"
      ]
     },
     "metadata": {
      "needs_background": "light"
     },
     "output_type": "display_data"
    }
   ],
   "source": [
    "plt.hist(gb12.fitnesses[gb12.graph[1][\"neighbours\"]])\n",
    "plt.show()"
   ]
  },
  {
   "cell_type": "code",
   "execution_count": null,
   "metadata": {},
   "outputs": [],
   "source": []
  },
  {
   "cell_type": "code",
   "execution_count": null,
   "metadata": {},
   "outputs": [],
   "source": []
  }
 ],
 "metadata": {
  "kernelspec": {
   "display_name": "Protein_Evolution",
   "language": "python",
   "name": "protein_evolution"
  },
  "language_info": {
   "codemirror_mode": {
    "name": "ipython",
    "version": 3
   },
   "file_extension": ".py",
   "mimetype": "text/x-python",
   "name": "python",
   "nbconvert_exporter": "python",
   "pygments_lexer": "ipython3",
   "version": "3.8.5"
  }
 },
 "nbformat": 4,
 "nbformat_minor": 4
}
