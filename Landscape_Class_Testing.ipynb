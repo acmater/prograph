{
 "cells": [
  {
   "cell_type": "code",
   "execution_count": 1,
   "metadata": {},
   "outputs": [],
   "source": [
    "%matplotlib inline\n",
    "''' Python Tools '''\n",
    "import numpy as np\n",
    "np.set_printoptions(suppress=True) # Changes print functionality\n",
    "import pandas as pd\n",
    "import os\n",
    "import random\n",
    "import matplotlib.pyplot as plt\n",
    "import matplotlib.animation as animation\n",
    "from IPython.display import HTML\n",
    "\n",
    "'''PyTorch Functionality'''\n",
    "import torch\n",
    "import torch.nn as nn\n",
    "import torch.nn.parallel\n",
    "import torch.backends.cudnn as cudnn\n",
    "import torch.optim as optim\n",
    "import torch.utils.data\n",
    "import torchvision.datasets as dset\n",
    "import torchvision.transforms as transforms\n",
    "import torchvision.utils as vutils\n",
    "\n",
    "'''Landscape Class'''\n",
    "from Protein_Landscape.landscape_class import Protein_Landscape\n",
    "\n",
    "'''Dataset Management'''\n",
    "Datasets = 'Data'\n"
   ]
  },
  {
   "cell_type": "code",
   "execution_count": null,
   "metadata": {
    "scrolled": true
   },
   "outputs": [
    {
     "name": "stdout",
     "output_type": "stream",
     "text": [
      "Building Protein Graph for entire dataset\n"
     ]
    },
    {
     "name": "stderr",
     "output_type": "stream",
     "text": [
      " 34%|███▍      | 34408/100000 [00:02<00:05, 12043.52it/s]"
     ]
    }
   ],
   "source": [
    "test = Protein_Landscape(csv_path=Datasets+\"/NK/K0/V0.csv\",gen_graph=True)"
   ]
  },
  {
   "cell_type": "code",
   "execution_count": null,
   "metadata": {},
   "outputs": [],
   "source": [
    "test[\"AAAAA\"]"
   ]
  },
  {
   "cell_type": "code",
   "execution_count": 10,
   "metadata": {},
   "outputs": [
    {
     "data": {
      "text/plain": [
       "array([['ACAAC', 0.4774134508969809],\n",
       "       ['ACAAD', 0.5223964559908069],\n",
       "       ['ACAAE', 0.4942847105465913],\n",
       "       ...,\n",
       "       ['LLLLI', 0.6155149493513986],\n",
       "       ['LLLLK', 0.6304777800236846],\n",
       "       ['LLLLL', 0.5715888119869027]], dtype=object)"
      ]
     },
     "execution_count": 10,
     "metadata": {},
     "output_type": "execute_result"
    }
   ],
   "source": [
    "d_data = test.gen_d_data(seq=\"CACDA\")\n",
    "test.get_distance(5,d_data)"
   ]
  },
  {
   "cell_type": "code",
   "execution_count": 3,
   "metadata": {},
   "outputs": [
    {
     "name": "stderr",
     "output_type": "stream",
     "text": [
      "100%|██████████| 100000/100000 [01:56<00:00, 857.53it/s]\n"
     ]
    }
   ],
   "source": [
    "test.graph_to_networkx()"
   ]
  },
  {
   "cell_type": "code",
   "execution_count": 4,
   "metadata": {},
   "outputs": [],
   "source": [
    "G = test.networkx_graph"
   ]
  },
  {
   "cell_type": "code",
   "execution_count": 1,
   "metadata": {},
   "outputs": [
    {
     "ename": "NameError",
     "evalue": "name 'G' is not defined",
     "output_type": "error",
     "traceback": [
      "\u001b[0;31m---------------------------------------------------------------------------\u001b[0m",
      "\u001b[0;31mNameError\u001b[0m                                 Traceback (most recent call last)",
      "\u001b[0;32m<ipython-input-1-c542544dbfc2>\u001b[0m in \u001b[0;36m<module>\u001b[0;34m\u001b[0m\n\u001b[1;32m      1\u001b[0m \u001b[0;32mimport\u001b[0m \u001b[0mnetworkx\u001b[0m \u001b[0;32mas\u001b[0m \u001b[0mnx\u001b[0m\u001b[0;34m\u001b[0m\u001b[0;34m\u001b[0m\u001b[0m\n\u001b[1;32m      2\u001b[0m \u001b[0;34m\u001b[0m\u001b[0m\n\u001b[0;32m----> 3\u001b[0;31m \u001b[0mnx\u001b[0m\u001b[0;34m.\u001b[0m\u001b[0mwrite_graphml\u001b[0m\u001b[0;34m(\u001b[0m\u001b[0mG\u001b[0m\u001b[0;34m,\u001b[0m \u001b[0;34m\"Test_Graph.graphml\"\u001b[0m\u001b[0;34m)\u001b[0m\u001b[0;34m\u001b[0m\u001b[0;34m\u001b[0m\u001b[0m\n\u001b[0m",
      "\u001b[0;31mNameError\u001b[0m: name 'G' is not defined"
     ]
    }
   ],
   "source": [
    "import networkx as nx\n",
    "\n",
    "nx.write_graphml(G, \"Test_Graph.graphml\")"
   ]
  },
  {
   "cell_type": "code",
   "execution_count": 6,
   "metadata": {},
   "outputs": [
    {
     "data": {
      "text/plain": [
       "Protein_Landscape(seed_seq='AAAAA',\n",
       "                                  gen_graph=True,\n",
       "                                  csv_path='Data/NK/K0/V0.csv',\n",
       "                                  custom_columns={'x_data': 'Sequence', 'y_data': 'Fitness', 'index_col': None},\n",
       "                                  amino_acids='ACDEFGHIKLMNPQRSTVWY'\n",
       "                                  )"
      ]
     },
     "execution_count": 6,
     "metadata": {},
     "output_type": "execute_result"
    }
   ],
   "source": [
    "test"
   ]
  },
  {
   "cell_type": "code",
   "execution_count": 24,
   "metadata": {},
   "outputs": [
    {
     "data": {
      "text/plain": [
       "NodeDataView({'A': {'attr_dict': {'age': 45, 'gender': 'male'}}})"
      ]
     },
     "execution_count": 24,
     "metadata": {},
     "output_type": "execute_result"
    }
   ],
   "source": [
    " \n",
    "G = nx.Graph()\n",
    "\n",
    "G.add_node(\"A\", attr_dict={'age':45, 'gender':'male'})\n",
    "\n",
    "G.nodes(data=True)"
   ]
  },
  {
   "cell_type": "code",
   "execution_count": 14,
   "metadata": {},
   "outputs": [
    {
     "ename": "TypeError",
     "evalue": "add_node() takes 2 positional arguments but 3 were given",
     "output_type": "error",
     "traceback": [
      "\u001b[0;31m---------------------------------------------------------------------------\u001b[0m",
      "\u001b[0;31mTypeError\u001b[0m                                 Traceback (most recent call last)",
      "\u001b[0;32m<ipython-input-14-382f74c09c7a>\u001b[0m in \u001b[0;36m<module>\u001b[0;34m\u001b[0m\n\u001b[1;32m      1\u001b[0m \u001b[0;32mimport\u001b[0m \u001b[0mnetworkx\u001b[0m \u001b[0;32mas\u001b[0m \u001b[0mnx\u001b[0m\u001b[0;34m\u001b[0m\u001b[0;34m\u001b[0m\u001b[0m\n\u001b[1;32m      2\u001b[0m \u001b[0mG\u001b[0m \u001b[0;34m=\u001b[0m \u001b[0mnx\u001b[0m\u001b[0;34m.\u001b[0m\u001b[0mGraph\u001b[0m\u001b[0;34m(\u001b[0m\u001b[0;34m)\u001b[0m\u001b[0;34m\u001b[0m\u001b[0;34m\u001b[0m\u001b[0m\n\u001b[0;32m----> 3\u001b[0;31m \u001b[0mG\u001b[0m\u001b[0;34m.\u001b[0m\u001b[0madd_node\u001b[0m\u001b[0;34m(\u001b[0m\u001b[0;34m'Bob'\u001b[0m\u001b[0;34m,\u001b[0m \u001b[0;34m{\u001b[0m\u001b[0;34m'age'\u001b[0m\u001b[0;34m:\u001b[0m\u001b[0;36m45\u001b[0m\u001b[0;34m,\u001b[0m \u001b[0;34m'gender'\u001b[0m\u001b[0;34m:\u001b[0m\u001b[0;34m'male'\u001b[0m\u001b[0;34m}\u001b[0m\u001b[0;34m)\u001b[0m\u001b[0;34m\u001b[0m\u001b[0;34m\u001b[0m\u001b[0m\n\u001b[0m\u001b[1;32m      4\u001b[0m \u001b[0mG\u001b[0m\u001b[0;34m.\u001b[0m\u001b[0mnode\u001b[0m\u001b[0;34m[\u001b[0m\u001b[0;34m'Bob'\u001b[0m\u001b[0;34m]\u001b[0m\u001b[0;34m[\u001b[0m\u001b[0;34m'age'\u001b[0m\u001b[0;34m]\u001b[0m\u001b[0;34m\u001b[0m\u001b[0;34m\u001b[0m\u001b[0m\n\u001b[1;32m      5\u001b[0m \u001b[0;34m\u001b[0m\u001b[0m\n",
      "\u001b[0;31mTypeError\u001b[0m: add_node() takes 2 positional arguments but 3 were given"
     ]
    }
   ],
   "source": [
    "import networkx as nx\n",
    "G = nx.Graph()\n",
    "G.add_node('Bob', {'age':45, 'gender':'male'})\n",
    "G.node['Bob']['age']\n",
    "\n",
    "G.add_node('Sara', age=40, gender = 'female')\n",
    "G.node['Sara']['age']\n",
    "\n",
    "G.node['Sara']['gender']\n"
   ]
  },
  {
   "cell_type": "code",
   "execution_count": 49,
   "metadata": {},
   "outputs": [],
   "source": [
    "def mc_criterion(state1, state2, T):\n",
    "        preference_for_state2 = 1 - (1 / (1 + np.exp((state2 - state1) * 1/T)))\n",
    "        return np.array([1-preference_for_state2, preference_for_state2]).reshape(-1,)"
   ]
  },
  {
   "cell_type": "code",
   "execution_count": 14,
   "metadata": {},
   "outputs": [
    {
     "data": {
      "text/plain": [
       "array([0.4933851236643488, 0.5740119057019688, 0.6780190050387306, ...,\n",
       "       0.9032927875157816, 0.9032927875157816, 0.9032927875157816],\n",
       "      dtype=object)"
      ]
     },
     "execution_count": 14,
     "metadata": {},
     "output_type": "execute_result"
    }
   ],
   "source": [
    "indices = test.random_walk_data(T=0)\n",
    "res = []\n",
    "[res.append(x) for x in indices if x not in res] \n",
    "\n",
    "test.fitnesses[np.array(indices)]"
   ]
  },
  {
   "cell_type": "code",
   "execution_count": 18,
   "metadata": {},
   "outputs": [],
   "source": [
    "train, test = test.pytorch_dataloaders()"
   ]
  },
  {
   "cell_type": "code",
   "execution_count": 20,
   "metadata": {},
   "outputs": [
    {
     "data": {
      "text/plain": [
       "[tensor([[5, 8, 5, 7, 7],\n",
       "         [0, 7, 1, 3, 5],\n",
       "         [8, 8, 8, 0, 4],\n",
       "         ...,\n",
       "         [3, 5, 5, 4, 4],\n",
       "         [2, 7, 3, 9, 2],\n",
       "         [2, 6, 8, 8, 2]]),\n",
       " tensor([0.6633, 0.4555, 0.4228, 0.6543, 0.3885, 0.6558, 0.6916, 0.5334, 0.3531,\n",
       "         0.6059, 0.6268, 0.4020, 0.3791, 0.4088, 0.5493, 0.3648, 0.3528, 0.5581,\n",
       "         0.7378, 0.5833, 0.5233, 0.3956, 0.6129, 0.5186, 0.7273, 0.3941, 0.6290,\n",
       "         0.4176, 0.5640, 0.4645, 0.5614, 0.6221, 0.4023, 0.3180, 0.4856, 0.5195,\n",
       "         0.6337, 0.5607, 0.4386, 0.4619, 0.4001, 0.3826, 0.3953, 0.4100, 0.5923,\n",
       "         0.7067, 0.3886, 0.5158, 0.5527, 0.3992, 0.6356, 0.6292, 0.3161, 0.7527,\n",
       "         0.6949, 0.5158, 0.7161, 0.5903, 0.5152, 0.5593, 0.5807, 0.4424, 0.7044,\n",
       "         0.4620, 0.6969, 0.6446, 0.5440, 0.3460, 0.4214, 0.5131, 0.5325, 0.5795,\n",
       "         0.6087, 0.7793, 0.4477, 0.5705, 0.3560, 0.6332, 0.3715, 0.3804, 0.3563,\n",
       "         0.4176, 0.5949, 0.4562, 0.8011, 0.5228, 0.4350, 0.6274, 0.4113, 0.6504,\n",
       "         0.5236, 0.5414, 0.6166, 0.4202, 0.3675, 0.4576, 0.5138, 0.3886, 0.2869,\n",
       "         0.5901, 0.6729, 0.4797, 0.4894, 0.5991, 0.4157, 0.4783, 0.7264, 0.6667,\n",
       "         0.6948, 0.4039, 0.5607, 0.5869, 0.5050, 0.6311, 0.4039, 0.7334, 0.4911,\n",
       "         0.4868, 0.3757, 0.6293, 0.4516, 0.4946, 0.5716, 0.5229, 0.4192, 0.5809,\n",
       "         0.4362, 0.6062, 0.3542, 0.2772, 0.4303, 0.4285, 0.4719, 0.5347, 0.8565,\n",
       "         0.4683, 0.3723, 0.4423, 0.3431, 0.3865, 0.6389, 0.4529, 0.5964, 0.6929,\n",
       "         0.4265, 0.3202, 0.2978, 0.3439, 0.3985, 0.6109, 0.6378, 0.7218, 0.5907,\n",
       "         0.3592, 0.3708, 0.4870, 0.4680, 0.4948, 0.3476, 0.5140, 0.6874, 0.7076,\n",
       "         0.7518, 0.5075, 0.5539, 0.5910, 0.4543, 0.4650, 0.5367, 0.2719, 0.3151,\n",
       "         0.6120, 0.4297, 0.5771, 0.4185, 0.6678, 0.5813, 0.2239, 0.5247, 0.6052,\n",
       "         0.5753, 0.5902, 0.4972, 0.6989, 0.3625, 0.5973, 0.6023, 0.5539, 0.7024,\n",
       "         0.5377, 0.4109, 0.3468, 0.4682, 0.4544, 0.3926, 0.7334, 0.7291, 0.5332,\n",
       "         0.4708, 0.2830, 0.3038, 0.6710, 0.5826, 0.6775, 0.5476, 0.5114, 0.3360,\n",
       "         0.6409, 0.5829, 0.5272, 0.4439, 0.4493, 0.3095, 0.6952, 0.6043, 0.3729,\n",
       "         0.4859, 0.3601, 0.4833, 0.5861, 0.3907, 0.4041, 0.6148, 0.4105, 0.5771,\n",
       "         0.6104, 0.6862, 0.7765, 0.5932, 0.4905, 0.3579, 0.3449, 0.4791, 0.3485,\n",
       "         0.4540, 0.5055, 0.4702, 0.5665, 0.5411, 0.6618, 0.5575, 0.5737, 0.4809,\n",
       "         0.5507, 0.2696, 0.4735, 0.4036, 0.5322, 0.5249, 0.3683, 0.5021, 0.4787,\n",
       "         0.4444, 0.5179, 0.3787, 0.5357, 0.2993, 0.5995, 0.4872, 0.3836, 0.5186,\n",
       "         0.5089, 0.4167, 0.5645, 0.6075, 0.5209, 0.5398, 0.4706, 0.2532, 0.4189,\n",
       "         0.4529, 0.7415, 0.5533, 0.4228, 0.4566, 0.4258, 0.5472, 0.2834, 0.5238,\n",
       "         0.5850, 0.3228, 0.4873, 0.7728, 0.6174, 0.7151, 0.5002, 0.5383, 0.4738,\n",
       "         0.4991, 0.5101, 0.5374, 0.2567, 0.4380, 0.5131, 0.4274, 0.5692, 0.6442,\n",
       "         0.6445, 0.3965, 0.5477, 0.6769, 0.6393, 0.4477, 0.4625, 0.5277, 0.7434,\n",
       "         0.3783, 0.5368, 0.4488, 0.6173, 0.5617, 0.3636, 0.5872, 0.5605, 0.6059,\n",
       "         0.3555, 0.2917, 0.5223, 0.5895, 0.5430, 0.5339, 0.4505, 0.3313, 0.6287,\n",
       "         0.6269, 0.5115, 0.6006, 0.4494, 0.5682, 0.4985, 0.5848, 0.4901, 0.4655,\n",
       "         0.3955, 0.4178, 0.5154, 0.5026, 0.2834, 0.5533, 0.4024, 0.4449, 0.4737,\n",
       "         0.4495, 0.6091, 0.6681, 0.7266, 0.3830, 0.3036, 0.5496, 0.3798, 0.5279,\n",
       "         0.6130, 0.4847, 0.5539, 0.4310, 0.3556, 0.5236, 0.7163, 0.3970, 0.5962,\n",
       "         0.4377, 0.7007, 0.3670, 0.5671, 0.3881, 0.7078, 0.4749, 0.4611, 0.5692,\n",
       "         0.6861, 0.5189, 0.5589, 0.7233, 0.4374, 0.6192, 0.4483, 0.3472, 0.4408,\n",
       "         0.5913, 0.5498, 0.5720, 0.5945, 0.6721, 0.5643, 0.3114, 0.3607, 0.5877,\n",
       "         0.4685, 0.5441, 0.5770, 0.3372, 0.6305, 0.5170, 0.5369, 0.6889, 0.6006,\n",
       "         0.3198, 0.3644, 0.5106, 0.6252, 0.5611, 0.5316, 0.3645, 0.3577, 0.6586,\n",
       "         0.5382, 0.6192, 0.5856, 0.7423, 0.5534, 0.3088, 0.3463, 0.6421, 0.4782,\n",
       "         0.6839, 0.4082, 0.5039, 0.5155, 0.6212, 0.4858, 0.4322, 0.6278, 0.4283,\n",
       "         0.6688, 0.3949, 0.4437, 0.8228, 0.5265, 0.4975, 0.4227, 0.3834, 0.4273,\n",
       "         0.4684, 0.5762, 0.6814, 0.4082, 0.4456, 0.6919, 0.6738, 0.6853, 0.5039,\n",
       "         0.6380, 0.5258, 0.6502, 0.3612, 0.4647, 0.5797, 0.6161, 0.4012, 0.7524,\n",
       "         0.3918, 0.5927, 0.5649, 0.2207, 0.4524, 0.5291, 0.7141, 0.6796, 0.4967,\n",
       "         0.4466, 0.4436, 0.5474, 0.7566, 0.6397, 0.4181, 0.5654, 0.6152, 0.7390,\n",
       "         0.3446, 0.5098, 0.5669, 0.6921, 0.5579, 0.4878, 0.5241, 0.7275, 0.7381,\n",
       "         0.4390, 0.4373, 0.4735, 0.5383, 0.4210, 0.7264, 0.5577, 0.7512, 0.4819,\n",
       "         0.6213, 0.6253, 0.6035, 0.3757, 0.4119, 0.6227, 0.3569, 0.5400, 0.6359,\n",
       "         0.6178, 0.4132, 0.4557, 0.5096, 0.5491], dtype=torch.float64)]"
      ]
     },
     "execution_count": 20,
     "metadata": {},
     "output_type": "execute_result"
    }
   ],
   "source": [
    "next(iter(train))"
   ]
  },
  {
   "cell_type": "code",
   "execution_count": 15,
   "metadata": {},
   "outputs": [
    {
     "data": {
      "text/plain": [
       "[<matplotlib.lines.Line2D at 0x7fb2cc414ee0>]"
      ]
     },
     "execution_count": 15,
     "metadata": {},
     "output_type": "execute_result"
    },
    {
     "data": {
      "image/png": "[encoded data removed]",
      "text/plain": [
       "<Figure size 432x288 with 1 Axes>"
      ]
     },
     "metadata": {
      "needs_background": "light"
     },
     "output_type": "display_data"
    }
   ],
   "source": [
    "import matplotlib.pyplot as plt\n",
    "\n",
    "plt.plot(test.fitnesses[np.array(indices)])"
   ]
  },
  {
   "cell_type": "code",
   "execution_count": 103,
   "metadata": {},
   "outputs": [
    {
     "data": {
      "text/plain": [
       "(array([1]),)"
      ]
     },
     "execution_count": 103,
     "metadata": {},
     "output_type": "execute_result"
    }
   ],
   "source": [
    "np.where(np.all(np.array((0,0,0,0,1)) == test.tokenized[:,:-1],axis=1))"
   ]
  },
  {
   "cell_type": "code",
   "execution_count": 32,
   "metadata": {},
   "outputs": [
    {
     "ename": "TypeError",
     "evalue": "unhashable type: 'list'",
     "output_type": "error",
     "traceback": [
      "\u001b[0;31m---------------------------------------------------------------------------\u001b[0m",
      "\u001b[0;31mTypeError\u001b[0m                                 Traceback (most recent call last)",
      "\u001b[0;32m<ipython-input-32-44a44b635d73>\u001b[0m in \u001b[0;36m<module>\u001b[0;34m\u001b[0m\n\u001b[0;32m----> 1\u001b[0;31m \u001b[0mtest\u001b[0m\u001b[0;34m.\u001b[0m\u001b[0mgraph\u001b[0m\u001b[0;34m[\u001b[0m\u001b[0;34m[\u001b[0m\u001b[0;34m(\u001b[0m\u001b[0;36m0\u001b[0m\u001b[0;34m,\u001b[0m\u001b[0;36m0\u001b[0m\u001b[0;34m,\u001b[0m\u001b[0;36m0\u001b[0m\u001b[0;34m,\u001b[0m\u001b[0;36m0\u001b[0m\u001b[0;34m,\u001b[0m\u001b[0;36m0\u001b[0m\u001b[0;34m)\u001b[0m\u001b[0;34m,\u001b[0m\u001b[0;34m(\u001b[0m\u001b[0;36m0\u001b[0m\u001b[0;34m,\u001b[0m\u001b[0;36m0\u001b[0m\u001b[0;34m,\u001b[0m\u001b[0;36m0\u001b[0m\u001b[0;34m,\u001b[0m\u001b[0;36m1\u001b[0m\u001b[0;34m,\u001b[0m\u001b[0;36m0\u001b[0m\u001b[0;34m)\u001b[0m\u001b[0;34m]\u001b[0m\u001b[0;34m]\u001b[0m\u001b[0;34m\u001b[0m\u001b[0;34m\u001b[0m\u001b[0m\n\u001b[0m",
      "\u001b[0;31mTypeError\u001b[0m: unhashable type: 'list'"
     ]
    }
   ],
   "source": [
    "test.graph[[(0,0,0,0,0),(0,0,0,1,0)]]"
   ]
  },
  {
   "cell_type": "code",
   "execution_count": 27,
   "metadata": {},
   "outputs": [
    {
     "data": {
      "text/plain": [
       "[37,\n",
       " 38,\n",
       " 39,\n",
       " 40,\n",
       " 41,\n",
       " 42,\n",
       " 43,\n",
       " 44,\n",
       " 45,\n",
       " 28,\n",
       " 29,\n",
       " 30,\n",
       " 31,\n",
       " 32,\n",
       " 33,\n",
       " 34,\n",
       " 35,\n",
       " 36,\n",
       " 19,\n",
       " 20,\n",
       " 21,\n",
       " 22,\n",
       " 23,\n",
       " 24,\n",
       " 25,\n",
       " 26,\n",
       " 27,\n",
       " 10,\n",
       " 11,\n",
       " 12,\n",
       " 13,\n",
       " 14,\n",
       " 15,\n",
       " 16,\n",
       " 17,\n",
       " 18,\n",
       " 1,\n",
       " 2,\n",
       " 3,\n",
       " 4,\n",
       " 5,\n",
       " 6,\n",
       " 7,\n",
       " 8,\n",
       " 9]"
      ]
     },
     "execution_count": 27,
     "metadata": {},
     "output_type": "execute_result"
    }
   ],
   "source": [
    "test.graph[(0,0,0,0,0)]"
   ]
  },
  {
   "cell_type": "code",
   "execution_count": 20,
   "metadata": {},
   "outputs": [
    {
     "data": {
      "text/plain": [
       "(4, 0, 0, 0, 0)"
      ]
     },
     "execution_count": 20,
     "metadata": {},
     "output_type": "execute_result"
    }
   ],
   "source": [
    "tuple(test.tokenized[40,:-1])"
   ]
  },
  {
   "cell_type": "code",
   "execution_count": 21,
   "metadata": {},
   "outputs": [],
   "source": [
    "import random"
   ]
  },
  {
   "cell_type": "code",
   "execution_count": 26,
   "metadata": {},
   "outputs": [
    {
     "data": {
      "text/plain": [
       "33"
      ]
     },
     "execution_count": 26,
     "metadata": {},
     "output_type": "execute_result"
    }
   ],
   "source": [
    "random.choice(test.graph[seq])"
   ]
  },
  {
   "cell_type": "code",
   "execution_count": null,
   "metadata": {},
   "outputs": [],
   "source": [
    "[[].extend(test.graph[test.tokenized[id,:-1]]) for id in idxs[d-1]"
   ]
  },
  {
   "cell_type": "code",
   "execution_count": 39,
   "metadata": {},
   "outputs": [
    {
     "data": {
      "text/plain": [
       "[37,\n",
       " 38,\n",
       " 39,\n",
       " 40,\n",
       " 41,\n",
       " 42,\n",
       " 43,\n",
       " 44,\n",
       " 45,\n",
       " 28,\n",
       " 29,\n",
       " 30,\n",
       " 31,\n",
       " 32,\n",
       " 33,\n",
       " 34,\n",
       " 35,\n",
       " 36,\n",
       " 19,\n",
       " 20,\n",
       " 21,\n",
       " 22,\n",
       " 23,\n",
       " 24,\n",
       " 25,\n",
       " 26,\n",
       " 27,\n",
       " 10,\n",
       " 11,\n",
       " 12,\n",
       " 13,\n",
       " 14,\n",
       " 15,\n",
       " 16,\n",
       " 17,\n",
       " 18,\n",
       " 1,\n",
       " 2,\n",
       " 3,\n",
       " 4,\n",
       " 5,\n",
       " 6,\n",
       " 7,\n",
       " 8,\n",
       " 9,\n",
       " 532,\n",
       " 568,\n",
       " 604,\n",
       " 640,\n",
       " 676,\n",
       " 712,\n",
       " 748,\n",
       " 784,\n",
       " 820,\n",
       " 289,\n",
       " 316,\n",
       " 343,\n",
       " 370,\n",
       " 397,\n",
       " 424,\n",
       " 451,\n",
       " 478,\n",
       " 505,\n",
       " 127,\n",
       " 145,\n",
       " 163,\n",
       " 181,\n",
       " 199,\n",
       " 217,\n",
       " 235,\n",
       " 253,\n",
       " 271,\n",
       " 46,\n",
       " 55,\n",
       " 64,\n",
       " 73,\n",
       " 82,\n",
       " 91,\n",
       " 100,\n",
       " 109,\n",
       " 118,\n",
       " 0,\n",
       " 2,\n",
       " 3,\n",
       " 4,\n",
       " 5,\n",
       " 6,\n",
       " 7,\n",
       " 8,\n",
       " 9]"
      ]
     },
     "execution_count": 39,
     "metadata": {},
     "output_type": "execute_result"
    }
   ],
   "source": [
    "d = 1\n",
    "idxs = [[0,1]]\n",
    "temp = [test.graph[tuple(test.tokenized[id,:-1])] for id in idxs[d-1]]\n",
    "[item for sublist in temp for item in sublist]"
   ]
  },
  {
   "cell_type": "code",
   "execution_count": 99,
   "metadata": {},
   "outputs": [
    {
     "name": "stdout",
     "output_type": "stream",
     "text": [
      "0.7310585786300049\n",
      "744\n"
     ]
    }
   ],
   "source": [
    "state1 = 0\n",
    "state2 = 1\n",
    "T = 1\n",
    "\n",
    "def f(x):\n",
    "    return 1 - (1 / (1 + np.exp(T*x)))\n",
    "\n",
    "odds = f(state2 - state1)\n",
    "print(odds)\n",
    "su = 0\n",
    "for i in range(1000):\n",
    "    choice = np.random.choice([state1,state2],p=[1-odds,odds])\n",
    "    su += choice\n",
    "    \n",
    "print(su)"
   ]
  },
  {
   "cell_type": "code",
   "execution_count": 109,
   "metadata": {},
   "outputs": [
    {
     "data": {
      "text/plain": [
       "(array([0]),)"
      ]
     },
     "execution_count": 109,
     "metadata": {},
     "output_type": "execute_result"
    }
   ],
   "source": [
    "a = np.array([[0,0,0],[0,0,1],[0,0,2]])\n",
    "\n",
    "np.where(np.all(a == np.array([0,0,0]),axis=1))"
   ]
  },
  {
   "cell_type": "code",
   "execution_count": 8,
   "metadata": {},
   "outputs": [
    {
     "data": {
      "text/plain": [
       "[(array([0, 0, 0]), 0), (array([0, 0, 1]), 1), (array([0, 0, 2]), 2)]"
      ]
     },
     "execution_count": 8,
     "metadata": {},
     "output_type": "execute_result"
    }
   ],
   "source": [
    "a = np.array([[0,0,0],[0,0,1],[0,0,2]])\n",
    "import itertools\n",
    "list(zip(a,itertools.count()))"
   ]
  },
  {
   "cell_type": "code",
   "execution_count": null,
   "metadata": {},
   "outputs": [],
   "source": []
  }
 ],
 "metadata": {
  "kernelspec": {
   "display_name": "Protein_Evolution",
   "language": "python",
   "name": "protein_evolution"
  },
  "language_info": {
   "codemirror_mode": {
    "name": "ipython",
    "version": 3
   },
   "file_extension": ".py",
   "mimetype": "text/x-python",
   "name": "python",
   "nbconvert_exporter": "python",
   "pygments_lexer": "ipython3",
   "version": "3.8.5"
  }
 },
 "nbformat": 4,
 "nbformat_minor": 4
}
