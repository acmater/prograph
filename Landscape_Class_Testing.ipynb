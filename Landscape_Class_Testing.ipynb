{
 "cells": [
  {
   "cell_type": "code",
   "execution_count": 1,
   "metadata": {},
   "outputs": [],
   "source": [
    "%matplotlib inline\n",
    "''' Python Tools '''\n",
    "import numpy as np\n",
    "np.set_printoptions(suppress=True) # Changes print functionality\n",
    "import pandas as pd\n",
    "import os\n",
    "import random\n",
    "import matplotlib.pyplot as plt\n",
    "import matplotlib.animation as animation\n",
    "from IPython.display import HTML\n",
    "\n",
    "'''PyTorch Functionality'''\n",
    "import torch\n",
    "import torch.nn as nn\n",
    "import torch.nn.parallel\n",
    "import torch.backends.cudnn as cudnn\n",
    "import torch.optim as optim\n",
    "import torch.utils.data\n",
    "import torchvision.datasets as dset\n",
    "import torchvision.transforms as transforms\n",
    "import torchvision.utils as vutils\n",
    "\n",
    "'''Landscape Class'''\n",
    "from Protein_Landscape.landscape_class import Protein_Landscape\n",
    "from Protein_Landscape.protein import Protein\n",
    "\n",
    "'''Dataset Management'''\n",
    "Datasets = 'Data/'\n",
    "#Datasets = \"~/PhD/Protein_Evolution/Datasets/GProtein/\""
   ]
  },
  {
   "cell_type": "code",
   "execution_count": 2,
   "metadata": {
    "scrolled": true
   },
   "outputs": [
    {
     "name": "stdout",
     "output_type": "stream",
     "text": [
      "Building Protein Graph for entire dataset\n"
     ]
    },
    {
     "name": "stderr",
     "output_type": "stream",
     "text": [
      "100%|██████████| 1000/1000 [00:00<00:00, 6554.74it/s]"
     ]
    },
    {
     "name": "stdout",
     "output_type": "stream",
     "text": [
      "\n",
      "        Protein Landscape class\n",
      "            Number of Sequences : 1000\n",
      "            Max Distance        : 3\n",
      "            Number of Distances : 3\n",
      "            Seed Sequence       : \u001b[32mA\u001b[0m\u001b[32mA\u001b[0m\u001b[32mA\u001b[0m\n",
      "                Modified positions are shown in green\n",
      "        \n"
     ]
    },
    {
     "name": "stderr",
     "output_type": "stream",
     "text": [
      "\n"
     ]
    }
   ],
   "source": [
    "test = Protein_Landscape(csv_path=Datasets+\"Small_NK.csv\",gen_graph=True)\n"
   ]
  },
  {
   "cell_type": "code",
   "execution_count": 3,
   "metadata": {},
   "outputs": [
    {
     "name": "stdout",
     "output_type": "stream",
     "text": [
      "Building Protein Graph for entire dataset\n"
     ]
    },
    {
     "name": "stderr",
     "output_type": "stream",
     "text": [
      "100%|██████████| 100000/100000 [00:23<00:00, 4346.97it/s]\n"
     ]
    },
    {
     "name": "stdout",
     "output_type": "stream",
     "text": [
      "\n",
      "        Protein Landscape class\n",
      "            Number of Sequences : 100000\n",
      "            Max Distance        : 5\n",
      "            Number of Distances : 5\n",
      "            Seed Sequence       : \u001b[32mA\u001b[0m\u001b[32mA\u001b[0m\u001b[32mA\u001b[0m\u001b[32mA\u001b[0m\u001b[32mA\u001b[0m\n",
      "                Modified positions are shown in green\n",
      "        \n"
     ]
    }
   ],
   "source": [
    "big = Protein_Landscape(csv_path=Datasets+\"NK/K0/V0.csv\",gen_graph=True)"
   ]
  },
  {
   "cell_type": "code",
   "execution_count": 4,
   "metadata": {},
   "outputs": [
    {
     "name": "stderr",
     "output_type": "stream",
     "text": [
      "100%|██████████| 1000/1000 [00:00<00:00, 23214.63it/s]\n"
     ]
    }
   ],
   "source": [
    "test.graph_to_networkx(labels=[\"fitness\",\"tokenized\"])"
   ]
  },
  {
   "cell_type": "code",
   "execution_count": 10,
   "metadata": {},
   "outputs": [
    {
     "data": {
      "text/plain": [
       "array([[0, 0, 0],\n",
       "       [0, 0, 1],\n",
       "       [0, 0, 2],\n",
       "       ...,\n",
       "       [9, 9, 7],\n",
       "       [9, 9, 8],\n",
       "       [9, 9, 9]], dtype=object)"
      ]
     },
     "execution_count": 10,
     "metadata": {},
     "output_type": "execute_result"
    }
   ],
   "source": [
    "test.generate_mutations(\"ACA\")\n",
    "\n",
    "test.tokenized[:,:-1]"
   ]
  },
  {
   "cell_type": "code",
   "execution_count": 20,
   "metadata": {},
   "outputs": [
    {
     "name": "stderr",
     "output_type": "stream",
     "text": [
      "<ipython-input-20-a0a74a923368>:1: DeprecationWarning: elementwise comparison failed; this will raise an error in the future.\n",
      "  test.tokenized[:,:-1] == np.array([[0,0,0],[0,0,1]])\n"
     ]
    },
    {
     "data": {
      "text/plain": [
       "False"
      ]
     },
     "execution_count": 20,
     "metadata": {},
     "output_type": "execute_result"
    }
   ],
   "source": [
    "test.tokenized[:,:-1] == np.array([[0,0,0],[0,0,1]])"
   ]
  },
  {
   "cell_type": "code",
   "execution_count": 28,
   "metadata": {},
   "outputs": [
    {
     "data": {
      "text/plain": [
       "{}"
      ]
     },
     "execution_count": 28,
     "metadata": {},
     "output_type": "execute_result"
    }
   ],
   "source": [
    "class mydict(dict):\n",
    "    def __init__(self,kwargs):\n",
    "        self.kwargs = kwargs\n",
    "    \n",
    "mydict({\"A\" : 1})"
   ]
  },
  {
   "cell_type": "code",
   "execution_count": 18,
   "metadata": {},
   "outputs": [
    {
     "name": "stdout",
     "output_type": "stream",
     "text": [
      "[[0. 1. 2. 3.]\n",
      " [1. 1. 2. 3.]\n",
      " [2. 2. 2. 3.]\n",
      " [3. 3. 3. 3.]]\n"
     ]
    },
    {
     "data": {
      "text/plain": [
       "3.0"
      ]
     },
     "execution_count": 18,
     "metadata": {},
     "output_type": "execute_result"
    }
   ],
   "source": [
    "import numpy as np\n",
    "\n",
    "def levenshtein(seq1, seq2):\n",
    "    size_x = len(seq1) + 1\n",
    "    size_y = len(seq2) + 1\n",
    "    matrix = np.zeros ((size_x, size_y))\n",
    "    for x in range(size_x):\n",
    "        matrix [x, 0] = x\n",
    "    for y in range(size_y):\n",
    "        matrix [0, y] = y\n",
    "\n",
    "    for x in range(1, size_x):\n",
    "        for y in range(1, size_y):\n",
    "            if seq1[x-1] == seq2[y-1]:\n",
    "                matrix [x,y] = min(\n",
    "                    matrix[x-1, y] + 1,\n",
    "                    matrix[x-1, y-1],\n",
    "                    matrix[x, y-1] + 1\n",
    "                )\n",
    "            else:\n",
    "                matrix [x,y] = min(\n",
    "                    matrix[x-1,y] + 1,\n",
    "                    matrix[x-1,y-1] + 1,\n",
    "                    matrix[x,y-1] + 1\n",
    "                )\n",
    "    print (matrix)\n",
    "    return (matrix[size_x - 1, size_y - 1])\n",
    "\n",
    "levenshtein(\"ACA\",\"LDL\")"
   ]
  },
  {
   "cell_type": "code",
   "execution_count": 5,
   "metadata": {},
   "outputs": [],
   "source": [
    "def shotgun_data(landscape,num_samples=100):\n",
    "    \"\"\"\n",
    "    Shotgun data randomly samples the entirety of the dataset\n",
    "\n",
    "    Parameters\n",
    "    ----------\n",
    "    num_samples : int, default=1000\n",
    "\n",
    "        Determines how many datapoints will be sampled\n",
    "    \"\"\"\n",
    "    idxs = np.random.choice(len(landscape), size=(num_samples,))\n",
    "    return idxs\n",
    "\n"
   ]
  },
  {
   "cell_type": "code",
   "execution_count": 6,
   "metadata": {},
   "outputs": [
    {
     "name": "stdout",
     "output_type": "stream",
     "text": [
      "['__annotations__', '__call__', '__class__', '__closure__', '__code__', '__defaults__', '__delattr__', '__dict__', '__dir__', '__doc__', '__eq__', '__format__', '__ge__', '__get__', '__getattribute__', '__globals__', '__gt__', '__hash__', '__init__', '__init_subclass__', '__kwdefaults__', '__le__', '__lt__', '__module__', '__name__', '__ne__', '__new__', '__qualname__', '__reduce__', '__reduce_ex__', '__repr__', '__setattr__', '__sizeof__', '__str__', '__subclasshook__']\n"
     ]
    },
    {
     "ename": "NameError",
     "evalue": "name 'proland' is not defined",
     "output_type": "error",
     "traceback": [
      "\u001b[0;31m---------------------------------------------------------------------------\u001b[0m",
      "\u001b[0;31mNameError\u001b[0m                                 Traceback (most recent call last)",
      "\u001b[0;32m<ipython-input-6-e95a8e24fdb1>\u001b[0m in \u001b[0;36m<module>\u001b[0;34m\u001b[0m\n\u001b[1;32m     11\u001b[0m \u001b[0;34m\u001b[0m\u001b[0m\n\u001b[1;32m     12\u001b[0m \u001b[0;34m@\u001b[0m\u001b[0mgraph\u001b[0m\u001b[0;34m\u001b[0m\u001b[0;34m\u001b[0m\u001b[0m\n\u001b[0;32m---> 13\u001b[0;31m \u001b[0;32mdef\u001b[0m \u001b[0miters\u001b[0m\u001b[0;34m(\u001b[0m\u001b[0mProtein_Landscape\u001b[0m\u001b[0;34m)\u001b[0m\u001b[0;34m:\u001b[0m\u001b[0;34m\u001b[0m\u001b[0;34m\u001b[0m\u001b[0m\n\u001b[0m\u001b[1;32m     14\u001b[0m     \u001b[0;32mfor\u001b[0m \u001b[0mnode\u001b[0m \u001b[0;32min\u001b[0m \u001b[0mProtein_Landscape\u001b[0m\u001b[0;34m:\u001b[0m\u001b[0;34m\u001b[0m\u001b[0;34m\u001b[0m\u001b[0m\n\u001b[1;32m     15\u001b[0m         \u001b[0mprint\u001b[0m\u001b[0;34m(\u001b[0m\u001b[0mnode\u001b[0m\u001b[0;34m)\u001b[0m\u001b[0;34m\u001b[0m\u001b[0;34m\u001b[0m\u001b[0m\n",
      "\u001b[0;32m<ipython-input-6-e95a8e24fdb1>\u001b[0m in \u001b[0;36mgraph\u001b[0;34m(f)\u001b[0m\n\u001b[1;32m      5\u001b[0m \u001b[0;32mdef\u001b[0m \u001b[0mgraph\u001b[0m\u001b[0;34m(\u001b[0m\u001b[0mf\u001b[0m\u001b[0;34m)\u001b[0m\u001b[0;34m:\u001b[0m\u001b[0;34m\u001b[0m\u001b[0;34m\u001b[0m\u001b[0m\n\u001b[1;32m      6\u001b[0m     \u001b[0mprint\u001b[0m\u001b[0;34m(\u001b[0m\u001b[0mdir\u001b[0m\u001b[0;34m(\u001b[0m\u001b[0mf\u001b[0m\u001b[0;34m)\u001b[0m\u001b[0;34m)\u001b[0m\u001b[0;34m\u001b[0m\u001b[0;34m\u001b[0m\u001b[0m\n\u001b[0;32m----> 7\u001b[0;31m     \u001b[0mproland\u001b[0m\u001b[0;34m.\u001b[0m\u001b[0mcontext\u001b[0m \u001b[0;34m=\u001b[0m \u001b[0;34m\"graph\"\u001b[0m\u001b[0;34m\u001b[0m\u001b[0;34m\u001b[0m\u001b[0m\n\u001b[0m\u001b[1;32m      8\u001b[0m     \u001b[0;32mreturn\u001b[0m \u001b[0mproland\u001b[0m\u001b[0;34m\u001b[0m\u001b[0;34m\u001b[0m\u001b[0m\n\u001b[1;32m      9\u001b[0m \u001b[0;34m\u001b[0m\u001b[0m\n",
      "\u001b[0;31mNameError\u001b[0m: name 'proland' is not defined"
     ]
    }
   ],
   "source": [
    "def sequences(Protein_Landscape):\n",
    "    Protein_Landscape.context = \"sequences\"\n",
    "    return Protein_Landscape \n",
    "\n",
    "def graph(f):\n",
    "    print(dir(f))\n",
    "    proland.context = \"graph\"\n",
    "    return proland\n",
    "\n",
    "test.context = \"sequences\"\n",
    "\n",
    "@graph\n",
    "def iters(Protein_Landscape):\n",
    "    for node in Protein_Landscape:\n",
    "        print(node)\n",
    "\n",
    "\n",
    "#iter_graph(test)"
   ]
  },
  {
   "cell_type": "code",
   "execution_count": 10,
   "metadata": {},
   "outputs": [
    {
     "name": "stdout",
     "output_type": "stream",
     "text": [
      "         74 function calls in 0.001 seconds\n",
      "\n",
      "   Ordered by: cumulative time\n",
      "\n",
      "   ncalls  tottime  percall  cumtime  percall filename:lineno(function)\n",
      "        1    0.000    0.000    0.001    0.001 {built-in method builtins.exec}\n",
      "        1    0.000    0.000    0.001    0.001 <string>:1(<module>)\n",
      "        1    0.000    0.000    0.001    0.001 landscape_class.py:651(calc_neighbours)\n",
      "        1    0.000    0.000    0.000    0.000 landscape_class.py:625(generate_mutations)\n",
      "        1    0.000    0.000    0.000    0.000 landscape_class.py:683(<listcomp>)\n",
      "        2    0.000    0.000    0.000    0.000 {built-in method numpy.core._multiarray_umath.implement_array_function}\n",
      "        1    0.000    0.000    0.000    0.000 <__array_function__ internals>:2(sort)\n",
      "        1    0.000    0.000    0.000    0.000 <__array_function__ internals>:2(all)\n",
      "        1    0.000    0.000    0.000    0.000 fromnumeric.py:839(sort)\n",
      "        1    0.000    0.000    0.000    0.000 fromnumeric.py:2337(all)\n",
      "        1    0.000    0.000    0.000    0.000 fromnumeric.py:70(_wrapreduction)\n",
      "        1    0.000    0.000    0.000    0.000 {method 'reduce' of 'numpy.ufunc' objects}\n",
      "        1    0.000    0.000    0.000    0.000 _asarray.py:86(asanyarray)\n",
      "        1    0.000    0.000    0.000    0.000 {built-in method numpy.array}\n",
      "        1    0.000    0.000    0.000    0.000 {method 'sort' of 'numpy.ndarray' objects}\n",
      "        1    0.000    0.000    0.000    0.000 {built-in method numpy.zeros}\n",
      "       45    0.000    0.000    0.000    0.000 {method 'append' of 'list' objects}\n",
      "        1    0.000    0.000    0.000    0.000 {method 'copy' of 'numpy.ndarray' objects}\n",
      "        1    0.000    0.000    0.000    0.000 landscape_class.py:249(query)\n",
      "        1    0.000    0.000    0.000    0.000 landscape_class.py:207(seed)\n",
      "        1    0.000    0.000    0.000    0.000 fromnumeric.py:71(<dictcomp>)\n",
      "        3    0.000    0.000    0.000    0.000 {built-in method builtins.len}\n",
      "        1    0.000    0.000    0.000    0.000 fromnumeric.py:835(_sort_dispatcher)\n",
      "        1    0.000    0.000    0.000    0.000 {method 'items' of 'dict' objects}\n",
      "        1    0.000    0.000    0.000    0.000 fromnumeric.py:2333(_all_dispatcher)\n",
      "        1    0.000    0.000    0.000    0.000 {method 'disable' of '_lsprof.Profiler' objects}\n",
      "        1    0.000    0.000    0.000    0.000 {built-in method builtins.isinstance}\n",
      "\n",
      "\n"
     ]
    }
   ],
   "source": [
    "cProfile.run(\"big.calc_neighbours(5)\",sort=\"cumtime\")\n"
   ]
  },
  {
   "cell_type": "code",
   "execution_count": null,
   "metadata": {},
   "outputs": [],
   "source": []
  },
  {
   "cell_type": "code",
   "execution_count": 3,
   "metadata": {},
   "outputs": [
    {
     "name": "stdout",
     "output_type": "stream",
     "text": [
      "Building Protein Graph for entire dataset\n"
     ]
    },
    {
     "name": "stderr",
     "output_type": "stream",
     "text": [
      "100%|██████████| 100000/100000 [00:29<00:00, 3385.65it/s]\n"
     ]
    },
    {
     "name": "stdout",
     "output_type": "stream",
     "text": [
      "\n",
      "        Protein Landscape class\n",
      "            Number of Sequences : 100000\n",
      "            Max Distance        : 5\n",
      "            Number of Distances : 5\n",
      "            Seed Sequence       : \u001b[32mA\u001b[0m\u001b[32mA\u001b[0m\u001b[32mA\u001b[0m\u001b[32mA\u001b[0m\u001b[32mA\u001b[0m\n",
      "                Modified positions are shown in green\n",
      "        \n",
      "         7888635 function calls (7888595 primitive calls) in 30.326 seconds\n",
      "\n",
      "   Ordered by: cumulative time\n",
      "\n",
      "   ncalls  tottime  percall  cumtime  percall filename:lineno(function)\n",
      "        2    0.000    0.000   30.409   15.204 /home/adam/anaconda3/envs/Protein_Evolution/lib/python3.8/site-packages/IPython/core/interactiveshell.py:3376(run_code)\n",
      "        2    0.000    0.000   30.409   15.204 {built-in method builtins.exec}\n",
      "        1    0.001    0.001   30.409   30.409 <ipython-input-3-e8c766618cbc>:6(<module>)\n",
      "        1    0.002    0.002   30.407   30.407 /home/adam/PhD/Protein_Evolution/Protein_Landscape/Protein_Landscape/landscape_class.py:126(__init__)\n",
      "        1    2.671    2.671   29.686   29.686 /home/adam/PhD/Protein_Evolution/Protein_Landscape/Protein_Landscape/landscape_class.py:701(build_graph)\n",
      "   100000   10.983    0.000   26.647    0.000 /home/adam/PhD/Protein_Evolution/Protein_Landscape/Protein_Landscape/landscape_class.py:652(calc_neighbours)\n",
      "   100000    0.054    0.000   10.396    0.000 /home/adam/PhD/Protein_Evolution/Protein_Landscape/Protein_Landscape/landscape_class.py:696(tuple_seqs)\n",
      "   100000   10.342    0.000   10.342    0.000 /home/adam/PhD/Protein_Evolution/Protein_Landscape/Protein_Landscape/landscape_class.py:698(<listcomp>)\n",
      "   100000    3.296    0.000    4.161    0.000 /home/adam/PhD/Protein_Evolution/Protein_Landscape/Protein_Landscape/landscape_class.py:626(generate_mutations)\n",
      "   200014    0.085    0.000    1.411    0.000 {built-in method numpy.core._multiarray_umath.implement_array_function}\n",
      "   100000    0.047    0.000    0.886    0.000 <__array_function__ internals>:2(sort)\n",
      "   100000    0.090    0.000    0.790    0.000 /home/adam/anaconda3/envs/Protein_Evolution/lib/python3.8/site-packages/numpy/core/fromnumeric.py:839(sort)\n",
      "   100001    0.056    0.000    0.646    0.000 <__array_function__ internals>:2(all)\n",
      "   100001    0.058    0.000    0.535    0.000 /home/adam/anaconda3/envs/Protein_Evolution/lib/python3.8/site-packages/numpy/core/fromnumeric.py:2337(all)\n",
      "   100053    0.485    0.000    0.485    0.000 {built-in method numpy.array}\n",
      "   100002    0.100    0.000    0.479    0.000 /home/adam/anaconda3/envs/Protein_Evolution/lib/python3.8/site-packages/numpy/core/fromnumeric.py:70(_wrapreduction)\n",
      "   100002    0.024    0.000    0.422    0.000 /home/adam/anaconda3/envs/Protein_Evolution/lib/python3.8/site-packages/numpy/core/_asarray.py:86(asanyarray)\n",
      "   100017    0.343    0.000    0.343    0.000 {method 'reduce' of 'numpy.ufunc' objects}\n",
      "  4500048    0.221    0.000    0.221    0.000 {method 'append' of 'list' objects}\n",
      "   100001    0.059    0.000    0.220    0.000 /home/adam/anaconda3/envs/Protein_Evolution/lib/python3.8/site-packages/tqdm/std.py:1147(__iter__)\n",
      "        1    0.002    0.002    0.181    0.181 /home/adam/PhD/Protein_Evolution/Protein_Landscape/Protein_Landscape/landscape_class.py:576(tokenize_data)\n",
      "        1    0.030    0.030    0.160    0.160 /home/adam/PhD/Protein_Evolution/Protein_Landscape/Protein_Landscape/landscape_class.py:172(<dictcomp>)\n",
      "      293    0.002    0.000    0.160    0.001 /home/adam/anaconda3/envs/Protein_Evolution/lib/python3.8/site-packages/tqdm/std.py:1183(update)\n",
      "      294    0.001    0.000    0.158    0.001 /home/adam/anaconda3/envs/Protein_Evolution/lib/python3.8/site-packages/tqdm/std.py:1305(refresh)\n",
      "   100000    0.158    0.000    0.158    0.000 {method 'sort' of 'numpy.ndarray' objects}\n",
      "      295    0.001    0.000    0.157    0.001 /home/adam/anaconda3/envs/Protein_Evolution/lib/python3.8/site-packages/tqdm/std.py:1436(display)\n",
      "      359    0.002    0.000    0.145    0.000 /home/adam/anaconda3/envs/Protein_Evolution/lib/python3.8/site-packages/ipykernel/iostream.py:337(flush)\n",
      "      295    0.001    0.000    0.143    0.000 /home/adam/anaconda3/envs/Protein_Evolution/lib/python3.8/site-packages/tqdm/std.py:345(print_status)\n",
      "        1    0.000    0.000    0.138    0.138 /home/adam/anaconda3/envs/Protein_Evolution/lib/python3.8/multiprocessing/context.py:115(Pool)\n",
      "        1    0.000    0.000    0.138    0.138 /home/adam/anaconda3/envs/Protein_Evolution/lib/python3.8/multiprocessing/pool.py:183(__init__)\n",
      "        1    0.000    0.000    0.137    0.137 /home/adam/anaconda3/envs/Protein_Evolution/lib/python3.8/multiprocessing/pool.py:302(_repopulate_pool)\n",
      "        1    0.001    0.001    0.137    0.137 /home/adam/anaconda3/envs/Protein_Evolution/lib/python3.8/multiprocessing/pool.py:311(_repopulate_pool_static)\n",
      "      295    0.000    0.000    0.135    0.000 /home/adam/anaconda3/envs/Protein_Evolution/lib/python3.8/site-packages/tqdm/std.py:339(fp_write)\n",
      "      592    0.001    0.000    0.135    0.000 /home/adam/anaconda3/envs/Protein_Evolution/lib/python3.8/site-packages/tqdm/utils.py:141(inner)\n",
      "      362    0.001    0.000    0.135    0.000 /home/adam/anaconda3/envs/Protein_Evolution/lib/python3.8/threading.py:540(wait)\n",
      "       32    0.001    0.000    0.134    0.004 /home/adam/anaconda3/envs/Protein_Evolution/lib/python3.8/multiprocessing/process.py:110(start)\n",
      "      361    0.001    0.000    0.134    0.000 /home/adam/anaconda3/envs/Protein_Evolution/lib/python3.8/threading.py:270(wait)\n",
      "     3123    0.133    0.000    0.133    0.000 {method 'acquire' of '_thread.lock' objects}\n",
      "       32    0.001    0.000    0.132    0.004 /home/adam/anaconda3/envs/Protein_Evolution/lib/python3.8/multiprocessing/context.py:274(_Popen)\n",
      "       32    0.000    0.000    0.131    0.004 /home/adam/anaconda3/envs/Protein_Evolution/lib/python3.8/multiprocessing/popen_fork.py:15(__init__)\n",
      "   100001    0.028    0.000    0.130    0.000 /home/adam/PhD/Protein_Evolution/Protein_Landscape/Protein_Landscape/protein.py:16(__init__)\n",
      "   100000    0.119    0.000    0.119    0.000 {method 'copy' of 'numpy.ndarray' objects}\n",
      "   200012    0.113    0.000    0.113    0.000 {method 'items' of 'dict' objects}\n",
      "        1    0.113    0.113    0.113    0.113 /home/adam/PhD/Protein_Evolution/Protein_Landscape/Protein_Landscape/landscape_class.py:190(<dictcomp>)\n",
      "       32    0.001    0.000    0.108    0.003 /home/adam/anaconda3/envs/Protein_Evolution/lib/python3.8/multiprocessing/popen_fork.py:66(_launch)\n",
      "       32    0.105    0.003    0.105    0.003 {built-in method posix.fork}\n",
      "        1    0.019    0.019    0.101    0.101 /home/adam/PhD/Protein_Evolution/Protein_Landscape/Protein_Landscape/landscape_class.py:585(<listcomp>)\n",
      "        1    0.101    0.101    0.101    0.101 /home/adam/PhD/Protein_Evolution/Protein_Landscape/Protein_Landscape/landscape_class.py:189(<listcomp>)\n",
      "   100001    0.100    0.000    0.100    0.000 {built-in method numpy.zeros}\n",
      "   100002    0.072    0.000    0.098    0.000 /home/adam/PhD/Protein_Evolution/Protein_Landscape/Protein_Landscape/landscape_class.py:250(query)\n",
      "        3    0.036    0.012    0.062    0.021 /home/adam/PhD/Protein_Evolution/Protein_Landscape/Protein_Landscape/landscape_class.py:211(update_graph)\n",
      "        1    0.000    0.000    0.038    0.038 /home/adam/PhD/Protein_Evolution/Protein_Landscape/Protein_Landscape/landscape_class.py:530(csvDataLoader)\n",
      "        1    0.000    0.000    0.034    0.034 /home/adam/anaconda3/envs/Protein_Evolution/lib/python3.8/site-packages/pandas/io/parsers.py:528(read_csv)\n",
      "        1    0.000    0.000    0.034    0.034 /home/adam/anaconda3/envs/Protein_Evolution/lib/python3.8/site-packages/pandas/io/parsers.py:442(_read)\n",
      "        1    0.000    0.000    0.032    0.032 /home/adam/anaconda3/envs/Protein_Evolution/lib/python3.8/site-packages/pandas/io/parsers.py:1050(read)\n",
      "       33    0.000    0.000    0.030    0.001 /home/adam/anaconda3/envs/Protein_Evolution/lib/python3.8/multiprocessing/util.py:205(__call__)\n",
      "        1    0.000    0.000    0.029    0.029 /home/adam/anaconda3/envs/Protein_Evolution/lib/python3.8/multiprocessing/pool.py:677(_terminate_pool)\n",
      "        1    0.000    0.000    0.029    0.029 /home/adam/anaconda3/envs/Protein_Evolution/lib/python3.8/site-packages/pandas/io/parsers.py:2054(read)\n",
      "        1    0.028    0.028    0.029    0.029 {method 'read' of 'pandas._libs.parsers.TextReader' objects}\n",
      "202058/202057    0.026    0.000    0.026    0.000 {built-in method builtins.isinstance}\n",
      "   300001    0.026    0.000    0.026    0.000 {built-in method builtins.setattr}\n",
      "   100002    0.025    0.000    0.025    0.000 /home/adam/anaconda3/envs/Protein_Evolution/lib/python3.8/site-packages/numpy/core/fromnumeric.py:71(<dictcomp>)\n",
      "       32    0.000    0.000    0.023    0.001 /home/adam/anaconda3/envs/Protein_Evolution/lib/python3.8/multiprocessing/util.py:433(_flush_std_streams)\n",
      "      299    0.023    0.000    0.023    0.000 {method 'acquire' of '_multiprocessing.SemLock' objects}\n",
      "        1    0.000    0.000    0.023    0.023 /home/adam/anaconda3/envs/Protein_Evolution/lib/python3.8/multiprocessing/pool.py:668(_help_stuff_finish)\n",
      "300554/300523    0.022    0.000    0.022    0.000 {built-in method builtins.len}\n",
      "     1317    0.002    0.000    0.016    0.000 /home/adam/anaconda3/envs/Protein_Evolution/lib/python3.8/site-packages/ipykernel/iostream.py:197(schedule)\n",
      "      295    0.001    0.000    0.014    0.000 /home/adam/anaconda3/envs/Protein_Evolution/lib/python3.8/site-packages/tqdm/std.py:1137(__repr__)\n",
      "   100001    0.012    0.000    0.012    0.000 /home/adam/anaconda3/envs/Protein_Evolution/lib/python3.8/site-packages/numpy/core/fromnumeric.py:2333(_all_dispatcher)\n",
      "      301    0.001    0.000    0.012    0.000 /home/adam/anaconda3/envs/Protein_Evolution/lib/python3.8/site-packages/ipykernel/iostream.py:386(write)\n",
      "      295    0.005    0.000    0.012    0.000 /home/adam/anaconda3/envs/Protein_Evolution/lib/python3.8/site-packages/tqdm/std.py:352(format_meter)\n",
      "        1    0.012    0.012    0.012    0.012 /home/adam/PhD/Protein_Evolution/Protein_Landscape/Protein_Landscape/landscape_class.py:174(<dictcomp>)\n",
      "     1317    0.011    0.000    0.011    0.000 /home/adam/anaconda3/envs/Protein_Evolution/lib/python3.8/site-packages/zmq/sugar/socket.py:432(send)\n",
      "   100000    0.011    0.000    0.011    0.000 /home/adam/anaconda3/envs/Protein_Evolution/lib/python3.8/site-packages/numpy/core/fromnumeric.py:835(_sort_dispatcher)\n",
      "        1    0.000    0.000    0.008    0.008 /home/adam/PhD/Protein_Evolution/Protein_Landscape/Protein_Landscape/landscape_class.py:430(gen_d_data)\n",
      "        1    0.006    0.006    0.007    0.007 /home/adam/PhD/Protein_Evolution/Protein_Landscape/Protein_Landscape/landscape_class.py:490(hamming_array)\n",
      "        1    0.006    0.006    0.007    0.007 /home/adam/PhD/Protein_Evolution/Protein_Landscape/Protein_Landscape/landscape_class.py:590(calc_mutated_positions)\n",
      "      563    0.000    0.000    0.007    0.000 /home/adam/anaconda3/envs/Protein_Evolution/lib/python3.8/multiprocessing/popen_fork.py:24(poll)\n",
      "      295    0.000    0.000    0.006    0.000 /home/adam/anaconda3/envs/Protein_Evolution/lib/python3.8/site-packages/tqdm/utils.py:324(disp_len)\n",
      "      541    0.006    0.000    0.006    0.000 {built-in method posix.waitpid}\n",
      "        1    0.006    0.006    0.006    0.006 /home/adam/PhD/Protein_Evolution/Protein_Landscape/Protein_Landscape/landscape_class.py:587(boolean_mutant_array)\n",
      "      295    0.000    0.000    0.006    0.000 /home/adam/anaconda3/envs/Protein_Evolution/lib/python3.8/site-packages/tqdm/utils.py:320(_text_width)\n",
      "        3    0.000    0.000    0.006    0.002 /home/adam/anaconda3/envs/Protein_Evolution/lib/python3.8/multiprocessing/process.py:142(join)\n",
      "        3    0.000    0.000    0.006    0.002 /home/adam/anaconda3/envs/Protein_Evolution/lib/python3.8/multiprocessing/popen_fork.py:40(wait)\n",
      "      296    0.001    0.000    0.006    0.000 {built-in method builtins.sum}\n",
      "    16772    0.003    0.000    0.004    0.000 /home/adam/anaconda3/envs/Protein_Evolution/lib/python3.8/site-packages/tqdm/utils.py:321(<genexpr>)\n",
      "        4    0.000    0.000    0.004    0.001 <__array_function__ internals>:2(concatenate)\n",
      "     2366    0.003    0.000    0.004    0.000 {method 'format' of 'str' objects}\n",
      "      301    0.000    0.000    0.003    0.000 /home/adam/anaconda3/envs/Protein_Evolution/lib/python3.8/site-packages/ipykernel/iostream.py:323(_schedule_flush)\n",
      "        2    0.000    0.000    0.003    0.002 /home/adam/anaconda3/envs/Protein_Evolution/lib/python3.8/site-packages/pandas/core/frame.py:502(__init__)\n",
      "        1    0.000    0.000    0.003    0.003 /home/adam/anaconda3/envs/Protein_Evolution/lib/python3.8/site-packages/pandas/core/internals/construction.py:241(init_dict)\n",
      "        1    0.000    0.000    0.003    0.003 /home/adam/anaconda3/envs/Protein_Evolution/lib/python3.8/site-packages/pandas/core/frame.py:1375(to_numpy)\n",
      "        1    0.000    0.000    0.003    0.003 /home/adam/anaconda3/envs/Protein_Evolution/lib/python3.8/site-packages/pandas/core/internals/managers.py:825(as_array)\n",
      "        1    0.001    0.001    0.003    0.003 /home/adam/anaconda3/envs/Protein_Evolution/lib/python3.8/site-packages/pandas/core/internals/managers.py:884(_interleave)\n",
      "     1678    0.001    0.000    0.003    0.000 /home/adam/anaconda3/envs/Protein_Evolution/lib/python3.8/threading.py:1071(is_alive)\n",
      "      362    0.001    0.000    0.002    0.000 /home/adam/anaconda3/envs/Protein_Evolution/lib/python3.8/threading.py:505(__init__)\n",
      "       32    0.000    0.000    0.002    0.000 /home/adam/anaconda3/envs/Protein_Evolution/lib/python3.8/multiprocessing/pool.py:179(Process)\n",
      "        1    0.000    0.000    0.002    0.002 /home/adam/anaconda3/envs/Protein_Evolution/lib/python3.8/site-packages/pandas/core/internals/construction.py:62(arrays_to_mgr)\n",
      "       32    0.001    0.000    0.002    0.000 /home/adam/anaconda3/envs/Protein_Evolution/lib/python3.8/multiprocessing/process.py:80(__init__)\n",
      "        1    0.000    0.000    0.002    0.002 /home/adam/anaconda3/envs/Protein_Evolution/lib/python3.8/site-packages/pandas/io/parsers.py:775(__init__)\n",
      "        2    0.000    0.000    0.002    0.001 /home/adam/anaconda3/envs/Protein_Evolution/lib/python3.8/site-packages/pandas/core/internals/blocks.py:245(get_values)\n",
      "        2    0.002    0.001    0.002    0.001 {method 'astype' of 'numpy.ndarray' objects}\n",
      "        1    0.000    0.000    0.002    0.002 /home/adam/anaconda3/envs/Protein_Evolution/lib/python3.8/site-packages/pandas/io/parsers.py:1034(_make_engine)\n",
      "      362    0.002    0.000    0.002    0.000 /home/adam/anaconda3/envs/Protein_Evolution/lib/python3.8/threading.py:222(__init__)\n",
      "        1    0.001    0.001    0.002    0.002 /home/adam/anaconda3/envs/Protein_Evolution/lib/python3.8/site-packages/pandas/io/parsers.py:1848(__init__)\n",
      "      590    0.001    0.000    0.002    0.000 /home/adam/anaconda3/envs/Protein_Evolution/lib/python3.8/site-packages/tqdm/utils.py:214(_is_ascii)\n",
      "      295    0.001    0.000    0.002    0.000 /home/adam/anaconda3/envs/Protein_Evolution/lib/python3.8/site-packages/tqdm/std.py:1421(format_dict)\n",
      "        1    0.000    0.000    0.001    0.001 <__array_function__ internals>:2(sum)\n",
      "        1    0.000    0.000    0.001    0.001 /home/adam/anaconda3/envs/Protein_Evolution/lib/python3.8/site-packages/numpy/core/fromnumeric.py:2105(sum)\n",
      "      589    0.001    0.000    0.001    0.000 /home/adam/anaconda3/envs/Protein_Evolution/lib/python3.8/site-packages/tqdm/std.py:288(format_interval)\n",
      "    16477    0.001    0.000    0.001    0.000 {built-in method unicodedata.east_asian_width}\n",
      "        1    0.000    0.000    0.001    0.001 /home/adam/anaconda3/envs/Protein_Evolution/lib/python3.8/site-packages/pandas/core/frame.py:2987(__getitem__)\n",
      "     1759    0.001    0.000    0.001    0.000 /home/adam/anaconda3/envs/Protein_Evolution/lib/python3.8/site-packages/tqdm/std.py:233(__call__)\n",
      "        1    0.000    0.000    0.001    0.001 /home/adam/anaconda3/envs/Protein_Evolution/lib/python3.8/site-packages/tqdm/std.py:839(__init__)\n",
      "        5    0.000    0.000    0.001    0.000 /home/adam/anaconda3/envs/Protein_Evolution/lib/python3.8/site-packages/pandas/core/construction.py:423(sanitize_array)\n",
      "       32    0.000    0.000    0.001    0.000 /home/adam/anaconda3/envs/Protein_Evolution/lib/python3.8/multiprocessing/process.py:61(_cleanup)\n",
      "        1    0.000    0.000    0.001    0.001 /home/adam/anaconda3/envs/Protein_Evolution/lib/python3.8/site-packages/pandas/core/internals/construction.py:333(_homogenize)\n",
      "     1681    0.000    0.000    0.001    0.000 /home/adam/anaconda3/envs/Protein_Evolution/lib/python3.8/threading.py:1017(_wait_for_tstate_lock)\n",
      "        9    0.001    0.000    0.001    0.000 {pandas._libs.lib.infer_dtype}\n",
      "       33    0.001    0.000    0.001    0.000 /home/adam/anaconda3/envs/Protein_Evolution/lib/python3.8/multiprocessing/util.py:186(__init__)\n",
      "        1    0.000    0.000    0.001    0.001 /home/adam/anaconda3/envs/Protein_Evolution/lib/python3.8/site-packages/pandas/core/generic.py:3590(_take_with_is_copy)\n",
      "        1    0.000    0.000    0.001    0.001 /home/adam/anaconda3/envs/Protein_Evolution/lib/python3.8/site-packages/pandas/core/generic.py:3491(take)\n",
      "        1    0.000    0.000    0.001    0.001 /home/adam/anaconda3/envs/Protein_Evolution/lib/python3.8/site-packages/pandas/core/internals/managers.py:1690(create_block_manager_from_arrays)\n",
      "        1    0.000    0.000    0.001    0.001 /home/adam/anaconda3/envs/Protein_Evolution/lib/python3.8/site-packages/pandas/core/internals/managers.py:1454(take)\n",
      "        1    0.000    0.000    0.001    0.001 /home/adam/anaconda3/envs/Protein_Evolution/lib/python3.8/site-packages/pandas/core/internals/managers.py:1733(_form_blocks)\n",
      "      295    0.001    0.000    0.001    0.000 /home/adam/anaconda3/envs/Protein_Evolution/lib/python3.8/site-packages/tqdm/std.py:187(__format__)\n",
      "      3/2    0.000    0.000    0.001    0.000 /home/adam/anaconda3/envs/Protein_Evolution/lib/python3.8/site-packages/pandas/core/series.py:209(__init__)\n",
      "        1    0.000    0.000    0.001    0.001 /home/adam/anaconda3/envs/Protein_Evolution/lib/python3.8/site-packages/pandas/core/internals/managers.py:1260(reindex_indexer)\n",
      "        1    0.000    0.000    0.001    0.001 /home/adam/anaconda3/envs/Protein_Evolution/lib/python3.8/site-packages/pandas/core/internals/managers.py:1327(_slice_take_blocks_ax0)\n",
      "       14    0.000    0.000    0.001    0.000 /home/adam/anaconda3/envs/Protein_Evolution/lib/python3.8/site-packages/pandas/core/indexes/base.py:5836(ensure_index)\n",
      "        4    0.000    0.000    0.001    0.000 /home/adam/anaconda3/envs/Protein_Evolution/lib/python3.8/site-packages/pandas/core/algorithms.py:1661(take_nd)\n",
      "        2    0.000    0.000    0.001    0.000 /home/adam/anaconda3/envs/Protein_Evolution/lib/python3.8/site-packages/tqdm/std.py:1249(close)\n",
      "     11/5    0.000    0.000    0.001    0.000 /home/adam/anaconda3/envs/Protein_Evolution/lib/python3.8/site-packages/pandas/core/indexes/base.py:250(__new__)\n",
      "        2    0.000    0.000    0.001    0.000 /home/adam/anaconda3/envs/Protein_Evolution/lib/python3.8/site-packages/pandas/core/internals/blocks.py:1368(take_nd)\n",
      "      298    0.000    0.000    0.001    0.000 /home/adam/anaconda3/envs/Protein_Evolution/lib/python3.8/site-packages/tqdm/std.py:103(acquire)\n",
      "        3    0.000    0.000    0.001    0.000 /home/adam/anaconda3/envs/Protein_Evolution/lib/python3.8/site-packages/pandas/core/internals/managers.py:1860(_stack_arrays)\n",
      "       14    0.001    0.000    0.001    0.000 {built-in method numpy.empty}\n",
      "     1317    0.001    0.000    0.001    0.000 /home/adam/anaconda3/envs/Protein_Evolution/lib/python3.8/site-packages/ipykernel/iostream.py:93(_event_pipe)\n",
      "        3    0.000    0.000    0.001    0.000 /home/adam/anaconda3/envs/Protein_Evolution/lib/python3.8/threading.py:834(start)\n",
      "      298    0.000    0.000    0.001    0.000 /home/adam/anaconda3/envs/Protein_Evolution/lib/python3.8/site-packages/tqdm/std.py:107(release)\n",
      "        2    0.000    0.000    0.000    0.000 {built-in method builtins.print}\n",
      "       14    0.000    0.000    0.000    0.000 /home/adam/anaconda3/envs/Protein_Evolution/lib/python3.8/codecs.py:319(decode)\n",
      "       67    0.000    0.000    0.000    0.000 {built-in method posix.pipe}\n",
      "      294    0.000    0.000    0.000    0.000 {built-in method now}\n",
      "       14    0.000    0.000    0.000    0.000 {built-in method _codecs.utf_8_decode}\n",
      "        1    0.000    0.000    0.000    0.000 /home/adam/anaconda3/envs/Protein_Evolution/lib/python3.8/site-packages/pandas/core/series.py:343(_init_dict)\n",
      "      295    0.000    0.000    0.000    0.000 /home/adam/anaconda3/envs/Protein_Evolution/lib/python3.8/site-packages/tqdm/std.py:154(__init__)\n",
      "      301    0.000    0.000    0.000    0.000 /home/adam/anaconda3/envs/Protein_Evolution/lib/python3.8/site-packages/ipykernel/iostream.py:310(_is_master_process)\n",
      "        1    0.000    0.000    0.000    0.000 /home/adam/anaconda3/envs/Protein_Evolution/lib/python3.8/site-packages/pandas/core/internals/managers.py:1829(_simple_blockify)\n",
      "        1    0.000    0.000    0.000    0.000 /home/adam/anaconda3/envs/Protein_Evolution/lib/python3.8/site-packages/pandas/core/indexing.py:1222(_get_listlike_indexer)\n",
      "        1    0.000    0.000    0.000    0.000 /home/adam/anaconda3/envs/Protein_Evolution/lib/python3.8/site-packages/pandas/io/parsers.py:1353(_open_handles)\n",
      "        1    0.000    0.000    0.000    0.000 /home/adam/anaconda3/envs/Protein_Evolution/lib/python3.8/site-packages/pandas/io/common.py:491(get_handle)\n",
      "     6196    0.000    0.000    0.000    0.000 {built-in method builtins.ord}\n",
      "        1    0.000    0.000    0.000    0.000 {pandas._libs.algos.take_2d_axis1_object_object}\n",
      "      295    0.000    0.000    0.000    0.000 {method 'sub' of 're.Pattern' objects}\n",
      "        1    0.000    0.000    0.000    0.000 /home/adam/anaconda3/envs/Protein_Evolution/lib/python3.8/site-packages/pandas/core/construction.py:632(create_series_with_explicit_dtype)\n",
      "      723    0.000    0.000    0.000    0.000 {built-in method _thread.allocate_lock}\n",
      "        3    0.000    0.000    0.000    0.000 /home/adam/anaconda3/envs/Protein_Evolution/lib/python3.8/multiprocessing/context.py:110(SimpleQueue)\n",
      "        2    0.000    0.000    0.000    0.000 /home/adam/anaconda3/envs/Protein_Evolution/lib/python3.8/site-packages/pandas/core/internals/managers.py:1844(_multi_blockify)\n",
      "        3    0.000    0.000    0.000    0.000 /home/adam/anaconda3/envs/Protein_Evolution/lib/python3.8/multiprocessing/queues.py:334(__init__)\n",
      "     1817    0.000    0.000    0.000    0.000 {built-in method time.time}\n",
      "       36    0.000    0.000    0.000    0.000 /home/adam/anaconda3/envs/Protein_Evolution/lib/python3.8/_weakrefset.py:81(add)\n",
      "     1678    0.000    0.000    0.000    0.000 {method 'append' of 'collections.deque' objects}\n",
      "      134    0.000    0.000    0.000    0.000 {built-in method posix.close}\n",
      "       32    0.000    0.000    0.000    0.000 /home/adam/anaconda3/envs/Protein_Evolution/lib/python3.8/logging/__init__.py:223(_releaseLock)\n",
      "        6    0.000    0.000    0.000    0.000 /home/adam/anaconda3/envs/Protein_Evolution/lib/python3.8/multiprocessing/context.py:65(Lock)\n",
      "        6    0.000    0.000    0.000    0.000 <__array_function__ internals>:2(where)\n",
      "        4    0.000    0.000    0.000    0.000 /home/adam/anaconda3/envs/Protein_Evolution/lib/python3.8/multiprocessing/queues.py:360(put)\n",
      "      361    0.000    0.000    0.000    0.000 /home/adam/anaconda3/envs/Protein_Evolution/lib/python3.8/threading.py:258(_acquire_restore)\n",
      "        6    0.000    0.000    0.000    0.000 /home/adam/anaconda3/envs/Protein_Evolution/lib/python3.8/multiprocessing/synchronize.py:161(__init__)\n",
      "        6    0.000    0.000    0.000    0.000 /home/adam/anaconda3/envs/Protein_Evolution/lib/python3.8/multiprocessing/synchronize.py:50(__init__)\n",
      "     1688    0.000    0.000    0.000    0.000 /home/adam/anaconda3/envs/Protein_Evolution/lib/python3.8/threading.py:513(is_set)\n",
      "        1    0.000    0.000    0.000    0.000 /home/adam/anaconda3/envs/Protein_Evolution/lib/python3.8/multiprocessing/pool.py:342(_setup_queues)\n",
      "      103    0.000    0.000    0.000    0.000 /home/adam/anaconda3/envs/Protein_Evolution/lib/python3.8/site-packages/pandas/core/dtypes/base.py:254(is_dtype)\n",
      "      362    0.000    0.000    0.000    0.000 /home/adam/anaconda3/envs/Protein_Evolution/lib/python3.8/threading.py:246(__enter__)\n",
      "      478    0.000    0.000    0.000    0.000 {built-in method posix.getpid}\n",
      "      362    0.000    0.000    0.000    0.000 /home/adam/anaconda3/envs/Protein_Evolution/lib/python3.8/threading.py:249(__exit__)\n",
      "       32    0.000    0.000    0.000    0.000 /home/adam/anaconda3/envs/Protein_Evolution/lib/python3.8/multiprocessing/process.py:224(exitcode)\n",
      "        5    0.000    0.000    0.000    0.000 /home/adam/anaconda3/envs/Protein_Evolution/lib/python3.8/site-packages/pandas/core/internals/blocks.py:2711(make_block)\n",
      "        1    0.000    0.000    0.000    0.000 /home/adam/anaconda3/envs/Protein_Evolution/lib/python3.8/multiprocessing/pool.py:263(__del__)\n",
      "     1473    0.000    0.000    0.000    0.000 {built-in method builtins.divmod}\n",
      "      361    0.000    0.000    0.000    0.000 /home/adam/anaconda3/envs/Protein_Evolution/lib/python3.8/threading.py:261(_is_owned)\n",
      "        1    0.000    0.000    0.000    0.000 {built-in method io.open}\n",
      "        2    0.000    0.000    0.000    0.000 /home/adam/anaconda3/envs/Protein_Evolution/lib/python3.8/site-packages/pandas/core/indexes/base.py:3142(get_indexer)\n",
      "       40    0.000    0.000    0.000    0.000 {method 'join' of 'str' objects}\n",
      "      361    0.000    0.000    0.000    0.000 /home/adam/anaconda3/envs/Protein_Evolution/lib/python3.8/threading.py:255(_release_save)\n",
      "        1    0.000    0.000    0.000    0.000 /home/adam/anaconda3/envs/Protein_Evolution/lib/python3.8/site-packages/pandas/core/indexes/base.py:4946(get_indexer_for)\n",
      "      298    0.000    0.000    0.000    0.000 {built-in method builtins.max}\n",
      "        8    0.000    0.000    0.000    0.000 /home/adam/anaconda3/envs/Protein_Evolution/lib/python3.8/site-packages/pandas/core/internals/blocks.py:2662(get_block_type)\n",
      "        1    0.000    0.000    0.000    0.000 /home/adam/anaconda3/envs/Protein_Evolution/lib/python3.8/site-packages/pandas/core/series.py:4748(isna)\n",
      "       32    0.000    0.000    0.000    0.000 /home/adam/anaconda3/envs/Protein_Evolution/lib/python3.8/multiprocessing/util.py:461(close_fds)\n",
      "        1    0.000    0.000    0.000    0.000 /home/adam/anaconda3/envs/Protein_Evolution/lib/python3.8/site-packages/pandas/core/indexes/base.py:3478(reindex)\n",
      "        1    0.000    0.000    0.000    0.000 /home/adam/anaconda3/envs/Protein_Evolution/lib/python3.8/site-packages/pandas/core/generic.py:7411(isna)\n",
      "       46    0.000    0.000    0.000    0.000 /home/adam/anaconda3/envs/Protein_Evolution/lib/python3.8/site-packages/pandas/core/dtypes/common.py:537(is_categorical_dtype)\n",
      "       81    0.000    0.000    0.000    0.000 /home/adam/anaconda3/envs/Protein_Evolution/lib/python3.8/site-packages/pandas/core/dtypes/common.py:1470(is_extension_array_dtype)\n",
      "      300    0.000    0.000    0.000    0.000 {method 'update' of 'dict' objects}\n",
      "        3    0.000    0.000    0.000    0.000 /home/adam/anaconda3/envs/Protein_Evolution/lib/python3.8/site-packages/pandas/core/dtypes/missing.py:50(isna)\n",
      "        1    0.000    0.000    0.000    0.000 /home/adam/anaconda3/envs/Protein_Evolution/lib/python3.8/site-packages/pandas/io/common.py:210(_get_filepath_or_buffer)\n",
      "       42    0.000    0.000    0.000    0.000 <frozen importlib._bootstrap>:389(parent)\n",
      "        3    0.000    0.000    0.000    0.000 /home/adam/anaconda3/envs/Protein_Evolution/lib/python3.8/site-packages/pandas/core/dtypes/missing.py:133(_isna)\n",
      "      330    0.000    0.000    0.000    0.000 {method 'release' of '_thread.RLock' objects}\n",
      "       82    0.000    0.000    0.000    0.000 {built-in method builtins.next}\n",
      "        1    0.000    0.000    0.000    0.000 /home/adam/anaconda3/envs/Protein_Evolution/lib/python3.8/site-packages/pandas/core/dtypes/missing.py:202(_isna_ndarraylike)\n",
      "        4    0.000    0.000    0.000    0.000 /home/adam/anaconda3/envs/Protein_Evolution/lib/python3.8/multiprocessing/reduction.py:48(dumps)\n",
      "      430    0.000    0.000    0.000    0.000 /home/adam/anaconda3/envs/Protein_Evolution/lib/python3.8/site-packages/pandas/core/dtypes/generic.py:30(_check)\n",
      "        1    0.000    0.000    0.000    0.000 {pandas._libs.algos.take_2d_axis1_float64_float64}\n",
      "        3    0.000    0.000    0.000    0.000 /home/adam/anaconda3/envs/Protein_Evolution/lib/python3.8/threading.py:761(__init__)\n",
      "      295    0.000    0.000    0.000    0.000 /home/adam/anaconda3/envs/Protein_Evolution/lib/python3.8/site-packages/tqdm/utils.py:57(__init__)\n",
      "       32    0.000    0.000    0.000    0.000 /home/adam/anaconda3/envs/Protein_Evolution/lib/python3.8/multiprocessing/process.py:153(is_alive)\n",
      "        5    0.000    0.000    0.000    0.000 /home/adam/anaconda3/envs/Protein_Evolution/lib/python3.8/site-packages/pandas/core/construction.py:554(_try_cast)\n",
      "      673    0.000    0.000    0.000    0.000 {built-in method builtins.hasattr}\n",
      "      330    0.000    0.000    0.000    0.000 {method 'acquire' of '_thread.RLock' objects}\n",
      "        4    0.000    0.000    0.000    0.000 /home/adam/anaconda3/envs/Protein_Evolution/lib/python3.8/site-packages/pandas/core/indexes/base.py:4393(equals)\n",
      "        6    0.000    0.000    0.000    0.000 /home/adam/anaconda3/envs/Protein_Evolution/lib/python3.8/site-packages/joblib/externals/loky/backend/__init__.py:8(_make_name)\n",
      "      295    0.000    0.000    0.000    0.000 /home/adam/anaconda3/envs/Protein_Evolution/lib/python3.8/site-packages/tqdm/std.py:168(colour)\n",
      "        1    0.000    0.000    0.000    0.000 /home/adam/anaconda3/envs/Protein_Evolution/lib/python3.8/site-packages/pandas/core/generic.py:10853(any)\n",
      "       33    0.000    0.000    0.000    0.000 /home/adam/anaconda3/envs/Protein_Evolution/lib/python3.8/site-packages/pandas/core/dtypes/common.py:499(is_interval_dtype)\n",
      "      295    0.000    0.000    0.000    0.000 /home/adam/anaconda3/envs/Protein_Evolution/lib/python3.8/site-packages/tqdm/utils.py:61(__format__)\n",
      "        4    0.000    0.000    0.000    0.000 /home/adam/anaconda3/envs/Protein_Evolution/lib/python3.8/multiprocessing/reduction.py:38(__init__)\n",
      "        1    0.000    0.000    0.000    0.000 /home/adam/anaconda3/envs/Protein_Evolution/lib/python3.8/site-packages/pandas/core/generic.py:10588(any)\n",
      "       91    0.000    0.000    0.000    0.000 /home/adam/anaconda3/envs/Protein_Evolution/lib/python3.8/site-packages/pandas/core/dtypes/common.py:1610(_is_dtype_type)\n",
      "        1    0.000    0.000    0.000    0.000 /home/adam/anaconda3/envs/Protein_Evolution/lib/python3.8/site-packages/pandas/core/series.py:4307(reindex)\n",
      "       33    0.000    0.000    0.000    0.000 /home/adam/anaconda3/envs/Protein_Evolution/lib/python3.8/site-packages/pandas/core/dtypes/common.py:463(is_period_dtype)\n",
      "       38    0.000    0.000    0.000    0.000 {method 'copy' of 'dict' objects}\n",
      "        1    0.000    0.000    0.000    0.000 /home/adam/anaconda3/envs/Protein_Evolution/lib/python3.8/site-packages/pandas/core/generic.py:10560(_logical_func)\n",
      "       70    0.000    0.000    0.000    0.000 {method 'add' of 'set' objects}\n",
      "        1    0.000    0.000    0.000    0.000 /home/adam/anaconda3/envs/Protein_Evolution/lib/python3.8/site-packages/pandas/core/generic.py:4561(reindex)\n",
      "    18/17    0.000    0.000    0.000    0.000 {built-in method builtins.all}\n",
      "        2    0.000    0.000    0.000    0.000 /home/adam/anaconda3/envs/Protein_Evolution/lib/python3.8/site-packages/pandas/core/internals/managers.py:1577(from_array)\n",
      "       16    0.000    0.000    0.000    0.000 /home/adam/anaconda3/envs/Protein_Evolution/lib/python3.8/site-packages/pandas/core/dtypes/common.py:1341(is_bool_dtype)\n",
      "        6    0.000    0.000    0.000    0.000 /home/adam/anaconda3/envs/Protein_Evolution/lib/python3.8/tempfile.py:144(__next__)\n",
      "        1    0.000    0.000    0.000    0.000 /home/adam/PhD/Protein_Evolution/Protein_Landscape/Protein_Landscape/landscape_class.py:216(__str__)\n",
      "        2    0.000    0.000    0.000    0.000 {pandas._libs.lib.clean_index_list}\n",
      "       23    0.000    0.000    0.000    0.000 /home/adam/anaconda3/envs/Protein_Evolution/lib/python3.8/site-packages/numpy/core/_dtype.py:321(_name_get)\n",
      "        1    0.000    0.000    0.000    0.000 /home/adam/anaconda3/envs/Protein_Evolution/lib/python3.8/site-packages/pandas/core/series.py:4119(_reduce)\n",
      "      362    0.000    0.000    0.000    0.000 {method '__enter__' of '_thread.lock' objects}\n",
      "        7    0.000    0.000    0.000    0.000 /home/adam/anaconda3/envs/Protein_Evolution/lib/python3.8/site-packages/pandas/core/internals/blocks.py:127(__init__)\n",
      "        2    0.000    0.000    0.000    0.000 /home/adam/anaconda3/envs/Protein_Evolution/lib/python3.8/codeop.py:140(__call__)\n",
      "       11    0.000    0.000    0.000    0.000 {method 'any' of 'numpy.ndarray' objects}\n",
      "        4    0.000    0.000    0.000    0.000 /home/adam/anaconda3/envs/Protein_Evolution/lib/python3.8/multiprocessing/connection.py:181(send_bytes)\n",
      "       26    0.000    0.000    0.000    0.000 /home/adam/anaconda3/envs/Protein_Evolution/lib/python3.8/site-packages/pandas/core/dtypes/dtypes.py:1132(is_dtype)\n",
      "       82    0.000    0.000    0.000    0.000 /home/adam/anaconda3/envs/Protein_Evolution/lib/python3.8/site-packages/pandas/core/dtypes/base.py:411(find)\n",
      "      665    0.000    0.000    0.000    0.000 {built-in method builtins.getattr}\n",
      "       11    0.000    0.000    0.000    0.000 /home/adam/anaconda3/envs/Protein_Evolution/lib/python3.8/site-packages/numpy/core/_methods.py:53(_any)\n",
      "      298    0.000    0.000    0.000    0.000 {method 'release' of '_multiprocessing.SemLock' objects}\n",
      "        2    0.000    0.000    0.000    0.000 {built-in method builtins.compile}\n",
      "       26    0.000    0.000    0.000    0.000 /home/adam/anaconda3/envs/Protein_Evolution/lib/python3.8/site-packages/pandas/core/dtypes/dtypes.py:923(is_dtype)\n",
      "        1    0.000    0.000    0.000    0.000 /home/adam/PhD/Protein_Evolution/Protein_Landscape/Protein_Landscape/landscape_class.py:604(coloured_seed_string)\n",
      "        6    0.000    0.000    0.000    0.000 /home/adam/anaconda3/envs/Protein_Evolution/lib/python3.8/tempfile.py:147(<listcomp>)\n",
      "        3    0.000    0.000    0.000    0.000 {built-in method _thread.start_new_thread}\n",
      "      359    0.000    0.000    0.000    0.000 {built-in method _imp.lock_held}\n",
      "        5    0.000    0.000    0.000    0.000 /home/adam/anaconda3/envs/Protein_Evolution/lib/python3.8/site-packages/pandas/core/indexes/base.py:6023(_maybe_cast_data_without_dtype)\n",
      "        2    0.000    0.000    0.000    0.000 /home/adam/anaconda3/envs/Protein_Evolution/lib/python3.8/site-packages/pandas/core/generic.py:4794(<genexpr>)\n",
      "        4    0.000    0.000    0.000    0.000 /home/adam/anaconda3/envs/Protein_Evolution/lib/python3.8/site-packages/pandas/core/dtypes/cast.py:1379(maybe_cast_to_datetime)\n",
      "      364    0.000    0.000    0.000    0.000 {method 'release' of '_thread.lock' objects}\n",
      "       48    0.000    0.000    0.000    0.000 /home/adam/anaconda3/envs/Protein_Evolution/lib/python3.8/random.py:285(choice)\n",
      "        1    0.000    0.000    0.000    0.000 /home/adam/anaconda3/envs/Protein_Evolution/lib/python3.8/site-packages/pandas/core/internals/managers.py:1887(_interleaved_dtype)\n",
      "        4    0.000    0.000    0.000    0.000 /home/adam/anaconda3/envs/Protein_Evolution/lib/python3.8/site-packages/pandas/core/dtypes/missing.py:367(array_equivalent)\n",
      "       64    0.000    0.000    0.000    0.000 /home/adam/anaconda3/envs/Protein_Evolution/lib/python3.8/multiprocessing/process.py:189(name)\n",
      "       64    0.000    0.000    0.000    0.000 /home/adam/anaconda3/envs/Protein_Evolution/lib/python3.8/multiprocessing/process.py:94(<genexpr>)\n",
      "        1    0.000    0.000    0.000    0.000 /home/adam/anaconda3/envs/Protein_Evolution/lib/python3.8/site-packages/tqdm/utils.py:273(_screen_shape_linux)\n",
      "        1    0.000    0.000    0.000    0.000 /home/adam/anaconda3/envs/Protein_Evolution/lib/python3.8/site-packages/pandas/core/dtypes/cast.py:1517(find_common_type)\n",
      "        1    0.000    0.000    0.000    0.000 /home/adam/anaconda3/envs/Protein_Evolution/lib/python3.8/site-packages/pandas/core/indexes/base.py:4472(identical)\n",
      "      295    0.000    0.000    0.000    0.000 /home/adam/anaconda3/envs/Protein_Evolution/lib/python3.8/site-packages/tqdm/std.py:164(colour)\n",
      "        7    0.000    0.000    0.000    0.000 /home/adam/anaconda3/envs/Protein_Evolution/lib/python3.8/site-packages/pandas/core/dtypes/common.py:573(is_string_dtype)\n",
      "        1    0.000    0.000    0.000    0.000 /home/adam/PhD/Protein_Evolution/Protein_Landscape/Protein_Landscape/landscape_class.py:459(<dictcomp>)\n",
      "       12    0.000    0.000    0.000    0.000 /home/adam/anaconda3/envs/Protein_Evolution/lib/python3.8/site-packages/pandas/core/common.py:198(asarray_tuplesafe)\n",
      "        4    0.000    0.000    0.000    0.000 /home/adam/anaconda3/envs/Protein_Evolution/lib/python3.8/multiprocessing/connection.py:390(_send_bytes)\n",
      "       28    0.000    0.000    0.000    0.000 /home/adam/anaconda3/envs/Protein_Evolution/lib/python3.8/site-packages/pandas/core/dtypes/common.py:201(is_object_dtype)\n",
      "        1    0.000    0.000    0.000    0.000 /home/adam/PhD/Protein_Evolution/Protein_Landscape/Protein_Landscape/landscape_class.py:618(gen_mutation_arrays)\n",
      "        1    0.000    0.000    0.000    0.000 /home/adam/anaconda3/envs/Protein_Evolution/lib/python3.8/site-packages/pandas/core/indexes/range.py:85(__new__)\n",
      "      297    0.000    0.000    0.000    0.000 {built-in method builtins.abs}\n",
      "        8    0.000    0.000    0.000    0.000 /home/adam/anaconda3/envs/Protein_Evolution/lib/python3.8/site-packages/pandas/core/dtypes/common.py:1551(_is_dtype)\n",
      "       16    0.000    0.000    0.000    0.000 /home/adam/anaconda3/envs/Protein_Evolution/lib/python3.8/site-packages/pandas/core/dtypes/common.py:703(is_integer_dtype)\n",
      "        5    0.000    0.000    0.000    0.000 {built-in method builtins.any}\n",
      "        4    0.000    0.000    0.000    0.000 /home/adam/anaconda3/envs/Protein_Evolution/lib/python3.8/site-packages/pandas/core/algorithms.py:1534(_get_take_nd_function)\n",
      "        2    0.000    0.000    0.000    0.000 /home/adam/anaconda3/envs/Protein_Evolution/lib/python3.8/site-packages/tqdm/std.py:1266(fp_write)\n",
      "        1    0.000    0.000    0.000    0.000 /home/adam/anaconda3/envs/Protein_Evolution/lib/python3.8/site-packages/tqdm/std.py:559(__new__)\n",
      "      362    0.000    0.000    0.000    0.000 {method '__exit__' of '_thread.lock' objects}\n",
      "       10    0.000    0.000    0.000    0.000 /home/adam/anaconda3/envs/Protein_Evolution/lib/python3.8/multiprocessing/process.py:128(terminate)\n",
      "        2    0.000    0.000    0.000    0.000 /home/adam/anaconda3/envs/Protein_Evolution/lib/python3.8/site-packages/pandas/core/dtypes/cast.py:542(maybe_promote)\n",
      "        1    0.000    0.000    0.000    0.000 /home/adam/anaconda3/envs/Protein_Evolution/lib/python3.8/site-packages/pandas/io/common.py:108(is_url)\n",
      "       34    0.000    0.000    0.000    0.000 /home/adam/anaconda3/envs/Protein_Evolution/lib/python3.8/site-packages/numpy/core/_asarray.py:14(asarray)\n",
      "        1    0.000    0.000    0.000    0.000 /home/adam/anaconda3/envs/Protein_Evolution/lib/python3.8/site-packages/pandas/core/nanops.py:440(nanany)\n",
      "        3    0.000    0.000    0.000    0.000 /home/adam/anaconda3/envs/Protein_Evolution/lib/python3.8/site-packages/pandas/core/dtypes/common.py:602(condition)\n",
      "        1    0.000    0.000    0.000    0.000 /home/adam/anaconda3/envs/Protein_Evolution/lib/python3.8/site-packages/pandas/io/parsers.py:1084(__exit__)\n",
      "      317    0.000    0.000    0.000    0.000 {built-in method builtins.issubclass}\n",
      "        1    0.000    0.000    0.000    0.000 /home/adam/anaconda3/envs/Protein_Evolution/lib/python3.8/site-packages/pandas/io/parsers.py:816(close)\n",
      "        3    0.000    0.000    0.000    0.000 /home/adam/anaconda3/envs/Protein_Evolution/lib/python3.8/site-packages/pandas/core/dtypes/common.py:605(is_excluded_dtype)\n",
      "        7    0.000    0.000    0.000    0.000 /home/adam/anaconda3/envs/Protein_Evolution/lib/python3.8/site-packages/pandas/core/internals/blocks.py:269(mgr_locs)\n",
      "       33    0.000    0.000    0.000    0.000 {method 'replace' of 'str' objects}\n",
      "        1    0.000    0.000    0.000    0.000 /home/adam/anaconda3/envs/Protein_Evolution/lib/python3.8/urllib/parse.py:366(urlparse)\n",
      "        1    0.000    0.000    0.000    0.000 /home/adam/anaconda3/envs/Protein_Evolution/lib/python3.8/site-packages/pandas/io/parsers.py:1982(close)\n",
      "       35    0.000    0.000    0.000    0.000 /home/adam/anaconda3/envs/Protein_Evolution/lib/python3.8/_weakrefset.py:38(_remove)\n",
      "       16    0.000    0.000    0.000    0.000 /home/adam/anaconda3/envs/Protein_Evolution/lib/python3.8/site-packages/pandas/core/indexes/base.py:5953(maybe_extract_name)\n",
      "       19    0.000    0.000    0.000    0.000 /home/adam/anaconda3/envs/Protein_Evolution/lib/python3.8/site-packages/pandas/core/dtypes/common.py:1307(is_float_dtype)\n",
      "        1    0.000    0.000    0.000    0.000 {built-in method _warnings.warn}\n",
      "        1    0.000    0.000    0.000    0.000 /home/adam/anaconda3/envs/Protein_Evolution/lib/python3.8/site-packages/pandas/io/parsers.py:871(_clean_options)\n",
      "        4    0.000    0.000    0.000    0.000 /home/adam/anaconda3/envs/Protein_Evolution/lib/python3.8/site-packages/pandas/core/dtypes/cast.py:1257(maybe_castable)\n",
      "       10    0.000    0.000    0.000    0.000 /home/adam/anaconda3/envs/Protein_Evolution/lib/python3.8/multiprocessing/popen_fork.py:60(terminate)\n",
      "        1    0.000    0.000    0.000    0.000 /home/adam/anaconda3/envs/Protein_Evolution/lib/python3.8/site-packages/pandas/io/parsers.py:1267(__init__)\n",
      "       12    0.000    0.000    0.000    0.000 /home/adam/anaconda3/envs/Protein_Evolution/lib/python3.8/site-packages/pandas/core/dtypes/common.py:610(<genexpr>)\n",
      "       48    0.000    0.000    0.000    0.000 /home/adam/anaconda3/envs/Protein_Evolution/lib/python3.8/random.py:250(_randbelow_with_getrandbits)\n",
      "        7    0.000    0.000    0.000    0.000 /home/adam/anaconda3/envs/Protein_Evolution/lib/python3.8/site-packages/pandas/core/generic.py:5464(__setattr__)\n",
      "        4    0.000    0.000    0.000    0.000 /home/adam/anaconda3/envs/Protein_Evolution/lib/python3.8/multiprocessing/connection.py:365(_send)\n",
      "       23    0.000    0.000    0.000    0.000 /home/adam/anaconda3/envs/Protein_Evolution/lib/python3.8/site-packages/numpy/core/_dtype.py:307(_name_includes_bit_suffix)\n",
      "       12    0.000    0.000    0.000    0.000 /home/adam/anaconda3/envs/Protein_Evolution/lib/python3.8/site-packages/pandas/core/dtypes/common.py:388(is_datetime64tz_dtype)\n",
      "        1    0.000    0.000    0.000    0.000 /home/adam/anaconda3/envs/Protein_Evolution/lib/python3.8/site-packages/pandas/io/parsers.py:1366(_validate_parse_dates_presence)\n",
      "        1    0.000    0.000    0.000    0.000 /home/adam/anaconda3/envs/Protein_Evolution/lib/python3.8/site-packages/tqdm/std.py:582(_decr_instances)\n",
      "       15    0.000    0.000    0.000    0.000 {pandas._libs.lib.is_list_like}\n",
      "        1    0.000    0.000    0.000    0.000 /home/adam/anaconda3/envs/Protein_Evolution/lib/python3.8/site-packages/pandas/core/internals/managers.py:157(blknos)\n",
      "       32    0.000    0.000    0.000    0.000 /home/adam/anaconda3/envs/Protein_Evolution/lib/python3.8/site-packages/pandas/core/dtypes/common.py:1575(get_dtype)\n",
      "        1    0.000    0.000    0.000    0.000 /home/adam/anaconda3/envs/Protein_Evolution/lib/python3.8/site-packages/pandas/core/internals/managers.py:232(_rebuild_blknos_and_blklocs)\n",
      "       23    0.000    0.000    0.000    0.000 /home/adam/anaconda3/envs/Protein_Evolution/lib/python3.8/abc.py:96(__instancecheck__)\n",
      "       32    0.000    0.000    0.000    0.000 /home/adam/anaconda3/envs/Protein_Evolution/lib/python3.8/multiprocessing/process.py:193(name)\n",
      "        1    0.000    0.000    0.000    0.000 /home/adam/anaconda3/envs/Protein_Evolution/lib/python3.8/multiprocessing/context.py:41(cpu_count)\n",
      "        2    0.000    0.000    0.000    0.000 /home/adam/anaconda3/envs/Protein_Evolution/lib/python3.8/site-packages/pandas/core/internals/managers.py:126(__init__)\n",
      "        6    0.000    0.000    0.000    0.000 /home/adam/anaconda3/envs/Protein_Evolution/lib/python3.8/multiprocessing/util.py:171(register_after_fork)\n",
      "        2    0.000    0.000    0.000    0.000 /home/adam/anaconda3/envs/Protein_Evolution/lib/python3.8/site-packages/pandas/core/dtypes/cast.py:1273(maybe_infer_to_datetimelike)\n",
      "       32    0.000    0.000    0.000    0.000 /home/adam/anaconda3/envs/Protein_Evolution/lib/python3.8/logging/__init__.py:214(_acquireLock)\n",
      "        5    0.000    0.000    0.000    0.000 /home/adam/anaconda3/envs/Protein_Evolution/lib/python3.8/site-packages/pandas/core/generic.py:187(__init__)\n",
      "        1    0.000    0.000    0.000    0.000 {built-in method posix.cpu_count}\n",
      "        2    0.000    0.000    0.000    0.000 /home/adam/anaconda3/envs/Protein_Evolution/lib/python3.8/site-packages/pandas/io/common.py:154(stringify_path)\n",
      "        1    0.000    0.000    0.000    0.000 {built-in method builtins.locals}\n",
      "        3    0.000    0.000    0.000    0.000 /home/adam/anaconda3/envs/Protein_Evolution/lib/python3.8/site-packages/numpy/core/_asarray.py:221(require)\n",
      "        3    0.000    0.000    0.000    0.000 /home/adam/anaconda3/envs/Protein_Evolution/lib/python3.8/site-packages/pandas/core/dtypes/cast.py:1617(construct_1d_object_array_from_listlike)\n",
      "        1    0.000    0.000    0.000    0.000 /home/adam/anaconda3/envs/Protein_Evolution/lib/python3.8/urllib/parse.py:417(urlsplit)\n",
      "        1    0.000    0.000    0.000    0.000 /home/adam/anaconda3/envs/Protein_Evolution/lib/python3.8/site-packages/tqdm/std.py:575(_get_free_pos)\n",
      "        5    0.000    0.000    0.000    0.000 /home/adam/anaconda3/envs/Protein_Evolution/lib/python3.8/site-packages/pandas/core/indexes/base.py:5969(_maybe_cast_with_dtype)\n",
      "        1    0.000    0.000    0.000    0.000 /home/adam/anaconda3/envs/Protein_Evolution/lib/python3.8/site-packages/pandas/io/parsers.py:819(_get_options_with_defaults)\n",
      "        4    0.000    0.000    0.000    0.000 {built-in method posix.write}\n",
      "        7    0.000    0.000    0.000    0.000 /home/adam/anaconda3/envs/Protein_Evolution/lib/python3.8/site-packages/pandas/core/internals/managers.py:206(shape)\n",
      "      112    0.000    0.000    0.000    0.000 /home/adam/anaconda3/envs/Protein_Evolution/lib/python3.8/multiprocessing/process.py:99(_check_closed)\n",
      "       10    0.000    0.000    0.000    0.000 /home/adam/anaconda3/envs/Protein_Evolution/lib/python3.8/multiprocessing/popen_fork.py:50(_send_signal)\n",
      "        1    0.000    0.000    0.000    0.000 /home/adam/anaconda3/envs/Protein_Evolution/lib/python3.8/site-packages/numpy/core/numerictypes.py:569(find_common_type)\n",
      "        3    0.000    0.000    0.000    0.000 /home/adam/anaconda3/envs/Protein_Evolution/lib/python3.8/multiprocessing/connection.py:516(Pipe)\n",
      "        1    0.000    0.000    0.000    0.000 /home/adam/anaconda3/envs/Protein_Evolution/lib/python3.8/site-packages/pandas/core/nanops.py:241(_get_values)\n",
      "        1    0.000    0.000    0.000    0.000 /home/adam/anaconda3/envs/Protein_Evolution/lib/python3.8/site-packages/pandas/io/parsers.py:1504(_maybe_dedup_names)\n",
      "        1    0.000    0.000    0.000    0.000 /home/adam/anaconda3/envs/Protein_Evolution/lib/python3.8/site-packages/pandas/core/dtypes/missing.py:244(_isna_string_dtype)\n",
      "        3    0.000    0.000    0.000    0.000 /home/adam/anaconda3/envs/Protein_Evolution/lib/python3.8/site-packages/pandas/core/indexes/base.py:5001(_index_as_unique)\n",
      "        1    0.000    0.000    0.000    0.000 /home/adam/anaconda3/envs/Protein_Evolution/lib/python3.8/site-packages/pandas/core/indexing.py:1269(_validate_read_indexer)\n",
      "        1    0.000    0.000    0.000    0.000 /home/adam/anaconda3/envs/Protein_Evolution/lib/python3.8/site-packages/tqdm/utils.py:287(<listcomp>)\n",
      "        1    0.000    0.000    0.000    0.000 /home/adam/anaconda3/envs/Protein_Evolution/lib/python3.8/site-packages/pandas/io/common.py:403(get_compression_method)\n",
      "        2    0.000    0.000    0.000    0.000 /home/adam/anaconda3/envs/Protein_Evolution/lib/python3.8/site-packages/pandas/io/common.py:846(_is_binary_mode)\n",
      "       25    0.000    0.000    0.000    0.000 /home/adam/anaconda3/envs/Protein_Evolution/lib/python3.8/site-packages/pandas/core/dtypes/common.py:429(is_timedelta64_dtype)\n",
      "        3    0.000    0.000    0.000    0.000 /home/adam/anaconda3/envs/Protein_Evolution/lib/python3.8/site-packages/pandas/core/generic.py:5531(_consolidate_inplace)\n",
      "        2    0.000    0.000    0.000    0.000 /home/adam/anaconda3/envs/Protein_Evolution/lib/python3.8/site-packages/pandas/core/generic.py:5408(__finalize__)\n",
      "        1    0.000    0.000    0.000    0.000 /home/adam/anaconda3/envs/Protein_Evolution/lib/python3.8/site-packages/pandas/core/indexes/range.py:133(_simple_new)\n",
      "        6    0.000    0.000    0.000    0.000 /home/adam/anaconda3/envs/Protein_Evolution/lib/python3.8/site-packages/pandas/core/indexes/base.py:425(_simple_new)\n",
      "        8    0.000    0.000    0.000    0.000 /home/adam/anaconda3/envs/Protein_Evolution/lib/python3.8/site-packages/numpy/core/numerictypes.py:360(issubdtype)\n",
      "        6    0.000    0.000    0.000    0.000 /home/adam/anaconda3/envs/Protein_Evolution/lib/python3.8/multiprocessing/connection.py:130(__del__)\n",
      "       10    0.000    0.000    0.000    0.000 /home/adam/anaconda3/envs/Protein_Evolution/lib/python3.8/site-packages/pandas/core/construction.py:354(extract_array)\n",
      "       13    0.000    0.000    0.000    0.000 <frozen importlib._bootstrap>:1017(_handle_fromlist)\n",
      "        8    0.000    0.000    0.000    0.000 /home/adam/anaconda3/envs/Protein_Evolution/lib/python3.8/site-packages/pandas/core/dtypes/common.py:231(is_sparse)\n",
      "       11    0.000    0.000    0.000    0.000 {built-in method numpy.arange}\n",
      "        1    0.000    0.000    0.000    0.000 /home/adam/anaconda3/envs/Protein_Evolution/lib/python3.8/site-packages/pandas/core/indexes/base.py:742(take)\n",
      "        1    0.000    0.000    0.000    0.000 /home/adam/anaconda3/envs/Protein_Evolution/lib/python3.8/site-packages/pandas/io/common.py:438(infer_compression)\n",
      "       23    0.000    0.000    0.000    0.000 {built-in method _abc._abc_instancecheck}\n",
      "        3    0.000    0.000    0.000    0.000 /home/adam/anaconda3/envs/Protein_Evolution/lib/python3.8/_weakrefset.py:58(__iter__)\n",
      "        2    0.000    0.000    0.000    0.000 {method 'get_indexer' of 'pandas._libs.index.IndexEngine' objects}\n",
      "        1    0.000    0.000    0.000    0.000 /home/adam/anaconda3/envs/Protein_Evolution/lib/python3.8/site-packages/pandas/core/indexes/base.py:1764(is_unique)\n",
      "        3    0.000    0.000    0.000    0.000 /home/adam/anaconda3/envs/Protein_Evolution/lib/python3.8/site-packages/pandas/core/dtypes/inference.py:263(is_dict_like)\n",
      "        2    0.000    0.000    0.000    0.000 /home/adam/anaconda3/envs/Protein_Evolution/lib/python3.8/site-packages/numpy/core/numerictypes.py:545(_can_coerce_all)\n",
      "       42    0.000    0.000    0.000    0.000 {method 'rpartition' of 'str' objects}\n",
      "        3    0.000    0.000    0.000    0.000 /home/adam/anaconda3/envs/Protein_Evolution/lib/python3.8/site-packages/pandas/io/common.py:126(_expand_user)\n",
      "        9    0.000    0.000    0.000    0.000 /home/adam/anaconda3/envs/Protein_Evolution/lib/python3.8/threading.py:1306(current_thread)\n",
      "        6    0.000    0.000    0.000    0.000 /home/adam/anaconda3/envs/Protein_Evolution/lib/python3.8/weakref.py:159(__setitem__)\n",
      "        4    0.000    0.000    0.000    0.000 /home/adam/anaconda3/envs/Protein_Evolution/lib/python3.8/site-packages/tqdm/std.py:111(__enter__)\n",
      "       49    0.000    0.000    0.000    0.000 /home/adam/anaconda3/envs/Protein_Evolution/lib/python3.8/multiprocessing/util.py:48(debug)\n",
      "       10    0.000    0.000    0.000    0.000 /home/adam/anaconda3/envs/Protein_Evolution/lib/python3.8/site-packages/pandas/core/dtypes/common.py:757(is_signed_integer_dtype)\n",
      "        3    0.000    0.000    0.000    0.000 /home/adam/anaconda3/envs/Protein_Evolution/lib/python3.8/site-packages/pandas/core/generic.py:5519(_protect_consolidate)\n",
      "      101    0.000    0.000    0.000    0.000 {method 'get' of 'dict' objects}\n",
      "       55    0.000    0.000    0.000    0.000 /home/adam/anaconda3/envs/Protein_Evolution/lib/python3.8/site-packages/pandas/core/dtypes/common.py:187(<lambda>)\n",
      "       36    0.000    0.000    0.000    0.000 /home/adam/anaconda3/envs/Protein_Evolution/lib/python3.8/site-packages/pandas/core/dtypes/common.py:195(<lambda>)\n",
      "        1    0.000    0.000    0.000    0.000 /home/adam/anaconda3/envs/Protein_Evolution/lib/python3.8/site-packages/pandas/io/parsers.py:1414(close)\n",
      "        3    0.000    0.000    0.000    0.000 /home/adam/anaconda3/envs/Protein_Evolution/lib/python3.8/site-packages/pandas/core/series.py:410(_set_axis)\n",
      "        1    0.000    0.000    0.000    0.000 {method 'all' of 'numpy.ndarray' objects}\n",
      "       67    0.000    0.000    0.000    0.000 {method 'discard' of 'set' objects}\n",
      "        1    0.000    0.000    0.000    0.000 /home/adam/anaconda3/envs/Protein_Evolution/lib/python3.8/site-packages/tqdm/utils.py:154(__init__)\n",
      "        3    0.000    0.000    0.000    0.000 /home/adam/anaconda3/envs/Protein_Evolution/lib/python3.8/site-packages/pandas/io/parsers.py:1092(_is_potential_multi_index)\n",
      "        1    0.000    0.000    0.000    0.000 /home/adam/anaconda3/envs/Protein_Evolution/lib/python3.8/typing.py:768(__instancecheck__)\n",
      "        2    0.000    0.000    0.000    0.000 /home/adam/anaconda3/envs/Protein_Evolution/lib/python3.8/site-packages/numpy/core/_ufunc_config.py:32(seterr)\n",
      "        3    0.000    0.000    0.000    0.000 /home/adam/anaconda3/envs/Protein_Evolution/lib/python3.8/site-packages/pandas/core/indexes/base.py:2127(inferred_type)\n",
      "        1    0.000    0.000    0.000    0.000 {method 'close' of 'pandas._libs.parsers.TextReader' objects}\n",
      "       10    0.000    0.000    0.000    0.000 /home/adam/anaconda3/envs/Protein_Evolution/lib/python3.8/site-packages/pandas/core/dtypes/common.py:813(is_unsigned_integer_dtype)\n",
      "        4    0.000    0.000    0.000    0.000 /home/adam/anaconda3/envs/Protein_Evolution/lib/python3.8/site-packages/pandas/core/series.py:509(name)\n",
      "        1    0.000    0.000    0.000    0.000 /home/adam/anaconda3/envs/Protein_Evolution/lib/python3.8/site-packages/pandas/core/common.py:75(is_bool_indexer)\n",
      "        1    0.000    0.000    0.000    0.000 /home/adam/anaconda3/envs/Protein_Evolution/lib/python3.8/site-packages/pandas/core/internals/managers.py:318(_verify_integrity)\n",
      "        6    0.000    0.000    0.000    0.000 /home/adam/anaconda3/envs/Protein_Evolution/lib/python3.8/weakref.py:103(remove)\n",
      "        1    0.000    0.000    0.000    0.000 /home/adam/anaconda3/envs/Protein_Evolution/lib/python3.8/site-packages/numpy/core/_ufunc_config.py:433(__enter__)\n",
      "       19    0.000    0.000    0.000    0.000 /home/adam/anaconda3/envs/Protein_Evolution/lib/python3.8/site-packages/pandas/core/dtypes/common.py:1769(pandas_dtype)\n",
      "       21    0.000    0.000    0.000    0.000 /home/adam/anaconda3/envs/Protein_Evolution/lib/python3.8/site-packages/pandas/core/internals/managers.py:208(<genexpr>)\n",
      "        4    0.000    0.000    0.000    0.000 /home/adam/anaconda3/envs/Protein_Evolution/lib/python3.8/site-packages/pandas/core/construction.py:612(is_empty_data)\n",
      "       10    0.000    0.000    0.000    0.000 {built-in method posix.kill}\n",
      "        2    0.000    0.000    0.000    0.000 /home/adam/anaconda3/envs/Protein_Evolution/lib/python3.8/contextlib.py:238(helper)\n",
      "        3    0.000    0.000    0.000    0.000 /home/adam/anaconda3/envs/Protein_Evolution/lib/python3.8/threading.py:979(join)\n",
      "        1    0.000    0.000    0.000    0.000 /home/adam/anaconda3/envs/Protein_Evolution/lib/python3.8/site-packages/pandas/io/common.py:81(close)\n",
      "        6    0.000    0.000    0.000    0.000 /home/adam/anaconda3/envs/Protein_Evolution/lib/python3.8/multiprocessing/connection.py:360(_close)\n",
      "        1    0.000    0.000    0.000    0.000 /home/adam/anaconda3/envs/Protein_Evolution/lib/python3.8/site-packages/numpy/core/_methods.py:56(_all)\n",
      "        3    0.000    0.000    0.000    0.000 /home/adam/anaconda3/envs/Protein_Evolution/lib/python3.8/threading.py:1177(_make_invoke_excepthook)\n",
      "        3    0.000    0.000    0.000    0.000 /home/adam/anaconda3/envs/Protein_Evolution/lib/python3.8/threading.py:944(_stop)\n",
      "        1    0.000    0.000    0.000    0.000 /home/adam/anaconda3/envs/Protein_Evolution/lib/python3.8/site-packages/pandas/core/indexers.py:225(maybe_convert_indices)\n",
      "        2    0.000    0.000    0.000    0.000 /home/adam/anaconda3/envs/Protein_Evolution/lib/python3.8/site-packages/pandas/core/indexes/base.py:1803(is_boolean)\n",
      "        1    0.000    0.000    0.000    0.000 /home/adam/anaconda3/envs/Protein_Evolution/lib/python3.8/os.py:670(__getitem__)\n",
      "        1    0.000    0.000    0.000    0.000 /home/adam/anaconda3/envs/Protein_Evolution/lib/python3.8/site-packages/tqdm/std.py:578(<genexpr>)\n",
      "        2    0.000    0.000    0.000    0.000 /home/adam/anaconda3/envs/Protein_Evolution/lib/python3.8/site-packages/pandas/core/dtypes/cast.py:698(_ensure_dtype_type)\n",
      "        1    0.000    0.000    0.000    0.000 {method 'sum' of 'numpy.ndarray' objects}\n",
      "        1    0.000    0.000    0.000    0.000 /home/adam/anaconda3/envs/Protein_Evolution/lib/python3.8/typing.py:771(__subclasscheck__)\n",
      "       32    0.000    0.000    0.000    0.000 /home/adam/anaconda3/envs/Protein_Evolution/lib/python3.8/multiprocessing/process.py:205(daemon)\n",
      "        3    0.000    0.000    0.000    0.000 /home/adam/anaconda3/envs/Protein_Evolution/lib/python3.8/site-packages/pandas/core/generic.py:5535(f)\n",
      "       22    0.000    0.000    0.000    0.000 /home/adam/anaconda3/envs/Protein_Evolution/lib/python3.8/site-packages/pandas/core/dtypes/inference.py:322(is_hashable)\n",
      "       16    0.000    0.000    0.000    0.000 /home/adam/anaconda3/envs/Protein_Evolution/lib/python3.8/site-packages/numpy/core/numerictypes.py:286(issubclass_)\n",
      "        1    0.000    0.000    0.000    0.000 /home/adam/anaconda3/envs/Protein_Evolution/lib/python3.8/site-packages/pandas/core/indexes/base.py:3394(_convert_listlike_indexer)\n",
      "        1    0.000    0.000    0.000    0.000 {method 'close' of '_io.TextIOWrapper' objects}\n",
      "        1    0.000    0.000    0.000    0.000 /home/adam/anaconda3/envs/Protein_Evolution/lib/python3.8/site-packages/numpy/core/_methods.py:45(_sum)\n",
      "        4    0.000    0.000    0.000    0.000 /home/adam/anaconda3/envs/Protein_Evolution/lib/python3.8/multiprocessing/synchronize.py:94(__enter__)\n",
      "        7    0.000    0.000    0.000    0.000 /home/adam/anaconda3/envs/Protein_Evolution/lib/python3.8/site-packages/pandas/core/indexes/base.py:563(_reset_identity)\n",
      "        1    0.000    0.000    0.000    0.000 /home/adam/anaconda3/envs/Protein_Evolution/lib/python3.8/site-packages/pandas/core/indexes/base.py:2134(_is_all_dates)\n",
      "        3    0.000    0.000    0.000    0.000 /home/adam/anaconda3/envs/Protein_Evolution/lib/python3.8/posixpath.py:228(expanduser)\n",
      "        3    0.000    0.000    0.000    0.000 /home/adam/anaconda3/envs/Protein_Evolution/lib/python3.8/site-packages/pandas/core/indexes/base.py:4279(__getitem__)\n",
      "        4    0.000    0.000    0.000    0.000 /home/adam/anaconda3/envs/Protein_Evolution/lib/python3.8/site-packages/tqdm/std.py:114(__exit__)\n",
      "       55    0.000    0.000    0.000    0.000 /home/adam/anaconda3/envs/Protein_Evolution/lib/python3.8/site-packages/pandas/core/dtypes/common.py:185(classes)\n",
      "        2    0.000    0.000    0.000    0.000 /home/adam/anaconda3/envs/Protein_Evolution/lib/python3.8/site-packages/pandas/core/indexes/base.py:5011(_maybe_promote)\n",
      "       22    0.000    0.000    0.000    0.000 /home/adam/anaconda3/envs/Protein_Evolution/lib/python3.8/site-packages/pandas/core/dtypes/common.py:912(is_datetime64_any_dtype)\n",
      "        1    0.000    0.000    0.000    0.000 /home/adam/anaconda3/envs/Protein_Evolution/lib/python3.8/multiprocessing/pool.py:276(_get_sentinels)\n",
      "        1    0.000    0.000    0.000    0.000 /home/adam/anaconda3/envs/Protein_Evolution/lib/python3.8/_weakrefset.py:106(remove)\n",
      "        1    0.000    0.000    0.000    0.000 /home/adam/anaconda3/envs/Protein_Evolution/lib/python3.8/site-packages/pandas/core/indexes/base.py:3416(_convert_arr_indexer)\n",
      "        2    0.000    0.000    0.000    0.000 /home/adam/PhD/Protein_Evolution/Protein_Landscape/Protein_Landscape/landscape_class.py:567(tokenize)\n",
      "        4    0.000    0.000    0.000    0.000 {method 'dump' of '_pickle.Pickler' objects}\n",
      "        2    0.000    0.000    0.000    0.000 /home/adam/anaconda3/envs/Protein_Evolution/lib/python3.8/site-packages/pandas/core/internals/blocks.py:288(make_block_same_class)\n",
      "        1    0.000    0.000    0.000    0.000 {built-in method pandas._libs.missing.isnaobj}\n",
      "        1    0.000    0.000    0.000    0.000 /home/adam/anaconda3/envs/Protein_Evolution/lib/python3.8/site-packages/pandas/io/parsers.py:1991(_set_noconvert_columns)\n",
      "        2    0.000    0.000    0.000    0.000 /home/adam/anaconda3/envs/Protein_Evolution/lib/python3.8/site-packages/pandas/core/dtypes/missing.py:465(_array_equivalent_object)\n",
      "        2    0.000    0.000    0.000    0.000 {pandas._libs.algos.take_1d_int64_int64}\n",
      "        5    0.000    0.000    0.000    0.000 /home/adam/anaconda3/envs/Protein_Evolution/lib/python3.8/site-packages/pandas/core/internals/managers.py:681(is_consolidated)\n",
      "        5    0.000    0.000    0.000    0.000 /home/adam/anaconda3/envs/Protein_Evolution/lib/python3.8/site-packages/pandas/core/series.py:556(_values)\n",
      "        1    0.000    0.000    0.000    0.000 /home/adam/PhD/Protein_Evolution/Protein_Landscape/Protein_Landscape/landscape_class.py:621(<listcomp>)\n",
      "        2    0.000    0.000    0.000    0.000 /home/adam/anaconda3/envs/Protein_Evolution/lib/python3.8/contextlib.py:82(__init__)\n",
      "        4    0.000    0.000    0.000    0.000 /home/adam/PhD/Protein_Evolution/Protein_Landscape/Protein_Landscape/landscape_class.py:239(__len__)\n",
      "        4    0.000    0.000    0.000    0.000 /home/adam/anaconda3/envs/Protein_Evolution/lib/python3.8/site-packages/pandas/core/dtypes/common.py:1743(validate_all_hashable)\n",
      "        3    0.000    0.000    0.000    0.000 {method 'remove' of 'set' objects}\n",
      "        4    0.000    0.000    0.000    0.000 /home/adam/anaconda3/envs/Protein_Evolution/lib/python3.8/site-packages/pandas/core/generic.py:469(_get_axis)\n",
      "        2    0.000    0.000    0.000    0.000 {method 'max' of 'numpy.ndarray' objects}\n",
      "       36    0.000    0.000    0.000    0.000 /home/adam/anaconda3/envs/Protein_Evolution/lib/python3.8/site-packages/pandas/core/dtypes/common.py:190(classes_and_not_datetimelike)\n",
      "        6    0.000    0.000    0.000    0.000 /home/adam/anaconda3/envs/Protein_Evolution/lib/python3.8/site-packages/pandas/core/dtypes/common.py:615(is_dtype_equal)\n",
      "        3    0.000    0.000    0.000    0.000 /home/adam/anaconda3/envs/Protein_Evolution/lib/python3.8/site-packages/pandas/core/dtypes/cast.py:1563(<genexpr>)\n",
      "        1    0.000    0.000    0.000    0.000 /home/adam/anaconda3/envs/Protein_Evolution/lib/python3.8/site-packages/pandas/core/algorithms.py:1570(take)\n",
      "        5    0.000    0.000    0.000    0.000 /home/adam/anaconda3/envs/Protein_Evolution/lib/python3.8/site-packages/pandas/core/series.py:459(name)\n",
      "        1    0.000    0.000    0.000    0.000 /home/adam/anaconda3/envs/Protein_Evolution/lib/python3.8/site-packages/pandas/io/parsers.py:1244(_validate_parse_dates_arg)\n",
      "        2    0.000    0.000    0.000    0.000 /home/adam/anaconda3/envs/Protein_Evolution/lib/python3.8/contextlib.py:108(__enter__)\n",
      "        3    0.000    0.000    0.000    0.000 /home/adam/anaconda3/envs/Protein_Evolution/lib/python3.8/site-packages/pandas/core/internals/managers.py:991(_consolidate_inplace)\n",
      "        1    0.000    0.000    0.000    0.000 /home/adam/anaconda3/envs/Protein_Evolution/lib/python3.8/site-packages/pandas/io/parsers.py:860(_check_file_or_buffer)\n",
      "        2    0.000    0.000    0.000    0.000 /home/adam/anaconda3/envs/Protein_Evolution/lib/python3.8/site-packages/numpy/core/_methods.py:37(_amax)\n",
      "        2    0.000    0.000    0.000    0.000 /home/adam/anaconda3/envs/Protein_Evolution/lib/python3.8/contextlib.py:117(__exit__)\n",
      "        1    0.000    0.000    0.000    0.000 /home/adam/anaconda3/envs/Protein_Evolution/lib/python3.8/site-packages/pandas/core/indexes/base.py:574(_engine)\n",
      "       32    0.000    0.000    0.000    0.000 {built-in method posix.WIFSIGNALED}\n",
      "        2    0.000    0.000    0.000    0.000 {method 'reshape' of 'numpy.ndarray' objects}\n",
      "        1    0.000    0.000    0.000    0.000 /home/adam/anaconda3/envs/Protein_Evolution/lib/python3.8/site-packages/pandas/core/base.py:796(__iter__)\n",
      "       33    0.000    0.000    0.000    0.000 /home/adam/anaconda3/envs/Protein_Evolution/lib/python3.8/multiprocessing/util.py:44(sub_debug)\n",
      "        1    0.000    0.000    0.000    0.000 {built-in method fcntl.ioctl}\n",
      "        2    0.000    0.000    0.000    0.000 /home/adam/anaconda3/envs/Protein_Evolution/lib/python3.8/site-packages/IPython/core/hooks.py:103(__call__)\n",
      "        2    0.000    0.000    0.000    0.000 /home/adam/anaconda3/envs/Protein_Evolution/lib/python3.8/_weakrefset.py:26(__exit__)\n",
      "        2    0.000    0.000    0.000    0.000 /home/adam/anaconda3/envs/Protein_Evolution/lib/python3.8/site-packages/pandas/core/internals/managers.py:689(_consolidate_check)\n",
      "       16    0.000    0.000    0.000    0.000 {built-in method __new__ of type object at 0x560ffeeacac0}\n",
      "        5    0.000    0.000    0.000    0.000 /home/adam/anaconda3/envs/Protein_Evolution/lib/python3.8/site-packages/pandas/core/internals/managers.py:1626(internal_values)\n",
      "        1    0.000    0.000    0.000    0.000 /home/adam/anaconda3/envs/Protein_Evolution/lib/python3.8/codecs.py:309(__init__)\n",
      "       17    0.000    0.000    0.000    0.000 /home/adam/anaconda3/envs/Protein_Evolution/lib/python3.8/site-packages/pandas/core/indexes/base.py:600(__len__)\n",
      "        1    0.000    0.000    0.000    0.000 /home/adam/PhD/Protein_Evolution/Protein_Landscape/Protein_Landscape/landscape_class.py:622(<listcomp>)\n",
      "        3    0.000    0.000    0.000    0.000 /home/adam/anaconda3/envs/Protein_Evolution/lib/python3.8/threading.py:734(_newname)\n",
      "        9    0.000    0.000    0.000    0.000 /home/adam/anaconda3/envs/Protein_Evolution/lib/python3.8/site-packages/pandas/core/dtypes/inference.py:289(<genexpr>)\n",
      "        2    0.000    0.000    0.000    0.000 /home/adam/anaconda3/envs/Protein_Evolution/lib/python3.8/site-packages/tqdm/utils.py:88(__getattr__)\n",
      "        1    0.000    0.000    0.000    0.000 /home/adam/anaconda3/envs/Protein_Evolution/lib/python3.8/site-packages/pandas/io/parsers.py:1830(_do_date_conversions)\n",
      "       84    0.000    0.000    0.000    0.000 {method 'getrandbits' of '_random.Random' objects}\n",
      "       23    0.000    0.000    0.000    0.000 /home/adam/anaconda3/envs/Protein_Evolution/lib/python3.8/site-packages/numpy/core/_dtype.py:24(_kind_name)\n",
      "        2    0.000    0.000    0.000    0.000 /home/adam/anaconda3/envs/Protein_Evolution/lib/python3.8/site-packages/pandas/io/parsers.py:389(validate_integer)\n",
      "        3    0.000    0.000    0.000    0.000 /home/adam/anaconda3/envs/Protein_Evolution/lib/python3.8/site-packages/pandas/core/internals/managers.py:975(consolidate)\n",
      "        3    0.000    0.000    0.000    0.000 /home/adam/anaconda3/envs/Protein_Evolution/lib/python3.8/site-packages/pandas/core/internals/managers.py:1863(_asarray_compat)\n",
      "        6    0.000    0.000    0.000    0.000 /home/adam/anaconda3/envs/Protein_Evolution/lib/python3.8/tempfile.py:133(rng)\n",
      "        2    0.000    0.000    0.000    0.000 /home/adam/anaconda3/envs/Protein_Evolution/lib/python3.8/site-packages/pandas/core/generic.py:339(_validate_dtype)\n",
      "        2    0.000    0.000    0.000    0.000 /home/adam/anaconda3/envs/Protein_Evolution/lib/python3.8/site-packages/pandas/io/parsers.py:1534(_maybe_make_multi_index_columns)\n",
      "        1    0.000    0.000    0.000    0.000 <string>:1(__new__)\n",
      "        5    0.000    0.000    0.000    0.000 /home/adam/anaconda3/envs/Protein_Evolution/lib/python3.8/site-packages/pandas/core/flags.py:47(__init__)\n",
      "        1    0.000    0.000    0.000    0.000 /home/adam/anaconda3/envs/Protein_Evolution/lib/python3.8/site-packages/tqdm/utils.py:207(_supports_unicode)\n",
      "       32    0.000    0.000    0.000    0.000 {built-in method posix.WIFEXITED}\n",
      "        5    0.000    0.000    0.000    0.000 /home/adam/anaconda3/envs/Protein_Evolution/lib/python3.8/site-packages/pandas/core/dtypes/common.py:355(is_datetime64_dtype)\n",
      "        1    0.000    0.000    0.000    0.000 /home/adam/anaconda3/envs/Protein_Evolution/lib/python3.8/multiprocessing/pool.py:270(__repr__)\n",
      "        6    0.000    0.000    0.000    0.000 /home/adam/anaconda3/envs/Protein_Evolution/lib/python3.8/weakref.py:323(__new__)\n",
      "        2    0.000    0.000    0.000    0.000 /home/adam/anaconda3/envs/Protein_Evolution/lib/python3.8/site-packages/pandas/core/internals/managers.py:1545(__init__)\n",
      "        2    0.000    0.000    0.000    0.000 <__array_function__ internals>:2(can_cast)\n",
      "        1    0.000    0.000    0.000    0.000 /home/adam/anaconda3/envs/Protein_Evolution/lib/python3.8/site-packages/pandas/core/nanops.py:197(_maybe_get_mask)\n",
      "        2    0.000    0.000    0.000    0.000 /home/adam/anaconda3/envs/Protein_Evolution/lib/python3.8/site-packages/pandas/core/dtypes/inference.py:185(is_array_like)\n",
      "        1    0.000    0.000    0.000    0.000 /home/adam/anaconda3/envs/Protein_Evolution/lib/python3.8/site-packages/pandas/core/internals/managers.py:150(from_blocks)\n",
      "        4    0.000    0.000    0.000    0.000 /home/adam/anaconda3/envs/Protein_Evolution/lib/python3.8/site-packages/IPython/core/compilerop.py:138(extra_flags)\n",
      "        2    0.000    0.000    0.000    0.000 /home/adam/anaconda3/envs/Protein_Evolution/lib/python3.8/site-packages/numpy/core/_ufunc_config.py:132(geterr)\n",
      "        1    0.000    0.000    0.000    0.000 /home/adam/anaconda3/envs/Protein_Evolution/lib/python3.8/site-packages/pandas/core/indexes/base.py:1239(name)\n",
      "        4    0.000    0.000    0.000    0.000 /home/adam/anaconda3/envs/Protein_Evolution/lib/python3.8/multiprocessing/synchronize.py:97(__exit__)\n",
      "        1    0.000    0.000    0.000    0.000 /home/adam/anaconda3/envs/Protein_Evolution/lib/python3.8/site-packages/pandas/io/parsers.py:1540(_make_index)\n",
      "        3    0.000    0.000    0.000    0.000 /home/adam/anaconda3/envs/Protein_Evolution/lib/python3.8/site-packages/tqdm/std.py:228(__init__)\n",
      "        2    0.000    0.000    0.000    0.000 {built-in method builtins.sorted}\n",
      "       32    0.000    0.000    0.000    0.000 {built-in method posix.WEXITSTATUS}\n",
      "        1    0.000    0.000    0.000    0.000 /home/adam/anaconda3/envs/Protein_Evolution/lib/python3.8/site-packages/numpy/core/_ufunc_config.py:438(__exit__)\n",
      "        2    0.000    0.000    0.000    0.000 /home/adam/anaconda3/envs/Protein_Evolution/lib/python3.8/site-packages/traitlets/traitlets.py:564(__get__)\n",
      "        1    0.000    0.000    0.000    0.000 /home/adam/anaconda3/envs/Protein_Evolution/lib/python3.8/os.py:748(encode)\n",
      "        6    0.000    0.000    0.000    0.000 /home/adam/anaconda3/envs/Protein_Evolution/lib/python3.8/multiprocessing/connection.py:117(__init__)\n",
      "        4    0.000    0.000    0.000    0.000 {method '__enter__' of '_multiprocessing.SemLock' objects}\n",
      "        1    0.000    0.000    0.000    0.000 /home/adam/anaconda3/envs/Protein_Evolution/lib/python3.8/site-packages/pandas/core/common.py:254(maybe_iterable_to_list)\n",
      "        1    0.000    0.000    0.000    0.000 <ipython-input-3-e8c766618cbc>:7(<module>)\n",
      "        2    0.000    0.000    0.000    0.000 /home/adam/PhD/Protein_Evolution/Protein_Landscape/Protein_Landscape/landscape_class.py:572(<listcomp>)\n",
      "        1    0.000    0.000    0.000    0.000 /home/adam/anaconda3/envs/Protein_Evolution/lib/python3.8/site-packages/tqdm/utils.py:74(__eq__)\n",
      "        2    0.000    0.000    0.000    0.000 /home/adam/anaconda3/envs/Protein_Evolution/lib/python3.8/site-packages/pandas/core/dtypes/inference.py:96(is_file_like)\n",
      "        3    0.000    0.000    0.000    0.000 /home/adam/anaconda3/envs/Protein_Evolution/lib/python3.8/site-packages/numpy/core/_asarray.py:298(<setcomp>)\n",
      "        1    0.000    0.000    0.000    0.000 {pandas._libs.lib.infer_datetimelike_array}\n",
      "       10    0.000    0.000    0.000    0.000 /home/adam/anaconda3/envs/Protein_Evolution/lib/python3.8/site-packages/pandas/core/indexes/range.py:747(__len__)\n",
      "        1    0.000    0.000    0.000    0.000 /home/adam/anaconda3/envs/Protein_Evolution/lib/python3.8/site-packages/pandas/io/parsers.py:3781(_refine_defaults_read)\n",
      "        6    0.000    0.000    0.000    0.000 /home/adam/anaconda3/envs/Protein_Evolution/lib/python3.8/threading.py:1095(daemon)\n",
      "        4    0.000    0.000    0.000    0.000 {built-in method _struct.pack}\n",
      "        1    0.000    0.000    0.000    0.000 /home/adam/PhD/Protein_Evolution/Protein_Landscape/Protein_Landscape/landscape_class.py:170(<dictcomp>)\n",
      "        1    0.000    0.000    0.000    0.000 /home/adam/anaconda3/envs/Protein_Evolution/lib/python3.8/abc.py:100(__subclasscheck__)\n",
      "       14    0.000    0.000    0.000    0.000 /home/adam/anaconda3/envs/Protein_Evolution/lib/python3.8/codecs.py:331(getstate)\n",
      "        3    0.000    0.000    0.000    0.000 /home/adam/anaconda3/envs/Protein_Evolution/lib/python3.8/site-packages/pandas/core/generic.py:5446(__getattr__)\n",
      "        1    0.000    0.000    0.000    0.000 /home/adam/anaconda3/envs/Protein_Evolution/lib/python3.8/site-packages/pandas/core/indexes/base.py:510(_shallow_copy)\n",
      "        1    0.000    0.000    0.000    0.000 /home/adam/anaconda3/envs/Protein_Evolution/lib/python3.8/site-packages/tqdm/utils.py:105(__init__)\n",
      "        2    0.000    0.000    0.000    0.000 /home/adam/anaconda3/envs/Protein_Evolution/lib/python3.8/urllib/parse.py:110(_coerce_args)\n",
      "        6    0.000    0.000    0.000    0.000 /home/adam/anaconda3/envs/Protein_Evolution/lib/python3.8/site-packages/pandas/io/parsers.py:1116(<genexpr>)\n",
      "        1    0.000    0.000    0.000    0.000 /home/adam/anaconda3/envs/Protein_Evolution/lib/python3.8/site-packages/pandas/core/internals/managers.py:1958(_preprocess_slice_or_indexer)\n",
      "        1    0.000    0.000    0.000    0.000 /home/adam/anaconda3/envs/Protein_Evolution/lib/python3.8/site-packages/pandas/core/generic.py:423(_construct_axes_from_arguments)\n",
      "        8    0.000    0.000    0.000    0.000 /home/adam/anaconda3/envs/Protein_Evolution/lib/python3.8/site-packages/pandas/core/dtypes/common.py:1762(<genexpr>)\n",
      "        2    0.000    0.000    0.000    0.000 {method 'flatten' of 'numpy.ndarray' objects}\n",
      "        2    0.000    0.000    0.000    0.000 /home/adam/anaconda3/envs/Protein_Evolution/lib/python3.8/site-packages/pandas/core/internals/managers.py:132(<listcomp>)\n",
      "       48    0.000    0.000    0.000    0.000 {method 'bit_length' of 'int' objects}\n",
      "        3    0.000    0.000    0.000    0.000 /home/adam/anaconda3/envs/Protein_Evolution/lib/python3.8/site-packages/pandas/core/missing.py:721(clean_reindex_fill_method)\n",
      "       23    0.000    0.000    0.000    0.000 {method 'pop' of 'dict' objects}\n",
      "        6    0.000    0.000    0.000    0.000 /home/adam/anaconda3/envs/Protein_Evolution/lib/python3.8/site-packages/pandas/core/generic.py:455(_get_axis_number)\n",
      "        6    0.000    0.000    0.000    0.000 {built-in method _weakref._remove_dead_weakref}\n",
      "        6    0.000    0.000    0.000    0.000 /home/adam/anaconda3/envs/Protein_Evolution/lib/python3.8/weakref.py:328(__init__)\n",
      "       22    0.000    0.000    0.000    0.000 {built-in method builtins.hash}\n",
      "        3    0.000    0.000    0.000    0.000 /home/adam/anaconda3/envs/Protein_Evolution/lib/python3.8/site-packages/pandas/core/internals/managers.py:1869(_shape_compat)\n",
      "        2    0.000    0.000    0.000    0.000 /home/adam/anaconda3/envs/Protein_Evolution/lib/python3.8/site-packages/tqdm/utils.py:136(disable_on_exception)\n",
      "       13    0.000    0.000    0.000    0.000 {pandas._libs.lib.is_scalar}\n",
      "        3    0.000    0.000    0.000    0.000 /home/adam/anaconda3/envs/Protein_Evolution/lib/python3.8/multiprocessing/process.py:234(ident)\n",
      "        1    0.000    0.000    0.000    0.000 /home/adam/anaconda3/envs/Protein_Evolution/lib/python3.8/site-packages/pandas/io/parsers.py:3339(_process_date_conversion)\n",
      "        3    0.000    0.000    0.000    0.000 /home/adam/anaconda3/envs/Protein_Evolution/lib/python3.8/threading.py:1110(daemon)\n",
      "        2    0.000    0.000    0.000    0.000 /home/adam/anaconda3/envs/Protein_Evolution/lib/python3.8/_weakrefset.py:16(__init__)\n",
      "        1    0.000    0.000    0.000    0.000 /home/adam/anaconda3/envs/Protein_Evolution/lib/python3.8/site-packages/pandas/core/indexing.py:2204(convert_to_index_sliceable)\n",
      "       19    0.000    0.000    0.000    0.000 /home/adam/anaconda3/envs/Protein_Evolution/lib/python3.8/site-packages/numpy/core/numerictypes.py:554(<listcomp>)\n",
      "        1    0.000    0.000    0.000    0.000 {built-in method utcfromtimestamp}\n",
      "        4    0.000    0.000    0.000    0.000 /home/adam/anaconda3/envs/Protein_Evolution/lib/python3.8/site-packages/pandas/core/indexes/base.py:532(is_)\n",
      "        2    0.000    0.000    0.000    0.000 /home/adam/anaconda3/envs/Protein_Evolution/lib/python3.8/_weakrefset.py:20(__enter__)\n",
      "        6    0.000    0.000    0.000    0.000 /home/adam/anaconda3/envs/Protein_Evolution/lib/python3.8/multiprocessing/synchronize.py:90(_make_methods)\n",
      "        4    0.000    0.000    0.000    0.000 {method 'getbuffer' of '_io.BytesIO' objects}\n",
      "        2    0.000    0.000    0.000    0.000 /home/adam/anaconda3/envs/Protein_Evolution/lib/python3.8/site-packages/pandas/core/internals/managers.py:690(<listcomp>)\n",
      "        2    0.000    0.000    0.000    0.000 {built-in method numpy.seterrobj}\n",
      "        1    0.000    0.000    0.000    0.000 {built-in method pandas._libs.lib.is_datetime_array}\n",
      "        7    0.000    0.000    0.000    0.000 /home/adam/anaconda3/envs/Protein_Evolution/lib/python3.8/site-packages/pandas/core/internals/blocks.py:161(_check_ndim)\n",
      "        1    0.000    0.000    0.000    0.000 <string>:2(__init__)\n",
      "        1    0.000    0.000    0.000    0.000 /home/adam/anaconda3/envs/Protein_Evolution/lib/python3.8/site-packages/tqdm/std.py:329(status_printer)\n",
      "        1    0.000    0.000    0.000    0.000 /home/adam/anaconda3/envs/Protein_Evolution/lib/python3.8/site-packages/pandas/core/dtypes/common.py:1276(is_string_like_dtype)\n",
      "        3    0.000    0.000    0.000    0.000 {method 'encode' of 'str' objects}\n",
      "        2    0.000    0.000    0.000    0.000 /home/adam/anaconda3/envs/Protein_Evolution/lib/python3.8/site-packages/pandas/core/dtypes/common.py:157(ensure_python_int)\n",
      "        1    0.000    0.000    0.000    0.000 /home/adam/anaconda3/envs/Protein_Evolution/lib/python3.8/site-packages/pandas/io/parsers.py:3427(_clean_na_values)\n",
      "        2    0.000    0.000    0.000    0.000 /home/adam/anaconda3/envs/Protein_Evolution/lib/python3.8/site-packages/pandas/core/dtypes/cast.py:1541(<genexpr>)\n",
      "        2    0.000    0.000    0.000    0.000 /home/adam/anaconda3/envs/Protein_Evolution/lib/python3.8/site-packages/pandas/core/flags.py:83(allows_duplicate_labels)\n",
      "        1    0.000    0.000    0.000    0.000 {built-in method _abc._abc_subclasscheck}\n",
      "        1    0.000    0.000    0.000    0.000 /home/adam/anaconda3/envs/Protein_Evolution/lib/python3.8/site-packages/pandas/core/internals/managers.py:1699(<listcomp>)\n",
      "        3    0.000    0.000    0.000    0.000 /home/adam/anaconda3/envs/Protein_Evolution/lib/python3.8/site-packages/pandas/core/common.py:129(cast_scalar_indexer)\n",
      "        1    0.000    0.000    0.000    0.000 /home/adam/anaconda3/envs/Protein_Evolution/lib/python3.8/site-packages/tqdm/_monitor.py:92(report)\n",
      "       15    0.000    0.000    0.000    0.000 /home/adam/anaconda3/envs/Protein_Evolution/lib/python3.8/site-packages/pandas/core/internals/blocks.py:265(mgr_locs)\n",
      "        1    0.000    0.000    0.000    0.000 /home/adam/anaconda3/envs/Protein_Evolution/lib/python3.8/site-packages/pandas/io/common.py:793(_maybe_memory_map)\n",
      "        3    0.000    0.000    0.000    0.000 /home/adam/anaconda3/envs/Protein_Evolution/lib/python3.8/site-packages/tqdm/utils.py:101(wrapper_setattr)\n",
      "        2    0.000    0.000    0.000    0.000 /home/adam/anaconda3/envs/Protein_Evolution/lib/python3.8/site-packages/IPython/core/interactiveshell.py:3314(compare)\n",
      "       16    0.000    0.000    0.000    0.000 /home/adam/anaconda3/envs/Protein_Evolution/lib/python3.8/site-packages/pandas/core/indexes/base.py:4070(_values)\n",
      "        2    0.000    0.000    0.000    0.000 /home/adam/anaconda3/envs/Protein_Evolution/lib/python3.8/site-packages/IPython/utils/ipstruct.py:125(__getattr__)\n",
      "        1    0.000    0.000    0.000    0.000 /home/adam/anaconda3/envs/Protein_Evolution/lib/python3.8/site-packages/tqdm/std.py:1134(__del__)\n",
      "        2    0.000    0.000    0.000    0.000 /home/adam/anaconda3/envs/Protein_Evolution/lib/python3.8/site-packages/tqdm/std.py:1144(__hash__)\n",
      "        4    0.000    0.000    0.000    0.000 /home/adam/anaconda3/envs/Protein_Evolution/lib/python3.8/site-packages/pandas/core/internals/managers.py:320(<genexpr>)\n",
      "        6    0.000    0.000    0.000    0.000 /home/adam/anaconda3/envs/Protein_Evolution/lib/python3.8/site-packages/pandas/core/internals/managers.py:210(ndim)\n",
      "        2    0.000    0.000    0.000    0.000 /home/adam/anaconda3/envs/Protein_Evolution/lib/python3.8/site-packages/pandas/core/indexes/base.py:4485(<genexpr>)\n",
      "        8    0.000    0.000    0.000    0.000 {built-in method builtins.id}\n",
      "        3    0.000    0.000    0.000    0.000 /home/adam/anaconda3/envs/Protein_Evolution/lib/python3.8/site-packages/pandas/core/internals/blocks.py:2505(_maybe_coerce_values)\n",
      "        2    0.000    0.000    0.000    0.000 /home/adam/anaconda3/envs/Protein_Evolution/lib/python3.8/site-packages/traitlets/traitlets.py:533(get)\n",
      "        9    0.000    0.000    0.000    0.000 {built-in method _thread.get_ident}\n",
      "        2    0.000    0.000    0.000    0.000 /home/adam/anaconda3/envs/Protein_Evolution/lib/python3.8/site-packages/pandas/core/dtypes/common.py:1187(needs_i8_conversion)\n",
      "        2    0.000    0.000    0.000    0.000 {pandas._libs.lib.array_equivalent_object}\n",
      "        1    0.000    0.000    0.000    0.000 /home/adam/anaconda3/envs/Protein_Evolution/lib/python3.8/site-packages/tqdm/std.py:656(get_lock)\n",
      "        1    0.000    0.000    0.000    0.000 /home/adam/anaconda3/envs/Protein_Evolution/lib/python3.8/site-packages/pandas/core/common.py:170(all_none)\n",
      "        5    0.000    0.000    0.000    0.000 {method 'ravel' of 'numpy.ndarray' objects}\n",
      "        1    0.000    0.000    0.000    0.000 {method 'take' of 'numpy.ndarray' objects}\n",
      "        1    0.000    0.000    0.000    0.000 /home/adam/anaconda3/envs/Protein_Evolution/lib/python3.8/site-packages/pandas/core/indexing.py:240(loc)\n",
      "        1    0.000    0.000    0.000    0.000 /home/adam/anaconda3/envs/Protein_Evolution/lib/python3.8/site-packages/pandas/io/parsers.py:3294(_make_date_converter)\n",
      "        9    0.000    0.000    0.000    0.000 /home/adam/anaconda3/envs/Protein_Evolution/lib/python3.8/site-packages/pandas/core/internals/blocks.py:347(dtype)\n",
      "        4    0.000    0.000    0.000    0.000 /home/adam/anaconda3/envs/Protein_Evolution/lib/python3.8/multiprocessing/connection.py:134(_check_closed)\n",
      "        1    0.000    0.000    0.000    0.000 /home/adam/anaconda3/envs/Protein_Evolution/lib/python3.8/site-packages/pandas/io/parsers.py:1418(_has_complex_date_col)\n",
      "        1    0.000    0.000    0.000    0.000 /home/adam/anaconda3/envs/Protein_Evolution/lib/python3.8/codecs.py:260(__init__)\n",
      "        3    0.000    0.000    0.000    0.000 /home/adam/anaconda3/envs/Protein_Evolution/lib/python3.8/site-packages/pandas/core/indexes/base.py:4096(_get_engine_target)\n",
      "        2    0.000    0.000    0.000    0.000 /home/adam/anaconda3/envs/Protein_Evolution/lib/python3.8/site-packages/IPython/core/interactiveshell.py:1276(user_global_ns)\n",
      "        4    0.000    0.000    0.000    0.000 /home/adam/anaconda3/envs/Protein_Evolution/lib/python3.8/multiprocessing/connection.py:142(_check_writable)\n",
      "        9    0.000    0.000    0.000    0.000 /home/adam/anaconda3/envs/Protein_Evolution/lib/python3.8/multiprocessing/context.py:187(get_context)\n",
      "        1    0.000    0.000    0.000    0.000 /home/adam/anaconda3/envs/Protein_Evolution/lib/python3.8/site-packages/pandas/io/common.py:145(validate_header_arg)\n",
      "        1    0.000    0.000    0.000    0.000 /home/adam/anaconda3/envs/Protein_Evolution/lib/python3.8/site-packages/numpy/core/_ufunc_config.py:429(__init__)\n",
      "        1    0.000    0.000    0.000    0.000 /home/adam/anaconda3/envs/Protein_Evolution/lib/python3.8/site-packages/pandas/core/generic.py:3833(_set_is_copy)\n",
      "        2    0.000    0.000    0.000    0.000 /home/adam/anaconda3/envs/Protein_Evolution/lib/python3.8/site-packages/pandas/core/dtypes/cast.py:1642(construct_1d_ndarray_preserving_na)\n",
      "        4    0.000    0.000    0.000    0.000 {built-in method numpy.geterrobj}\n",
      "        6    0.000    0.000    0.000    0.000 /home/adam/anaconda3/envs/Protein_Evolution/lib/python3.8/site-packages/pandas/core/indexes/base.py:623(dtype)\n",
      "        4    0.000    0.000    0.000    0.000 {pandas._libs.algos.ensure_int64}\n",
      "        2    0.000    0.000    0.000    0.000 {method 'fill' of 'numpy.ndarray' objects}\n",
      "        3    0.000    0.000    0.000    0.000 {method 'startswith' of 'str' objects}\n",
      "        1    0.000    0.000    0.000    0.000 /home/adam/anaconda3/envs/Protein_Evolution/lib/python3.8/site-packages/pandas/core/generic.py:475(_get_block_manager_axis)\n",
      "        1    0.000    0.000    0.000    0.000 {pandas._libs.internals.get_blkno_placements}\n",
      "        2    0.000    0.000    0.000    0.000 /home/adam/anaconda3/envs/Protein_Evolution/lib/python3.8/site-packages/tqdm/std.py:1140(_comparable)\n",
      "        1    0.000    0.000    0.000    0.000 /home/adam/anaconda3/envs/Protein_Evolution/lib/python3.8/site-packages/pandas/core/nanops.py:328(_na_ok_dtype)\n",
      "        1    0.000    0.000    0.000    0.000 /home/adam/anaconda3/envs/Protein_Evolution/lib/python3.8/site-packages/pandas/io/common.py:198(is_fsspec_url)\n",
      "        5    0.000    0.000    0.000    0.000 /home/adam/anaconda3/envs/Protein_Evolution/lib/python3.8/site-packages/pandas/core/internals/managers.py:1588(_block)\n",
      "        1    0.000    0.000    0.000    0.000 /home/adam/anaconda3/envs/Protein_Evolution/lib/python3.8/multiprocessing/pool.py:157(__init__)\n",
      "        4    0.000    0.000    0.000    0.000 {method 'endswith' of 'str' objects}\n",
      "        6    0.000    0.000    0.000    0.000 {pandas._libs.algos.ensure_object}\n",
      "        4    0.000    0.000    0.000    0.000 /home/adam/anaconda3/envs/Protein_Evolution/lib/python3.8/site-packages/numpy/core/multiarray.py:143(concatenate)\n",
      "        5    0.000    0.000    0.000    0.000 {method 'lower' of 'str' objects}\n",
      "        2    0.000    0.000    0.000    0.000 /home/adam/anaconda3/envs/Protein_Evolution/lib/python3.8/site-packages/pandas/core/dtypes/cast.py:1556(<genexpr>)\n",
      "        8    0.000    0.000    0.000    0.000 {pandas._libs.lib.is_iterator}\n",
      "        1    0.000    0.000    0.000    0.000 /home/adam/anaconda3/envs/Protein_Evolution/lib/python3.8/multiprocessing/context.py:233(get_context)\n",
      "        3    0.000    0.000    0.000    0.000 /home/adam/anaconda3/envs/Protein_Evolution/lib/python3.8/site-packages/pandas/core/dtypes/cast.py:1547(<genexpr>)\n",
      "        4    0.000    0.000    0.000    0.000 {method '__exit__' of '_multiprocessing.SemLock' objects}\n",
      "        1    0.000    0.000    0.000    0.000 /home/adam/anaconda3/envs/Protein_Evolution/lib/python3.8/site-packages/tqdm/utils.py:193(_is_utf)\n",
      "        6    0.000    0.000    0.000    0.000 /home/adam/anaconda3/envs/Protein_Evolution/lib/python3.8/multiprocessing/context.py:197(get_start_method)\n",
      "        7    0.000    0.000    0.000    0.000 /home/adam/anaconda3/envs/Protein_Evolution/lib/python3.8/typing.py:1822(new_type)\n",
      "        1    0.000    0.000    0.000    0.000 /home/adam/anaconda3/envs/Protein_Evolution/lib/python3.8/site-packages/pandas/core/internals/managers.py:1903(<listcomp>)\n",
      "        1    0.000    0.000    0.000    0.000 /home/adam/anaconda3/envs/Protein_Evolution/lib/python3.8/site-packages/pandas/io/parsers.py:2131(<dictcomp>)\n",
      "        2    0.000    0.000    0.000    0.000 /home/adam/anaconda3/envs/Protein_Evolution/lib/python3.8/_weakrefset.py:52(_commit_removals)\n",
      "        1    0.000    0.000    0.000    0.000 /home/adam/anaconda3/envs/Protein_Evolution/lib/python3.8/site-packages/pandas/core/dtypes/common.py:1304(<lambda>)\n",
      "        3    0.000    0.000    0.000    0.000 /home/adam/anaconda3/envs/Protein_Evolution/lib/python3.8/site-packages/pandas/io/parsers.py:1088(_is_index_col)\n",
      "        3    0.000    0.000    0.000    0.000 /home/adam/anaconda3/envs/Protein_Evolution/lib/python3.8/site-packages/pandas/core/missing.py:64(clean_fill_method)\n",
      "        6    0.000    0.000    0.000    0.000 /home/adam/anaconda3/envs/Protein_Evolution/lib/python3.8/site-packages/numpy/core/multiarray.py:311(where)\n",
      "        2    0.000    0.000    0.000    0.000 /home/adam/anaconda3/envs/Protein_Evolution/lib/python3.8/site-packages/pandas/core/internals/managers.py:227(is_single_block)\n",
      "        3    0.000    0.000    0.000    0.000 /home/adam/anaconda3/envs/Protein_Evolution/lib/python3.8/site-packages/pandas/core/internals/managers.py:1695(<genexpr>)\n",
      "        1    0.000    0.000    0.000    0.000 /home/adam/anaconda3/envs/Protein_Evolution/lib/python3.8/site-packages/pandas/io/parsers.py:3966(_validate_skipfooter)\n",
      "        1    0.000    0.000    0.000    0.000 {built-in method fromkeys}\n",
      "        1    0.000    0.000    0.000    0.000 /home/adam/PhD/Protein_Evolution/Protein_Landscape/Protein_Landscape/landscape_class.py:451(<dictcomp>)\n",
      "        2    0.000    0.000    0.000    0.000 /home/adam/anaconda3/envs/Protein_Evolution/lib/python3.8/site-packages/pandas/core/dtypes/cast.py:1558(<genexpr>)\n",
      "        1    0.000    0.000    0.000    0.000 /home/adam/anaconda3/envs/Protein_Evolution/lib/python3.8/site-packages/pandas/io/parsers.py:3870(_extract_dialect)\n",
      "        5    0.000    0.000    0.000    0.000 /home/adam/anaconda3/envs/Protein_Evolution/lib/python3.8/site-packages/pandas/core/internals/blocks.py:233(internal_values)\n",
      "        3    0.000    0.000    0.000    0.000 {method 'keys' of 'dict' objects}\n",
      "        1    0.000    0.000    0.000    0.000 /home/adam/anaconda3/envs/Protein_Evolution/lib/python3.8/site-packages/pandas/core/generic.py:452(<dictcomp>)\n",
      "        5    0.000    0.000    0.000    0.000 /home/adam/anaconda3/envs/Protein_Evolution/lib/python3.8/site-packages/pandas/core/indexes/base.py:1232(name)\n",
      "        1    0.000    0.000    0.000    0.000 {method 'difference' of 'set' objects}\n",
      "        2    0.000    0.000    0.000    0.000 {built-in method pandas._libs.missing.checknull}\n",
      "        5    0.000    0.000    0.000    0.000 {pandas._libs.lib.is_float}\n",
      "        1    0.000    0.000    0.000    0.000 {built-in method sys.getfilesystemencoding}\n",
      "        1    0.000    0.000    0.000    0.000 /home/adam/anaconda3/envs/Protein_Evolution/lib/python3.8/site-packages/tqdm/utils.py:163(__eq__)\n",
      "        3    0.000    0.000    0.000    0.000 {method 'locked' of '_thread.lock' objects}\n",
      "        3    0.000    0.000    0.000    0.000 /home/adam/anaconda3/envs/Protein_Evolution/lib/python3.8/site-packages/pandas/core/internals/blocks.py:343(shape)\n",
      "        2    0.000    0.000    0.000    0.000 /home/adam/anaconda3/envs/Protein_Evolution/lib/python3.8/site-packages/pandas/core/indexes/base.py:381(<genexpr>)\n",
      "        2    0.000    0.000    0.000    0.000 /home/adam/anaconda3/envs/Protein_Evolution/lib/python3.8/site-packages/pandas/core/internals/managers.py:1847(<lambda>)\n",
      "        2    0.000    0.000    0.000    0.000 /home/adam/anaconda3/envs/Protein_Evolution/lib/python3.8/site-packages/pandas/core/generic.py:226(attrs)\n",
      "        3    0.000    0.000    0.000    0.000 {method 'upper' of 'str' objects}\n",
      "        1    0.000    0.000    0.000    0.000 /home/adam/anaconda3/envs/Protein_Evolution/lib/python3.8/site-packages/numpy/core/numerictypes.py:621(<listcomp>)\n",
      "        2    0.000    0.000    0.000    0.000 /home/adam/anaconda3/envs/Protein_Evolution/lib/python3.8/site-packages/pandas/core/flags.py:51(allows_duplicate_labels)\n",
      "        2    0.000    0.000    0.000    0.000 /home/adam/anaconda3/envs/Protein_Evolution/lib/python3.8/site-packages/pandas/compat/numpy/function.py:45(__call__)\n",
      "        3    0.000    0.000    0.000    0.000 {pandas._libs.lib.is_bool}\n",
      "        3    0.000    0.000    0.000    0.000 {pandas._libs.algos.ensure_platform_int}\n",
      "        3    0.000    0.000    0.000    0.000 {method 'extend' of 'list' objects}\n",
      "        2    0.000    0.000    0.000    0.000 /home/adam/anaconda3/envs/Protein_Evolution/lib/python3.8/site-packages/pandas/core/internals/blocks.py:261(fill_value)\n",
      "        1    0.000    0.000    0.000    0.000 {built-in method builtins.min}\n",
      "        1    0.000    0.000    0.000    0.000 /home/adam/anaconda3/envs/Protein_Evolution/lib/python3.8/site-packages/pandas/core/common.py:317(apply_if_callable)\n",
      "        1    0.000    0.000    0.000    0.000 /home/adam/anaconda3/envs/Protein_Evolution/lib/python3.8/site-packages/pandas/io/parsers.py:1402(<setcomp>)\n",
      "        1    0.000    0.000    0.000    0.000 {method 'transpose' of 'numpy.ndarray' objects}\n",
      "        3    0.000    0.000    0.000    0.000 {built-in method posix.fspath}\n",
      "        4    0.000    0.000    0.000    0.000 /home/adam/anaconda3/envs/Protein_Evolution/lib/python3.8/site-packages/pandas/core/internals/blocks.py:147(_maybe_coerce_values)\n",
      "        1    0.000    0.000    0.000    0.000 /home/adam/anaconda3/envs/Protein_Evolution/lib/python3.8/site-packages/pandas/io/parsers.py:2129(<listcomp>)\n",
      "        1    0.000    0.000    0.000    0.000 /home/adam/anaconda3/envs/Protein_Evolution/lib/python3.8/site-packages/pandas/io/parsers.py:1194(_validate_usecols_arg)\n",
      "        3    0.000    0.000    0.000    0.000 {pandas._libs.lib.is_integer}\n",
      "        2    0.000    0.000    0.000    0.000 /home/adam/anaconda3/envs/Protein_Evolution/lib/python3.8/urllib/parse.py:99(_noop)\n",
      "        2    0.000    0.000    0.000    0.000 /home/adam/anaconda3/envs/Protein_Evolution/lib/python3.8/site-packages/IPython/core/hooks.py:168(pre_run_code_hook)\n",
      "        1    0.000    0.000    0.000    0.000 {method 'find' of 'str' objects}\n",
      "        4    0.000    0.000    0.000    0.000 /home/adam/anaconda3/envs/Protein_Evolution/lib/python3.8/site-packages/pandas/core/generic.py:247(flags)\n",
      "        1    0.000    0.000    0.000    0.000 /home/adam/anaconda3/envs/Protein_Evolution/lib/python3.8/site-packages/pandas/core/indexes/base.py:5920(ensure_has_len)\n",
      "        1    0.000    0.000    0.000    0.000 /home/adam/anaconda3/envs/Protein_Evolution/lib/python3.8/typing.py:1149(cast)\n",
      "        1    0.000    0.000    0.000    0.000 /home/adam/anaconda3/envs/Protein_Evolution/lib/python3.8/site-packages/pandas/io/parsers.py:418(_validate_names)\n",
      "        1    0.000    0.000    0.000    0.000 /home/adam/anaconda3/envs/Protein_Evolution/lib/python3.8/site-packages/pandas/core/frame.py:482(_constructor)\n",
      "        2    0.000    0.000    0.000    0.000 /home/adam/anaconda3/envs/Protein_Evolution/lib/python3.8/site-packages/numpy/core/multiarray.py:468(can_cast)\n",
      "        2    0.000    0.000    0.000    0.000 {built-in method builtins.callable}\n",
      "        2    0.000    0.000    0.000    0.000 {method 'values' of 'dict' objects}\n",
      "        1    0.000    0.000    0.000    0.000 /home/adam/anaconda3/envs/Protein_Evolution/lib/python3.8/site-packages/pandas/core/indexes/base.py:756(_maybe_disallow_fill)\n",
      "        1    0.000    0.000    0.000    0.000 {method 'reverse' of 'list' objects}\n",
      "        2    0.000    0.000    0.000    0.000 /home/adam/anaconda3/envs/Protein_Evolution/lib/python3.8/site-packages/pandas/core/common.py:174(<genexpr>)\n",
      "        1    0.000    0.000    0.000    0.000 /home/adam/anaconda3/envs/Protein_Evolution/lib/python3.8/site-packages/pandas/core/base.py:397(ndim)\n",
      "        1    0.000    0.000    0.000    0.000 /home/adam/anaconda3/envs/Protein_Evolution/lib/python3.8/site-packages/pandas/core/nanops.py:172(_get_fill_value)\n",
      "        1    0.000    0.000    0.000    0.000 /home/adam/anaconda3/envs/Protein_Evolution/lib/python3.8/site-packages/pandas/core/indexes/numeric.py:78(_validate_dtype)\n",
      "        1    0.000    0.000    0.000    0.000 /home/adam/anaconda3/envs/Protein_Evolution/lib/python3.8/site-packages/pandas/core/internals/managers.py:173(blklocs)\n",
      "        1    0.000    0.000    0.000    0.000 /home/adam/anaconda3/envs/Protein_Evolution/lib/python3.8/urllib/parse.py:399(_checknetloc)\n",
      "        1    0.000    0.000    0.000    0.000 {pandas._libs.lib.item_from_zerodim}\n",
      "        1    0.000    0.000    0.000    0.000 /home/adam/anaconda3/envs/Protein_Evolution/lib/python3.8/site-packages/pandas/core/indexes/base.py:1446(nlevels)\n",
      "        1    0.000    0.000    0.000    0.000 /home/adam/anaconda3/envs/Protein_Evolution/lib/python3.8/site-packages/numpy/core/fromnumeric.py:2100(_sum_dispatcher)\n",
      "        1    0.000    0.000    0.000    0.000 /home/adam/anaconda3/envs/Protein_Evolution/lib/python3.8/site-packages/pandas/core/internals/managers.py:1634(is_consolidated)\n",
      "        1    0.000    0.000    0.000    0.000 /home/adam/anaconda3/envs/Protein_Evolution/lib/python3.8/site-packages/tqdm/std.py:1281(<lambda>)\n",
      "        1    0.000    0.000    0.000    0.000 /home/adam/anaconda3/envs/Protein_Evolution/lib/python3.8/site-packages/tqdm/utils.py:223(_screen_shape_wrapper)\n",
      "        1    0.000    0.000    0.000    0.000 {method 'disable' of '_lsprof.Profiler' objects}\n",
      "        1    0.000    0.000    0.000    0.000 /home/adam/anaconda3/envs/Protein_Evolution/lib/python3.8/site-packages/pandas/core/series.py:393(_constructor)\n",
      "        1    0.000    0.000    0.000    0.000 /home/adam/anaconda3/envs/Protein_Evolution/lib/python3.8/site-packages/pandas/core/internals/managers.py:253(items)\n",
      "        1    0.000    0.000    0.000    0.000 /home/adam/anaconda3/envs/Protein_Evolution/lib/python3.8/site-packages/pandas/core/indexes/base.py:581(<lambda>)\n",
      "        1    0.000    0.000    0.000    0.000 {built-in method builtins.iter}\n",
      "        1    0.000    0.000    0.000    0.000 /home/adam/anaconda3/envs/Protein_Evolution/lib/python3.8/site-packages/pandas/io/parsers.py:1081(__enter__)\n",
      "        1    0.000    0.000    0.000    0.000 /home/adam/anaconda3/envs/Protein_Evolution/lib/python3.8/site-packages/numpy/core/numerictypes.py:622(<listcomp>)\n",
      "        1    0.000    0.000    0.000    0.000 /home/adam/anaconda3/envs/Protein_Evolution/lib/python3.8/site-packages/pandas/core/indexes/base.py:3432(_convert_list_indexer)\n",
      "\n",
      "\n",
      "\n"
     ]
    }
   ],
   "source": [
    "import cProfile, pstats, io\n",
    "from pstats import SortKey\n",
    "\n",
    "pr = cProfile.Profile()\n",
    "pr.enable()\n",
    "big = Protein_Landscape(csv_path=Datasets+\"NK/K0/V0.csv\",gen_graph=True)\n",
    "pr.disable()\n",
    "s = io.StringIO()\n",
    "sortby = SortKey.CUMULATIVE\n",
    "ps = pstats.Stats(pr, stream=s).sort_stats(sortby)\n",
    "ps.print_stats()\n",
    "print(s.getvalue())\n"
   ]
  },
  {
   "cell_type": "code",
   "execution_count": 4,
   "metadata": {},
   "outputs": [],
   "source": [
    "#cProfile.run(\"big.build_graph()\",sort=cumtime)"
   ]
  },
  {
   "cell_type": "code",
   "execution_count": 3,
   "metadata": {},
   "outputs": [
    {
     "name": "stdout",
     "output_type": "stream",
     "text": [
      "Building Protein Graph for entire dataset\n"
     ]
    },
    {
     "name": "stderr",
     "output_type": "stream",
     "text": [
      "100%|██████████| 100000/100000 [00:08<00:00, 11932.99it/s]\n",
      "  8%|▊         | 8132/100000 [00:00<00:01, 81313.29it/s]"
     ]
    },
    {
     "name": "stdout",
     "output_type": "stream",
     "text": [
      "Calculating the number of extrema\n"
     ]
    },
    {
     "name": "stderr",
     "output_type": "stream",
     "text": [
      "100%|██████████| 100000/100000 [00:01<00:00, 81201.75it/s]"
     ]
    },
    {
     "name": "stdout",
     "output_type": "stream",
     "text": [
      "\n",
      "        Protein Landscape class\n",
      "            Number of Sequences : 100000\n",
      "            Max Distance        : 5\n",
      "            Number of Distances : 5\n",
      "            Seed Sequence       : \u001b[32mA\u001b[0m\u001b[32mA\u001b[0m\u001b[32mA\u001b[0m\u001b[32mA\u001b[0m\u001b[32mA\u001b[0m\n",
      "                Modified positions are shown in green\n",
      "            Number of minima : 1\n",
      "            Number of maxima : 1\n",
      "            Normalized Extrema Ruggedness : 2e-05\n",
      "            R/S Ruggedness : 30.205840273418694\n",
      "        \n"
     ]
    },
    {
     "name": "stderr",
     "output_type": "stream",
     "text": [
      "\n"
     ]
    }
   ],
   "source": [
    "big = Protein_Landscape(csv_path=Datasets+\"NK/K0/V0.csv\",gen_graph=True)"
   ]
  },
  {
   "cell_type": "code",
   "execution_count": null,
   "metadata": {},
   "outputs": [],
   "source": []
  },
  {
   "cell_type": "code",
   "execution_count": 10,
   "metadata": {},
   "outputs": [
    {
     "name": "stdout",
     "output_type": "stream",
     "text": [
      "Building Protein Graph for entire dataset\n"
     ]
    },
    {
     "name": "stderr",
     "output_type": "stream",
     "text": [
      "100%|██████████| 100000/100000 [00:08<00:00, 12419.41it/s]\n",
      " 17%|█▋        | 17194/100000 [00:00<00:00, 86003.05it/s]"
     ]
    },
    {
     "name": "stdout",
     "output_type": "stream",
     "text": [
      "Calculating the number of extrema\n"
     ]
    },
    {
     "name": "stderr",
     "output_type": "stream",
     "text": [
      "100%|██████████| 100000/100000 [00:01<00:00, 84858.94it/s]\n"
     ]
    },
    {
     "name": "stdout",
     "output_type": "stream",
     "text": [
      "\n",
      "        Protein Landscape class\n",
      "            Number of Sequences : 100000\n",
      "            Max Distance        : 5\n",
      "            Number of Distances : 5\n",
      "            Seed Sequence       : \u001b[32mA\u001b[0m\u001b[32mA\u001b[0m\u001b[32mA\u001b[0m\u001b[32mA\u001b[0m\u001b[32mA\u001b[0m\n",
      "                Modified positions are shown in green\n",
      "            Number of minima : 1\n",
      "            Number of maxima : 1\n",
      "            Normalized Extrema Ruggedness : 2e-05\n",
      "            R/S Ruggedness : 30.205840273418644\n",
      "        \n",
      "Building Protein Graph for entire dataset\n"
     ]
    },
    {
     "name": "stderr",
     "output_type": "stream",
     "text": [
      "100%|██████████| 100000/100000 [00:07<00:00, 12725.44it/s]\n",
      "  8%|▊         | 8167/100000 [00:00<00:01, 81661.32it/s]"
     ]
    },
    {
     "name": "stdout",
     "output_type": "stream",
     "text": [
      "Calculating the number of extrema\n"
     ]
    },
    {
     "name": "stderr",
     "output_type": "stream",
     "text": [
      "100%|██████████| 100000/100000 [00:01<00:00, 85234.18it/s]\n"
     ]
    },
    {
     "name": "stdout",
     "output_type": "stream",
     "text": [
      "\n",
      "        Protein Landscape class\n",
      "            Number of Sequences : 100000\n",
      "            Max Distance        : 5\n",
      "            Number of Distances : 5\n",
      "            Seed Sequence       : \u001b[32mA\u001b[0m\u001b[32mA\u001b[0m\u001b[32mA\u001b[0m\u001b[32mA\u001b[0m\u001b[32mA\u001b[0m\n",
      "                Modified positions are shown in green\n",
      "            Number of minima : 43\n",
      "            Number of maxima : 42\n",
      "            Normalized Extrema Ruggedness : 0.00085\n",
      "            R/S Ruggedness : 78.85618586843405\n",
      "        \n",
      "Building Protein Graph for entire dataset\n"
     ]
    },
    {
     "name": "stderr",
     "output_type": "stream",
     "text": [
      "100%|██████████| 100000/100000 [00:07<00:00, 12978.29it/s]\n",
      "  8%|▊         | 8309/100000 [00:00<00:01, 83087.11it/s]"
     ]
    },
    {
     "name": "stdout",
     "output_type": "stream",
     "text": [
      "Calculating the number of extrema\n"
     ]
    },
    {
     "name": "stderr",
     "output_type": "stream",
     "text": [
      "100%|██████████| 100000/100000 [00:01<00:00, 83945.31it/s]\n"
     ]
    },
    {
     "name": "stdout",
     "output_type": "stream",
     "text": [
      "\n",
      "        Protein Landscape class\n",
      "            Number of Sequences : 100000\n",
      "            Max Distance        : 5\n",
      "            Number of Distances : 5\n",
      "            Seed Sequence       : \u001b[32mA\u001b[0m\u001b[32mA\u001b[0m\u001b[32mA\u001b[0m\u001b[32mA\u001b[0m\u001b[32mA\u001b[0m\n",
      "                Modified positions are shown in green\n",
      "            Number of minima : 148\n",
      "            Number of maxima : 155\n",
      "            Normalized Extrema Ruggedness : 0.00303\n",
      "            R/S Ruggedness : 173.1382360441364\n",
      "        \n",
      "Building Protein Graph for entire dataset\n"
     ]
    },
    {
     "name": "stderr",
     "output_type": "stream",
     "text": [
      "100%|██████████| 100000/100000 [00:08<00:00, 12241.75it/s]\n",
      " 17%|█▋        | 17148/100000 [00:00<00:00, 85986.95it/s]"
     ]
    },
    {
     "name": "stdout",
     "output_type": "stream",
     "text": [
      "Calculating the number of extrema\n"
     ]
    },
    {
     "name": "stderr",
     "output_type": "stream",
     "text": [
      "100%|██████████| 100000/100000 [00:01<00:00, 86180.32it/s]\n"
     ]
    },
    {
     "name": "stdout",
     "output_type": "stream",
     "text": [
      "\n",
      "        Protein Landscape class\n",
      "            Number of Sequences : 100000\n",
      "            Max Distance        : 5\n",
      "            Number of Distances : 5\n",
      "            Seed Sequence       : \u001b[32mA\u001b[0m\u001b[32mA\u001b[0m\u001b[32mA\u001b[0m\u001b[32mA\u001b[0m\u001b[32mA\u001b[0m\n",
      "                Modified positions are shown in green\n",
      "            Number of minima : 849\n",
      "            Number of maxima : 842\n",
      "            Normalized Extrema Ruggedness : 0.01691\n",
      "            R/S Ruggedness : 346.1527107250392\n",
      "        \n",
      "Building Protein Graph for entire dataset\n"
     ]
    },
    {
     "name": "stderr",
     "output_type": "stream",
     "text": [
      "100%|██████████| 100000/100000 [00:07<00:00, 12874.68it/s]\n",
      "  8%|▊         | 8197/100000 [00:00<00:01, 81963.04it/s]"
     ]
    },
    {
     "name": "stdout",
     "output_type": "stream",
     "text": [
      "Calculating the number of extrema\n"
     ]
    },
    {
     "name": "stderr",
     "output_type": "stream",
     "text": [
      "100%|██████████| 100000/100000 [00:01<00:00, 82981.68it/s]\n"
     ]
    },
    {
     "name": "stdout",
     "output_type": "stream",
     "text": [
      "\n",
      "        Protein Landscape class\n",
      "            Number of Sequences : 100000\n",
      "            Max Distance        : 5\n",
      "            Number of Distances : 5\n",
      "            Seed Sequence       : \u001b[32mA\u001b[0m\u001b[32mA\u001b[0m\u001b[32mA\u001b[0m\u001b[32mA\u001b[0m\u001b[32mA\u001b[0m\n",
      "                Modified positions are shown in green\n",
      "            Number of minima : 2171\n",
      "            Number of maxima : 2167\n",
      "            Normalized Extrema Ruggedness : 0.04338\n",
      "            R/S Ruggedness : 2602.540952232628\n",
      "        \n"
     ]
    }
   ],
   "source": [
    "k0 = Protein_Landscape(csv_path=Datasets+\"NK/K0/V0.csv\",gen_graph=True)\n",
    "k1 = Protein_Landscape(csv_path=Datasets+\"NK/K1/V0.csv\",gen_graph=True)\n",
    "k2 = Protein_Landscape(csv_path=Datasets+\"NK/K2/V0.csv\",gen_graph=True)\n",
    "k3 = Protein_Landscape(csv_path=Datasets+\"NK/K3/V0.csv\",gen_graph=True)\n",
    "k4 = Protein_Landscape(csv_path=Datasets+\"NK/K4/V0.csv\",gen_graph=True)"
   ]
  },
  {
   "cell_type": "code",
   "execution_count": 12,
   "metadata": {},
   "outputs": [],
   "source": [
    "graphs = [k0,k1,k2,k3,k4]\n",
    "rugs = [[],[],[],[],[]]\n",
    "\n",
    "for i,graph in enumerate(graphs):\n",
    "    for key in graph.graph.keys():\n",
    "        rugs[i].append(np.var(graph.fitnesses[graph.graph[key][\"neighbours\"]]))\n",
    "        \n"
   ]
  },
  {
   "cell_type": "code",
   "execution_count": 11,
   "metadata": {},
   "outputs": [],
   "source": [
    "random = []\n",
    "noise = np.random.uniform(0,1,size=(100000,))\n",
    "for key in graph.graph.keys():\n",
    "    random.append(np.var(noise[graph.graph[key][\"neighbours\"]]))"
   ]
  },
  {
   "cell_type": "code",
   "execution_count": 39,
   "metadata": {},
   "outputs": [
    {
     "data": {
      "image/png": "[encoded data removed]",
      "text/plain": [
       "<Figure size 1152x432 with 1 Axes>"
      ]
     },
     "metadata": {
      "needs_background": "light"
     },
     "output_type": "display_data"
    }
   ],
   "source": [
    "import matplotlib.pyplot as plt\n",
    "\n",
    "fig = plt.figure(figsize=(16,6))\n",
    "\n",
    "for rug in rugs:\n",
    "    plt.hist(rug,bins=200,alpha=0.2)\n",
    "#plt.hist(random,bins=200)\n",
    "plt.hist(gb12_rug,bins=1000,alpha=0.2)\n",
    "plt.show()"
   ]
  },
  {
   "cell_type": "code",
   "execution_count": 5,
   "metadata": {},
   "outputs": [
    {
     "name": "stdout",
     "output_type": "stream",
     "text": [
      "Building Protein Graph for entire dataset\n"
     ]
    },
    {
     "name": "stderr",
     "output_type": "stream",
     "text": [
      "100%|██████████| 536962/536962 [04:17<00:00, 2084.81it/s]\n",
      "  3%|▎         | 13997/536962 [00:00<00:07, 72607.50it/s]"
     ]
    },
    {
     "name": "stdout",
     "output_type": "stream",
     "text": [
      "Calculating the number of extrema\n"
     ]
    },
    {
     "name": "stderr",
     "output_type": "stream",
     "text": [
      "100%|██████████| 536962/536962 [00:06<00:00, 86612.56it/s]\n"
     ]
    },
    {
     "name": "stdout",
     "output_type": "stream",
     "text": [
      "\n",
      "        Protein Landscape class\n",
      "            Number of Sequences : 536962\n",
      "            Max Distance        : 3\n",
      "            Number of Distances : 3\n",
      "            Seed Sequence       : M\u001b[32mA\u001b[0m\u001b[32mY\u001b[0m\u001b[32mK\u001b[0m\u001b[32mL\u001b[0m\u001b[32mI\u001b[0m\u001b[32mL\u001b[0m\u001b[32mN\u001b[0m\u001b[32mG\u001b[0m\u001b[32mK\u001b[0m\u001b[32mT\u001b[0m\u001b[32mL\u001b[0m\u001b[32mK\u001b[0m\u001b[32mG\u001b[0m\u001b[32mE\u001b[0m\u001b[32mT\u001b[0m\u001b[32mT\u001b[0m\u001b[32mT\u001b[0m\u001b[32mE\u001b[0m\u001b[32mA\u001b[0m\u001b[32mV\u001b[0m\u001b[32mD\u001b[0m\u001b[32mA\u001b[0m\u001b[32mA\u001b[0m\u001b[32mT\u001b[0m\u001b[32mA\u001b[0m\u001b[32mE\u001b[0m\u001b[32mK\u001b[0m\u001b[32mV\u001b[0m\u001b[32mF\u001b[0m\u001b[32mK\u001b[0m\u001b[32mQ\u001b[0m\u001b[32mY\u001b[0m\u001b[32mA\u001b[0m\u001b[32mN\u001b[0m\u001b[32mD\u001b[0m\u001b[32mN\u001b[0m\u001b[32mG\u001b[0m\u001b[32mV\u001b[0m\u001b[32mD\u001b[0m\u001b[32mG\u001b[0m\u001b[32mE\u001b[0m\u001b[32mW\u001b[0m\u001b[32mT\u001b[0m\u001b[32mY\u001b[0m\u001b[32mD\u001b[0m\u001b[32mD\u001b[0m\u001b[32mA\u001b[0m\u001b[32mT\u001b[0m\u001b[32mK\u001b[0m\u001b[32mT\u001b[0m\u001b[32mF\u001b[0m\u001b[32mT\u001b[0m\u001b[32mV\u001b[0m\u001b[32mT\u001b[0m\u001b[32mE\u001b[0m\n",
      "                Modified positions are shown in green\n",
      "            Number of minima : 1177\n",
      "            Number of maxima : 1490\n",
      "            Normalized Extrema Ruggedness : 0.004966831917342381\n",
      "            R/S Ruggedness : 1.9277890715796737e-09\n",
      "        \n"
     ]
    }
   ],
   "source": [
    "#gb4 = Protein_Landscape(csv_path=\"~/PhD/Protein_Evolution/Datasets/GProtein/G_protein_4_mut_cleaned.csv\",gen_graph=True)\n",
    "gb12 = Protein_Landscape(csv_path=\"~/PhD/Protein_Evolution/Datasets/GProtein/Full_GProtein.csv\",gen_graph=True)"
   ]
  },
  {
   "cell_type": "code",
   "execution_count": 31,
   "metadata": {},
   "outputs": [
    {
     "name": "stdout",
     "output_type": "stream",
     "text": [
      "Building Protein Graph for entire dataset\n"
     ]
    },
    {
     "name": "stderr",
     "output_type": "stream",
     "text": [
      "100%|██████████| 5230/5230 [00:42<00:00, 122.25it/s]\n",
      "100%|██████████| 5230/5230 [00:00<00:00, 52772.63it/s]"
     ]
    },
    {
     "name": "stdout",
     "output_type": "stream",
     "text": [
      "Calculating the number of extrema\n",
      "\n",
      "        Protein Landscape class\n",
      "            Number of Sequences : 5230\n",
      "            Max Distance        : 2\n",
      "            Number of Distances : 2\n",
      "            Seed Sequence       : \u001b[32mA\u001b[0m\u001b[32mF\u001b[0m\u001b[32mK\u001b[0m\u001b[32mL\u001b[0m\u001b[32mL\u001b[0m\u001b[32mS\u001b[0m\u001b[32mK\u001b[0m\u001b[32mL\u001b[0m\u001b[32mL\u001b[0m\u001b[32mV\u001b[0m\u001b[32mY\u001b[0m\u001b[32mL\u001b[0m\u001b[32mT\u001b[0m\u001b[32mA\u001b[0m\u001b[32mS\u001b[0m\u001b[32mI\u001b[0m\u001b[32mM\u001b[0m\u001b[32mA\u001b[0m\u001b[32mI\u001b[0m\u001b[32mA\u001b[0m\u001b[32mS\u001b[0m\u001b[32mP\u001b[0m\u001b[32mL\u001b[0m\u001b[32mA\u001b[0m\u001b[32mF\u001b[0m\u001b[32mS\u001b[0m\u001b[32mV\u001b[0m\u001b[32mD\u001b[0m\u001b[32mS\u001b[0m\u001b[32mS\u001b[0m\u001b[32mG\u001b[0m\u001b[32mE\u001b[0m\u001b[32mY\u001b[0m\u001b[32mP\u001b[0m\u001b[32mT\u001b[0m\u001b[32mV\u001b[0m\u001b[32mS\u001b[0m\u001b[32mE\u001b[0m\u001b[32mI\u001b[0m\u001b[32mP\u001b[0m\u001b[32mV\u001b[0m\u001b[32mG\u001b[0m\u001b[32mE\u001b[0m\u001b[32mV\u001b[0m\u001b[32mR\u001b[0m\u001b[32mL\u001b[0m\u001b[32mY\u001b[0m\u001b[32mQ\u001b[0m\u001b[32mI\u001b[0m\u001b[32mA\u001b[0m\u001b[32mD\u001b[0m\u001b[32mG\u001b[0m\u001b[32mV\u001b[0m\u001b[32mW\u001b[0m\u001b[32mS\u001b[0m\u001b[32mH\u001b[0m\u001b[32mI\u001b[0m\u001b[32mA\u001b[0m\u001b[32mT\u001b[0m\u001b[32mQ\u001b[0m\u001b[32mS\u001b[0m\u001b[32mF\u001b[0m\u001b[32mD\u001b[0m\u001b[32mG\u001b[0m\u001b[32mA\u001b[0m\u001b[32mV\u001b[0m\u001b[32mY\u001b[0m\u001b[32mP\u001b[0m\u001b[32mS\u001b[0m\u001b[32mN\u001b[0m\u001b[32mG\u001b[0m\u001b[32mL\u001b[0m\u001b[32mI\u001b[0m\u001b[32mV\u001b[0m\u001b[32mR\u001b[0m\u001b[32mD\u001b[0m\u001b[32mG\u001b[0m\u001b[32mD\u001b[0m\u001b[32mE\u001b[0m\u001b[32mL\u001b[0m\u001b[32mL\u001b[0m\u001b[32mL\u001b[0m\u001b[32mI\u001b[0m\u001b[32mD\u001b[0m\u001b[32mT\u001b[0m\u001b[32mA\u001b[0m\u001b[32mW\u001b[0m\u001b[32mG\u001b[0m\u001b[32mA\u001b[0m\u001b[32mK\u001b[0m\u001b[32mN\u001b[0m\u001b[32mT\u001b[0m\u001b[32mA\u001b[0m\u001b[32mA\u001b[0m\u001b[32mL\u001b[0m\u001b[32mL\u001b[0m\u001b[32mA\u001b[0m\u001b[32mE\u001b[0m\u001b[32mI\u001b[0m\u001b[32mE\u001b[0m\u001b[32mK\u001b[0m\u001b[32mQ\u001b[0m\u001b[32mI\u001b[0m\u001b[32mG\u001b[0m\u001b[32mL\u001b[0m\u001b[32mP\u001b[0m\u001b[32mV\u001b[0m\u001b[32mT\u001b[0m\u001b[32mR\u001b[0m\u001b[32mA\u001b[0m\u001b[32mV\u001b[0m\u001b[32mS\u001b[0m\u001b[32mT\u001b[0m\u001b[32mH\u001b[0m\u001b[32mF\u001b[0m\u001b[32mH\u001b[0m\u001b[32mD\u001b[0m\u001b[32mD\u001b[0m\u001b[32mR\u001b[0m\u001b[32mV\u001b[0m\u001b[32mG\u001b[0m\u001b[32mG\u001b[0m\u001b[32mV\u001b[0m\u001b[32mD\u001b[0m\u001b[32mV\u001b[0m\u001b[32mL\u001b[0m\u001b[32mR\u001b[0m\u001b[32mA\u001b[0m\u001b[32mA\u001b[0m\u001b[32mG\u001b[0m\u001b[32mV\u001b[0m\u001b[32mA\u001b[0m\u001b[32mT\u001b[0m\u001b[32mY\u001b[0m\u001b[32mA\u001b[0m\u001b[32mS\u001b[0m\u001b[32mP\u001b[0m\u001b[32mS\u001b[0m\u001b[32mT\u001b[0m\u001b[32mR\u001b[0m\u001b[32mR\u001b[0m\u001b[32mL\u001b[0m\u001b[32mA\u001b[0m\u001b[32mE\u001b[0m\u001b[32mV\u001b[0m\u001b[32mE\u001b[0m\u001b[32mG\u001b[0m\u001b[32mN\u001b[0m\u001b[32mE\u001b[0m\u001b[32mI\u001b[0m\u001b[32mP\u001b[0m\u001b[32mT\u001b[0m\u001b[32mH\u001b[0m\u001b[32mS\u001b[0m\u001b[32mL\u001b[0m\u001b[32mE\u001b[0m\u001b[32mG\u001b[0m\u001b[32mL\u001b[0m\u001b[32mS\u001b[0m\u001b[32mS\u001b[0m\u001b[32mS\u001b[0m\u001b[32mG\u001b[0m\u001b[32mD\u001b[0m\u001b[32mA\u001b[0m\u001b[32mV\u001b[0m\u001b[32mR\u001b[0m\u001b[32mF\u001b[0m\u001b[32mG\u001b[0m\u001b[32mP\u001b[0m\u001b[32mV\u001b[0m\u001b[32mE\u001b[0m\u001b[32mL\u001b[0m\u001b[32mF\u001b[0m\u001b[32mY\u001b[0m\u001b[32mP\u001b[0m\u001b[32mG\u001b[0m\u001b[32mA\u001b[0m\u001b[32mA\u001b[0m\u001b[32mH\u001b[0m\u001b[32mS\u001b[0m\u001b[32mT\u001b[0m\u001b[32mD\u001b[0m\u001b[32mN\u001b[0m\u001b[32mL\u001b[0m\u001b[32mI\u001b[0m\u001b[32mV\u001b[0m\u001b[32mY\u001b[0m\u001b[32mV\u001b[0m\u001b[32mP\u001b[0m\u001b[32mS\u001b[0m\u001b[32mA\u001b[0m\u001b[32mS\u001b[0m\u001b[32mV\u001b[0m\u001b[32mL\u001b[0m\u001b[32mY\u001b[0m\u001b[32mG\u001b[0m\u001b[32mG\u001b[0m\u001b[32mC\u001b[0m\u001b[32mA\u001b[0m\u001b[32mI\u001b[0m\u001b[32mY\u001b[0m\u001b[32mE\u001b[0m\u001b[32mL\u001b[0m\u001b[32mS\u001b[0m\u001b[32mR\u001b[0m\u001b[32mT\u001b[0m\u001b[32mS\u001b[0m\u001b[32mA\u001b[0m\u001b[32mG\u001b[0m\u001b[32mN\u001b[0m\u001b[32mV\u001b[0m\u001b[32mA\u001b[0m\u001b[32mD\u001b[0m\u001b[32mA\u001b[0m\u001b[32mD\u001b[0m\u001b[32mL\u001b[0m\u001b[32mA\u001b[0m\u001b[32mE\u001b[0m\u001b[32mW\u001b[0m\u001b[32mP\u001b[0m\u001b[32mT\u001b[0m\u001b[32mS\u001b[0m\u001b[32mI\u001b[0m\u001b[32mE\u001b[0m\u001b[32mR\u001b[0m\u001b[32mI\u001b[0m\u001b[32mQ\u001b[0m\u001b[32mQ\u001b[0m\u001b[32mH\u001b[0m\u001b[32mY\u001b[0m\u001b[32mP\u001b[0m\u001b[32mE\u001b[0m\u001b[32mA\u001b[0m\u001b[32mQ\u001b[0m\u001b[32mF\u001b[0m\u001b[32mV\u001b[0m\u001b[32mI\u001b[0m\u001b[32mP\u001b[0m\u001b[32mG\u001b[0m\u001b[32mH\u001b[0m\u001b[32mG\u001b[0m\u001b[32mL\u001b[0m\u001b[32mP\u001b[0m\u001b[32mG\u001b[0m\u001b[32mG\u001b[0m\u001b[32mL\u001b[0m\u001b[32mD\u001b[0m\u001b[32mL\u001b[0m\u001b[32mL\u001b[0m\u001b[32mK\u001b[0m\u001b[32mH\u001b[0m\u001b[32mT\u001b[0m\u001b[32mT\u001b[0m\u001b[32mN\u001b[0m\u001b[32mV\u001b[0m\u001b[32mV\u001b[0m\u001b[32mK\u001b[0m\u001b[32mA\u001b[0m\u001b[32mH\u001b[0m\u001b[32mT\u001b[0m\u001b[32mN\u001b[0m\u001b[32mR\u001b[0m\u001b[32mS\u001b[0m\u001b[32mV\u001b[0m\u001b[32mV\u001b[0m\u001b[32mE\u001b[0m\n",
      "                Modified positions are shown in green\n",
      "            Number of minima : 161\n",
      "            Number of maxima : 169\n",
      "            Normalized Extrema Ruggedness : 0.06309751434034416\n",
      "            R/S Ruggedness : 16.478461526004715\n",
      "        \n"
     ]
    },
    {
     "name": "stderr",
     "output_type": "stream",
     "text": [
      "\n"
     ]
    }
   ],
   "source": [
    "blac = Protein_Landscape(csv_path=\"~/PhD/Protein_Evolution/Datasets/BLactamase/Blac_EC50_Cleaned.csv\",gen_graph=True)"
   ]
  },
  {
   "cell_type": "code",
   "execution_count": 1,
   "metadata": {},
   "outputs": [
    {
     "ename": "NameError",
     "evalue": "name 'Protein_Landscape' is not defined",
     "output_type": "error",
     "traceback": [
      "\u001b[0;31m---------------------------------------------------------------------------\u001b[0m",
      "\u001b[0;31mNameError\u001b[0m                                 Traceback (most recent call last)",
      "\u001b[0;32m<ipython-input-1-7fbfb1c4e762>\u001b[0m in \u001b[0;36m<module>\u001b[0;34m\u001b[0m\n\u001b[0;32m----> 1\u001b[0;31m \u001b[0mgb12\u001b[0m \u001b[0;34m=\u001b[0m \u001b[0mProtein_Landscape\u001b[0m\u001b[0;34m(\u001b[0m\u001b[0msaved_file\u001b[0m\u001b[0;34m=\u001b[0m\u001b[0;34m\"~/PhD/Protein_Evolution/Datasets/GProtein/Full_GProtein.txt\"\u001b[0m\u001b[0;34m)\u001b[0m\u001b[0;34m\u001b[0m\u001b[0;34m\u001b[0m\u001b[0m\n\u001b[0m",
      "\u001b[0;31mNameError\u001b[0m: name 'Protein_Landscape' is not defined"
     ]
    }
   ],
   "source": [
    "gb12 = Protein_Landscape(saved_file=\"~/PhD/Protein_Evolution/Datasets/GProtein/Full_GProtein.txt\")"
   ]
  },
  {
   "cell_type": "code",
   "execution_count": 9,
   "metadata": {},
   "outputs": [],
   "source": [
    "gb12_rug = []\n",
    "fitty = scaler.transform(gb12.fitnesses.reshape(-1,1))\n",
    "for key in gb12.graph.keys():\n",
    "    gb12_rug.append(np.var(fitty[gb12.graph[key][\"neighbours\"]]))"
   ]
  },
  {
   "cell_type": "code",
   "execution_count": 34,
   "metadata": {},
   "outputs": [],
   "source": [
    "blackrug = []\n",
    "blac_scaler = MinMaxScaler(feature_range=(0,1))\n",
    "blac_scaler.fit(blac.fitnesses.reshape(-1,1))\n",
    "blac_fitty = blac_scaler.transform(blac.fitnesses.reshape(-1,1))\n",
    "for key in blac.graph.keys():\n",
    "    blackrug.append(np.var(blac_fitty[blac.graph[key][\"neighbours\"]]))"
   ]
  },
  {
   "cell_type": "code",
   "execution_count": null,
   "metadata": {},
   "outputs": [],
   "source": [
    "        big.graph[key][\"local variance\"] = np.var(big.fitnesses[big.graph[key][\"neighbours\"]])\n"
   ]
  },
  {
   "cell_type": "code",
   "execution_count": 7,
   "metadata": {},
   "outputs": [],
   "source": [
    "from sklearn.preprocessing import MinMaxScaler\n",
    "scaler=MinMaxScaler(feature_range=(0,1))"
   ]
  },
  {
   "cell_type": "code",
   "execution_count": 8,
   "metadata": {},
   "outputs": [
    {
     "data": {
      "text/plain": [
       "MinMaxScaler()"
      ]
     },
     "execution_count": 8,
     "metadata": {},
     "output_type": "execute_result"
    }
   ],
   "source": [
    "scaler.fit(gb12.fitnesses.reshape(-1,1))"
   ]
  },
  {
   "cell_type": "code",
   "execution_count": 46,
   "metadata": {},
   "outputs": [
    {
     "name": "stdout",
     "output_type": "stream",
     "text": [
      "0.005935995250016707 2.314160609091417e-06\n",
      "0.01077337248833914 1.2552554433483275e-05\n",
      "0.02448694814667563 4.57346874524477e-05\n",
      "0.027917508097440782 3.5157574285470445e-05\n",
      "0.08131125294302471 0.00012453642659500069\n",
      "\n",
      "0.00693992008446153 5.305601401717801e-05\n",
      "0.04627526956938187 0.001014674436995688\n"
     ]
    }
   ],
   "source": [
    "for rug in rugs:\n",
    "    print(np.mean(rug),np.var(rug))\n",
    "print()\n",
    "print(np.mean(gb12_rug),np.var(gb12_rug))\n",
    "print(np.mean(blackrug),np.var(blackrug))"
   ]
  },
  {
   "cell_type": "code",
   "execution_count": 51,
   "metadata": {},
   "outputs": [
    {
     "data": {
      "image/png": "[encoded data removed]",
      "text/plain": [
       "<Figure size 432x288 with 1 Axes>"
      ]
     },
     "metadata": {
      "needs_background": "light"
     },
     "output_type": "display_data"
    }
   ],
   "source": [
    "plt.hist(gb12.fitnesses[gb12.graph[1][\"neighbours\"]])\n",
    "plt.show()"
   ]
  },
  {
   "cell_type": "code",
   "execution_count": null,
   "metadata": {},
   "outputs": [],
   "source": []
  },
  {
   "cell_type": "code",
   "execution_count": null,
   "metadata": {},
   "outputs": [],
   "source": []
  }
 ],
 "metadata": {
  "kernelspec": {
   "display_name": "Protein_Evolution",
   "language": "python",
   "name": "protein_evolution"
  },
  "language_info": {
   "codemirror_mode": {
    "name": "ipython",
    "version": 3
   },
   "file_extension": ".py",
   "mimetype": "text/x-python",
   "name": "python",
   "nbconvert_exporter": "python",
   "pygments_lexer": "ipython3",
   "version": "3.8.5"
  }
 },
 "nbformat": 4,
 "nbformat_minor": 4
}
