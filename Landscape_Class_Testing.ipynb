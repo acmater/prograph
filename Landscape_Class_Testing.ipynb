{
 "cells": [
  {
   "cell_type": "code",
   "execution_count": 1,
   "metadata": {},
   "outputs": [],
   "source": [
    "%matplotlib inline\n",
    "''' Python Tools '''\n",
    "import numpy as np\n",
    "np.set_printoptions(suppress=True) # Changes print functionality\n",
    "import pandas as pd\n",
    "import os\n",
    "import random\n",
    "import matplotlib.pyplot as plt\n",
    "import matplotlib.animation as animation\n",
    "from IPython.display import HTML\n",
    "\n",
    "'''PyTorch Functionality'''\n",
    "import torch\n",
    "import torch.nn as nn\n",
    "import torch.nn.parallel\n",
    "import torch.backends.cudnn as cudnn\n",
    "import torch.optim as optim\n",
    "import torch.utils.data\n",
    "import torchvision.datasets as dset\n",
    "import torchvision.transforms as transforms\n",
    "import torchvision.utils as vutils\n",
    "\n",
    "'''Landscape Class'''\n",
    "from Protein_Landscape.landscape_class import Protein_Landscape\n",
    "\n",
    "'''Dataset Management'''\n",
    "Datasets = 'Data/'\n"
   ]
  },
  {
   "cell_type": "code",
   "execution_count": 2,
   "metadata": {
    "scrolled": true
   },
   "outputs": [
    {
     "name": "stdout",
     "output_type": "stream",
     "text": [
      "Building Protein Graph for entire dataset\n"
     ]
    },
    {
     "name": "stderr",
     "output_type": "stream",
     "text": [
      "100%|██████████| 1000/1000 [00:00<00:00, 9212.28it/s]\n",
      "100%|██████████| 1000/1000 [00:00<00:00, 63168.18it/s]"
     ]
    },
    {
     "name": "stdout",
     "output_type": "stream",
     "text": [
      "Calculating the number of extrema\n",
      "\n",
      "        Protein Landscape class\n",
      "            Number of Sequences : 1000\n",
      "            Max Distance        : 3\n",
      "            Number of Distances : 3\n",
      "            Seed Sequence       : \u001b[32mA\u001b[0m\u001b[32mA\u001b[0m\u001b[32mA\u001b[0m\n",
      "                Modified positions are shown in green\n",
      "            Number of minima : 1\n",
      "            Number of maxima : 1\n",
      "            Normalized Extrema Ruggedness : 0.002\n",
      "            R/S Ruggedness : 17.319433978287016\n",
      "        \n"
     ]
    },
    {
     "name": "stderr",
     "output_type": "stream",
     "text": [
      "\n"
     ]
    }
   ],
   "source": [
    "test = Protein_Landscape(csv_path=Datasets+\"Small_NK.csv\",gen_graph=True)\n"
   ]
  },
  {
   "cell_type": "code",
   "execution_count": 38,
   "metadata": {
    "collapsed": true,
    "jupyter": {
     "outputs_hidden": true
    }
   },
   "outputs": [
    {
     "name": "stdout",
     "output_type": "stream",
     "text": [
      "\n",
      "        Protein Landscape class\n",
      "            Number of Sequences : 100000\n",
      "            Max Distance        : 5\n",
      "            Number of Distances : 5\n",
      "            Seed Sequence       : \u001b[32mA\u001b[0m\u001b[32mA\u001b[0m\u001b[32mA\u001b[0m\u001b[32mA\u001b[0m\u001b[32mA\u001b[0m\n",
      "                Modified positions are shown in green\n",
      "            Number of minima : Not Done\n",
      "            Number of maxima : Not Done\n",
      "            Normalized Extrema Ruggedness : Not Done\n",
      "            R/S Ruggedness : Not Done\n",
      "        \n",
      "Building Protein Graph for entire dataset\n"
     ]
    },
    {
     "name": "stderr",
     "output_type": "stream",
     "text": [
      " 22%|██▏       | 21896/100000 [00:02<00:07, 10460.87it/s]Process ForkPoolWorker-164:\n",
      "Process ForkPoolWorker-182:\n",
      "Process ForkPoolWorker-183:\n",
      "Process ForkPoolWorker-175:\n",
      "Process ForkPoolWorker-180:\n",
      "Process ForkPoolWorker-185:\n",
      "Process ForkPoolWorker-190:\n"
     ]
    },
    {
     "name": "stdout",
     "output_type": "stream",
     "text": [
      "         5891 function calls (5888 primitive calls) in 2.414 seconds\n",
      "\n",
      "   Ordered by: cumulative time\n",
      "\n",
      "   ncalls  tottime  percall  cumtime  percall filename:lineno(function)\n",
      "        1    0.000    0.000    2.414    2.414 {built-in method builtins.exec}\n",
      "        1    0.000    0.000    2.414    2.414 <string>:1(<module>)\n",
      "        1    0.000    0.000    2.414    2.414 landscape_class.py:787(build_graph)\n",
      "       69    0.000    0.000    2.186    0.032 threading.py:540(wait)\n",
      "       69    0.001    0.000    2.185    0.032 threading.py:270(wait)\n",
      "      475    2.185    0.005    2.185    0.005 {method 'acquire' of '_thread.lock' objects}\n",
      "        1    0.000    0.000    2.165    2.165 pool.py:359(map)\n",
      "        1    0.000    0.000    2.165    2.165 pool.py:764(get)\n",
      "        1    0.000    0.000    2.165    2.165 pool.py:761(wait)\n",
      "        1    0.000    0.000    0.238    0.238 context.py:115(Pool)\n",
      "        1    0.000    0.000    0.238    0.238 pool.py:183(__init__)\n",
      "        1    0.000    0.000    0.237    0.237 pool.py:302(_repopulate_pool)\n",
      "        1    0.001    0.001    0.237    0.237 pool.py:311(_repopulate_pool_static)\n",
      "       32    0.001    0.000    0.233    0.007 process.py:110(start)\n",
      "       32    0.001    0.000    0.230    0.007 context.py:274(_Popen)\n",
      "       32    0.000    0.000    0.229    0.007 popen_fork.py:15(__init__)\n",
      "       32    0.001    0.000    0.203    0.006 popen_fork.py:66(_launch)\n",
      "       32    0.199    0.006    0.200    0.006 {built-in method posix.fork}\n",
      "       65    0.001    0.000    0.026    0.000 iostream.py:337(flush)\n",
      "       32    0.001    0.000    0.026    0.001 util.py:433(_flush_std_streams)\n",
      "        1    0.009    0.009    0.009    0.009 {built-in method numpy.array}\n",
      "      134    0.001    0.000    0.003    0.000 iostream.py:197(schedule)\n",
      "       32    0.000    0.000    0.002    0.000 pool.py:179(Process)\n",
      "       32    0.001    0.000    0.002    0.000 process.py:80(__init__)\n",
      "       32    0.001    0.000    0.002    0.000 process.py:61(_cleanup)\n",
      "      134    0.002    0.000    0.002    0.000 socket.py:432(send)\n",
      "        1    0.000    0.000    0.001    0.001 std.py:839(__init__)\n",
      "        1    0.000    0.000    0.001    0.001 std.py:1305(refresh)\n",
      "        1    0.000    0.000    0.001    0.001 std.py:1436(display)\n",
      "        1    0.000    0.000    0.001    0.001 std.py:345(print_status)\n",
      "       69    0.000    0.000    0.001    0.000 threading.py:505(__init__)\n",
      "        1    0.000    0.000    0.001    0.001 std.py:339(fp_write)\n",
      "        2    0.000    0.000    0.001    0.001 utils.py:141(inner)\n",
      "       33    0.001    0.000    0.001    0.000 util.py:186(__init__)\n",
      "      496    0.000    0.000    0.001    0.000 popen_fork.py:24(poll)\n",
      "       67    0.001    0.000    0.001    0.000 {built-in method posix.pipe}\n",
      "        3    0.000    0.000    0.001    0.000 threading.py:834(start)\n",
      "      199    0.000    0.000    0.001    0.000 threading.py:1071(is_alive)\n",
      "      496    0.001    0.000    0.001    0.000 {built-in method posix.waitpid}\n",
      "       69    0.001    0.000    0.001    0.000 threading.py:222(__init__)\n",
      "        3    0.000    0.000    0.000    0.000 iostream.py:386(write)\n",
      "        3    0.000    0.000    0.000    0.000 context.py:110(SimpleQueue)\n",
      "        3    0.000    0.000    0.000    0.000 queues.py:334(__init__)\n",
      "       32    0.000    0.000    0.000    0.000 __init__.py:223(_releaseLock)\n",
      "        6    0.000    0.000    0.000    0.000 context.py:65(Lock)\n",
      "      134    0.000    0.000    0.000    0.000 iostream.py:93(_event_pipe)\n",
      "        6    0.000    0.000    0.000    0.000 synchronize.py:161(__init__)\n",
      "        6    0.000    0.000    0.000    0.000 synchronize.py:50(__init__)\n",
      "        1    0.000    0.000    0.000    0.000 pool.py:342(_setup_queues)\n",
      "       38    0.000    0.000    0.000    0.000 {method 'join' of 'str' objects}\n",
      "       36    0.000    0.000    0.000    0.000 _weakrefset.py:81(add)\n",
      "      199    0.000    0.000    0.000    0.000 threading.py:1017(_wait_for_tstate_lock)\n",
      "       69    0.000    0.000    0.000    0.000 threading.py:246(__enter__)\n",
      "       42    0.000    0.000    0.000    0.000 <frozen importlib._bootstrap>:389(parent)\n",
      "        3    0.000    0.000    0.000    0.000 threading.py:761(__init__)\n",
      "       78    0.000    0.000    0.000    0.000 {built-in method builtins.next}\n",
      "       64    0.000    0.000    0.000    0.000 {built-in method posix.close}\n",
      "       32    0.000    0.000    0.000    0.000 {method 'copy' of 'dict' objects}\n",
      "      138    0.000    0.000    0.000    0.000 {built-in method _thread.allocate_lock}\n",
      "       35    0.000    0.000    0.000    0.000 {method 'release' of '_thread.RLock' objects}\n",
      "        6    0.000    0.000    0.000    0.000 __init__.py:8(_make_name)\n",
      "        1    0.000    0.000    0.000    0.000 std.py:1137(__repr__)\n",
      "        6    0.000    0.000    0.000    0.000 tempfile.py:144(__next__)\n",
      "       69    0.000    0.000    0.000    0.000 threading.py:261(_is_owned)\n",
      "       69    0.000    0.000    0.000    0.000 {method 'add' of 'set' objects}\n",
      "        3    0.000    0.000    0.000    0.000 {built-in method _thread.start_new_thread}\n",
      "        1    0.000    0.000    0.000    0.000 std.py:352(format_meter)\n",
      "      206    0.000    0.000    0.000    0.000 threading.py:513(is_set)\n",
      "      203    0.000    0.000    0.000    0.000 {method 'append' of 'collections.deque' objects}\n",
      "        6    0.000    0.000    0.000    0.000 tempfile.py:147(<listcomp>)\n",
      "       64    0.000    0.000    0.000    0.000 process.py:94(<genexpr>)\n",
      "        1    0.000    0.000    0.000    0.000 pool.py:468(_map_async)\n",
      "        1    0.000    0.000    0.000    0.000 utils.py:273(_screen_shape_linux)\n",
      "       48    0.000    0.000    0.000    0.000 random.py:285(choice)\n",
      "       69    0.000    0.000    0.000    0.000 threading.py:258(_acquire_restore)\n",
      "        1    0.000    0.000    0.000    0.000 {built-in method builtins.print}\n",
      "      112    0.000    0.000    0.000    0.000 {built-in method posix.getpid}\n",
      "       64    0.000    0.000    0.000    0.000 process.py:189(name)\n",
      "       69    0.000    0.000    0.000    0.000 threading.py:249(__exit__)\n",
      "        1    0.000    0.000    0.000    0.000 std.py:559(__new__)\n",
      "        1    0.000    0.000    0.000    0.000 pool.py:791(__init__)\n",
      "       32    0.000    0.000    0.000    0.000 {method 'append' of 'list' objects}\n",
      "        1    0.000    0.000    0.000    0.000 utils.py:324(disp_len)\n",
      "       32    0.000    0.000    0.000    0.000 {method 'replace' of 'str' objects}\n",
      "        6    0.000    0.000    0.000    0.000 util.py:171(register_after_fork)\n",
      "       48    0.000    0.000    0.000    0.000 random.py:250(_randbelow_with_getrandbits)\n",
      "       69    0.000    0.000    0.000    0.000 threading.py:255(_release_save)\n",
      "        1    0.000    0.000    0.000    0.000 utils.py:320(_text_width)\n",
      "       42    0.000    0.000    0.000    0.000 {method 'rpartition' of 'str' objects}\n",
      "        1    0.000    0.000    0.000    0.000 {built-in method builtins.sum}\n",
      "       32    0.000    0.000    0.000    0.000 __init__.py:214(_acquireLock)\n",
      "        1    0.000    0.000    0.000    0.000 context.py:41(cpu_count)\n",
      "        1    0.000    0.000    0.000    0.000 std.py:575(_get_free_pos)\n",
      "        1    0.000    0.000    0.000    0.000 {built-in method posix.cpu_count}\n",
      "        3    0.000    0.000    0.000    0.000 connection.py:516(Pipe)\n",
      "       32    0.000    0.000    0.000    0.000 process.py:193(name)\n",
      "       43    0.000    0.000    0.000    0.000 utils.py:321(<genexpr>)\n",
      "        6    0.000    0.000    0.000    0.000 weakref.py:159(__setitem__)\n",
      "        1    0.000    0.000    0.000    0.000 utils.py:287(<listcomp>)\n",
      "    64/61    0.000    0.000    0.000    0.000 {built-in method builtins.len}\n",
      "        1    0.000    0.000    0.000    0.000 utils.py:154(__init__)\n",
      "        5    0.000    0.000    0.000    0.000 {method 'format' of 'str' objects}\n",
      "       65    0.000    0.000    0.000    0.000 {built-in method _imp.lock_held}\n",
      "        1    0.000    0.000    0.000    0.000 os.py:670(__getitem__)\n",
      "        2    0.000    0.000    0.000    0.000 std.py:111(__enter__)\n",
      "        1    0.000    0.000    0.000    0.000 std.py:578(<genexpr>)\n",
      "       38    0.000    0.000    0.000    0.000 util.py:48(debug)\n",
      "        3    0.000    0.000    0.000    0.000 std.py:103(acquire)\n",
      "        2    0.000    0.000    0.000    0.000 _weakrefset.py:58(__iter__)\n",
      "       69    0.000    0.000    0.000    0.000 {method '__enter__' of '_thread.lock' objects}\n",
      "       35    0.000    0.000    0.000    0.000 {method 'acquire' of '_thread.RLock' objects}\n",
      "        1    0.000    0.000    0.000    0.000 pool.py:744(__init__)\n",
      "        3    0.000    0.000    0.000    0.000 threading.py:1177(_make_invoke_excepthook)\n",
      "       39    0.000    0.000"
     ]
    },
    {
     "name": "stderr",
     "output_type": "stream",
     "text": [
      "Process ForkPoolWorker-168:\n",
      "Process ForkPoolWorker-178:\n",
      "Process ForkPoolWorker-174:\n",
      "Process ForkPoolWorker-184:\n",
      "Process ForkPoolWorker-170:\n",
      "Process ForkPoolWorker-192:\n",
      "Process ForkPoolWorker-169:\n",
      "Process ForkPoolWorker-189:\n",
      "Process ForkPoolWorker-181:\n",
      "Process ForkPoolWorker-172:\n",
      "Process ForkPoolWorker-162:\n",
      "Process ForkPoolWorker-188:\n",
      "Process ForkPoolWorker-176:\n",
      "Process ForkPoolWorker-179:\n",
      "Process ForkPoolWorker-167:\n",
      "Process ForkPoolWorker-173:\n",
      "Process ForkPoolWorker-186:\n",
      "Process ForkPoolWorker-171:\n",
      "Process ForkPoolWorker-166:\n",
      "Process ForkPoolWorker-177:\n",
      "Process ForkPoolWorker-161:\n",
      "Process ForkPoolWorker-163:\n",
      "Process ForkPoolWorker-165:\n",
      "Traceback (most recent call last):\n",
      "Process ForkPoolWorker-191:\n",
      "Traceback (most recent call last):\n",
      "Traceback (most recent call last):\n",
      "Traceback (most recent call last):\n",
      "Traceback (most recent call last):\n",
      "Traceback (most recent call last):\n",
      "Traceback (most recent call last):\n",
      "Traceback (most recent call last):\n",
      "Traceback (most recent call last):\n",
      "Traceback (most recent call last):\n",
      "Traceback (most recent call last):\n",
      "Traceback (most recent call last):\n",
      "Traceback (most recent call last):\n",
      "Traceback (most recent call last):\n",
      "Traceback (most recent call last):\n",
      "Traceback (most recent call last):\n",
      "Traceback (most recent call last):\n",
      "Traceback (most recent call last):\n",
      "Traceback (most recent call last):\n",
      "Traceback (most recent call last):\n",
      "  File \"/home/adam/anaconda3/envs/Protein_Evolution/lib/python3.8/multiprocessing/process.py\", line 315, in _bootstrap\n",
      "    self.run()\n",
      "  File \"/home/adam/anaconda3/envs/Protein_Evolution/lib/python3.8/multiprocessing/process.py\", line 315, in _bootstrap\n",
      "    self.run()\n",
      "  File \"/home/adam/anaconda3/envs/Protein_Evolution/lib/python3.8/multiprocessing/process.py\", line 315, in _bootstrap\n",
      "    self.run()\n",
      "  File \"/home/adam/anaconda3/envs/Protein_Evolution/lib/python3.8/multiprocessing/process.py\", line 315, in _bootstrap\n",
      "    self.run()\n",
      "Traceback (most recent call last):\n",
      "Traceback (most recent call last):\n",
      "Traceback (most recent call last):\n",
      "Traceback (most recent call last):\n",
      "  File \"/home/adam/anaconda3/envs/Protein_Evolution/lib/python3.8/multiprocessing/process.py\", line 315, in _bootstrap\n",
      "    self.run()\n",
      "  File \"/home/adam/anaconda3/envs/Protein_Evolution/lib/python3.8/multiprocessing/process.py\", line 315, in _bootstrap\n",
      "    self.run()\n",
      "  File \"/home/adam/anaconda3/envs/Protein_Evolution/lib/python3.8/multiprocessing/process.py\", line 315, in _bootstrap\n",
      "    self.run()\n",
      "  File \"/home/adam/anaconda3/envs/Protein_Evolution/lib/python3.8/multiprocessing/process.py\", line 315, in _bootstrap\n",
      "    self.run()\n",
      "Traceback (most recent call last):\n",
      "  File \"/home/adam/anaconda3/envs/Protein_Evolution/lib/python3.8/multiprocessing/process.py\", line 315, in _bootstrap\n",
      "    self.run()\n",
      "  File \"/home/adam/anaconda3/envs/Protein_Evolution/lib/python3.8/multiprocessing/process.py\", line 315, in _bootstrap\n",
      "    self.run()\n",
      "Traceback (most recent call last):\n",
      "  File \"/home/adam/anaconda3/envs/Protein_Evolution/lib/python3.8/multiprocessing/process.py\", line 315, in _bootstrap\n",
      "    self.run()\n",
      "Traceback (most recent call last):\n",
      "Traceback (most recent call last):\n",
      "  File \"/home/adam/anaconda3/envs/Protein_Evolution/lib/python3.8/multiprocessing/process.py\", line 315, in _bootstrap\n",
      "    self.run()\n",
      "  File \"/home/adam/anaconda3/envs/Protein_Evolution/lib/python3.8/multiprocessing/process.py\", line 315, in _bootstrap\n",
      "    self.run()\n",
      "  File \"/home/adam/anaconda3/envs/Protein_Evolution/lib/python3.8/multiprocessing/process.py\", line 315, in _bootstrap\n",
      "    self.run()\n",
      "  File \"/home/adam/anaconda3/envs/Protein_Evolution/lib/python3.8/multiprocessing/process.py\", line 315, in _bootstrap\n",
      "    self.run()\n",
      "  File \"/home/adam/anaconda3/envs/Protein_Evolution/lib/python3.8/multiprocessing/process.py\", line 315, in _bootstrap\n",
      "    self.run()\n",
      "  File \"/home/adam/anaconda3/envs/Protein_Evolution/lib/python3.8/multiprocessing/process.py\", line 315, in _bootstrap\n",
      "    self.run()\n",
      "  File \"/home/adam/anaconda3/envs/Protein_Evolution/lib/python3.8/multiprocessing/process.py\", line 108, in run\n",
      "    self._target(*self._args, **self._kwargs)\n",
      "Traceback (most recent call last):\n",
      "  File \"/home/adam/anaconda3/envs/Protein_Evolution/lib/python3.8/multiprocessing/process.py\", line 315, in _bootstrap\n",
      "    self.run()\n",
      "  File \"/home/adam/anaconda3/envs/Protein_Evolution/lib/python3.8/multiprocessing/process.py\", line 108, in run\n",
      "    self._target(*self._args, **self._kwargs)\n",
      "Traceback (most recent call last):\n",
      "  File \"/home/adam/anaconda3/envs/Protein_Evolution/lib/python3.8/multiprocessing/process.py\", line 108, in run\n",
      "    self._target(*self._args, **self._kwargs)\n",
      "  File \"/home/adam/anaconda3/envs/Protein_Evolution/lib/python3.8/multiprocessing/process.py\", line 315, in _bootstrap\n",
      "    self.run()\n",
      "Traceback (most recent call last):\n",
      "  File \"/home/adam/anaconda3/envs/Protein_Evolution/lib/python3.8/multiprocessing/process.py\", line 315, in _bootstrap\n",
      "    self.run()\n",
      "  File \"/home/adam/anaconda3/envs/Protein_Evolution/lib/python3.8/multiprocessing/process.py\", line 315, in _bootstrap\n",
      "    self.run()\n",
      "  File \"/home/adam/anaconda3/envs/Protein_Evolution/lib/python3.8/multiprocessing/process.py\", line 108, in run\n",
      "    self._target(*self._args, **self._kwargs)\n",
      "  File \"/home/adam/anaconda3/envs/Protein_Evolution/lib/python3.8/multiprocessing/process.py\", line 315, in _bootstrap\n",
      "    self.run()\n",
      "  File \"/home/adam/anaconda3/envs/Protein_Evolution/lib/python3.8/multiprocessing/process.py\", line 108, in run\n",
      "    self._target(*self._args, **self._kwargs)\n",
      "  File \"/home/adam/anaconda3/envs/Protein_Evolution/lib/python3.8/multiprocessing/process.py\", line 108, in run\n",
      "    self._target(*self._args, **self._kwargs)\n",
      "  File \"/home/adam/anaconda3/envs/Protein_Evolution/lib/python3.8/multiprocessing/process.py\", line 315, in _bootstrap\n",
      "    self.run()\n",
      "  File \"/home/adam/anaconda3/envs/Protein_Evolution/lib/python3.8/multiprocessing/process.py\", line 315, in _bootstrap\n",
      "    self.run()\n",
      "  File \"/home/adam/anaconda3/envs/Protein_Evolution/lib/python3.8/multiprocessing/process.py\", line 108, in run\n",
      "    self._target(*self._args, **self._kwargs)\n",
      "  File \"/home/adam/anaconda3/envs/Protein_Evolution/lib/python3.8/multiprocessing/process.py\", line 315, in _bootstrap\n",
      "    self.run()\n",
      "  File \"/home/adam/anaconda3/envs/Protein_Evolution/lib/python3.8/multiprocessing/process.py\", line 315, in _bootstrap\n",
      "    self.run()\n",
      "  File \"/home/adam/anaconda3/envs/Protein_Evolution/lib/python3.8/multiprocessing/process.py\", line 108, in run\n",
      "    self._target(*self._args, **self._kwargs)\n",
      "  File \"/home/adam/anaconda3/envs/Protein_Evolution/lib/python3.8/multiprocessing/process.py\", line 315, in _bootstrap\n",
      "    self.run()\n",
      "  File \"/home/adam/anaconda3/envs/Protein_Evolution/lib/python3.8/multiprocessing/process.py\", line 315, in _bootstrap\n",
      "    self.run()\n",
      "  File \"/home/adam/anaconda3/envs/Protein_Evolution/lib/python3.8/multiprocessing/process.py\", line 108, in run\n",
      "    self._target(*self._args, **self._kwargs)\n",
      "  File \"/home/adam/anaconda3/envs/Protein_Evolution/lib/python3.8/multiprocessing/process.py\", line 108, in run\n",
      "    self._target(*self._args, **self._kwargs)\n",
      "  File \"/home/adam/anaconda3/envs/Protein_Evolution/lib/python3.8/multiprocessing/process.py\", line 108, in run\n",
      "    self._target(*self._args, **self._kwargs)\n",
      "  File \"/home/adam/anaconda3/envs/Protein_Evolution/lib/python3.8/multiprocessing/process.py\", line 108, in run\n",
      "    self._target(*self._args, **self._kwargs)\n",
      "  File \"/home/adam/anaconda3/envs/Protein_Evolution/lib/python3.8/multiprocessing/process.py\", line 108, in run\n",
      "    self._target(*self._args, **self._kwargs)\n",
      "  File \"/home/adam/anaconda3/envs/Protein_Evolution/lib/python3.8/multiprocessing/process.py\", line 108, in run\n",
      "    self._target(*self._args, **self._kwargs)\n",
      "  File \"/home/adam/anaconda3/envs/Protein_Evolution/lib/python3.8/multiprocessing/pool.py\", line 114, in worker\n",
      "    task = get()\n",
      "  File \"/home/adam/anaconda3/envs/Protein_Evolution/lib/python3.8/multiprocessing/process.py\", line 108, in run\n",
      "    self._target(*self._args, **self._kwargs)\n",
      "  File \"/home/adam/anaconda3/envs/Protein_Evolution/lib/python3.8/multiprocessing/process.py\", line 315, in _bootstrap\n",
      "    self.run()\n",
      "  File \"/home/adam/anaconda3/envs/Protein_Evolution/lib/python3.8/multiprocessing/process.py\", line 108, in run\n",
      "    self._target(*self._args, **self._kwargs)\n",
      "  File \"/home/adam/anaconda3/envs/Protein_Evolution/lib/python3.8/multiprocessing/pool.py\", line 114, in worker\n",
      "    task = get()\n",
      "  File \"/home/adam/anaconda3/envs/Protein_Evolution/lib/python3.8/multiprocessing/pool.py\", line 114, in worker\n",
      "    task = get()\n",
      "  File \"/home/adam/anaconda3/envs/Protein_Evolution/lib/python3.8/multiprocessing/process.py\", line 108, in run\n",
      "    self._target(*self._args, **self._kwargs)\n",
      "  File \"/home/adam/anaconda3/envs/Protein_Evolution/lib/python3.8/multiprocessing/process.py\", line 108, in run\n",
      "    self._target(*self._args, **self._kwargs)\n",
      "  File \"/home/adam/anaconda3/envs/Protein_Evolution/lib/python3.8/multiprocessing/process.py\", line 315, in _bootstrap\n",
      "    self.run()\n",
      "  File \"/home/adam/anaconda3/envs/Protein_Evolution/lib/python3.8/multiprocessing/pool.py\", line 114, in worker\n",
      "    task = get()\n",
      "  File \"/home/adam/anaconda3/envs/Protein_Evolution/lib/python3.8/multiprocessing/process.py\", line 108, in run\n",
      "    self._target(*self._args, **self._kwargs)\n",
      "  File \"/home/adam/anaconda3/envs/Protein_Evolution/lib/python3.8/multiprocessing/pool.py\", line 131, in worker\n",
      "    put((job, i, result))\n",
      "  File \"/home/adam/anaconda3/envs/Protein_Evolution/lib/python3.8/multiprocessing/process.py\", line 108, in run\n",
      "    self._target(*self._args, **self._kwargs)\n",
      "  File \"/home/adam/anaconda3/envs/Protein_Evolution/lib/python3.8/multiprocessing/pool.py\", line 114, in worker\n",
      "    task = get()\n",
      "  File \"/home/adam/anaconda3/envs/Protein_Evolution/lib/python3.8/multiprocessing/pool.py\", line 125, in worker\n",
      "    result = (True, func(*args, **kwds))\n",
      "  File \"/home/adam/anaconda3/envs/Protein_Evolution/lib/python3.8/multiprocessing/process.py\", line 108, in run\n",
      "    self._target(*self._args, **self._kwargs)\n",
      "  File \"/home/adam/anaconda3/envs/Protein_Evolution/lib/python3.8/multiprocessing/process.py\", line 108, in run\n",
      "    self._target(*self._args, **self._kwargs)\n",
      "  File \"/home/adam/anaconda3/envs/Protein_Evolution/lib/python3.8/multiprocessing/process.py\", line 108, in run\n",
      "    self._target(*self._args, **self._kwargs)\n",
      "  File \"/home/adam/anaconda3/envs/Protein_Evolution/lib/python3.8/multiprocessing/pool.py\", line 114, in worker\n",
      "    task = get()\n",
      "  File \"/home/adam/anaconda3/envs/Protein_Evolution/lib/python3.8/multiprocessing/process.py\", line 108, in run\n",
      "    self._target(*self._args, **self._kwargs)\n",
      "  File \"/home/adam/anaconda3/envs/Protein_Evolution/lib/python3.8/multiprocessing/process.py\", line 108, in run\n",
      "    self._target(*self._args, **self._kwargs)\n",
      "  File \"/home/adam/anaconda3/envs/Protein_Evolution/lib/python3.8/multiprocessing/process.py\", line 108, in run\n",
      "    self._target(*self._args, **self._kwargs)\n",
      "  File \"/home/adam/anaconda3/envs/Protein_Evolution/lib/python3.8/multiprocessing/pool.py\", line 114, in worker\n",
      "    task = get()\n",
      "  File \"/home/adam/anaconda3/envs/Protein_Evolution/lib/python3.8/multiprocessing/pool.py\", line 114, in worker\n",
      "    task = get()\n",
      "  File \"/home/adam/anaconda3/envs/Protein_Evolution/lib/python3.8/multiprocessing/pool.py\", line 114, in worker\n",
      "    task = get()\n",
      "  File \"/home/adam/anaconda3/envs/Protein_Evolution/lib/python3.8/multiprocessing/pool.py\", line 114, in worker\n",
      "    task = get()\n",
      "  File \"/home/adam/anaconda3/envs/Protein_Evolution/lib/python3.8/multiprocessing/pool.py\", line 114, in worker\n",
      "    task = get()\n",
      "  File \"/home/adam/anaconda3/envs/Protein_Evolution/lib/python3.8/multiprocessing/process.py\", line 315, in _bootstrap\n",
      "    self.run()\n",
      "  File \"/home/adam/anaconda3/envs/Protein_Evolution/lib/python3.8/multiprocessing/process.py\", line 108, in run\n",
      "    self._target(*self._args, **self._kwargs)\n",
      "  File \"/home/adam/anaconda3/envs/Protein_Evolution/lib/python3.8/multiprocessing/pool.py\", line 114, in worker\n",
      "    task = get()\n",
      "  File \"/home/adam/anaconda3/envs/Protein_Evolution/lib/python3.8/multiprocessing/pool.py\", line 125, in worker\n",
      "    result = (True, func(*args, **kwds))\n",
      "  File \"/home/adam/anaconda3/envs/Protein_Evolution/lib/python3.8/multiprocessing/queues.py\", line 355, in get\n",
      "    with self._rlock:\n",
      "  File \"/home/adam/anaconda3/envs/Protein_Evolution/lib/python3.8/multiprocessing/pool.py\", line 114, in worker\n",
      "    task = get()\n",
      "  File \"/home/adam/anaconda3/envs/Protein_Evolution/lib/python3.8/multiprocessing/queues.py\", line 355, in get\n",
      "    with self._rlock:\n",
      "  File \"/home/adam/anaconda3/envs/Protein_Evolution/lib/python3.8/multiprocessing/pool.py\", line 114, in worker\n",
      "    task = get()\n",
      "  File \"/home/adam/anaconda3/envs/Protein_Evolution/lib/python3.8/multiprocessing/process.py\", line 108, in run\n",
      "    self._target(*self._args, **self._kwargs)\n",
      "  File \"/home/adam/anaconda3/envs/Protein_Evolution/lib/python3.8/multiprocessing/queues.py\", line 355, in get\n",
      "    with self._rlock:\n",
      "  File \"/home/adam/anaconda3/envs/Protein_Evolution/lib/python3.8/multiprocessing/pool.py\", line 114, in worker\n",
      "    task = get()\n",
      "  File \"/home/adam/anaconda3/envs/Protein_Evolution/lib/python3.8/multiprocessing/queues.py\", line 355, in get\n",
      "    with self._rlock:\n",
      "  File \"/home/adam/anaconda3/envs/Protein_Evolution/lib/python3.8/multiprocessing/queues.py\", line 368, in put\n",
      "    self._writer.send_bytes(obj)\n",
      "  File \"/home/adam/anaconda3/envs/Protein_Evolution/lib/python3.8/multiprocessing/pool.py\", line 114, in worker\n",
      "    task = get()\n",
      "  File \"/home/adam/anaconda3/envs/Protein_Evolution/lib/python3.8/multiprocessing/process.py\", line 108, in run\n",
      "    self._target(*self._args, **self._kwargs)\n",
      "  File \"/home/adam/anaconda3/envs/Protein_Evolution/lib/python3.8/multiprocessing/pool.py\", line 114, in worker\n",
      "    task = get()\n",
      "  File \"/home/adam/anaconda3/envs/Protein_Evolution/lib/python3.8/multiprocessing/pool.py\", line 48, in mapstar\n",
      "    return list(map(*args))\n",
      "  File \"/home/adam/anaconda3/envs/Protein_Evolution/lib/python3.8/multiprocessing/process.py\", line 108, in run\n",
      "    self._target(*self._args, **self._kwargs)\n",
      "  File \"/home/adam/anaconda3/envs/Protein_Evolution/lib/python3.8/multiprocessing/queues.py\", line 355, in get\n",
      "    with self._rlock:\n",
      "  File \"/home/adam/anaconda3/envs/Protein_Evolution/lib/python3.8/multiprocessing/queues.py\", line 355, in get\n",
      "    with self._rlock:\n",
      "  File \"/home/adam/anaconda3/envs/Protein_Evolution/lib/python3.8/multiprocessing/pool.py\", line 125, in worker\n",
      "    result = (True, func(*args, **kwds))\n",
      "  File \"/home/adam/anaconda3/envs/Protein_Evolution/lib/python3.8/multiprocessing/pool.py\", line 114, in worker\n",
      "    task = get()\n",
      "  File \"/home/adam/anaconda3/envs/Protein_Evolution/lib/python3.8/multiprocessing/pool.py\", line 114, in worker\n",
      "    task = get()\n",
      "  File \"/home/adam/anaconda3/envs/Protein_Evolution/lib/python3.8/multiprocessing/pool.py\", line 114, in worker\n",
      "    task = get()\n",
      "  File \"/home/adam/anaconda3/envs/Protein_Evolution/lib/python3.8/multiprocessing/pool.py\", line 114, in worker\n",
      "    task = get()\n",
      "  File \"/home/adam/anaconda3/envs/Protein_Evolution/lib/python3.8/multiprocessing/queues.py\", line 355, in get\n",
      "    with self._rlock:\n",
      "  File \"/home/adam/anaconda3/envs/Protein_Evolution/lib/python3.8/multiprocessing/queues.py\", line 355, in get\n",
      "    with self._rlock:\n",
      "  File \"/home/adam/anaconda3/envs/Protein_Evolution/lib/python3.8/multiprocessing/queues.py\", line 355, in get\n",
      "    with self._rlock:\n",
      "  File \"/home/adam/anaconda3/envs/Protein_Evolution/lib/python3.8/multiprocessing/queues.py\", line 355, in get\n",
      "    with self._rlock:\n",
      "  File \"/home/adam/anaconda3/envs/Protein_Evolution/lib/python3.8/multiprocessing/queues.py\", line 355, in get\n",
      "    with self._rlock:\n",
      "  File \"/home/adam/anaconda3/envs/Protein_Evolution/lib/python3.8/multiprocessing/process.py\", line 108, in run\n",
      "    self._target(*self._args, **self._kwargs)\n",
      "  File \"/home/adam/anaconda3/envs/Protein_Evolution/lib/python3.8/multiprocessing/queues.py\", line 355, in get\n",
      "    with self._rlock:\n",
      "  File \"/home/adam/anaconda3/envs/Protein_Evolution/lib/python3.8/multiprocessing/pool.py\", line 114, in worker\n",
      "    task = get()\n",
      "  File \"/home/adam/anaconda3/envs/Protein_Evolution/lib/python3.8/multiprocessing/pool.py\", line 48, in mapstar\n",
      "    return list(map(*args))\n",
      "  File \"/home/adam/anaconda3/envs/Protein_Evolution/lib/python3.8/multiprocessing/synchronize.py\", line 95, in __enter__\n",
      "    return self._semlock.__enter__()\n",
      "  File \"/home/adam/anaconda3/envs/Protein_Evolution/lib/python3.8/multiprocessing/synchronize.py\", line 95, in __enter__\n",
      "    return self._semlock.__enter__()\n",
      "  File \"/home/adam/anaconda3/envs/Protein_Evolution/lib/python3.8/multiprocessing/queues.py\", line 355, in get\n",
      "    with self._rlock:\n",
      "  File \"/home/adam/anaconda3/envs/Protein_Evolution/lib/python3.8/multiprocessing/pool.py\", line 114, in worker\n",
      "    task = get()\n",
      "  File \"/home/adam/anaconda3/envs/Protein_Evolution/lib/python3.8/multiprocessing/queues.py\", line 355, in get\n",
      "    with self._rlock:\n",
      "  File \"/home/adam/anaconda3/envs/Protein_Evolution/lib/python3.8/multiprocessing/queues.py\", line 356, in get\n",
      "    res = self._reader.recv_bytes()\n",
      "  File \"/home/adam/anaconda3/envs/Protein_Evolution/lib/python3.8/multiprocessing/synchronize.py\", line 95, in __enter__\n",
      "    return self._semlock.__enter__()\n",
      "  File \"/home/adam/anaconda3/envs/Protein_Evolution/lib/python3.8/multiprocessing/synchronize.py\", line 95, in __enter__\n",
      "    return self._semlock.__enter__()\n",
      "  File \"/home/adam/anaconda3/envs/Protein_Evolution/lib/python3.8/multiprocessing/connection.py\", line 200, in send_bytes\n",
      "    self._send_bytes(m[offset:offset + size])\n",
      "  File \"/home/adam/anaconda3/envs/Protein_Evolution/lib/python3.8/multiprocessing/pool.py\", line 114, in worker\n",
      "    task = get()\n",
      "  File \"/home/adam/anaconda3/envs/Protein_Evolution/lib/python3.8/multiprocessing/queues.py\", line 355, in get\n",
      "    with self._rlock:\n",
      "  File \"/home/adam/anaconda3/envs/Protein_Evolution/lib/python3.8/multiprocessing/queues.py\", line 355, in get\n",
      "    with self._rlock:\n",
      "  File \"/home/adam/PhD/Protein_Evolution/Protein_Landscape/Protein_Landscape/landscape_class.py\", line 779, in calc_neighbours\n",
      "    actual_neighbours = np.sort([token_dict[tuple(key)] for key in possible_neighbours if tuple(key) in token_dict])\n",
      "  File \"/home/adam/anaconda3/envs/Protein_Evolution/lib/python3.8/multiprocessing/pool.py\", line 114, in worker\n",
      "    task = get()\n",
      "  File \"/home/adam/anaconda3/envs/Protein_Evolution/lib/python3.8/multiprocessing/pool.py\", line 48, in mapstar\n",
      "    return list(map(*args))\n",
      "  File \"/home/adam/anaconda3/envs/Protein_Evolution/lib/python3.8/multiprocessing/synchronize.py\", line 95, in __enter__\n",
      "    return self._semlock.__enter__()\n",
      "  File \"/home/adam/anaconda3/envs/Protein_Evolution/lib/python3.8/multiprocessing/queues.py\", line 355, in get\n",
      "    with self._rlock:\n",
      "  File \"/home/adam/anaconda3/envs/Protein_Evolution/lib/python3.8/multiprocessing/queues.py\", line 355, in get\n",
      "    with self._rlock:\n",
      "  File \"/home/adam/anaconda3/envs/Protein_Evolution/lib/python3.8/multiprocessing/queues.py\", line 355, in get\n",
      "    with self._rlock:\n",
      "  File \"/home/adam/anaconda3/envs/Protein_Evolution/lib/python3.8/multiprocessing/synchronize.py\", line 95, in __enter__\n",
      "    return self._semlock.__enter__()\n",
      "  File \"/home/adam/anaconda3/envs/Protein_Evolution/lib/python3.8/multiprocessing/synchronize.py\", line 95, in __enter__\n",
      "    return self._semlock.__enter__()\n",
      "  File \"/home/adam/anaconda3/envs/Protein_Evolution/lib/python3.8/multiprocessing/synchronize.py\", line 95, in __enter__\n",
      "    return self._semlock.__enter__()\n",
      "  File \"/home/adam/anaconda3/envs/Protein_Evolution/lib/python3.8/multiprocessing/pool.py\", line 125, in worker\n",
      "    result = (True, func(*args, **kwds))\n",
      "  File \"/home/adam/anaconda3/envs/Protein_Evolution/lib/python3.8/multiprocessing/queues.py\", line 355, in get\n",
      "    with self._rlock:\n",
      "  File \"/home/adam/anaconda3/envs/Protein_Evolution/lib/python3.8/multiprocessing/synchronize.py\", line 95, in __enter__\n",
      "    return self._semlock.__enter__()\n",
      "  File \"/home/adam/anaconda3/envs/Protein_Evolution/lib/python3.8/multiprocessing/synchronize.py\", line 95, in __enter__\n",
      "    return self._semlock.__enter__()\n",
      "  File \"/home/adam/PhD/Protein_Evolution/Protein_Landscape/Protein_Landscape/landscape_class.py\", line 779, in calc_neighbours\n",
      "    actual_neighbours = np.sort([token_dict[tuple(key)] for key in possible_neighbours if tuple(key) in token_dict])\n",
      "KeyboardInterrupt\n",
      "  File \"/home/adam/anaconda3/envs/Protein_Evolution/lib/python3.8/multiprocessing/synchronize.py\", line 95, in __enter__\n",
      "    return self._semlock.__enter__()\n",
      "KeyboardInterrupt\n",
      "  File \"/home/adam/anaconda3/envs/Protein_Evolution/lib/python3.8/multiprocessing/queues.py\", line 355, in get\n",
      "    with self._rlock:\n",
      "  File \"/home/adam/anaconda3/envs/Protein_Evolution/lib/python3.8/multiprocessing/pool.py\", line 114, in worker\n",
      "    task = get()\n",
      "  File \"/home/adam/anaconda3/envs/Protein_Evolution/lib/python3.8/multiprocessing/connection.py\", line 216, in recv_bytes\n",
      "    buf = self._recv_bytes(maxlength)\n",
      "  File \"/home/adam/anaconda3/envs/Protein_Evolution/lib/python3.8/multiprocessing/synchronize.py\", line 95, in __enter__\n",
      "    return self._semlock.__enter__()\n",
      "  File \"/home/adam/anaconda3/envs/Protein_Evolution/lib/python3.8/multiprocessing/queues.py\", line 355, in get\n",
      "    with self._rlock:\n",
      "KeyboardInterrupt\n",
      "  File \"/home/adam/anaconda3/envs/Protein_Evolution/lib/python3.8/multiprocessing/synchronize.py\", line 95, in __enter__\n",
      "    return self._semlock.__enter__()\n",
      "KeyboardInterrupt\n",
      "  File \"/home/adam/anaconda3/envs/Protein_Evolution/lib/python3.8/multiprocessing/synchronize.py\", line 95, in __enter__\n",
      "    return self._semlock.__enter__()\n",
      "  File \"/home/adam/anaconda3/envs/Protein_Evolution/lib/python3.8/multiprocessing/synchronize.py\", line 95, in __enter__\n",
      "    return self._semlock.__enter__()\n",
      "  File \"/home/adam/anaconda3/envs/Protein_Evolution/lib/python3.8/multiprocessing/synchronize.py\", line 95, in __enter__\n",
      "    return self._semlock.__enter__()\n",
      "  File \"/home/adam/anaconda3/envs/Protein_Evolution/lib/python3.8/multiprocessing/queues.py\", line 355, in get\n",
      "    with self._rlock:\n",
      "  File \"/home/adam/PhD/Protein_Evolution/Protein_Landscape/Protein_Landscape/landscape_class.py\", line 779, in <listcomp>\n",
      "    actual_neighbours = np.sort([token_dict[tuple(key)] for key in possible_neighbours if tuple(key) in token_dict])\n",
      "  File \"/home/adam/anaconda3/envs/Protein_Evolution/lib/python3.8/multiprocessing/connection.py\", line 405, in _send_bytes\n",
      "    self._send(buf)\n",
      "KeyboardInterrupt\n",
      "  File \"/home/adam/PhD/Protein_Evolution/Protein_Landscape/Protein_Landscape/landscape_class.py\", line 779, in calc_neighbours\n",
      "    actual_neighbours = np.sort([token_dict[tuple(key)] for key in possible_neighbours if tuple(key) in token_dict])\n",
      "  File \"/home/adam/anaconda3/envs/Protein_Evolution/lib/python3.8/multiprocessing/synchronize.py\", line 95, in __enter__\n",
      "    return self._semlock.__enter__()\n",
      "KeyboardInterrupt\n",
      "  File \"/home/adam/anaconda3/envs/Protein_Evolution/lib/python3.8/multiprocessing/pool.py\", line 48, in mapstar\n",
      "    return list(map(*args))\n",
      "  File \"/home/adam/anaconda3/envs/Protein_Evolution/lib/python3.8/multiprocessing/synchronize.py\", line 95, in __enter__\n",
      "    return self._semlock.__enter__()\n",
      "KeyboardInterrupt\n",
      "KeyboardInterrupt\n",
      "KeyboardInterrupt\n",
      "KeyboardInterrupt\n",
      "  File \"/home/adam/anaconda3/envs/Protein_Evolution/lib/python3.8/multiprocessing/synchronize.py\", line 95, in __enter__\n",
      "    return self._semlock.__enter__()\n",
      "KeyboardInterrupt\n",
      "KeyboardInterrupt\n",
      "  File \"/home/adam/anaconda3/envs/Protein_Evolution/lib/python3.8/multiprocessing/connection.py\", line 368, in _send\n",
      "    n = write(self._handle, buf)\n",
      "KeyboardInterrupt\n",
      "  File \"/home/adam/anaconda3/envs/Protein_Evolution/lib/python3.8/multiprocessing/synchronize.py\", line 95, in __enter__\n",
      "    return self._semlock.__enter__()\n",
      "KeyboardInterrupt\n",
      "  File \"/home/adam/PhD/Protein_Evolution/Protein_Landscape/Protein_Landscape/landscape_class.py\", line 779, in <listcomp>\n",
      "    actual_neighbours = np.sort([token_dict[tuple(key)] for key in possible_neighbours if tuple(key) in token_dict])\n",
      "KeyboardInterrupt\n",
      "KeyboardInterrupt\n",
      "  File \"/home/adam/PhD/Protein_Evolution/Protein_Landscape/Protein_Landscape/landscape_class.py\", line 779, in calc_neighbours\n",
      "    actual_neighbours = np.sort([token_dict[tuple(key)] for key in possible_neighbours if tuple(key) in token_dict])\n",
      "  File \"/home/adam/anaconda3/envs/Protein_Evolution/lib/python3.8/multiprocessing/synchronize.py\", line 95, in __enter__\n",
      "    return self._semlock.__enter__()\n",
      "  File \"/home/adam/anaconda3/envs/Protein_Evolution/lib/python3.8/multiprocessing/synchronize.py\", line 95, in __enter__\n",
      "    return self._semlock.__enter__()\n",
      "KeyboardInterrupt\n",
      "  File \"/home/adam/anaconda3/envs/Protein_Evolution/lib/python3.8/multiprocessing/connection.py\", line 414, in _recv_bytes\n",
      "    buf = self._recv(4)\n",
      "  File \"/home/adam/PhD/Protein_Evolution/Protein_Landscape/Protein_Landscape/landscape_class.py\", line 779, in <listcomp>\n",
      "    actual_neighbours = np.sort([token_dict[tuple(key)] for key in possible_neighbours if tuple(key) in token_dict])\n",
      "KeyboardInterrupt\n",
      "  File \"/home/adam/PhD/Protein_Evolution/Protein_Landscape/Protein_Landscape/landscape_class.py\", line 779, in <listcomp>\n",
      "    actual_neighbours = np.sort([token_dict[tuple(key)] for key in possible_neighbours if tuple(key) in token_dict])\n",
      "KeyboardInterrupt\n",
      "  File \"/home/adam/anaconda3/envs/Protein_Evolution/lib/python3.8/multiprocessing/queues.py\", line 355, in get\n",
      "    with self._rlock:\n",
      "  File \"/home/adam/anaconda3/envs/Protein_Evolution/lib/python3.8/multiprocessing/synchronize.py\", line 95, in __enter__\n",
      "    return self._semlock.__enter__()\n",
      "KeyboardInterrupt\n",
      "KeyboardInterrupt\n",
      "KeyboardInterrupt\n",
      "KeyboardInterrupt\n",
      "KeyboardInterrupt\n",
      "  File \"/home/adam/anaconda3/envs/Protein_Evolution/lib/python3.8/multiprocessing/queues.py\", line 355, in get\n",
      "    with self._rlock:\n",
      "KeyboardInterrupt\n",
      "  File \"/home/adam/anaconda3/envs/Protein_Evolution/lib/python3.8/multiprocessing/synchronize.py\", line 95, in __enter__\n",
      "    return self._semlock.__enter__()\n",
      "KeyboardInterrupt\n",
      "KeyboardInterrupt\n",
      "  File \"/home/adam/anaconda3/envs/Protein_Evolution/lib/python3.8/multiprocessing/synchronize.py\", line 95, in __enter__\n",
      "    return self._semlock.__enter__()\n",
      "KeyboardInterrupt\n",
      "KeyboardInterrupt\n",
      "  File \"/home/adam/anaconda3/envs/Protein_Evolution/lib/python3.8/multiprocessing/connection.py\", line 379, in _recv\n",
      "    chunk = read(handle, remaining)\n",
      "KeyboardInterrupt\n",
      "Process ForkPoolWorker-187:\n",
      "KeyboardInterrupt\n",
      "Traceback (most recent call last):\n",
      "  File \"/home/adam/anaconda3/envs/Protein_Evolution/lib/python3.8/multiprocessing/process.py\", line 315, in _bootstrap\n",
      "    self.run()\n",
      "  File \"/home/adam/anaconda3/envs/Protein_Evolution/lib/python3.8/multiprocessing/process.py\", line 108, in run\n",
      "    self._target(*self._args, **self._kwargs)\n",
      "  File \"/home/adam/anaconda3/envs/Protein_Evolution/lib/python3.8/multiprocessing/pool.py\", line 114, in worker\n",
      "    task = get()\n",
      "  File \"/home/adam/anaconda3/envs/Protein_Evolution/lib/python3.8/multiprocessing/queues.py\", line 358, in get\n",
      "    return _ForkingPickler.loads(res)\n",
      "  File \"/home/adam/anaconda3/envs/Protein_Evolution/lib/python3.8/multiprocessing/reduction.py\", line 225, in _rebuild_partial\n",
      "    def _rebuild_partial(func, args, keywords):\n",
      "KeyboardInterrupt\n"
     ]
    },
    {
     "name": "stdout",
     "output_type": "stream",
     "text": [
      "    0.000    0.000 {built-in method builtins.isinstance}\n",
      "        1    0.000    0.000    0.000    0.000 pool.py:276(_get_sentinels)\n",
      "        3    0.000    0.000    0.000    0.000 threading.py:1306(current_thread)\n",
      "        6    0.000    0.000    0.000    0.000 weakref.py:323(__new__)\n",
      "        3    0.000    0.000    0.000    0.000 iostream.py:323(_schedule_flush)\n",
      "        2    0.000    0.000    0.000    0.000 utils.py:214(_is_ascii)\n",
      "       69    0.000    0.000    0.000    0.000 {method '__exit__' of '_thread.lock' objects}\n",
      "        1    0.000    0.000    0.000    0.000 std.py:288(format_interval)\n",
      "       32    0.000    0.000    0.000    0.000 process.py:205(daemon)\n",
      "        9    0.000    0.000    0.000    0.000 {built-in method builtins.hasattr}\n",
      "        1    0.000    0.000    0.000    0.000 std.py:1421(format_dict)\n",
      "        3    0.000    0.000    0.000    0.000 threading.py:734(_newname)\n",
      "       69    0.000    0.000    0.000    0.000 {method 'release' of '_thread.lock' objects}\n",
      "        3    0.000    0.000    0.000    0.000 std.py:107(release)\n",
      "        2    0.000    0.000    0.000    0.000 std.py:114(__exit__)\n",
      "        3    0.000    0.000    0.000    0.000 iostream.py:310(_is_master_process)\n",
      "        1    0.000    0.000    0.000    0.000 os.py:748(encode)\n",
      "        6    0.000    0.000    0.000    0.000 tempfile.py:133(rng)\n",
      "       77    0.000    0.000    0.000    0.000 {method 'getrandbits' of '_random.Random' objects}\n",
      "        1    0.000    0.000    0.000    0.000 {built-in method fcntl.ioctl}\n",
      "       32    0.000    0.000    0.000    0.000 {method 'get' of 'dict' objects}\n",
      "        1    0.000    0.000    0.000    0.000 utils.py:105(__init__)\n",
      "        1    0.000    0.000    0.000    0.000 landscape_class.py:235(seed)\n",
      "       32    0.000    0.000    0.000    0.000 process.py:99(_check_closed)\n",
      "        6    0.000    0.000    0.000    0.000 connection.py:117(__init__)\n",
      "        3    0.000    0.000    0.000    0.000 landscape_class.py:269(__len__)\n",
      "       42    0.000    0.000    0.000    0.000 {built-in method unicodedata.east_asian_width}\n",
      "        3    0.000    0.000    0.000    0.000 threading.py:1110(daemon)\n",
      "        3    0.000    0.000    0.000    0.000 std.py:1116(__len__)\n",
      "        2    0.000    0.000    0.000    0.000 utils.py:136(disable_on_exception)\n",
      "        6    0.000    0.000    0.000    0.000 weakref.py:328(__init__)\n",
      "        1    0.000    0.000    0.000    0.000 _weakrefset.py:26(__exit__)\n",
      "        1    0.000    0.000    0.000    0.000 std.py:329(status_printer)\n",
      "       48    0.000    0.000    0.000    0.000 {method 'bit_length' of 'int' objects}\n",
      "       10    0.000    0.000    0.000    0.000 {built-in method builtins.getattr}\n",
      "        6    0.000    0.000    0.000    0.000 synchronize.py:90(_make_methods)\n",
      "        1    0.000    0.000    0.000    0.000 {built-in method utcfromtimestamp}\n",
      "        1    0.000    0.000    0.000    0.000 std.py:154(__init__)\n",
      "        1    0.000    0.000    0.000    0.000 std.py:187(__format__)\n",
      "        7    0.000    0.000    0.000    0.000 {built-in method __new__ of type object at 0x55cd4110eac0}\n",
      "        1    0.000    0.000    0.000    0.000 utils.py:207(_supports_unicode)\n",
      "        1    0.000    0.000    0.000    0.000 _weakrefset.py:16(__init__)\n",
      "        1    0.000    0.000    0.000    0.000 _weakrefset.py:20(__enter__)\n",
      "        3    0.000    0.000    0.000    0.000 std.py:228(__init__)\n",
      "        2    0.000    0.000    0.000    0.000 utils.py:88(__getattr__)\n",
      "        3    0.000    0.000    0.000    0.000 utils.py:101(wrapper_setattr)\n",
      "        1    0.000    0.000    0.000    0.000 {method 'sub' of 're.Pattern' objects}\n",
      "        1    0.000    0.000    0.000    0.000 std.py:656(get_lock)\n",
      "        1    0.000    0.000    0.000    0.000 {method 'put' of '_queue.SimpleQueue' objects}\n",
      "        1    0.000    0.000    0.000    0.000 std.py:168(colour)\n",
      "        2    0.000    0.000    0.000    0.000 {method 'encode' of 'str' objects}\n",
      "       21    0.000    0.000    0.000    0.000 {built-in method builtins.ord}\n",
      "        1    0.000    0.000    0.000    0.000 pool.py:157(__init__)\n",
      "        9    0.000    0.000    0.000    0.000 context.py:187(get_context)\n",
      "        3    0.000    0.000    0.000    0.000 {method 'acquire' of '_multiprocessing.SemLock' objects}\n",
      "        1    0.000    0.000    0.000    0.000 utils.py:193(_is_utf)\n",
      "        7    0.000    0.000    0.000    0.000 {built-in method builtins.id}\n",
      "        1    0.000    0.000    0.000    0.000 context.py:233(get_context)\n",
      "        6    0.000    0.000    0.000    0.000 context.py:197(get_start_method)\n",
      "        1    0.000    0.000    0.000    0.000 {method 'difference' of 'set' objects}\n",
      "        1    0.000    0.000    0.000    0.000 _monitor.py:92(report)\n",
      "        1    0.000    0.000    0.000    0.000 {method 'remove' of 'collections.deque' objects}\n",
      "        1    0.000    0.000    0.000    0.000 utils.py:163(__eq__)\n",
      "        3    0.000    0.000    0.000    0.000 threading.py:1095(daemon)\n",
      "        4    0.000    0.000    0.000    0.000 {built-in method builtins.divmod}\n",
      "        1    0.000    0.000    0.000    0.000 std.py:233(__call__)\n",
      "        1    0.000    0.000    0.000    0.000 std.py:1144(__hash__)\n",
      "        3    0.000    0.000    0.000    0.000 {method 'release' of '_multiprocessing.SemLock' objects}\n",
      "        1    0.000    0.000    0.000    0.000 {built-in method builtins.min}\n",
      "        1    0.000    0.000    0.000    0.000 utils.py:57(__init__)\n",
      "        1    0.000    0.000    0.000    0.000 {built-in method builtins.max}\n",
      "        3    0.000    0.000    0.000    0.000 {built-in method _thread.get_ident}\n",
      "        1    0.000    0.000    0.000    0.000 {method 'update' of 'dict' objects}\n",
      "        1    0.000    0.000    0.000    0.000 utils.py:61(__format__)\n",
      "        1    0.000    0.000    0.000    0.000 {method 'remove' of 'set' objects}\n",
      "        1    0.000    0.000    0.000    0.000 pool.py:348(_check_running)\n",
      "        1    0.000    0.000    0.000    0.000 utils.py:223(_screen_shape_wrapper)\n",
      "        1    0.000    0.000    0.000    0.000 _weakrefset.py:52(_commit_removals)\n",
      "        1    0.000    0.000    0.000    0.000 {method 'disable' of '_lsprof.Profiler' objects}\n",
      "        1    0.000    0.000    0.000    0.000 {built-in method time.time}\n",
      "        1    0.000    0.000    0.000    0.000 std.py:164(colour)\n",
      "        1    0.000    0.000    0.000    0.000 {built-in method builtins.abs}\n",
      "\n",
      "\n"
     ]
    },
    {
     "ename": "KeyboardInterrupt",
     "evalue": "",
     "output_type": "error",
     "traceback": [
      "\u001b[0;31m---------------------------------------------------------------------------\u001b[0m",
      "\u001b[0;31mKeyboardInterrupt\u001b[0m                         Traceback (most recent call last)",
      "\u001b[0;32m<ipython-input-38-502498c747a7>\u001b[0m in \u001b[0;36m<module>\u001b[0;34m\u001b[0m\n\u001b[1;32m      1\u001b[0m \u001b[0;32mimport\u001b[0m \u001b[0mcProfile\u001b[0m\u001b[0;34m\u001b[0m\u001b[0;34m\u001b[0m\u001b[0m\n\u001b[1;32m      2\u001b[0m \u001b[0mbig\u001b[0m \u001b[0;34m=\u001b[0m \u001b[0mProtein_Landscape\u001b[0m\u001b[0;34m(\u001b[0m\u001b[0mcsv_path\u001b[0m\u001b[0;34m=\u001b[0m\u001b[0mDatasets\u001b[0m\u001b[0;34m+\u001b[0m\u001b[0;34m\"NK/K0/V0.csv\"\u001b[0m\u001b[0;34m)\u001b[0m\u001b[0;34m\u001b[0m\u001b[0;34m\u001b[0m\u001b[0m\n\u001b[0;32m----> 3\u001b[0;31m \u001b[0mcProfile\u001b[0m\u001b[0;34m.\u001b[0m\u001b[0mrun\u001b[0m\u001b[0;34m(\u001b[0m\u001b[0;34m\"big.build_graph(single_thread=True)\"\u001b[0m\u001b[0;34m,\u001b[0m\u001b[0msort\u001b[0m\u001b[0;34m=\u001b[0m\u001b[0;34m\"cumtime\"\u001b[0m\u001b[0;34m)\u001b[0m\u001b[0;34m\u001b[0m\u001b[0;34m\u001b[0m\u001b[0m\n\u001b[0m",
      "\u001b[0;32m~/anaconda3/envs/Protein_Evolution/lib/python3.8/cProfile.py\u001b[0m in \u001b[0;36mrun\u001b[0;34m(statement, filename, sort)\u001b[0m\n\u001b[1;32m     14\u001b[0m \u001b[0;34m\u001b[0m\u001b[0m\n\u001b[1;32m     15\u001b[0m \u001b[0;32mdef\u001b[0m \u001b[0mrun\u001b[0m\u001b[0;34m(\u001b[0m\u001b[0mstatement\u001b[0m\u001b[0;34m,\u001b[0m \u001b[0mfilename\u001b[0m\u001b[0;34m=\u001b[0m\u001b[0;32mNone\u001b[0m\u001b[0;34m,\u001b[0m \u001b[0msort\u001b[0m\u001b[0;34m=\u001b[0m\u001b[0;34m-\u001b[0m\u001b[0;36m1\u001b[0m\u001b[0;34m)\u001b[0m\u001b[0;34m:\u001b[0m\u001b[0;34m\u001b[0m\u001b[0;34m\u001b[0m\u001b[0m\n\u001b[0;32m---> 16\u001b[0;31m     \u001b[0;32mreturn\u001b[0m \u001b[0m_pyprofile\u001b[0m\u001b[0;34m.\u001b[0m\u001b[0m_Utils\u001b[0m\u001b[0;34m(\u001b[0m\u001b[0mProfile\u001b[0m\u001b[0;34m)\u001b[0m\u001b[0;34m.\u001b[0m\u001b[0mrun\u001b[0m\u001b[0;34m(\u001b[0m\u001b[0mstatement\u001b[0m\u001b[0;34m,\u001b[0m \u001b[0mfilename\u001b[0m\u001b[0;34m,\u001b[0m \u001b[0msort\u001b[0m\u001b[0;34m)\u001b[0m\u001b[0;34m\u001b[0m\u001b[0;34m\u001b[0m\u001b[0m\n\u001b[0m\u001b[1;32m     17\u001b[0m \u001b[0;34m\u001b[0m\u001b[0m\n\u001b[1;32m     18\u001b[0m \u001b[0;32mdef\u001b[0m \u001b[0mrunctx\u001b[0m\u001b[0;34m(\u001b[0m\u001b[0mstatement\u001b[0m\u001b[0;34m,\u001b[0m \u001b[0mglobals\u001b[0m\u001b[0;34m,\u001b[0m \u001b[0mlocals\u001b[0m\u001b[0;34m,\u001b[0m \u001b[0mfilename\u001b[0m\u001b[0;34m=\u001b[0m\u001b[0;32mNone\u001b[0m\u001b[0;34m,\u001b[0m \u001b[0msort\u001b[0m\u001b[0;34m=\u001b[0m\u001b[0;34m-\u001b[0m\u001b[0;36m1\u001b[0m\u001b[0;34m)\u001b[0m\u001b[0;34m:\u001b[0m\u001b[0;34m\u001b[0m\u001b[0;34m\u001b[0m\u001b[0m\n",
      "\u001b[0;32m~/anaconda3/envs/Protein_Evolution/lib/python3.8/profile.py\u001b[0m in \u001b[0;36mrun\u001b[0;34m(self, statement, filename, sort)\u001b[0m\n\u001b[1;32m     51\u001b[0m         \u001b[0mprof\u001b[0m \u001b[0;34m=\u001b[0m \u001b[0mself\u001b[0m\u001b[0;34m.\u001b[0m\u001b[0mprofiler\u001b[0m\u001b[0;34m(\u001b[0m\u001b[0;34m)\u001b[0m\u001b[0;34m\u001b[0m\u001b[0;34m\u001b[0m\u001b[0m\n\u001b[1;32m     52\u001b[0m         \u001b[0;32mtry\u001b[0m\u001b[0;34m:\u001b[0m\u001b[0;34m\u001b[0m\u001b[0;34m\u001b[0m\u001b[0m\n\u001b[0;32m---> 53\u001b[0;31m             \u001b[0mprof\u001b[0m\u001b[0;34m.\u001b[0m\u001b[0mrun\u001b[0m\u001b[0;34m(\u001b[0m\u001b[0mstatement\u001b[0m\u001b[0;34m)\u001b[0m\u001b[0;34m\u001b[0m\u001b[0;34m\u001b[0m\u001b[0m\n\u001b[0m\u001b[1;32m     54\u001b[0m         \u001b[0;32mexcept\u001b[0m \u001b[0mSystemExit\u001b[0m\u001b[0;34m:\u001b[0m\u001b[0;34m\u001b[0m\u001b[0;34m\u001b[0m\u001b[0m\n\u001b[1;32m     55\u001b[0m             \u001b[0;32mpass\u001b[0m\u001b[0;34m\u001b[0m\u001b[0;34m\u001b[0m\u001b[0m\n",
      "\u001b[0;32m~/anaconda3/envs/Protein_Evolution/lib/python3.8/cProfile.py\u001b[0m in \u001b[0;36mrun\u001b[0;34m(self, cmd)\u001b[0m\n\u001b[1;32m     93\u001b[0m         \u001b[0;32mimport\u001b[0m \u001b[0m__main__\u001b[0m\u001b[0;34m\u001b[0m\u001b[0;34m\u001b[0m\u001b[0m\n\u001b[1;32m     94\u001b[0m         \u001b[0mdict\u001b[0m \u001b[0;34m=\u001b[0m \u001b[0m__main__\u001b[0m\u001b[0;34m.\u001b[0m\u001b[0m__dict__\u001b[0m\u001b[0;34m\u001b[0m\u001b[0;34m\u001b[0m\u001b[0m\n\u001b[0;32m---> 95\u001b[0;31m         \u001b[0;32mreturn\u001b[0m \u001b[0mself\u001b[0m\u001b[0;34m.\u001b[0m\u001b[0mrunctx\u001b[0m\u001b[0;34m(\u001b[0m\u001b[0mcmd\u001b[0m\u001b[0;34m,\u001b[0m \u001b[0mdict\u001b[0m\u001b[0;34m,\u001b[0m \u001b[0mdict\u001b[0m\u001b[0;34m)\u001b[0m\u001b[0;34m\u001b[0m\u001b[0;34m\u001b[0m\u001b[0m\n\u001b[0m\u001b[1;32m     96\u001b[0m \u001b[0;34m\u001b[0m\u001b[0m\n\u001b[1;32m     97\u001b[0m     \u001b[0;32mdef\u001b[0m \u001b[0mrunctx\u001b[0m\u001b[0;34m(\u001b[0m\u001b[0mself\u001b[0m\u001b[0;34m,\u001b[0m \u001b[0mcmd\u001b[0m\u001b[0;34m,\u001b[0m \u001b[0mglobals\u001b[0m\u001b[0;34m,\u001b[0m \u001b[0mlocals\u001b[0m\u001b[0;34m)\u001b[0m\u001b[0;34m:\u001b[0m\u001b[0;34m\u001b[0m\u001b[0;34m\u001b[0m\u001b[0m\n",
      "\u001b[0;32m~/anaconda3/envs/Protein_Evolution/lib/python3.8/cProfile.py\u001b[0m in \u001b[0;36mrunctx\u001b[0;34m(self, cmd, globals, locals)\u001b[0m\n\u001b[1;32m     98\u001b[0m         \u001b[0mself\u001b[0m\u001b[0;34m.\u001b[0m\u001b[0menable\u001b[0m\u001b[0;34m(\u001b[0m\u001b[0;34m)\u001b[0m\u001b[0;34m\u001b[0m\u001b[0;34m\u001b[0m\u001b[0m\n\u001b[1;32m     99\u001b[0m         \u001b[0;32mtry\u001b[0m\u001b[0;34m:\u001b[0m\u001b[0;34m\u001b[0m\u001b[0;34m\u001b[0m\u001b[0m\n\u001b[0;32m--> 100\u001b[0;31m             \u001b[0mexec\u001b[0m\u001b[0;34m(\u001b[0m\u001b[0mcmd\u001b[0m\u001b[0;34m,\u001b[0m \u001b[0mglobals\u001b[0m\u001b[0;34m,\u001b[0m \u001b[0mlocals\u001b[0m\u001b[0;34m)\u001b[0m\u001b[0;34m\u001b[0m\u001b[0;34m\u001b[0m\u001b[0m\n\u001b[0m\u001b[1;32m    101\u001b[0m         \u001b[0;32mfinally\u001b[0m\u001b[0;34m:\u001b[0m\u001b[0;34m\u001b[0m\u001b[0;34m\u001b[0m\u001b[0m\n\u001b[1;32m    102\u001b[0m             \u001b[0mself\u001b[0m\u001b[0;34m.\u001b[0m\u001b[0mdisable\u001b[0m\u001b[0;34m(\u001b[0m\u001b[0;34m)\u001b[0m\u001b[0;34m\u001b[0m\u001b[0;34m\u001b[0m\u001b[0m\n",
      "\u001b[0;32m<string>\u001b[0m in \u001b[0;36m<module>\u001b[0;34m\u001b[0m\n",
      "\u001b[0;32m~/PhD/Protein_Evolution/Protein_Landscape/Protein_Landscape/landscape_class.py\u001b[0m in \u001b[0;36mbuild_graph\u001b[0;34m(self, idxs, single_thread)\u001b[0m\n\u001b[1;32m    836\u001b[0m \u001b[0;34m\u001b[0m\u001b[0m\n\u001b[1;32m    837\u001b[0m         \u001b[0mmapfunc\u001b[0m \u001b[0;34m=\u001b[0m \u001b[0mpartial\u001b[0m\u001b[0;34m(\u001b[0m\u001b[0mself\u001b[0m\u001b[0;34m.\u001b[0m\u001b[0mcalc_neighbours\u001b[0m\u001b[0;34m,\u001b[0m\u001b[0mtoken_dict\u001b[0m\u001b[0;34m=\u001b[0m\u001b[0mtoken_dict\u001b[0m\u001b[0;34m,\u001b[0m\u001b[0mexplicit_neighbours\u001b[0m\u001b[0;34m=\u001b[0m\u001b[0mexplicit_neighbours\u001b[0m\u001b[0;34m,\u001b[0m\u001b[0midxs\u001b[0m\u001b[0;34m=\u001b[0m\u001b[0mindexes\u001b[0m\u001b[0;34m,\u001b[0m\u001b[0mbypass\u001b[0m\u001b[0;34m=\u001b[0m\u001b[0;32mTrue\u001b[0m\u001b[0;34m)\u001b[0m\u001b[0;34m\u001b[0m\u001b[0;34m\u001b[0m\u001b[0m\n\u001b[0;32m--> 838\u001b[0;31m         \u001b[0mresults\u001b[0m \u001b[0;34m=\u001b[0m \u001b[0mpool\u001b[0m\u001b[0;34m.\u001b[0m\u001b[0mmap\u001b[0m\u001b[0;34m(\u001b[0m\u001b[0mmapfunc\u001b[0m\u001b[0;34m,\u001b[0m\u001b[0mtqdm\u001b[0m\u001b[0;34m.\u001b[0m\u001b[0mtqdm\u001b[0m\u001b[0;34m(\u001b[0m\u001b[0mindexes\u001b[0m\u001b[0;34m)\u001b[0m\u001b[0;34m)\u001b[0m\u001b[0;34m\u001b[0m\u001b[0;34m\u001b[0m\u001b[0m\n\u001b[0m\u001b[1;32m    839\u001b[0m         neighbours = {idx :        {\"tokenized\"   : tuple(self.tokenized[idx,:-1]),\n\u001b[1;32m    840\u001b[0m                                     \u001b[0;34m\"string\"\u001b[0m      \u001b[0;34m:\u001b[0m \u001b[0mself\u001b[0m\u001b[0;34m.\u001b[0m\u001b[0msequences\u001b[0m\u001b[0;34m[\u001b[0m\u001b[0midx\u001b[0m\u001b[0;34m]\u001b[0m\u001b[0;34m,\u001b[0m\u001b[0;34m\u001b[0m\u001b[0;34m\u001b[0m\u001b[0m\n",
      "\u001b[0;32m~/anaconda3/envs/Protein_Evolution/lib/python3.8/multiprocessing/pool.py\u001b[0m in \u001b[0;36mmap\u001b[0;34m(self, func, iterable, chunksize)\u001b[0m\n\u001b[1;32m    362\u001b[0m         \u001b[0;32min\u001b[0m \u001b[0ma\u001b[0m \u001b[0mlist\u001b[0m \u001b[0mthat\u001b[0m \u001b[0;32mis\u001b[0m \u001b[0mreturned\u001b[0m\u001b[0;34m.\u001b[0m\u001b[0;34m\u001b[0m\u001b[0;34m\u001b[0m\u001b[0m\n\u001b[1;32m    363\u001b[0m         '''\n\u001b[0;32m--> 364\u001b[0;31m         \u001b[0;32mreturn\u001b[0m \u001b[0mself\u001b[0m\u001b[0;34m.\u001b[0m\u001b[0m_map_async\u001b[0m\u001b[0;34m(\u001b[0m\u001b[0mfunc\u001b[0m\u001b[0;34m,\u001b[0m \u001b[0miterable\u001b[0m\u001b[0;34m,\u001b[0m \u001b[0mmapstar\u001b[0m\u001b[0;34m,\u001b[0m \u001b[0mchunksize\u001b[0m\u001b[0;34m)\u001b[0m\u001b[0;34m.\u001b[0m\u001b[0mget\u001b[0m\u001b[0;34m(\u001b[0m\u001b[0;34m)\u001b[0m\u001b[0;34m\u001b[0m\u001b[0;34m\u001b[0m\u001b[0m\n\u001b[0m\u001b[1;32m    365\u001b[0m \u001b[0;34m\u001b[0m\u001b[0m\n\u001b[1;32m    366\u001b[0m     \u001b[0;32mdef\u001b[0m \u001b[0mstarmap\u001b[0m\u001b[0;34m(\u001b[0m\u001b[0mself\u001b[0m\u001b[0;34m,\u001b[0m \u001b[0mfunc\u001b[0m\u001b[0;34m,\u001b[0m \u001b[0miterable\u001b[0m\u001b[0;34m,\u001b[0m \u001b[0mchunksize\u001b[0m\u001b[0;34m=\u001b[0m\u001b[0;32mNone\u001b[0m\u001b[0;34m)\u001b[0m\u001b[0;34m:\u001b[0m\u001b[0;34m\u001b[0m\u001b[0;34m\u001b[0m\u001b[0m\n",
      "\u001b[0;32m~/anaconda3/envs/Protein_Evolution/lib/python3.8/multiprocessing/pool.py\u001b[0m in \u001b[0;36mget\u001b[0;34m(self, timeout)\u001b[0m\n\u001b[1;32m    763\u001b[0m \u001b[0;34m\u001b[0m\u001b[0m\n\u001b[1;32m    764\u001b[0m     \u001b[0;32mdef\u001b[0m \u001b[0mget\u001b[0m\u001b[0;34m(\u001b[0m\u001b[0mself\u001b[0m\u001b[0;34m,\u001b[0m \u001b[0mtimeout\u001b[0m\u001b[0;34m=\u001b[0m\u001b[0;32mNone\u001b[0m\u001b[0;34m)\u001b[0m\u001b[0;34m:\u001b[0m\u001b[0;34m\u001b[0m\u001b[0;34m\u001b[0m\u001b[0m\n\u001b[0;32m--> 765\u001b[0;31m         \u001b[0mself\u001b[0m\u001b[0;34m.\u001b[0m\u001b[0mwait\u001b[0m\u001b[0;34m(\u001b[0m\u001b[0mtimeout\u001b[0m\u001b[0;34m)\u001b[0m\u001b[0;34m\u001b[0m\u001b[0;34m\u001b[0m\u001b[0m\n\u001b[0m\u001b[1;32m    766\u001b[0m         \u001b[0;32mif\u001b[0m \u001b[0;32mnot\u001b[0m \u001b[0mself\u001b[0m\u001b[0;34m.\u001b[0m\u001b[0mready\u001b[0m\u001b[0;34m(\u001b[0m\u001b[0;34m)\u001b[0m\u001b[0;34m:\u001b[0m\u001b[0;34m\u001b[0m\u001b[0;34m\u001b[0m\u001b[0m\n\u001b[1;32m    767\u001b[0m             \u001b[0;32mraise\u001b[0m \u001b[0mTimeoutError\u001b[0m\u001b[0;34m\u001b[0m\u001b[0;34m\u001b[0m\u001b[0m\n",
      "\u001b[0;32m~/anaconda3/envs/Protein_Evolution/lib/python3.8/multiprocessing/pool.py\u001b[0m in \u001b[0;36mwait\u001b[0;34m(self, timeout)\u001b[0m\n\u001b[1;32m    760\u001b[0m \u001b[0;34m\u001b[0m\u001b[0m\n\u001b[1;32m    761\u001b[0m     \u001b[0;32mdef\u001b[0m \u001b[0mwait\u001b[0m\u001b[0;34m(\u001b[0m\u001b[0mself\u001b[0m\u001b[0;34m,\u001b[0m \u001b[0mtimeout\u001b[0m\u001b[0;34m=\u001b[0m\u001b[0;32mNone\u001b[0m\u001b[0;34m)\u001b[0m\u001b[0;34m:\u001b[0m\u001b[0;34m\u001b[0m\u001b[0;34m\u001b[0m\u001b[0m\n\u001b[0;32m--> 762\u001b[0;31m         \u001b[0mself\u001b[0m\u001b[0;34m.\u001b[0m\u001b[0m_event\u001b[0m\u001b[0;34m.\u001b[0m\u001b[0mwait\u001b[0m\u001b[0;34m(\u001b[0m\u001b[0mtimeout\u001b[0m\u001b[0;34m)\u001b[0m\u001b[0;34m\u001b[0m\u001b[0;34m\u001b[0m\u001b[0m\n\u001b[0m\u001b[1;32m    763\u001b[0m \u001b[0;34m\u001b[0m\u001b[0m\n\u001b[1;32m    764\u001b[0m     \u001b[0;32mdef\u001b[0m \u001b[0mget\u001b[0m\u001b[0;34m(\u001b[0m\u001b[0mself\u001b[0m\u001b[0;34m,\u001b[0m \u001b[0mtimeout\u001b[0m\u001b[0;34m=\u001b[0m\u001b[0;32mNone\u001b[0m\u001b[0;34m)\u001b[0m\u001b[0;34m:\u001b[0m\u001b[0;34m\u001b[0m\u001b[0;34m\u001b[0m\u001b[0m\n",
      "\u001b[0;32m~/anaconda3/envs/Protein_Evolution/lib/python3.8/threading.py\u001b[0m in \u001b[0;36mwait\u001b[0;34m(self, timeout)\u001b[0m\n\u001b[1;32m    556\u001b[0m             \u001b[0msignaled\u001b[0m \u001b[0;34m=\u001b[0m \u001b[0mself\u001b[0m\u001b[0;34m.\u001b[0m\u001b[0m_flag\u001b[0m\u001b[0;34m\u001b[0m\u001b[0;34m\u001b[0m\u001b[0m\n\u001b[1;32m    557\u001b[0m             \u001b[0;32mif\u001b[0m \u001b[0;32mnot\u001b[0m \u001b[0msignaled\u001b[0m\u001b[0;34m:\u001b[0m\u001b[0;34m\u001b[0m\u001b[0;34m\u001b[0m\u001b[0m\n\u001b[0;32m--> 558\u001b[0;31m                 \u001b[0msignaled\u001b[0m \u001b[0;34m=\u001b[0m \u001b[0mself\u001b[0m\u001b[0;34m.\u001b[0m\u001b[0m_cond\u001b[0m\u001b[0;34m.\u001b[0m\u001b[0mwait\u001b[0m\u001b[0;34m(\u001b[0m\u001b[0mtimeout\u001b[0m\u001b[0;34m)\u001b[0m\u001b[0;34m\u001b[0m\u001b[0;34m\u001b[0m\u001b[0m\n\u001b[0m\u001b[1;32m    559\u001b[0m             \u001b[0;32mreturn\u001b[0m \u001b[0msignaled\u001b[0m\u001b[0;34m\u001b[0m\u001b[0;34m\u001b[0m\u001b[0m\n\u001b[1;32m    560\u001b[0m \u001b[0;34m\u001b[0m\u001b[0m\n",
      "\u001b[0;32m~/anaconda3/envs/Protein_Evolution/lib/python3.8/threading.py\u001b[0m in \u001b[0;36mwait\u001b[0;34m(self, timeout)\u001b[0m\n\u001b[1;32m    300\u001b[0m         \u001b[0;32mtry\u001b[0m\u001b[0;34m:\u001b[0m    \u001b[0;31m# restore state no matter what (e.g., KeyboardInterrupt)\u001b[0m\u001b[0;34m\u001b[0m\u001b[0;34m\u001b[0m\u001b[0m\n\u001b[1;32m    301\u001b[0m             \u001b[0;32mif\u001b[0m \u001b[0mtimeout\u001b[0m \u001b[0;32mis\u001b[0m \u001b[0;32mNone\u001b[0m\u001b[0;34m:\u001b[0m\u001b[0;34m\u001b[0m\u001b[0;34m\u001b[0m\u001b[0m\n\u001b[0;32m--> 302\u001b[0;31m                 \u001b[0mwaiter\u001b[0m\u001b[0;34m.\u001b[0m\u001b[0macquire\u001b[0m\u001b[0;34m(\u001b[0m\u001b[0;34m)\u001b[0m\u001b[0;34m\u001b[0m\u001b[0;34m\u001b[0m\u001b[0m\n\u001b[0m\u001b[1;32m    303\u001b[0m                 \u001b[0mgotit\u001b[0m \u001b[0;34m=\u001b[0m \u001b[0;32mTrue\u001b[0m\u001b[0;34m\u001b[0m\u001b[0;34m\u001b[0m\u001b[0m\n\u001b[1;32m    304\u001b[0m             \u001b[0;32melse\u001b[0m\u001b[0;34m:\u001b[0m\u001b[0;34m\u001b[0m\u001b[0;34m\u001b[0m\u001b[0m\n",
      "\u001b[0;31mKeyboardInterrupt\u001b[0m: "
     ]
    },
    {
     "name": "stderr",
     "output_type": "stream",
     "text": [
      "Process ForkPoolWorker-223:\n",
      "Process ForkPoolWorker-224:\n",
      "Process ForkPoolWorker-198:\n",
      "Process ForkPoolWorker-194:\n",
      "Process ForkPoolWorker-212:\n",
      "Process ForkPoolWorker-203:\n",
      "Process ForkPoolWorker-204:\n",
      "Process ForkPoolWorker-193:\n",
      "Process ForkPoolWorker-222:\n",
      "Process ForkPoolWorker-215:\n",
      "Process ForkPoolWorker-196:\n",
      "Process ForkPoolWorker-208:\n",
      "Process ForkPoolWorker-209:\n",
      "Process ForkPoolWorker-211:\n",
      "Process ForkPoolWorker-217:\n",
      "Process ForkPoolWorker-219:\n",
      "Process ForkPoolWorker-221:\n",
      "Process ForkPoolWorker-220:\n",
      "Process ForkPoolWorker-200:\n",
      "Process ForkPoolWorker-218:\n",
      "Process ForkPoolWorker-199:\n",
      "Process ForkPoolWorker-195:\n",
      "Process ForkPoolWorker-197:\n",
      "Process ForkPoolWorker-202:\n",
      "Process ForkPoolWorker-214:\n",
      "Process ForkPoolWorker-205:\n",
      "Process ForkPoolWorker-216:\n",
      "Process ForkPoolWorker-207:\n",
      "Process ForkPoolWorker-201:\n",
      "Process ForkPoolWorker-206:\n",
      "Process ForkPoolWorker-210:\n",
      "Traceback (most recent call last):\n",
      "Traceback (most recent call last):\n",
      "Traceback (most recent call last):\n",
      "Traceback (most recent call last):\n",
      "Traceback (most recent call last):\n",
      "Traceback (most recent call last):\n",
      "Traceback (most recent call last):\n",
      "Traceback (most recent call last):\n",
      "Traceback (most recent call last):\n",
      "Traceback (most recent call last):\n"
     ]
    }
   ],
   "source": [
    "import cProfile\n",
    "big = Protein_Landscape(csv_path=Datasets+\"NK/K0/V0.csv\")\n",
    "cProfile.run(\"big.build_graph(single_thread=True)\",sort=\"cumtime\")"
   ]
  },
  {
   "cell_type": "code",
   "execution_count": 4,
   "metadata": {},
   "outputs": [],
   "source": [
    "#cProfile.run(\"big.build_graph()\",sort=cumtime)"
   ]
  },
  {
   "cell_type": "code",
   "execution_count": 3,
   "metadata": {},
   "outputs": [
    {
     "name": "stdout",
     "output_type": "stream",
     "text": [
      "Building Protein Graph for entire dataset\n"
     ]
    },
    {
     "name": "stderr",
     "output_type": "stream",
     "text": [
      "100%|██████████| 100000/100000 [00:08<00:00, 11932.99it/s]\n",
      "  8%|▊         | 8132/100000 [00:00<00:01, 81313.29it/s]"
     ]
    },
    {
     "name": "stdout",
     "output_type": "stream",
     "text": [
      "Calculating the number of extrema\n"
     ]
    },
    {
     "name": "stderr",
     "output_type": "stream",
     "text": [
      "100%|██████████| 100000/100000 [00:01<00:00, 81201.75it/s]"
     ]
    },
    {
     "name": "stdout",
     "output_type": "stream",
     "text": [
      "\n",
      "        Protein Landscape class\n",
      "            Number of Sequences : 100000\n",
      "            Max Distance        : 5\n",
      "            Number of Distances : 5\n",
      "            Seed Sequence       : \u001b[32mA\u001b[0m\u001b[32mA\u001b[0m\u001b[32mA\u001b[0m\u001b[32mA\u001b[0m\u001b[32mA\u001b[0m\n",
      "                Modified positions are shown in green\n",
      "            Number of minima : 1\n",
      "            Number of maxima : 1\n",
      "            Normalized Extrema Ruggedness : 2e-05\n",
      "            R/S Ruggedness : 30.205840273418694\n",
      "        \n"
     ]
    },
    {
     "name": "stderr",
     "output_type": "stream",
     "text": [
      "\n"
     ]
    }
   ],
   "source": [
    "big = Protein_Landscape(csv_path=Datasets+\"NK/K0/V0.csv\",gen_graph=True)"
   ]
  },
  {
   "cell_type": "code",
   "execution_count": null,
   "metadata": {},
   "outputs": [],
   "source": []
  },
  {
   "cell_type": "code",
   "execution_count": 10,
   "metadata": {},
   "outputs": [
    {
     "name": "stdout",
     "output_type": "stream",
     "text": [
      "Building Protein Graph for entire dataset\n"
     ]
    },
    {
     "name": "stderr",
     "output_type": "stream",
     "text": [
      "100%|██████████| 100000/100000 [00:08<00:00, 12419.41it/s]\n",
      " 17%|█▋        | 17194/100000 [00:00<00:00, 86003.05it/s]"
     ]
    },
    {
     "name": "stdout",
     "output_type": "stream",
     "text": [
      "Calculating the number of extrema\n"
     ]
    },
    {
     "name": "stderr",
     "output_type": "stream",
     "text": [
      "100%|██████████| 100000/100000 [00:01<00:00, 84858.94it/s]\n"
     ]
    },
    {
     "name": "stdout",
     "output_type": "stream",
     "text": [
      "\n",
      "        Protein Landscape class\n",
      "            Number of Sequences : 100000\n",
      "            Max Distance        : 5\n",
      "            Number of Distances : 5\n",
      "            Seed Sequence       : \u001b[32mA\u001b[0m\u001b[32mA\u001b[0m\u001b[32mA\u001b[0m\u001b[32mA\u001b[0m\u001b[32mA\u001b[0m\n",
      "                Modified positions are shown in green\n",
      "            Number of minima : 1\n",
      "            Number of maxima : 1\n",
      "            Normalized Extrema Ruggedness : 2e-05\n",
      "            R/S Ruggedness : 30.205840273418644\n",
      "        \n",
      "Building Protein Graph for entire dataset\n"
     ]
    },
    {
     "name": "stderr",
     "output_type": "stream",
     "text": [
      "100%|██████████| 100000/100000 [00:07<00:00, 12725.44it/s]\n",
      "  8%|▊         | 8167/100000 [00:00<00:01, 81661.32it/s]"
     ]
    },
    {
     "name": "stdout",
     "output_type": "stream",
     "text": [
      "Calculating the number of extrema\n"
     ]
    },
    {
     "name": "stderr",
     "output_type": "stream",
     "text": [
      "100%|██████████| 100000/100000 [00:01<00:00, 85234.18it/s]\n"
     ]
    },
    {
     "name": "stdout",
     "output_type": "stream",
     "text": [
      "\n",
      "        Protein Landscape class\n",
      "            Number of Sequences : 100000\n",
      "            Max Distance        : 5\n",
      "            Number of Distances : 5\n",
      "            Seed Sequence       : \u001b[32mA\u001b[0m\u001b[32mA\u001b[0m\u001b[32mA\u001b[0m\u001b[32mA\u001b[0m\u001b[32mA\u001b[0m\n",
      "                Modified positions are shown in green\n",
      "            Number of minima : 43\n",
      "            Number of maxima : 42\n",
      "            Normalized Extrema Ruggedness : 0.00085\n",
      "            R/S Ruggedness : 78.85618586843405\n",
      "        \n",
      "Building Protein Graph for entire dataset\n"
     ]
    },
    {
     "name": "stderr",
     "output_type": "stream",
     "text": [
      "100%|██████████| 100000/100000 [00:07<00:00, 12978.29it/s]\n",
      "  8%|▊         | 8309/100000 [00:00<00:01, 83087.11it/s]"
     ]
    },
    {
     "name": "stdout",
     "output_type": "stream",
     "text": [
      "Calculating the number of extrema\n"
     ]
    },
    {
     "name": "stderr",
     "output_type": "stream",
     "text": [
      "100%|██████████| 100000/100000 [00:01<00:00, 83945.31it/s]\n"
     ]
    },
    {
     "name": "stdout",
     "output_type": "stream",
     "text": [
      "\n",
      "        Protein Landscape class\n",
      "            Number of Sequences : 100000\n",
      "            Max Distance        : 5\n",
      "            Number of Distances : 5\n",
      "            Seed Sequence       : \u001b[32mA\u001b[0m\u001b[32mA\u001b[0m\u001b[32mA\u001b[0m\u001b[32mA\u001b[0m\u001b[32mA\u001b[0m\n",
      "                Modified positions are shown in green\n",
      "            Number of minima : 148\n",
      "            Number of maxima : 155\n",
      "            Normalized Extrema Ruggedness : 0.00303\n",
      "            R/S Ruggedness : 173.1382360441364\n",
      "        \n",
      "Building Protein Graph for entire dataset\n"
     ]
    },
    {
     "name": "stderr",
     "output_type": "stream",
     "text": [
      "100%|██████████| 100000/100000 [00:08<00:00, 12241.75it/s]\n",
      " 17%|█▋        | 17148/100000 [00:00<00:00, 85986.95it/s]"
     ]
    },
    {
     "name": "stdout",
     "output_type": "stream",
     "text": [
      "Calculating the number of extrema\n"
     ]
    },
    {
     "name": "stderr",
     "output_type": "stream",
     "text": [
      "100%|██████████| 100000/100000 [00:01<00:00, 86180.32it/s]\n"
     ]
    },
    {
     "name": "stdout",
     "output_type": "stream",
     "text": [
      "\n",
      "        Protein Landscape class\n",
      "            Number of Sequences : 100000\n",
      "            Max Distance        : 5\n",
      "            Number of Distances : 5\n",
      "            Seed Sequence       : \u001b[32mA\u001b[0m\u001b[32mA\u001b[0m\u001b[32mA\u001b[0m\u001b[32mA\u001b[0m\u001b[32mA\u001b[0m\n",
      "                Modified positions are shown in green\n",
      "            Number of minima : 849\n",
      "            Number of maxima : 842\n",
      "            Normalized Extrema Ruggedness : 0.01691\n",
      "            R/S Ruggedness : 346.1527107250392\n",
      "        \n",
      "Building Protein Graph for entire dataset\n"
     ]
    },
    {
     "name": "stderr",
     "output_type": "stream",
     "text": [
      "100%|██████████| 100000/100000 [00:07<00:00, 12874.68it/s]\n",
      "  8%|▊         | 8197/100000 [00:00<00:01, 81963.04it/s]"
     ]
    },
    {
     "name": "stdout",
     "output_type": "stream",
     "text": [
      "Calculating the number of extrema\n"
     ]
    },
    {
     "name": "stderr",
     "output_type": "stream",
     "text": [
      "100%|██████████| 100000/100000 [00:01<00:00, 82981.68it/s]\n"
     ]
    },
    {
     "name": "stdout",
     "output_type": "stream",
     "text": [
      "\n",
      "        Protein Landscape class\n",
      "            Number of Sequences : 100000\n",
      "            Max Distance        : 5\n",
      "            Number of Distances : 5\n",
      "            Seed Sequence       : \u001b[32mA\u001b[0m\u001b[32mA\u001b[0m\u001b[32mA\u001b[0m\u001b[32mA\u001b[0m\u001b[32mA\u001b[0m\n",
      "                Modified positions are shown in green\n",
      "            Number of minima : 2171\n",
      "            Number of maxima : 2167\n",
      "            Normalized Extrema Ruggedness : 0.04338\n",
      "            R/S Ruggedness : 2602.540952232628\n",
      "        \n"
     ]
    }
   ],
   "source": [
    "k0 = Protein_Landscape(csv_path=Datasets+\"NK/K0/V0.csv\",gen_graph=True)\n",
    "k1 = Protein_Landscape(csv_path=Datasets+\"NK/K1/V0.csv\",gen_graph=True)\n",
    "k2 = Protein_Landscape(csv_path=Datasets+\"NK/K2/V0.csv\",gen_graph=True)\n",
    "k3 = Protein_Landscape(csv_path=Datasets+\"NK/K3/V0.csv\",gen_graph=True)\n",
    "k4 = Protein_Landscape(csv_path=Datasets+\"NK/K4/V0.csv\",gen_graph=True)"
   ]
  },
  {
   "cell_type": "code",
   "execution_count": 12,
   "metadata": {},
   "outputs": [],
   "source": [
    "graphs = [k0,k1,k2,k3,k4]\n",
    "rugs = [[],[],[],[],[]]\n",
    "\n",
    "for i,graph in enumerate(graphs):\n",
    "    for key in graph.graph.keys():\n",
    "        rugs[i].append(np.var(graph.fitnesses[graph.graph[key][\"neighbours\"]]))\n",
    "        \n"
   ]
  },
  {
   "cell_type": "code",
   "execution_count": 11,
   "metadata": {},
   "outputs": [],
   "source": [
    "random = []\n",
    "noise = np.random.uniform(0,1,size=(100000,))\n",
    "for key in graph.graph.keys():\n",
    "    random.append(np.var(noise[graph.graph[key][\"neighbours\"]]))"
   ]
  },
  {
   "cell_type": "code",
   "execution_count": 39,
   "metadata": {},
   "outputs": [
    {
     "data": {
      "image/png": "[encoded data removed]",
      "text/plain": [
       "<Figure size 1152x432 with 1 Axes>"
      ]
     },
     "metadata": {
      "needs_background": "light"
     },
     "output_type": "display_data"
    }
   ],
   "source": [
    "import matplotlib.pyplot as plt\n",
    "\n",
    "fig = plt.figure(figsize=(16,6))\n",
    "\n",
    "for rug in rugs:\n",
    "    plt.hist(rug,bins=200,alpha=0.2)\n",
    "#plt.hist(random,bins=200)\n",
    "plt.hist(gb12_rug,bins=1000,alpha=0.2)\n",
    "plt.show()"
   ]
  },
  {
   "cell_type": "code",
   "execution_count": 5,
   "metadata": {},
   "outputs": [
    {
     "name": "stdout",
     "output_type": "stream",
     "text": [
      "Building Protein Graph for entire dataset\n"
     ]
    },
    {
     "name": "stderr",
     "output_type": "stream",
     "text": [
      "100%|██████████| 536962/536962 [04:17<00:00, 2084.81it/s]\n",
      "  3%|▎         | 13997/536962 [00:00<00:07, 72607.50it/s]"
     ]
    },
    {
     "name": "stdout",
     "output_type": "stream",
     "text": [
      "Calculating the number of extrema\n"
     ]
    },
    {
     "name": "stderr",
     "output_type": "stream",
     "text": [
      "100%|██████████| 536962/536962 [00:06<00:00, 86612.56it/s]\n"
     ]
    },
    {
     "name": "stdout",
     "output_type": "stream",
     "text": [
      "\n",
      "        Protein Landscape class\n",
      "            Number of Sequences : 536962\n",
      "            Max Distance        : 3\n",
      "            Number of Distances : 3\n",
      "            Seed Sequence       : M\u001b[32mA\u001b[0m\u001b[32mY\u001b[0m\u001b[32mK\u001b[0m\u001b[32mL\u001b[0m\u001b[32mI\u001b[0m\u001b[32mL\u001b[0m\u001b[32mN\u001b[0m\u001b[32mG\u001b[0m\u001b[32mK\u001b[0m\u001b[32mT\u001b[0m\u001b[32mL\u001b[0m\u001b[32mK\u001b[0m\u001b[32mG\u001b[0m\u001b[32mE\u001b[0m\u001b[32mT\u001b[0m\u001b[32mT\u001b[0m\u001b[32mT\u001b[0m\u001b[32mE\u001b[0m\u001b[32mA\u001b[0m\u001b[32mV\u001b[0m\u001b[32mD\u001b[0m\u001b[32mA\u001b[0m\u001b[32mA\u001b[0m\u001b[32mT\u001b[0m\u001b[32mA\u001b[0m\u001b[32mE\u001b[0m\u001b[32mK\u001b[0m\u001b[32mV\u001b[0m\u001b[32mF\u001b[0m\u001b[32mK\u001b[0m\u001b[32mQ\u001b[0m\u001b[32mY\u001b[0m\u001b[32mA\u001b[0m\u001b[32mN\u001b[0m\u001b[32mD\u001b[0m\u001b[32mN\u001b[0m\u001b[32mG\u001b[0m\u001b[32mV\u001b[0m\u001b[32mD\u001b[0m\u001b[32mG\u001b[0m\u001b[32mE\u001b[0m\u001b[32mW\u001b[0m\u001b[32mT\u001b[0m\u001b[32mY\u001b[0m\u001b[32mD\u001b[0m\u001b[32mD\u001b[0m\u001b[32mA\u001b[0m\u001b[32mT\u001b[0m\u001b[32mK\u001b[0m\u001b[32mT\u001b[0m\u001b[32mF\u001b[0m\u001b[32mT\u001b[0m\u001b[32mV\u001b[0m\u001b[32mT\u001b[0m\u001b[32mE\u001b[0m\n",
      "                Modified positions are shown in green\n",
      "            Number of minima : 1177\n",
      "            Number of maxima : 1490\n",
      "            Normalized Extrema Ruggedness : 0.004966831917342381\n",
      "            R/S Ruggedness : 1.9277890715796737e-09\n",
      "        \n"
     ]
    }
   ],
   "source": [
    "#gb4 = Protein_Landscape(csv_path=\"~/PhD/Protein_Evolution/Datasets/GProtein/G_protein_4_mut_cleaned.csv\",gen_graph=True)\n",
    "gb12 = Protein_Landscape(csv_path=\"~/PhD/Protein_Evolution/Datasets/GProtein/Full_GProtein.csv\",gen_graph=True)"
   ]
  },
  {
   "cell_type": "code",
   "execution_count": 31,
   "metadata": {},
   "outputs": [
    {
     "name": "stdout",
     "output_type": "stream",
     "text": [
      "Building Protein Graph for entire dataset\n"
     ]
    },
    {
     "name": "stderr",
     "output_type": "stream",
     "text": [
      "100%|██████████| 5230/5230 [00:42<00:00, 122.25it/s]\n",
      "100%|██████████| 5230/5230 [00:00<00:00, 52772.63it/s]"
     ]
    },
    {
     "name": "stdout",
     "output_type": "stream",
     "text": [
      "Calculating the number of extrema\n",
      "\n",
      "        Protein Landscape class\n",
      "            Number of Sequences : 5230\n",
      "            Max Distance        : 2\n",
      "            Number of Distances : 2\n",
      "            Seed Sequence       : \u001b[32mA\u001b[0m\u001b[32mF\u001b[0m\u001b[32mK\u001b[0m\u001b[32mL\u001b[0m\u001b[32mL\u001b[0m\u001b[32mS\u001b[0m\u001b[32mK\u001b[0m\u001b[32mL\u001b[0m\u001b[32mL\u001b[0m\u001b[32mV\u001b[0m\u001b[32mY\u001b[0m\u001b[32mL\u001b[0m\u001b[32mT\u001b[0m\u001b[32mA\u001b[0m\u001b[32mS\u001b[0m\u001b[32mI\u001b[0m\u001b[32mM\u001b[0m\u001b[32mA\u001b[0m\u001b[32mI\u001b[0m\u001b[32mA\u001b[0m\u001b[32mS\u001b[0m\u001b[32mP\u001b[0m\u001b[32mL\u001b[0m\u001b[32mA\u001b[0m\u001b[32mF\u001b[0m\u001b[32mS\u001b[0m\u001b[32mV\u001b[0m\u001b[32mD\u001b[0m\u001b[32mS\u001b[0m\u001b[32mS\u001b[0m\u001b[32mG\u001b[0m\u001b[32mE\u001b[0m\u001b[32mY\u001b[0m\u001b[32mP\u001b[0m\u001b[32mT\u001b[0m\u001b[32mV\u001b[0m\u001b[32mS\u001b[0m\u001b[32mE\u001b[0m\u001b[32mI\u001b[0m\u001b[32mP\u001b[0m\u001b[32mV\u001b[0m\u001b[32mG\u001b[0m\u001b[32mE\u001b[0m\u001b[32mV\u001b[0m\u001b[32mR\u001b[0m\u001b[32mL\u001b[0m\u001b[32mY\u001b[0m\u001b[32mQ\u001b[0m\u001b[32mI\u001b[0m\u001b[32mA\u001b[0m\u001b[32mD\u001b[0m\u001b[32mG\u001b[0m\u001b[32mV\u001b[0m\u001b[32mW\u001b[0m\u001b[32mS\u001b[0m\u001b[32mH\u001b[0m\u001b[32mI\u001b[0m\u001b[32mA\u001b[0m\u001b[32mT\u001b[0m\u001b[32mQ\u001b[0m\u001b[32mS\u001b[0m\u001b[32mF\u001b[0m\u001b[32mD\u001b[0m\u001b[32mG\u001b[0m\u001b[32mA\u001b[0m\u001b[32mV\u001b[0m\u001b[32mY\u001b[0m\u001b[32mP\u001b[0m\u001b[32mS\u001b[0m\u001b[32mN\u001b[0m\u001b[32mG\u001b[0m\u001b[32mL\u001b[0m\u001b[32mI\u001b[0m\u001b[32mV\u001b[0m\u001b[32mR\u001b[0m\u001b[32mD\u001b[0m\u001b[32mG\u001b[0m\u001b[32mD\u001b[0m\u001b[32mE\u001b[0m\u001b[32mL\u001b[0m\u001b[32mL\u001b[0m\u001b[32mL\u001b[0m\u001b[32mI\u001b[0m\u001b[32mD\u001b[0m\u001b[32mT\u001b[0m\u001b[32mA\u001b[0m\u001b[32mW\u001b[0m\u001b[32mG\u001b[0m\u001b[32mA\u001b[0m\u001b[32mK\u001b[0m\u001b[32mN\u001b[0m\u001b[32mT\u001b[0m\u001b[32mA\u001b[0m\u001b[32mA\u001b[0m\u001b[32mL\u001b[0m\u001b[32mL\u001b[0m\u001b[32mA\u001b[0m\u001b[32mE\u001b[0m\u001b[32mI\u001b[0m\u001b[32mE\u001b[0m\u001b[32mK\u001b[0m\u001b[32mQ\u001b[0m\u001b[32mI\u001b[0m\u001b[32mG\u001b[0m\u001b[32mL\u001b[0m\u001b[32mP\u001b[0m\u001b[32mV\u001b[0m\u001b[32mT\u001b[0m\u001b[32mR\u001b[0m\u001b[32mA\u001b[0m\u001b[32mV\u001b[0m\u001b[32mS\u001b[0m\u001b[32mT\u001b[0m\u001b[32mH\u001b[0m\u001b[32mF\u001b[0m\u001b[32mH\u001b[0m\u001b[32mD\u001b[0m\u001b[32mD\u001b[0m\u001b[32mR\u001b[0m\u001b[32mV\u001b[0m\u001b[32mG\u001b[0m\u001b[32mG\u001b[0m\u001b[32mV\u001b[0m\u001b[32mD\u001b[0m\u001b[32mV\u001b[0m\u001b[32mL\u001b[0m\u001b[32mR\u001b[0m\u001b[32mA\u001b[0m\u001b[32mA\u001b[0m\u001b[32mG\u001b[0m\u001b[32mV\u001b[0m\u001b[32mA\u001b[0m\u001b[32mT\u001b[0m\u001b[32mY\u001b[0m\u001b[32mA\u001b[0m\u001b[32mS\u001b[0m\u001b[32mP\u001b[0m\u001b[32mS\u001b[0m\u001b[32mT\u001b[0m\u001b[32mR\u001b[0m\u001b[32mR\u001b[0m\u001b[32mL\u001b[0m\u001b[32mA\u001b[0m\u001b[32mE\u001b[0m\u001b[32mV\u001b[0m\u001b[32mE\u001b[0m\u001b[32mG\u001b[0m\u001b[32mN\u001b[0m\u001b[32mE\u001b[0m\u001b[32mI\u001b[0m\u001b[32mP\u001b[0m\u001b[32mT\u001b[0m\u001b[32mH\u001b[0m\u001b[32mS\u001b[0m\u001b[32mL\u001b[0m\u001b[32mE\u001b[0m\u001b[32mG\u001b[0m\u001b[32mL\u001b[0m\u001b[32mS\u001b[0m\u001b[32mS\u001b[0m\u001b[32mS\u001b[0m\u001b[32mG\u001b[0m\u001b[32mD\u001b[0m\u001b[32mA\u001b[0m\u001b[32mV\u001b[0m\u001b[32mR\u001b[0m\u001b[32mF\u001b[0m\u001b[32mG\u001b[0m\u001b[32mP\u001b[0m\u001b[32mV\u001b[0m\u001b[32mE\u001b[0m\u001b[32mL\u001b[0m\u001b[32mF\u001b[0m\u001b[32mY\u001b[0m\u001b[32mP\u001b[0m\u001b[32mG\u001b[0m\u001b[32mA\u001b[0m\u001b[32mA\u001b[0m\u001b[32mH\u001b[0m\u001b[32mS\u001b[0m\u001b[32mT\u001b[0m\u001b[32mD\u001b[0m\u001b[32mN\u001b[0m\u001b[32mL\u001b[0m\u001b[32mI\u001b[0m\u001b[32mV\u001b[0m\u001b[32mY\u001b[0m\u001b[32mV\u001b[0m\u001b[32mP\u001b[0m\u001b[32mS\u001b[0m\u001b[32mA\u001b[0m\u001b[32mS\u001b[0m\u001b[32mV\u001b[0m\u001b[32mL\u001b[0m\u001b[32mY\u001b[0m\u001b[32mG\u001b[0m\u001b[32mG\u001b[0m\u001b[32mC\u001b[0m\u001b[32mA\u001b[0m\u001b[32mI\u001b[0m\u001b[32mY\u001b[0m\u001b[32mE\u001b[0m\u001b[32mL\u001b[0m\u001b[32mS\u001b[0m\u001b[32mR\u001b[0m\u001b[32mT\u001b[0m\u001b[32mS\u001b[0m\u001b[32mA\u001b[0m\u001b[32mG\u001b[0m\u001b[32mN\u001b[0m\u001b[32mV\u001b[0m\u001b[32mA\u001b[0m\u001b[32mD\u001b[0m\u001b[32mA\u001b[0m\u001b[32mD\u001b[0m\u001b[32mL\u001b[0m\u001b[32mA\u001b[0m\u001b[32mE\u001b[0m\u001b[32mW\u001b[0m\u001b[32mP\u001b[0m\u001b[32mT\u001b[0m\u001b[32mS\u001b[0m\u001b[32mI\u001b[0m\u001b[32mE\u001b[0m\u001b[32mR\u001b[0m\u001b[32mI\u001b[0m\u001b[32mQ\u001b[0m\u001b[32mQ\u001b[0m\u001b[32mH\u001b[0m\u001b[32mY\u001b[0m\u001b[32mP\u001b[0m\u001b[32mE\u001b[0m\u001b[32mA\u001b[0m\u001b[32mQ\u001b[0m\u001b[32mF\u001b[0m\u001b[32mV\u001b[0m\u001b[32mI\u001b[0m\u001b[32mP\u001b[0m\u001b[32mG\u001b[0m\u001b[32mH\u001b[0m\u001b[32mG\u001b[0m\u001b[32mL\u001b[0m\u001b[32mP\u001b[0m\u001b[32mG\u001b[0m\u001b[32mG\u001b[0m\u001b[32mL\u001b[0m\u001b[32mD\u001b[0m\u001b[32mL\u001b[0m\u001b[32mL\u001b[0m\u001b[32mK\u001b[0m\u001b[32mH\u001b[0m\u001b[32mT\u001b[0m\u001b[32mT\u001b[0m\u001b[32mN\u001b[0m\u001b[32mV\u001b[0m\u001b[32mV\u001b[0m\u001b[32mK\u001b[0m\u001b[32mA\u001b[0m\u001b[32mH\u001b[0m\u001b[32mT\u001b[0m\u001b[32mN\u001b[0m\u001b[32mR\u001b[0m\u001b[32mS\u001b[0m\u001b[32mV\u001b[0m\u001b[32mV\u001b[0m\u001b[32mE\u001b[0m\n",
      "                Modified positions are shown in green\n",
      "            Number of minima : 161\n",
      "            Number of maxima : 169\n",
      "            Normalized Extrema Ruggedness : 0.06309751434034416\n",
      "            R/S Ruggedness : 16.478461526004715\n",
      "        \n"
     ]
    },
    {
     "name": "stderr",
     "output_type": "stream",
     "text": [
      "\n"
     ]
    }
   ],
   "source": [
    "blac = Protein_Landscape(csv_path=\"~/PhD/Protein_Evolution/Datasets/BLactamase/Blac_EC50_Cleaned.csv\",gen_graph=True)"
   ]
  },
  {
   "cell_type": "code",
   "execution_count": 1,
   "metadata": {},
   "outputs": [
    {
     "ename": "NameError",
     "evalue": "name 'Protein_Landscape' is not defined",
     "output_type": "error",
     "traceback": [
      "\u001b[0;31m---------------------------------------------------------------------------\u001b[0m",
      "\u001b[0;31mNameError\u001b[0m                                 Traceback (most recent call last)",
      "\u001b[0;32m<ipython-input-1-7fbfb1c4e762>\u001b[0m in \u001b[0;36m<module>\u001b[0;34m\u001b[0m\n\u001b[0;32m----> 1\u001b[0;31m \u001b[0mgb12\u001b[0m \u001b[0;34m=\u001b[0m \u001b[0mProtein_Landscape\u001b[0m\u001b[0;34m(\u001b[0m\u001b[0msaved_file\u001b[0m\u001b[0;34m=\u001b[0m\u001b[0;34m\"~/PhD/Protein_Evolution/Datasets/GProtein/Full_GProtein.txt\"\u001b[0m\u001b[0;34m)\u001b[0m\u001b[0;34m\u001b[0m\u001b[0;34m\u001b[0m\u001b[0m\n\u001b[0m",
      "\u001b[0;31mNameError\u001b[0m: name 'Protein_Landscape' is not defined"
     ]
    }
   ],
   "source": [
    "gb12 = Protein_Landscape(saved_file=\"~/PhD/Protein_Evolution/Datasets/GProtein/Full_GProtein.txt\")"
   ]
  },
  {
   "cell_type": "code",
   "execution_count": 9,
   "metadata": {},
   "outputs": [],
   "source": [
    "gb12_rug = []\n",
    "fitty = scaler.transform(gb12.fitnesses.reshape(-1,1))\n",
    "for key in gb12.graph.keys():\n",
    "    gb12_rug.append(np.var(fitty[gb12.graph[key][\"neighbours\"]]))"
   ]
  },
  {
   "cell_type": "code",
   "execution_count": 34,
   "metadata": {},
   "outputs": [],
   "source": [
    "blackrug = []\n",
    "blac_scaler = MinMaxScaler(feature_range=(0,1))\n",
    "blac_scaler.fit(blac.fitnesses.reshape(-1,1))\n",
    "blac_fitty = blac_scaler.transform(blac.fitnesses.reshape(-1,1))\n",
    "for key in blac.graph.keys():\n",
    "    blackrug.append(np.var(blac_fitty[blac.graph[key][\"neighbours\"]]))"
   ]
  },
  {
   "cell_type": "code",
   "execution_count": null,
   "metadata": {},
   "outputs": [],
   "source": [
    "        big.graph[key][\"local variance\"] = np.var(big.fitnesses[big.graph[key][\"neighbours\"]])\n"
   ]
  },
  {
   "cell_type": "code",
   "execution_count": 7,
   "metadata": {},
   "outputs": [],
   "source": [
    "from sklearn.preprocessing import MinMaxScaler\n",
    "scaler=MinMaxScaler(feature_range=(0,1))"
   ]
  },
  {
   "cell_type": "code",
   "execution_count": 8,
   "metadata": {},
   "outputs": [
    {
     "data": {
      "text/plain": [
       "MinMaxScaler()"
      ]
     },
     "execution_count": 8,
     "metadata": {},
     "output_type": "execute_result"
    }
   ],
   "source": [
    "scaler.fit(gb12.fitnesses.reshape(-1,1))"
   ]
  },
  {
   "cell_type": "code",
   "execution_count": 46,
   "metadata": {},
   "outputs": [
    {
     "name": "stdout",
     "output_type": "stream",
     "text": [
      "0.005935995250016707 2.314160609091417e-06\n",
      "0.01077337248833914 1.2552554433483275e-05\n",
      "0.02448694814667563 4.57346874524477e-05\n",
      "0.027917508097440782 3.5157574285470445e-05\n",
      "0.08131125294302471 0.00012453642659500069\n",
      "\n",
      "0.00693992008446153 5.305601401717801e-05\n",
      "0.04627526956938187 0.001014674436995688\n"
     ]
    }
   ],
   "source": [
    "for rug in rugs:\n",
    "    print(np.mean(rug),np.var(rug))\n",
    "print()\n",
    "print(np.mean(gb12_rug),np.var(gb12_rug))\n",
    "print(np.mean(blackrug),np.var(blackrug))"
   ]
  },
  {
   "cell_type": "code",
   "execution_count": 51,
   "metadata": {},
   "outputs": [
    {
     "data": {
      "image/png": "[encoded data removed]",
      "text/plain": [
       "<Figure size 432x288 with 1 Axes>"
      ]
     },
     "metadata": {
      "needs_background": "light"
     },
     "output_type": "display_data"
    }
   ],
   "source": [
    "plt.hist(gb12.fitnesses[gb12.graph[1][\"neighbours\"]])\n",
    "plt.show()"
   ]
  },
  {
   "cell_type": "code",
   "execution_count": null,
   "metadata": {},
   "outputs": [],
   "source": []
  },
  {
   "cell_type": "code",
   "execution_count": null,
   "metadata": {},
   "outputs": [],
   "source": []
  }
 ],
 "metadata": {
  "kernelspec": {
   "display_name": "Protein_Evolution",
   "language": "python",
   "name": "protein_evolution"
  },
  "language_info": {
   "codemirror_mode": {
    "name": "ipython",
    "version": 3
   },
   "file_extension": ".py",
   "mimetype": "text/x-python",
   "name": "python",
   "nbconvert_exporter": "python",
   "pygments_lexer": "ipython3",
   "version": "3.8.5"
  }
 },
 "nbformat": 4,
 "nbformat_minor": 4
}
